{
 "cells": [
  {
   "cell_type": "code",
   "execution_count": 3,
   "metadata": {
    "ExecuteTime": {
     "end_time": "2020-12-23T12:49:54.386959Z",
     "start_time": "2020-12-23T12:49:54.384226Z"
    }
   },
   "outputs": [],
   "source": [
    "import re\n",
    "\n",
    "phone_regex = re.compile(r'\\d\\d\\d-\\d\\d\\d-\\d\\d\\d\\d')"
   ]
  },
  {
   "cell_type": "code",
   "execution_count": 16,
   "metadata": {
    "ExecuteTime": {
     "end_time": "2020-12-23T12:51:55.955100Z",
     "start_time": "2020-12-23T12:51:55.952983Z"
    }
   },
   "outputs": [],
   "source": [
    "match_object = phone_regex.search(\"\"\"Alice,\n",
    "My number is 415-730-0000.\n",
    "Call me when it's convenient.\n",
    "Is yours still 415-730-0001?\n",
    "  -Bob\"\"\")"
   ]
  },
  {
   "cell_type": "code",
   "execution_count": 17,
   "metadata": {
    "ExecuteTime": {
     "end_time": "2020-12-23T12:52:01.573162Z",
     "start_time": "2020-12-23T12:52:01.570518Z"
    }
   },
   "outputs": [
    {
     "name": "stdout",
     "output_type": "stream",
     "text": [
      "415-730-0000\n"
     ]
    }
   ],
   "source": [
    "if match_object is not None:\n",
    "    print(match_object.group())"
   ]
  },
  {
   "cell_type": "code",
   "execution_count": 19,
   "metadata": {
    "ExecuteTime": {
     "end_time": "2020-12-23T12:55:54.500883Z",
     "start_time": "2020-12-23T12:55:54.497831Z"
    }
   },
   "outputs": [],
   "source": [
    "phone_regex = re.compile(r'\\d{3}-\\d{3}-\\d{4}')"
   ]
  },
  {
   "cell_type": "code",
   "execution_count": 20,
   "metadata": {
    "ExecuteTime": {
     "end_time": "2020-12-23T13:00:59.063036Z",
     "start_time": "2020-12-23T13:00:59.060778Z"
    }
   },
   "outputs": [],
   "source": [
    "text = \"I have a 64,000,000 year old egg\""
   ]
  },
  {
   "cell_type": "code",
   "execution_count": 24,
   "metadata": {
    "ExecuteTime": {
     "end_time": "2020-12-23T13:03:12.253832Z",
     "start_time": "2020-12-23T13:03:12.251305Z"
    }
   },
   "outputs": [],
   "source": [
    "usa_integer_regex = re.compile(r'\\d{1,3}(,\\d{3})*')"
   ]
  },
  {
   "cell_type": "code",
   "execution_count": 25,
   "metadata": {
    "ExecuteTime": {
     "end_time": "2020-12-23T13:03:12.974204Z",
     "start_time": "2020-12-23T13:03:12.971198Z"
    }
   },
   "outputs": [
    {
     "name": "stdout",
     "output_type": "stream",
     "text": [
      "64,000,000\n"
     ]
    }
   ],
   "source": [
    "mo = usa_integer_regex.search(text)\n",
    "if mo is not None:\n",
    "    print(mo.group())"
   ]
  },
  {
   "cell_type": "code",
   "execution_count": 29,
   "metadata": {
    "ExecuteTime": {
     "end_time": "2020-12-23T13:07:43.057082Z",
     "start_time": "2020-12-23T13:07:43.054462Z"
    }
   },
   "outputs": [],
   "source": [
    "monty_python_regex = re.compile(r'(_(egg|bacon|sausage|and|spam))+')"
   ]
  },
  {
   "cell_type": "code",
   "execution_count": 30,
   "metadata": {
    "ExecuteTime": {
     "end_time": "2020-12-23T13:07:43.880737Z",
     "start_time": "2020-12-23T13:07:43.878412Z"
    }
   },
   "outputs": [],
   "source": [
    "text = 'hello! i am here to sell you some _spam_bacon_egg_and_spam. interested?'"
   ]
  },
  {
   "cell_type": "code",
   "execution_count": 31,
   "metadata": {
    "ExecuteTime": {
     "end_time": "2020-12-23T13:07:44.665003Z",
     "start_time": "2020-12-23T13:07:44.662178Z"
    }
   },
   "outputs": [
    {
     "name": "stdout",
     "output_type": "stream",
     "text": [
      "_spam_bacon_egg_and_spam\n"
     ]
    }
   ],
   "source": [
    "mo = monty_python_regex.search(text)\n",
    "if mo is not None:\n",
    "    print(mo.group())"
   ]
  },
  {
   "cell_type": "markdown",
   "metadata": {
    "ExecuteTime": {
     "end_time": "2020-12-23T13:12:29.860670Z",
     "start_time": "2020-12-23T13:12:29.857456Z"
    }
   },
   "source": [
    "Match anything between angle brackets, the most amount:"
   ]
  },
  {
   "cell_type": "code",
   "execution_count": 36,
   "metadata": {
    "ExecuteTime": {
     "end_time": "2020-12-23T13:12:38.747562Z",
     "start_time": "2020-12-23T13:12:38.745025Z"
    }
   },
   "outputs": [],
   "source": [
    "text = 'Hello <html> happy > to see you'\n",
    "regex = re.compile(r'<.*>')"
   ]
  },
  {
   "cell_type": "code",
   "execution_count": 37,
   "metadata": {
    "ExecuteTime": {
     "end_time": "2020-12-23T13:12:39.141919Z",
     "start_time": "2020-12-23T13:12:39.138431Z"
    }
   },
   "outputs": [
    {
     "data": {
      "text/plain": [
       "'<html> happy >'"
      ]
     },
     "execution_count": 37,
     "metadata": {},
     "output_type": "execute_result"
    }
   ],
   "source": [
    "mo = regex.search(text)\n",
    "mo.group()"
   ]
  },
  {
   "cell_type": "markdown",
   "metadata": {},
   "source": [
    "Match anything between angle brackets, but the least amount:"
   ]
  },
  {
   "cell_type": "code",
   "execution_count": 38,
   "metadata": {
    "ExecuteTime": {
     "end_time": "2020-12-23T13:12:41.853063Z",
     "start_time": "2020-12-23T13:12:41.849152Z"
    }
   },
   "outputs": [
    {
     "data": {
      "text/plain": [
       "'<html>'"
      ]
     },
     "execution_count": 38,
     "metadata": {},
     "output_type": "execute_result"
    }
   ],
   "source": [
    "regex = re.compile(r'<.*?>')\n",
    "mo = regex.search(text)\n",
    "mo.group()"
   ]
  },
  {
   "cell_type": "code",
   "execution_count": 39,
   "metadata": {
    "ExecuteTime": {
     "end_time": "2020-12-23T13:23:56.123270Z",
     "start_time": "2020-12-23T13:23:56.119404Z"
    }
   },
   "outputs": [
    {
     "data": {
      "text/plain": [
       "'先手'"
      ]
     },
     "execution_count": 39,
     "metadata": {},
     "output_type": "execute_result"
    }
   ],
   "source": [
    "text = 'a 先手 b c'\n",
    "two_char_word_regex = re.compile(r'\\w\\w')\n",
    "mo = two_char_word_regex.search(text)\n",
    "mo.group()"
   ]
  },
  {
   "cell_type": "markdown",
   "metadata": {},
   "source": [
    "pyregex.com, regexr.com"
   ]
  }
 ],
 "metadata": {
  "kernelspec": {
   "display_name": "Python 3",
   "language": "python",
   "name": "python3"
  },
  "language_info": {
   "codemirror_mode": {
    "name": "ipython",
    "version": 3
   },
   "file_extension": ".py",
   "mimetype": "text/x-python",
   "name": "python",
   "nbconvert_exporter": "python",
   "pygments_lexer": "ipython3",
   "version": "3.8.3"
  }
 },
 "nbformat": 4,
 "nbformat_minor": 4
}
