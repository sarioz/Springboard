{
 "cells": [
  {
   "cell_type": "code",
   "execution_count": 17,
   "metadata": {
    "ExecuteTime": {
     "end_time": "2020-12-07T13:30:19.896040Z",
     "start_time": "2020-12-07T13:30:19.893606Z"
    }
   },
   "outputs": [],
   "source": [
    "import bs4\n",
    "from urllib.request import urlopen as uReq\n",
    "from bs4 import BeautifulSoup as soup"
   ]
  },
  {
   "cell_type": "code",
   "execution_count": 18,
   "metadata": {
    "ExecuteTime": {
     "end_time": "2020-12-07T13:30:20.263803Z",
     "start_time": "2020-12-07T13:30:20.261037Z"
    }
   },
   "outputs": [],
   "source": [
    "my_url = 'https://www.newegg.com/Video-Cards-Video-Devices/Category/ID-38?Tid=6662'"
   ]
  },
  {
   "cell_type": "code",
   "execution_count": 19,
   "metadata": {
    "ExecuteTime": {
     "end_time": "2020-12-07T13:30:21.394638Z",
     "start_time": "2020-12-07T13:30:20.989671Z"
    }
   },
   "outputs": [],
   "source": [
    "uClient = uReq(my_url)"
   ]
  },
  {
   "cell_type": "code",
   "execution_count": 20,
   "metadata": {
    "ExecuteTime": {
     "end_time": "2020-12-07T13:30:21.850495Z",
     "start_time": "2020-12-07T13:30:21.845496Z"
    }
   },
   "outputs": [],
   "source": [
    "page_html = uClient.read()"
   ]
  },
  {
   "cell_type": "code",
   "execution_count": 21,
   "metadata": {
    "ExecuteTime": {
     "end_time": "2020-12-07T13:30:22.775616Z",
     "start_time": "2020-12-07T13:30:22.773296Z"
    }
   },
   "outputs": [],
   "source": [
    "uClient.close()"
   ]
  },
  {
   "cell_type": "code",
   "execution_count": 22,
   "metadata": {
    "ExecuteTime": {
     "end_time": "2020-12-07T13:30:23.645075Z",
     "start_time": "2020-12-07T13:30:23.605360Z"
    }
   },
   "outputs": [],
   "source": [
    "page_soup = soup(page_html, \"html.parser\")"
   ]
  },
  {
   "cell_type": "code",
   "execution_count": 23,
   "metadata": {
    "ExecuteTime": {
     "end_time": "2020-12-07T13:30:24.297070Z",
     "start_time": "2020-12-07T13:30:24.293323Z"
    }
   },
   "outputs": [
    {
     "data": {
      "text/plain": [
       "<h1 class=\"page-title-text\">Video Cards &amp; Video Devices</h1>"
      ]
     },
     "execution_count": 23,
     "metadata": {},
     "output_type": "execute_result"
    }
   ],
   "source": [
    "page_soup.h1"
   ]
  },
  {
   "cell_type": "code",
   "execution_count": 24,
   "metadata": {
    "ExecuteTime": {
     "end_time": "2020-12-07T13:30:25.155223Z",
     "start_time": "2020-12-07T13:30:25.149597Z"
    }
   },
   "outputs": [
    {
     "data": {
      "text/plain": [
       "<p class=\"branding-testimonial-info\">I needed to switch over to Apple computer, phone and ipad because of software changes in my buisness.\n",
       "\n",
       "I was able to purchase a Macbook Air, Iphone 5se, and Ipad Air.\n",
       "These items were either open box or refurbished with a A rating.  Fabulous Prices, all worked and looked new.  I am a faithful user of a  popular on line store that deals in the same items, however I can not get these kind of deals especially at these condition and prices.<br/><a class=\"link-more\" href=\"https://www.newegg.com/d/Info/Testimonials\"><span>See All</span><i aria-label=\"more\" class=\"fa fa-caret-right\"></i></a></p>"
      ]
     },
     "execution_count": 24,
     "metadata": {},
     "output_type": "execute_result"
    }
   ],
   "source": [
    "page_soup.p"
   ]
  },
  {
   "cell_type": "code",
   "execution_count": 25,
   "metadata": {
    "ExecuteTime": {
     "end_time": "2020-12-07T13:30:30.033284Z",
     "start_time": "2020-12-07T13:30:30.029376Z"
    }
   },
   "outputs": [
    {
     "data": {
      "text/plain": [
       "<span class=\"hid-text\">Search</span>"
      ]
     },
     "execution_count": 25,
     "metadata": {},
     "output_type": "execute_result"
    }
   ],
   "source": [
    "page_soup.body.span"
   ]
  },
  {
   "cell_type": "code",
   "execution_count": 26,
   "metadata": {
    "ExecuteTime": {
     "end_time": "2020-12-07T13:32:11.782753Z",
     "start_time": "2020-12-07T13:32:11.776248Z"
    }
   },
   "outputs": [],
   "source": [
    "# grabs each product\n",
    "containers = page_soup.findAll(\"div\", {\"class\": \"item-container\"})"
   ]
  },
  {
   "cell_type": "code",
   "execution_count": 28,
   "metadata": {
    "ExecuteTime": {
     "end_time": "2020-12-07T13:32:50.739039Z",
     "start_time": "2020-12-07T13:32:50.735907Z"
    }
   },
   "outputs": [
    {
     "data": {
      "text/plain": [
       "11"
      ]
     },
     "execution_count": 28,
     "metadata": {},
     "output_type": "execute_result"
    }
   ],
   "source": [
    "len(containers)"
   ]
  },
  {
   "cell_type": "code",
   "execution_count": 30,
   "metadata": {
    "ExecuteTime": {
     "end_time": "2020-12-07T13:37:56.120997Z",
     "start_time": "2020-12-07T13:37:56.118936Z"
    }
   },
   "outputs": [],
   "source": [
    "container = containers[0]"
   ]
  },
  {
   "cell_type": "code",
   "execution_count": 31,
   "metadata": {
    "ExecuteTime": {
     "end_time": "2020-12-07T13:38:21.585892Z",
     "start_time": "2020-12-07T13:38:21.582116Z"
    }
   },
   "outputs": [
    {
     "data": {
      "text/plain": [
       "<a class=\"item-img\" href=\"https://www.newegg.com/sapphire-radeon-rx-580-11265-05-20g/p/N82E16814202362?Item=N82E16814202362\"><img alt=\"SAPPHIRE PULSE Radeon RX 580 DirectX 12 11265-05-20G 8GB 256-Bit GDDR5 PCI Express 3.0 CrossFireX Support Video Cards\" src=\"https://c1.neweggimages.com/ProductImageCompressAll300/14-202-362-S01.jpg\" title=\"SAPPHIRE PULSE Radeon RX 580 DirectX 12 11265-05-20G 8GB 256-Bit GDDR5 PCI Express 3.0 CrossFireX Support Video Cards\"/></a>"
      ]
     },
     "execution_count": 31,
     "metadata": {},
     "output_type": "execute_result"
    }
   ],
   "source": [
    "container.a"
   ]
  },
  {
   "cell_type": "code",
   "execution_count": 32,
   "metadata": {
    "ExecuteTime": {
     "end_time": "2020-12-07T13:38:51.795893Z",
     "start_time": "2020-12-07T13:38:51.791277Z"
    }
   },
   "outputs": [
    {
     "data": {
      "text/plain": [
       "<div class=\"item-info\"><div class=\"item-branding\"><a class=\"item-brand\" href=\"https://www.newegg.com/Sapphire-Tech/BrandStore/ID-1561\"><img alt=\"Sapphire Tech\" src=\"https://c1.neweggimages.com/Brandimage_70x28/Brand1561.gif\" title=\"Sapphire Tech\"/></a><a class=\"item-rating\" href=\"https://www.newegg.com/sapphire-radeon-rx-580-11265-05-20g/p/N82E16814202362?IsFeedbackTab=true&amp;Item=N82E16814202362#scrollFullInfo\" title=\"Rating + 5\"><i class=\"rating rating-5\"></i><span class=\"item-rating-num\">(15)</span></a></div><a class=\"item-title\" href=\"https://www.newegg.com/sapphire-radeon-rx-580-11265-05-20g/p/N82E16814202362?Item=N82E16814202362\" title=\"View Details\">SAPPHIRE PULSE Radeon RX 580 DirectX 12 11265-05-20G Video Cards</a><ul class=\"item-features\"><li><strong>Max Resolution:</strong> DisplayPort: 5120x2880@60Hz\n",
       "HDMI: 4096x2160@60Hz\n",
       "DVI: 2560x1600@60Hz</li><li><strong>DisplayPort:</strong> 2 x DisplayPort 1.4</li><li><strong>DVI:</strong> 1 x DVI-D</li><li><strong>HDMI:</strong> 2 x HDMI</li><li><strong>Model #: </strong>11265-05-20G</li><li><strong>Item #: </strong>N82E16814202362</li><li><strong>Return Policy: </strong><a href=\"https://kb.newegg.com/Article/Index/12/3?id=1167#54\" target=\"_blank\" title=\"Extended Holiday Replacement-Only Return Policy(New Window)\">Extended Holiday Replacement-Only Return Policy</a></li></ul></div>"
      ]
     },
     "execution_count": 32,
     "metadata": {},
     "output_type": "execute_result"
    }
   ],
   "source": [
    "container.div"
   ]
  },
  {
   "cell_type": "code",
   "execution_count": 33,
   "metadata": {
    "ExecuteTime": {
     "end_time": "2020-12-07T13:39:30.278721Z",
     "start_time": "2020-12-07T13:39:30.275201Z"
    }
   },
   "outputs": [
    {
     "data": {
      "text/plain": [
       "<div class=\"item-branding\"><a class=\"item-brand\" href=\"https://www.newegg.com/Sapphire-Tech/BrandStore/ID-1561\"><img alt=\"Sapphire Tech\" src=\"https://c1.neweggimages.com/Brandimage_70x28/Brand1561.gif\" title=\"Sapphire Tech\"/></a><a class=\"item-rating\" href=\"https://www.newegg.com/sapphire-radeon-rx-580-11265-05-20g/p/N82E16814202362?IsFeedbackTab=true&amp;Item=N82E16814202362#scrollFullInfo\" title=\"Rating + 5\"><i class=\"rating rating-5\"></i><span class=\"item-rating-num\">(15)</span></a></div>"
      ]
     },
     "execution_count": 33,
     "metadata": {},
     "output_type": "execute_result"
    }
   ],
   "source": [
    "container.div.div"
   ]
  },
  {
   "cell_type": "code",
   "execution_count": 34,
   "metadata": {
    "ExecuteTime": {
     "end_time": "2020-12-07T13:39:39.133367Z",
     "start_time": "2020-12-07T13:39:39.130017Z"
    }
   },
   "outputs": [
    {
     "data": {
      "text/plain": [
       "<a class=\"item-brand\" href=\"https://www.newegg.com/Sapphire-Tech/BrandStore/ID-1561\"><img alt=\"Sapphire Tech\" src=\"https://c1.neweggimages.com/Brandimage_70x28/Brand1561.gif\" title=\"Sapphire Tech\"/></a>"
      ]
     },
     "execution_count": 34,
     "metadata": {},
     "output_type": "execute_result"
    }
   ],
   "source": [
    "container.div.div.a"
   ]
  },
  {
   "cell_type": "code",
   "execution_count": 36,
   "metadata": {
    "ExecuteTime": {
     "end_time": "2020-12-07T13:40:06.366255Z",
     "start_time": "2020-12-07T13:40:06.362625Z"
    }
   },
   "outputs": [
    {
     "data": {
      "text/plain": [
       "<img alt=\"Sapphire Tech\" src=\"https://c1.neweggimages.com/Brandimage_70x28/Brand1561.gif\" title=\"Sapphire Tech\"/>"
      ]
     },
     "execution_count": 36,
     "metadata": {},
     "output_type": "execute_result"
    }
   ],
   "source": [
    "container.div.div.a.img"
   ]
  },
  {
   "cell_type": "code",
   "execution_count": 37,
   "metadata": {
    "ExecuteTime": {
     "end_time": "2020-12-07T13:40:29.871732Z",
     "start_time": "2020-12-07T13:40:29.868489Z"
    }
   },
   "outputs": [
    {
     "data": {
      "text/plain": [
       "'Sapphire Tech'"
      ]
     },
     "execution_count": 37,
     "metadata": {},
     "output_type": "execute_result"
    }
   ],
   "source": [
    "container.div.div.a.img[\"title\"]"
   ]
  },
  {
   "cell_type": "code",
   "execution_count": 38,
   "metadata": {
    "ExecuteTime": {
     "end_time": "2020-12-07T13:41:24.568342Z",
     "start_time": "2020-12-07T13:41:24.561883Z"
    }
   },
   "outputs": [],
   "source": [
    "containers = page_soup.findAll(\"div\", {\"class\": \"item-container\"})\n",
    "titles = []\n",
    "for container in containers:\n",
    "    titles.append(container.div.div.a.img[\"title\"])\n"
   ]
  },
  {
   "cell_type": "code",
   "execution_count": 39,
   "metadata": {
    "ExecuteTime": {
     "end_time": "2020-12-07T13:41:25.997054Z",
     "start_time": "2020-12-07T13:41:25.993635Z"
    }
   },
   "outputs": [
    {
     "data": {
      "text/plain": [
       "['Sapphire Tech',\n",
       " 'PowerColor',\n",
       " 'MSI',\n",
       " 'GIGABYTE',\n",
       " 'MSI',\n",
       " 'MSI',\n",
       " 'Sapphire Tech',\n",
       " 'Sapphire Tech',\n",
       " 'Sapphire Tech',\n",
       " 'GIGABYTE',\n",
       " 'GIGABYTE']"
      ]
     },
     "execution_count": 39,
     "metadata": {},
     "output_type": "execute_result"
    }
   ],
   "source": [
    "titles"
   ]
  },
  {
   "cell_type": "code",
   "execution_count": 44,
   "metadata": {
    "ExecuteTime": {
     "end_time": "2020-12-07T13:44:38.052756Z",
     "start_time": "2020-12-07T13:44:38.050293Z"
    }
   },
   "outputs": [],
   "source": [
    "title_container = container.findAll(\"a\", {\"class\":\"item-title\"})"
   ]
  },
  {
   "cell_type": "code",
   "execution_count": 47,
   "metadata": {
    "ExecuteTime": {
     "end_time": "2020-12-07T13:45:14.947198Z",
     "start_time": "2020-12-07T13:45:14.943774Z"
    }
   },
   "outputs": [
    {
     "data": {
      "text/plain": [
       "[<a class=\"item-title\" href=\"https://www.newegg.com/gigabyte-radeon-rx-570-gv-rx570gaming-8gd-rev-2-0/p/N82E16814932284?Item=N82E16814932284\" title=\"View Details\">GIGABYTE Radeon RX 570 DirectX 12 GV-RX570GAMING-8GD Rev 2.0 Video Card</a>]"
      ]
     },
     "execution_count": 47,
     "metadata": {},
     "output_type": "execute_result"
    }
   ],
   "source": [
    "title_container"
   ]
  },
  {
   "cell_type": "code",
   "execution_count": 48,
   "metadata": {
    "ExecuteTime": {
     "end_time": "2020-12-07T13:45:24.043565Z",
     "start_time": "2020-12-07T13:45:24.040142Z"
    }
   },
   "outputs": [
    {
     "data": {
      "text/plain": [
       "'GIGABYTE Radeon RX 570 DirectX 12 GV-RX570GAMING-8GD Rev 2.0 Video Card'"
      ]
     },
     "execution_count": 48,
     "metadata": {},
     "output_type": "execute_result"
    }
   ],
   "source": [
    "title_container[0].text"
   ]
  },
  {
   "cell_type": "code",
   "execution_count": 58,
   "metadata": {
    "ExecuteTime": {
     "end_time": "2020-12-07T13:49:22.630457Z",
     "start_time": "2020-12-07T13:49:22.622062Z"
    }
   },
   "outputs": [],
   "source": [
    "containers = page_soup.findAll(\"div\", {\"class\": \"item-container\"})\n",
    "titles = []\n",
    "product_names = []\n",
    "for container in containers:\n",
    "    titles.append(container.div.div.a.img[\"title\"])\n",
    "    title_container = container.findAll(\"a\", {\"class\":\"item-title\"})\n",
    "    product_names.append(title_container[0].text)"
   ]
  },
  {
   "cell_type": "code",
   "execution_count": 60,
   "metadata": {
    "ExecuteTime": {
     "end_time": "2020-12-07T13:49:46.232152Z",
     "start_time": "2020-12-07T13:49:46.229747Z"
    }
   },
   "outputs": [],
   "source": [
    "z = zip(titles, product_names)"
   ]
  },
  {
   "cell_type": "code",
   "execution_count": 61,
   "metadata": {
    "ExecuteTime": {
     "end_time": "2020-12-07T13:49:47.128283Z",
     "start_time": "2020-12-07T13:49:47.125285Z"
    }
   },
   "outputs": [
    {
     "name": "stdout",
     "output_type": "stream",
     "text": [
      "('Sapphire Tech', 'SAPPHIRE PULSE Radeon RX 580 DirectX 12 11265-05-20G Video Cards')\n",
      "('PowerColor', 'PowerColor RED DRAGON Radeon RX 570 DirectX 12 AXRX 570 4GBD5-DHDV3/OC Video Card')\n",
      "('MSI', 'MSI GeForce GT 710 DirectX 12 GT 710 1GD3H LP Video Card')\n",
      "('GIGABYTE', 'GIGABYTE GeForce GT 1030 DirectX 12 GV-N1030OC-2GI Video Card')\n",
      "('MSI', 'MSI GeForce GT 1030 DirectX 12 GT 1030 2G LP OC Video Card')\n",
      "('MSI', 'MSI Radeon RX 570 DirectX 12 RX 570 ARMOR 8G OC Video Card')\n",
      "('Sapphire Tech', 'SAPPHIRE PULSE Radeon RX 570 DirectX 12 11266-78-20G Video Card')\n",
      "('Sapphire Tech', 'SAPPHIRE NITRO+ Radeon RX 5500 XT DirectX 12 100418NT+8GSEL Video Card, Special Edition')\n",
      "('Sapphire Tech', 'SAPPHIRE PULSE Radeon RX 5500 XT DirectX 12 100418P4GL Video Card')\n",
      "('GIGABYTE', 'GIGABYTE GeForce GT 1030 Low Profile 2GB, GV-N1030D5-2GL')\n",
      "('GIGABYTE', 'GIGABYTE Radeon RX 570 DirectX 12 GV-RX570GAMING-8GD Rev 2.0 Video Card')\n"
     ]
    }
   ],
   "source": [
    "for x in z:\n",
    "    print(x)"
   ]
  },
  {
   "cell_type": "code",
   "execution_count": 62,
   "metadata": {
    "ExecuteTime": {
     "end_time": "2020-12-07T13:51:01.647130Z",
     "start_time": "2020-12-07T13:51:01.641527Z"
    }
   },
   "outputs": [],
   "source": [
    "shipping_container = container.findAll(\"li\", {\"class\": \"price-ship\"})"
   ]
  },
  {
   "cell_type": "code",
   "execution_count": 64,
   "metadata": {
    "ExecuteTime": {
     "end_time": "2020-12-07T13:51:19.619341Z",
     "start_time": "2020-12-07T13:51:19.616407Z"
    }
   },
   "outputs": [
    {
     "data": {
      "text/plain": [
       "[<li class=\"price-ship\">$3.99 Shipping</li>]"
      ]
     },
     "execution_count": 64,
     "metadata": {},
     "output_type": "execute_result"
    }
   ],
   "source": [
    "shipping_container"
   ]
  },
  {
   "cell_type": "code",
   "execution_count": 66,
   "metadata": {
    "ExecuteTime": {
     "end_time": "2020-12-07T13:51:52.186486Z",
     "start_time": "2020-12-07T13:51:52.183352Z"
    }
   },
   "outputs": [
    {
     "data": {
      "text/plain": [
       "'$3.99 Shipping'"
      ]
     },
     "execution_count": 66,
     "metadata": {},
     "output_type": "execute_result"
    }
   ],
   "source": [
    "shipping_container[0].text.strip()"
   ]
  },
  {
   "cell_type": "code",
   "execution_count": 73,
   "metadata": {
    "ExecuteTime": {
     "end_time": "2020-12-07T13:58:30.490285Z",
     "start_time": "2020-12-07T13:58:30.479420Z"
    }
   },
   "outputs": [],
   "source": [
    "containers = page_soup.findAll(\"div\", {\"class\": \"item-container\"})\n",
    "\n",
    "filename = \"products.csv\"\n",
    "f = open(filename, \"w\")\n",
    "header = \"brand, product_name, shipping\\n\"\n",
    "f.write(header)\n",
    "\n",
    "for container in containers:\n",
    "    brand = container.div.div.a.img[\"title\"]\n",
    "    title_container = container.findAll(\"a\", {\"class\":\"item-title\"})\n",
    "    product_name = title_container[0].text\n",
    "    shipping_container = container.findAll(\"li\", {\"class\": \"price-ship\"})\n",
    "    shipping = shipping_container[0].text.strip()\n",
    "    \n",
    "    f.write(brand + \",\" + product_name.replace(\",\", \"|\") + \",\" + shipping + \"\\n\")\n",
    "\n",
    "f.close()"
   ]
  },
  {
   "cell_type": "code",
   "execution_count": null,
   "metadata": {},
   "outputs": [],
   "source": []
  }
 ],
 "metadata": {
  "kernelspec": {
   "display_name": "Python 3",
   "language": "python",
   "name": "python3"
  },
  "language_info": {
   "codemirror_mode": {
    "name": "ipython",
    "version": 3
   },
   "file_extension": ".py",
   "mimetype": "text/x-python",
   "name": "python",
   "nbconvert_exporter": "python",
   "pygments_lexer": "ipython3",
   "version": "3.8.3"
  }
 },
 "nbformat": 4,
 "nbformat_minor": 4
}
