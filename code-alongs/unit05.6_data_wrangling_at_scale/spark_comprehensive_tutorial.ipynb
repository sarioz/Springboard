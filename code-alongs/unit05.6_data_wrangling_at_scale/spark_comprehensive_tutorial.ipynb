{
 "cells": [
  {
   "cell_type": "markdown",
   "metadata": {},
   "source": [
    "## Adapted from https://www.analyticsvidhya.com/blog/2016/10/spark-dataframe-and-operations/ to work with Spark 3"
   ]
  },
  {
   "cell_type": "code",
   "execution_count": 1,
   "metadata": {
    "ExecuteTime": {
     "end_time": "2020-12-26T15:54:36.412833Z",
     "start_time": "2020-12-26T15:54:36.408274Z"
    }
   },
   "outputs": [
    {
     "name": "stdout",
     "output_type": "stream",
     "text": [
      "env: PYSPARK_DRIVER_PYTHON=/opt/anaconda3/bin/python3\n",
      "env: PYSPARK_PYTHON=/opt/anaconda3/bin/python3\n"
     ]
    }
   ],
   "source": [
    "# These should agree\n",
    "%env PYSPARK_DRIVER_PYTHON /opt/anaconda3/bin/python3\n",
    "%env PYSPARK_PYTHON /opt/anaconda3/bin/python3"
   ]
  },
  {
   "cell_type": "code",
   "execution_count": 2,
   "metadata": {
    "ExecuteTime": {
     "end_time": "2020-12-26T15:54:36.636219Z",
     "start_time": "2020-12-26T15:54:36.415060Z"
    }
   },
   "outputs": [],
   "source": [
    "from pyspark.sql import SparkSession\n",
    "import pyspark.sql.functions as F"
   ]
  },
  {
   "cell_type": "code",
   "execution_count": 3,
   "metadata": {
    "ExecuteTime": {
     "end_time": "2020-12-26T15:54:45.374575Z",
     "start_time": "2020-12-26T15:54:36.639705Z"
    }
   },
   "outputs": [],
   "source": [
    "spark = SparkSession \\\n",
    "    .builder \\\n",
    "    .appName(\"Python Spark SQL basic example\") \\\n",
    "    .getOrCreate()"
   ]
  },
  {
   "cell_type": "code",
   "execution_count": 4,
   "metadata": {
    "ExecuteTime": {
     "end_time": "2020-12-26T15:54:45.382933Z",
     "start_time": "2020-12-26T15:54:45.378531Z"
    }
   },
   "outputs": [],
   "source": [
    "from pyspark import SparkContext, SQLContext\n",
    "sc = SparkContext.getOrCreate()"
   ]
  },
  {
   "cell_type": "code",
   "execution_count": 5,
   "metadata": {
    "ExecuteTime": {
     "end_time": "2020-12-26T15:54:45.388142Z",
     "start_time": "2020-12-26T15:54:45.384897Z"
    }
   },
   "outputs": [],
   "source": [
    "sql_context = SQLContext(sc)"
   ]
  },
  {
   "cell_type": "code",
   "execution_count": 6,
   "metadata": {
    "ExecuteTime": {
     "end_time": "2020-12-26T15:54:45.701768Z",
     "start_time": "2020-12-26T15:54:45.389784Z"
    }
   },
   "outputs": [],
   "source": [
    "from pyspark.sql import Row\n",
    "\n",
    "l = [('Ankit',25),('Jalfaizy',22),('saurabh',20),('Bala',26)]\n",
    "rdd = sc.parallelize(l)\n",
    "people = rdd.map(lambda x: Row(name=x[0], age=int(x[1])))"
   ]
  },
  {
   "cell_type": "code",
   "execution_count": 7,
   "metadata": {
    "ExecuteTime": {
     "end_time": "2020-12-26T15:54:48.153304Z",
     "start_time": "2020-12-26T15:54:45.703526Z"
    }
   },
   "outputs": [],
   "source": [
    "schema_people = sql_context.createDataFrame(people)"
   ]
  },
  {
   "cell_type": "code",
   "execution_count": 8,
   "metadata": {
    "ExecuteTime": {
     "end_time": "2020-12-26T15:54:48.165873Z",
     "start_time": "2020-12-26T15:54:48.157809Z"
    }
   },
   "outputs": [
    {
     "data": {
      "text/plain": [
       "pyspark.sql.dataframe.DataFrame"
      ]
     },
     "execution_count": 8,
     "metadata": {},
     "output_type": "execute_result"
    }
   ],
   "source": [
    "type(schema_people)"
   ]
  },
  {
   "cell_type": "markdown",
   "metadata": {},
   "source": [
    "SQLContext.load() is deprecated, so using spark.read() below."
   ]
  },
  {
   "cell_type": "markdown",
   "metadata": {
    "ExecuteTime": {
     "end_time": "2020-12-26T12:56:35.087064Z",
     "start_time": "2020-12-26T12:56:35.083557Z"
    }
   },
   "source": [
    "You can get train.csv and test.csv as a free download on https://datahack.analyticsvidhya.com/contest/black-friday/ if you agree not to redistribute."
   ]
  },
  {
   "cell_type": "code",
   "execution_count": 9,
   "metadata": {
    "ExecuteTime": {
     "end_time": "2020-12-26T15:54:50.475320Z",
     "start_time": "2020-12-26T15:54:48.169095Z"
    }
   },
   "outputs": [],
   "source": [
    "train = spark.read \\\n",
    "    .options(header=True, inferSchema=True) \\\n",
    "    .csv(\"../../black_friday_data/train.csv\")"
   ]
  },
  {
   "cell_type": "code",
   "execution_count": 10,
   "metadata": {
    "ExecuteTime": {
     "end_time": "2020-12-26T15:54:51.030121Z",
     "start_time": "2020-12-26T15:54:50.477127Z"
    }
   },
   "outputs": [],
   "source": [
    "test = spark.read \\\n",
    "    .options(header=True, inferSchema=True) \\\n",
    "    .csv(\"../../black_friday_data/test.csv\")"
   ]
  },
  {
   "cell_type": "code",
   "execution_count": 11,
   "metadata": {
    "ExecuteTime": {
     "end_time": "2020-12-26T15:54:51.040542Z",
     "start_time": "2020-12-26T15:54:51.031676Z"
    },
    "scrolled": true
   },
   "outputs": [
    {
     "name": "stdout",
     "output_type": "stream",
     "text": [
      "root\n",
      " |-- User_ID: integer (nullable = true)\n",
      " |-- Product_ID: string (nullable = true)\n",
      " |-- Gender: string (nullable = true)\n",
      " |-- Age: string (nullable = true)\n",
      " |-- Occupation: integer (nullable = true)\n",
      " |-- City_Category: string (nullable = true)\n",
      " |-- Stay_In_Current_City_Years: string (nullable = true)\n",
      " |-- Marital_Status: integer (nullable = true)\n",
      " |-- Product_Category_1: integer (nullable = true)\n",
      " |-- Product_Category_2: integer (nullable = true)\n",
      " |-- Product_Category_3: integer (nullable = true)\n",
      " |-- Purchase: integer (nullable = true)\n",
      "\n"
     ]
    }
   ],
   "source": [
    "train.printSchema()"
   ]
  },
  {
   "cell_type": "code",
   "execution_count": 12,
   "metadata": {
    "ExecuteTime": {
     "end_time": "2020-12-26T15:54:51.196911Z",
     "start_time": "2020-12-26T15:54:51.042712Z"
    }
   },
   "outputs": [
    {
     "data": {
      "text/plain": [
       "[Row(User_ID=1000001, Product_ID='P00069042', Gender='F', Age='0-17', Occupation=10, City_Category='A', Stay_In_Current_City_Years='2', Marital_Status=0, Product_Category_1=3, Product_Category_2=None, Product_Category_3=None, Purchase=8370),\n",
       " Row(User_ID=1000001, Product_ID='P00248942', Gender='F', Age='0-17', Occupation=10, City_Category='A', Stay_In_Current_City_Years='2', Marital_Status=0, Product_Category_1=1, Product_Category_2=6, Product_Category_3=14, Purchase=15200),\n",
       " Row(User_ID=1000001, Product_ID='P00087842', Gender='F', Age='0-17', Occupation=10, City_Category='A', Stay_In_Current_City_Years='2', Marital_Status=0, Product_Category_1=12, Product_Category_2=None, Product_Category_3=None, Purchase=1422),\n",
       " Row(User_ID=1000001, Product_ID='P00085442', Gender='F', Age='0-17', Occupation=10, City_Category='A', Stay_In_Current_City_Years='2', Marital_Status=0, Product_Category_1=12, Product_Category_2=14, Product_Category_3=None, Purchase=1057),\n",
       " Row(User_ID=1000002, Product_ID='P00285442', Gender='M', Age='55+', Occupation=16, City_Category='C', Stay_In_Current_City_Years='4+', Marital_Status=0, Product_Category_1=8, Product_Category_2=None, Product_Category_3=None, Purchase=7969)]"
      ]
     },
     "execution_count": 12,
     "metadata": {},
     "output_type": "execute_result"
    }
   ],
   "source": [
    "train.head(5)"
   ]
  },
  {
   "cell_type": "code",
   "execution_count": 13,
   "metadata": {
    "ExecuteTime": {
     "end_time": "2020-12-26T15:54:51.395088Z",
     "start_time": "2020-12-26T15:54:51.198920Z"
    }
   },
   "outputs": [
    {
     "name": "stdout",
     "output_type": "stream",
     "text": [
      "+-------+----------+------+----+----------+-------------+--------------------------+--------------+------------------+------------------+------------------+--------+\n",
      "|User_ID|Product_ID|Gender| Age|Occupation|City_Category|Stay_In_Current_City_Years|Marital_Status|Product_Category_1|Product_Category_2|Product_Category_3|Purchase|\n",
      "+-------+----------+------+----+----------+-------------+--------------------------+--------------+------------------+------------------+------------------+--------+\n",
      "|1000001| P00069042|     F|0-17|        10|            A|                         2|             0|                 3|              null|              null|    8370|\n",
      "|1000001| P00248942|     F|0-17|        10|            A|                         2|             0|                 1|                 6|                14|   15200|\n",
      "+-------+----------+------+----+----------+-------------+--------------------------+--------------+------------------+------------------+------------------+--------+\n",
      "only showing top 2 rows\n",
      "\n"
     ]
    }
   ],
   "source": [
    "train.show(2)"
   ]
  },
  {
   "cell_type": "code",
   "execution_count": 14,
   "metadata": {
    "ExecuteTime": {
     "end_time": "2020-12-26T15:54:51.540763Z",
     "start_time": "2020-12-26T15:54:51.398005Z"
    }
   },
   "outputs": [
    {
     "name": "stdout",
     "output_type": "stream",
     "text": [
      "+-------+----------+------+----+----------+-------------+--------------------------+--------------+------------------+------------------+------------------+--------+\n",
      "|User_ID|Product_ID|Gender| Age|Occupation|City_Category|Stay_In_Current_City_Years|Marital_Status|Product_Category_1|Product_Category_2|Product_Category_3|Purchase|\n",
      "+-------+----------+------+----+----------+-------------+--------------------------+--------------+------------------+------------------+------------------+--------+\n",
      "|1000001| P00069042|     F|0-17|        10|            A|                         2|             0|                 3|              null|              null|    8370|\n",
      "|1000001| P00248942|     F|0-17|        10|            A|                         2|             0|                 1|                 6|                14|   15200|\n",
      "+-------+----------+------+----+----------+-------------+--------------------------+--------------+------------------+------------------+------------------+--------+\n",
      "only showing top 2 rows\n",
      "\n"
     ]
    }
   ],
   "source": [
    "train.show(2, truncate=True)"
   ]
  },
  {
   "cell_type": "code",
   "execution_count": 15,
   "metadata": {
    "ExecuteTime": {
     "end_time": "2020-12-26T15:54:52.522553Z",
     "start_time": "2020-12-26T15:54:51.543277Z"
    }
   },
   "outputs": [
    {
     "data": {
      "text/plain": [
       "(550068, 233599)"
      ]
     },
     "execution_count": 15,
     "metadata": {},
     "output_type": "execute_result"
    }
   ],
   "source": [
    "train.count(), test.count()"
   ]
  },
  {
   "cell_type": "code",
   "execution_count": 16,
   "metadata": {
    "ExecuteTime": {
     "end_time": "2020-12-26T15:54:52.531724Z",
     "start_time": "2020-12-26T15:54:52.524902Z"
    }
   },
   "outputs": [
    {
     "data": {
      "text/plain": [
       "(12,\n",
       " ['User_ID',\n",
       "  'Product_ID',\n",
       "  'Gender',\n",
       "  'Age',\n",
       "  'Occupation',\n",
       "  'City_Category',\n",
       "  'Stay_In_Current_City_Years',\n",
       "  'Marital_Status',\n",
       "  'Product_Category_1',\n",
       "  'Product_Category_2',\n",
       "  'Product_Category_3',\n",
       "  'Purchase'])"
      ]
     },
     "execution_count": 16,
     "metadata": {},
     "output_type": "execute_result"
    }
   ],
   "source": [
    "len(train.columns), train.columns"
   ]
  },
  {
   "cell_type": "code",
   "execution_count": 17,
   "metadata": {
    "ExecuteTime": {
     "end_time": "2020-12-26T15:54:52.542253Z",
     "start_time": "2020-12-26T15:54:52.533976Z"
    }
   },
   "outputs": [
    {
     "data": {
      "text/plain": [
       "(11,\n",
       " ['User_ID',\n",
       "  'Product_ID',\n",
       "  'Gender',\n",
       "  'Age',\n",
       "  'Occupation',\n",
       "  'City_Category',\n",
       "  'Stay_In_Current_City_Years',\n",
       "  'Marital_Status',\n",
       "  'Product_Category_1',\n",
       "  'Product_Category_2',\n",
       "  'Product_Category_3'])"
      ]
     },
     "execution_count": 17,
     "metadata": {},
     "output_type": "execute_result"
    }
   ],
   "source": [
    "len(test.columns), test.columns"
   ]
  },
  {
   "cell_type": "code",
   "execution_count": 18,
   "metadata": {
    "ExecuteTime": {
     "end_time": "2020-12-26T15:54:58.368380Z",
     "start_time": "2020-12-26T15:54:52.544427Z"
    }
   },
   "outputs": [
    {
     "name": "stdout",
     "output_type": "stream",
     "text": [
      "+-------+------------------+----------+------+------+-----------------+-------------+--------------------------+-------------------+------------------+------------------+------------------+-----------------+\n",
      "|summary|           User_ID|Product_ID|Gender|   Age|       Occupation|City_Category|Stay_In_Current_City_Years|     Marital_Status|Product_Category_1|Product_Category_2|Product_Category_3|         Purchase|\n",
      "+-------+------------------+----------+------+------+-----------------+-------------+--------------------------+-------------------+------------------+------------------+------------------+-----------------+\n",
      "|  count|            550068|    550068|550068|550068|           550068|       550068|                    550068|             550068|            550068|            376430|            166821|           550068|\n",
      "|   mean|1003028.8424013031|      null|  null|  null|8.076706879876669|         null|         1.468494139793958|0.40965298835780306| 5.404270017525106| 9.842329251122386|12.668243206790512|9263.968712959126|\n",
      "| stddev|1727.5915855312976|      null|  null|  null|6.522660487341822|         null|        0.9890866807573172|0.49177012631733175| 3.936211369201386| 5.086589648693479| 4.125337631575277|5023.065393820575|\n",
      "|    min|           1000001| P00000142|     F|  0-17|                0|            A|                         0|                  0|                 1|                 2|                 3|               12|\n",
      "|    max|           1006040|  P0099942|     M|   55+|               20|            C|                        4+|                  1|                20|                18|                18|            23961|\n",
      "+-------+------------------+----------+------+------+-----------------+-------------+--------------------------+-------------------+------------------+------------------+------------------+-----------------+\n",
      "\n"
     ]
    }
   ],
   "source": [
    "train.describe().show()"
   ]
  },
  {
   "cell_type": "code",
   "execution_count": 19,
   "metadata": {
    "ExecuteTime": {
     "end_time": "2020-12-26T15:55:00.019153Z",
     "start_time": "2020-12-26T15:54:58.371200Z"
    }
   },
   "outputs": [
    {
     "name": "stdout",
     "output_type": "stream",
     "text": [
      "+-------+----------+\n",
      "|summary|Product_ID|\n",
      "+-------+----------+\n",
      "|  count|    550068|\n",
      "|   mean|      null|\n",
      "| stddev|      null|\n",
      "|    min| P00000142|\n",
      "|    max|  P0099942|\n",
      "+-------+----------+\n",
      "\n"
     ]
    }
   ],
   "source": [
    "train.describe('Product_ID').show()"
   ]
  },
  {
   "cell_type": "code",
   "execution_count": 20,
   "metadata": {
    "ExecuteTime": {
     "end_time": "2020-12-26T15:55:00.133793Z",
     "start_time": "2020-12-26T15:55:00.022112Z"
    }
   },
   "outputs": [
    {
     "name": "stdout",
     "output_type": "stream",
     "text": [
      "+-------+----+\n",
      "|User_ID| Age|\n",
      "+-------+----+\n",
      "|1000001|0-17|\n",
      "|1000001|0-17|\n",
      "|1000001|0-17|\n",
      "|1000001|0-17|\n",
      "|1000002| 55+|\n",
      "+-------+----+\n",
      "only showing top 5 rows\n",
      "\n"
     ]
    }
   ],
   "source": [
    "train.select('User_ID', 'Age').show(5)"
   ]
  },
  {
   "cell_type": "code",
   "execution_count": 21,
   "metadata": {
    "ExecuteTime": {
     "end_time": "2020-12-26T15:55:02.800531Z",
     "start_time": "2020-12-26T15:55:00.135869Z"
    }
   },
   "outputs": [
    {
     "data": {
      "text/plain": [
       "(3631, 3491)"
      ]
     },
     "execution_count": 21,
     "metadata": {},
     "output_type": "execute_result"
    }
   ],
   "source": [
    "train.select('Product_ID').distinct().count(), test.select('Product_ID').distinct().count()"
   ]
  },
  {
   "cell_type": "code",
   "execution_count": 22,
   "metadata": {
    "ExecuteTime": {
     "end_time": "2020-12-26T15:55:02.826490Z",
     "start_time": "2020-12-26T15:55:02.803344Z"
    }
   },
   "outputs": [],
   "source": [
    "diff_cat_in_train_test=test.select('Product_ID').subtract(train.select('Product_ID'))"
   ]
  },
  {
   "cell_type": "code",
   "execution_count": 23,
   "metadata": {
    "ExecuteTime": {
     "end_time": "2020-12-26T15:55:05.113149Z",
     "start_time": "2020-12-26T15:55:02.833788Z"
    }
   },
   "outputs": [
    {
     "data": {
      "text/plain": [
       "46"
      ]
     },
     "execution_count": 23,
     "metadata": {},
     "output_type": "execute_result"
    }
   ],
   "source": [
    "diff_cat_in_train_test.distinct().count()"
   ]
  },
  {
   "cell_type": "code",
   "execution_count": 24,
   "metadata": {
    "ExecuteTime": {
     "end_time": "2020-12-26T15:55:05.141565Z",
     "start_time": "2020-12-26T15:55:05.118607Z"
    }
   },
   "outputs": [],
   "source": [
    "diff_cat_in_test_train=train.select('Product_ID').subtract(test.select('Product_ID'))"
   ]
  },
  {
   "cell_type": "code",
   "execution_count": 25,
   "metadata": {
    "ExecuteTime": {
     "end_time": "2020-12-26T15:55:06.783085Z",
     "start_time": "2020-12-26T15:55:05.144174Z"
    }
   },
   "outputs": [
    {
     "data": {
      "text/plain": [
       "186"
      ]
     },
     "execution_count": 25,
     "metadata": {},
     "output_type": "execute_result"
    }
   ],
   "source": [
    "diff_cat_in_test_train.distinct().count()"
   ]
  },
  {
   "cell_type": "code",
   "execution_count": 26,
   "metadata": {
    "ExecuteTime": {
     "end_time": "2020-12-26T15:55:07.933941Z",
     "start_time": "2020-12-26T15:55:06.785777Z"
    }
   },
   "outputs": [
    {
     "name": "stdout",
     "output_type": "stream",
     "text": [
      "+----------+-----+------+\n",
      "|Age_Gender|    F|     M|\n",
      "+----------+-----+------+\n",
      "|      0-17| 5083| 10019|\n",
      "|     46-50|13199| 32502|\n",
      "|     18-25|24628| 75032|\n",
      "|     36-45|27170| 82843|\n",
      "|       55+| 5083| 16421|\n",
      "|     51-55| 9894| 28607|\n",
      "|     26-35|50752|168835|\n",
      "+----------+-----+------+\n",
      "\n"
     ]
    }
   ],
   "source": [
    "train.crosstab('Age', 'Gender').show()"
   ]
  },
  {
   "cell_type": "code",
   "execution_count": 27,
   "metadata": {
    "ExecuteTime": {
     "end_time": "2020-12-26T15:55:08.909388Z",
     "start_time": "2020-12-26T15:55:07.936579Z"
    }
   },
   "outputs": [
    {
     "name": "stdout",
     "output_type": "stream",
     "text": [
      "+-----+------+\n",
      "|  Age|Gender|\n",
      "+-----+------+\n",
      "| 0-17|     F|\n",
      "| 0-17|     M|\n",
      "|18-25|     F|\n",
      "|18-25|     M|\n",
      "|26-35|     F|\n",
      "|26-35|     M|\n",
      "|36-45|     F|\n",
      "|36-45|     M|\n",
      "|46-50|     F|\n",
      "|46-50|     M|\n",
      "|51-55|     F|\n",
      "|51-55|     M|\n",
      "|  55+|     F|\n",
      "|  55+|     M|\n",
      "+-----+------+\n",
      "\n"
     ]
    }
   ],
   "source": [
    "train.select('Age','Gender').dropDuplicates().sort('Age', 'Gender').show()"
   ]
  },
  {
   "cell_type": "code",
   "execution_count": 28,
   "metadata": {
    "ExecuteTime": {
     "end_time": "2020-12-26T15:55:09.713162Z",
     "start_time": "2020-12-26T15:55:08.911928Z"
    }
   },
   "outputs": [
    {
     "name": "stdout",
     "output_type": "stream",
     "text": [
      "+-----+------+\n",
      "|  Age|Gender|\n",
      "+-----+------+\n",
      "| 0-17|     F|\n",
      "| 0-17|     M|\n",
      "|18-25|     F|\n",
      "|18-25|     M|\n",
      "|26-35|     F|\n",
      "|26-35|     M|\n",
      "|36-45|     F|\n",
      "|36-45|     M|\n",
      "|46-50|     F|\n",
      "|46-50|     M|\n",
      "|51-55|     F|\n",
      "|51-55|     M|\n",
      "|  55+|     F|\n",
      "|  55+|     M|\n",
      "+-----+------+\n",
      "\n"
     ]
    }
   ],
   "source": [
    "train.select('Age','Gender').distinct().sort('Age', 'Gender').show()"
   ]
  },
  {
   "cell_type": "code",
   "execution_count": 29,
   "metadata": {
    "ExecuteTime": {
     "end_time": "2020-12-26T15:55:10.514258Z",
     "start_time": "2020-12-26T15:55:09.715790Z"
    }
   },
   "outputs": [
    {
     "data": {
      "text/plain": [
       "(550068, 166821)"
      ]
     },
     "execution_count": 29,
     "metadata": {},
     "output_type": "execute_result"
    }
   ],
   "source": [
    "train.count(), train.dropna().count()"
   ]
  },
  {
   "cell_type": "code",
   "execution_count": 30,
   "metadata": {
    "ExecuteTime": {
     "end_time": "2020-12-26T15:55:10.686201Z",
     "start_time": "2020-12-26T15:55:10.516361Z"
    }
   },
   "outputs": [
    {
     "name": "stdout",
     "output_type": "stream",
     "text": [
      "+-------+----------+------+----+----------+-------------+--------------------------+--------------+------------------+------------------+------------------+--------+\n",
      "|User_ID|Product_ID|Gender| Age|Occupation|City_Category|Stay_In_Current_City_Years|Marital_Status|Product_Category_1|Product_Category_2|Product_Category_3|Purchase|\n",
      "+-------+----------+------+----+----------+-------------+--------------------------+--------------+------------------+------------------+------------------+--------+\n",
      "|1000001| P00069042|     F|0-17|        10|            A|                         2|             0|                 3|                -1|                -1|    8370|\n",
      "|1000001| P00248942|     F|0-17|        10|            A|                         2|             0|                 1|                 6|                14|   15200|\n",
      "+-------+----------+------+----+----------+-------------+--------------------------+--------------+------------------+------------------+------------------+--------+\n",
      "only showing top 2 rows\n",
      "\n"
     ]
    }
   ],
   "source": [
    "train.fillna(-1).show(2)"
   ]
  },
  {
   "cell_type": "code",
   "execution_count": 31,
   "metadata": {
    "ExecuteTime": {
     "end_time": "2020-12-26T15:55:11.236491Z",
     "start_time": "2020-12-26T15:55:10.689189Z"
    }
   },
   "outputs": [
    {
     "data": {
      "text/plain": [
       "110523"
      ]
     },
     "execution_count": 31,
     "metadata": {},
     "output_type": "execute_result"
    }
   ],
   "source": [
    "train.filter(train.Purchase > 15000).count()"
   ]
  },
  {
   "cell_type": "code",
   "execution_count": 32,
   "metadata": {
    "ExecuteTime": {
     "end_time": "2020-12-26T15:55:12.214475Z",
     "start_time": "2020-12-26T15:55:11.239104Z"
    }
   },
   "outputs": [
    {
     "name": "stdout",
     "output_type": "stream",
     "text": [
      "+-----+-----------------+\n",
      "|  Age|    avg(Purchase)|\n",
      "+-----+-----------------+\n",
      "| 0-17|8933.464640444974|\n",
      "|18-25|9169.663606261289|\n",
      "|26-35|9252.690632869888|\n",
      "|36-45|9331.350694917874|\n",
      "|46-50|9208.625697468327|\n",
      "|51-55|9534.808030960236|\n",
      "|  55+|9336.280459449405|\n",
      "+-----+-----------------+\n",
      "\n"
     ]
    }
   ],
   "source": [
    "train.groupby('Age').agg({'Purchase': 'mean'}).sort('Age').show()"
   ]
  },
  {
   "cell_type": "code",
   "execution_count": 33,
   "metadata": {
    "ExecuteTime": {
     "end_time": "2020-12-26T15:55:12.991637Z",
     "start_time": "2020-12-26T15:55:12.217115Z"
    }
   },
   "outputs": [
    {
     "name": "stdout",
     "output_type": "stream",
     "text": [
      "+-----+------+\n",
      "|  Age| count|\n",
      "+-----+------+\n",
      "|26-35|219587|\n",
      "|36-45|110013|\n",
      "|18-25| 99660|\n",
      "|46-50| 45701|\n",
      "|51-55| 38501|\n",
      "|  55+| 21504|\n",
      "| 0-17| 15102|\n",
      "+-----+------+\n",
      "\n"
     ]
    }
   ],
   "source": [
    "train.groupby('Age').count().sort(F.col('count').desc()).show()"
   ]
  },
  {
   "cell_type": "code",
   "execution_count": 34,
   "metadata": {
    "ExecuteTime": {
     "end_time": "2020-12-26T15:55:13.453064Z",
     "start_time": "2020-12-26T15:55:12.994396Z"
    }
   },
   "outputs": [
    {
     "data": {
      "text/plain": [
       "(110376, 110393)"
      ]
     },
     "execution_count": 34,
     "metadata": {},
     "output_type": "execute_result"
    }
   ],
   "source": [
    "t1 = train.sample(withReplacement=False, fraction=0.2, seed=42)\n",
    "t2 = train.sample(withReplacement=False, fraction=0.2, seed=43)\n",
    "t1.count(), t2.count()"
   ]
  },
  {
   "cell_type": "code",
   "execution_count": 35,
   "metadata": {
    "ExecuteTime": {
     "end_time": "2020-12-26T15:55:13.602032Z",
     "start_time": "2020-12-26T15:55:13.455258Z"
    }
   },
   "outputs": [
    {
     "data": {
      "text/plain": [
       "[(Row(User_ID=1000001), 1),\n",
       " (Row(User_ID=1000001), 1),\n",
       " (Row(User_ID=1000001), 1),\n",
       " (Row(User_ID=1000001), 1),\n",
       " (Row(User_ID=1000002), 1)]"
      ]
     },
     "execution_count": 35,
     "metadata": {},
     "output_type": "execute_result"
    }
   ],
   "source": [
    "train.select('User_ID').rdd.map(lambda x:(x, 1)).take(5)"
   ]
  },
  {
   "cell_type": "code",
   "execution_count": 36,
   "metadata": {
    "ExecuteTime": {
     "end_time": "2020-12-26T15:55:14.218824Z",
     "start_time": "2020-12-26T15:55:13.605093Z"
    }
   },
   "outputs": [
    {
     "name": "stdout",
     "output_type": "stream",
     "text": [
      "+-------+----------+------+-----+----------+-------------+--------------------------+--------------+------------------+------------------+------------------+--------+\n",
      "|User_ID|Product_ID|Gender|  Age|Occupation|City_Category|Stay_In_Current_City_Years|Marital_Status|Product_Category_1|Product_Category_2|Product_Category_3|Purchase|\n",
      "+-------+----------+------+-----+----------+-------------+--------------------------+--------------+------------------+------------------+------------------+--------+\n",
      "|1001474| P00052842|     M|26-35|         4|            A|                         2|             1|                10|                15|              null|   23961|\n",
      "|1003160| P00052842|     M|26-35|        17|            C|                         3|             0|                10|                15|              null|   23961|\n",
      "|1002272| P00052842|     M|26-35|         0|            C|                         1|             0|                10|                15|              null|   23961|\n",
      "|1003045| P00052842|     M|46-50|         1|            B|                         2|             1|                10|                15|              null|   23960|\n",
      "|1005596| P00117642|     M|36-45|        12|            B|                         1|             0|                10|                16|              null|   23960|\n",
      "+-------+----------+------+-----+----------+-------------+--------------------------+--------------+------------------+------------------+------------------+--------+\n",
      "only showing top 5 rows\n",
      "\n"
     ]
    }
   ],
   "source": [
    "train.orderBy(train.Purchase.desc()).show(5)"
   ]
  },
  {
   "cell_type": "code",
   "execution_count": 37,
   "metadata": {
    "ExecuteTime": {
     "end_time": "2020-12-26T15:55:14.346084Z",
     "start_time": "2020-12-26T15:55:14.221434Z"
    }
   },
   "outputs": [
    {
     "name": "stdout",
     "output_type": "stream",
     "text": [
      "+--------+------------+\n",
      "|Purchase|Purchase_new|\n",
      "+--------+------------+\n",
      "|    8370|      4185.0|\n",
      "|   15200|      7600.0|\n",
      "|    1422|       711.0|\n",
      "|    1057|       528.5|\n",
      "|    7969|      3984.5|\n",
      "+--------+------------+\n",
      "only showing top 5 rows\n",
      "\n"
     ]
    }
   ],
   "source": [
    "train.withColumn('Purchase_new', train.Purchase /2.0).select('Purchase','Purchase_new').show(5)"
   ]
  },
  {
   "cell_type": "code",
   "execution_count": 38,
   "metadata": {
    "ExecuteTime": {
     "end_time": "2020-12-26T15:55:14.355551Z",
     "start_time": "2020-12-26T15:55:14.349415Z"
    }
   },
   "outputs": [
    {
     "data": {
      "text/plain": [
       "['User_ID',\n",
       " 'Product_ID',\n",
       " 'Gender',\n",
       " 'Age',\n",
       " 'Occupation',\n",
       " 'City_Category',\n",
       " 'Stay_In_Current_City_Years',\n",
       " 'Marital_Status',\n",
       " 'Product_Category_1',\n",
       " 'Product_Category_2',\n",
       " 'Product_Category_3',\n",
       " 'Purchase']"
      ]
     },
     "execution_count": 38,
     "metadata": {},
     "output_type": "execute_result"
    }
   ],
   "source": [
    "train.columns"
   ]
  },
  {
   "cell_type": "code",
   "execution_count": 39,
   "metadata": {
    "ExecuteTime": {
     "end_time": "2020-12-26T15:55:14.374276Z",
     "start_time": "2020-12-26T15:55:14.358045Z"
    }
   },
   "outputs": [],
   "source": [
    "train_augmented = train.withColumn('Purchase_new', train.Purchase / 2.0)"
   ]
  },
  {
   "cell_type": "code",
   "execution_count": 40,
   "metadata": {
    "ExecuteTime": {
     "end_time": "2020-12-26T15:55:14.384343Z",
     "start_time": "2020-12-26T15:55:14.377844Z"
    }
   },
   "outputs": [
    {
     "data": {
      "text/plain": [
       "['User_ID',\n",
       " 'Product_ID',\n",
       " 'Gender',\n",
       " 'Age',\n",
       " 'Occupation',\n",
       " 'City_Category',\n",
       " 'Stay_In_Current_City_Years',\n",
       " 'Marital_Status',\n",
       " 'Product_Category_1',\n",
       " 'Product_Category_2',\n",
       " 'Product_Category_3',\n",
       " 'Purchase',\n",
       " 'Purchase_new']"
      ]
     },
     "execution_count": 40,
     "metadata": {},
     "output_type": "execute_result"
    }
   ],
   "source": [
    "train_augmented.columns"
   ]
  },
  {
   "cell_type": "code",
   "execution_count": 41,
   "metadata": {
    "ExecuteTime": {
     "end_time": "2020-12-26T15:55:14.493391Z",
     "start_time": "2020-12-26T15:55:14.386616Z"
    }
   },
   "outputs": [
    {
     "data": {
      "text/plain": [
       "[Row(User_ID=1000001, Product_ID='P00069042', Gender='F', Age='0-17', Occupation=10, City_Category='A', Stay_In_Current_City_Years='2', Marital_Status=0, Product_Category_1=3, Product_Category_2=None, Product_Category_3=None, Purchase=8370, Purchase_new=4185.0),\n",
       " Row(User_ID=1000001, Product_ID='P00248942', Gender='F', Age='0-17', Occupation=10, City_Category='A', Stay_In_Current_City_Years='2', Marital_Status=0, Product_Category_1=1, Product_Category_2=6, Product_Category_3=14, Purchase=15200, Purchase_new=7600.0)]"
      ]
     },
     "execution_count": 41,
     "metadata": {},
     "output_type": "execute_result"
    }
   ],
   "source": [
    "train_augmented.take(2)"
   ]
  },
  {
   "cell_type": "code",
   "execution_count": 42,
   "metadata": {
    "ExecuteTime": {
     "end_time": "2020-12-26T15:55:14.504953Z",
     "start_time": "2020-12-26T15:55:14.496192Z"
    }
   },
   "outputs": [],
   "source": [
    "test_diminished = test.drop('Age')"
   ]
  },
  {
   "cell_type": "code",
   "execution_count": 43,
   "metadata": {
    "ExecuteTime": {
     "end_time": "2020-12-26T15:55:14.517485Z",
     "start_time": "2020-12-26T15:55:14.508703Z"
    }
   },
   "outputs": [
    {
     "data": {
      "text/plain": [
       "['User_ID',\n",
       " 'Product_ID',\n",
       " 'Gender',\n",
       " 'Occupation',\n",
       " 'City_Category',\n",
       " 'Stay_In_Current_City_Years',\n",
       " 'Marital_Status',\n",
       " 'Product_Category_1',\n",
       " 'Product_Category_2',\n",
       " 'Product_Category_3']"
      ]
     },
     "execution_count": 43,
     "metadata": {},
     "output_type": "execute_result"
    }
   ],
   "source": [
    "test_diminished.columns"
   ]
  },
  {
   "cell_type": "code",
   "execution_count": 44,
   "metadata": {
    "ExecuteTime": {
     "end_time": "2020-12-26T15:55:14.537110Z",
     "start_time": "2020-12-26T15:55:14.519832Z"
    }
   },
   "outputs": [],
   "source": [
    "diff_cat_in_train_test=test.select('Product_ID').subtract(train.select('Product_ID'))"
   ]
  },
  {
   "cell_type": "code",
   "execution_count": 45,
   "metadata": {
    "ExecuteTime": {
     "end_time": "2020-12-26T15:55:15.982391Z",
     "start_time": "2020-12-26T15:55:14.540379Z"
    }
   },
   "outputs": [
    {
     "data": {
      "text/plain": [
       "46"
      ]
     },
     "execution_count": 45,
     "metadata": {},
     "output_type": "execute_result"
    }
   ],
   "source": [
    "diff_cat_in_train_test.distinct().count()"
   ]
  },
  {
   "cell_type": "code",
   "execution_count": 46,
   "metadata": {
    "ExecuteTime": {
     "end_time": "2020-12-26T15:55:17.794398Z",
     "start_time": "2020-12-26T15:55:15.984683Z"
    }
   },
   "outputs": [],
   "source": [
    "not_found_cat = diff_cat_in_train_test.distinct().rdd.map(lambda x: x[0]).collect()"
   ]
  },
  {
   "cell_type": "code",
   "execution_count": 47,
   "metadata": {
    "ExecuteTime": {
     "end_time": "2020-12-26T15:55:17.802790Z",
     "start_time": "2020-12-26T15:55:17.797153Z"
    }
   },
   "outputs": [
    {
     "data": {
      "text/plain": [
       "46"
      ]
     },
     "execution_count": 47,
     "metadata": {},
     "output_type": "execute_result"
    }
   ],
   "source": [
    "len(not_found_cat)"
   ]
  },
  {
   "cell_type": "code",
   "execution_count": 48,
   "metadata": {
    "ExecuteTime": {
     "end_time": "2020-12-26T15:55:17.809208Z",
     "start_time": "2020-12-26T15:55:17.805243Z"
    }
   },
   "outputs": [],
   "source": [
    "from pyspark.sql.types import StringType\n",
    "from pyspark.sql.functions import udf\n",
    "F1 = udf(lambda x: '-1' if x in not_found_cat else x, StringType())"
   ]
  },
  {
   "cell_type": "code",
   "execution_count": 49,
   "metadata": {
    "ExecuteTime": {
     "end_time": "2020-12-26T15:55:17.843433Z",
     "start_time": "2020-12-26T15:55:17.812116Z"
    }
   },
   "outputs": [],
   "source": [
    "k = test.withColumn(\"NEW_Product_ID\", F1(test[\"Product_ID\"])).select('NEW_Product_ID')"
   ]
  },
  {
   "cell_type": "code",
   "execution_count": 50,
   "metadata": {
    "ExecuteTime": {
     "end_time": "2020-12-26T15:55:19.687025Z",
     "start_time": "2020-12-26T15:55:17.846335Z"
    }
   },
   "outputs": [
    {
     "data": {
      "text/plain": [
       "[Row(summary='count', NEW_Product_ID='233599'),\n",
       " Row(summary='mean', NEW_Product_ID='-1.0')]"
      ]
     },
     "execution_count": 50,
     "metadata": {},
     "output_type": "execute_result"
    }
   ],
   "source": [
    "k.describe().take(2)"
   ]
  },
  {
   "cell_type": "code",
   "execution_count": 51,
   "metadata": {
    "ExecuteTime": {
     "end_time": "2020-12-26T15:55:21.299514Z",
     "start_time": "2020-12-26T15:55:19.689151Z"
    }
   },
   "outputs": [
    {
     "data": {
      "text/plain": [
       "1"
      ]
     },
     "execution_count": 51,
     "metadata": {},
     "output_type": "execute_result"
    }
   ],
   "source": [
    "diff_cat_in_train_test=k.select('NEW_Product_ID').subtract(train.select('Product_ID'))\n",
    "diff_cat_in_train_test.distinct().count()"
   ]
  },
  {
   "cell_type": "code",
   "execution_count": 52,
   "metadata": {
    "ExecuteTime": {
     "end_time": "2020-12-26T15:55:22.771460Z",
     "start_time": "2020-12-26T15:55:21.302063Z"
    }
   },
   "outputs": [
    {
     "data": {
      "text/plain": [
       "[Row(NEW_Product_ID='-1')]"
      ]
     },
     "execution_count": 52,
     "metadata": {},
     "output_type": "execute_result"
    }
   ],
   "source": [
    "diff_cat_in_train_test.distinct().collect()"
   ]
  },
  {
   "cell_type": "code",
   "execution_count": 53,
   "metadata": {
    "ExecuteTime": {
     "end_time": "2020-12-26T15:55:22.981772Z",
     "start_time": "2020-12-26T15:55:22.773805Z"
    }
   },
   "outputs": [],
   "source": [
    "train.registerTempTable('train_table')"
   ]
  },
  {
   "cell_type": "code",
   "execution_count": 54,
   "metadata": {
    "ExecuteTime": {
     "end_time": "2020-12-26T15:55:23.101825Z",
     "start_time": "2020-12-26T15:55:22.983563Z"
    }
   },
   "outputs": [
    {
     "name": "stdout",
     "output_type": "stream",
     "text": [
      "+----------+\n",
      "|Product_ID|\n",
      "+----------+\n",
      "| P00069042|\n",
      "| P00248942|\n",
      "| P00087842|\n",
      "| P00085442|\n",
      "| P00285442|\n",
      "+----------+\n",
      "only showing top 5 rows\n",
      "\n"
     ]
    }
   ],
   "source": [
    "sql_context.sql('select Product_ID from train_table').show(5)"
   ]
  },
  {
   "cell_type": "code",
   "execution_count": 55,
   "metadata": {
    "ExecuteTime": {
     "end_time": "2020-12-26T15:55:23.811600Z",
     "start_time": "2020-12-26T15:55:23.104206Z"
    }
   },
   "outputs": [
    {
     "name": "stdout",
     "output_type": "stream",
     "text": [
      "+-----+-------------+\n",
      "|  Age|max(Purchase)|\n",
      "+-----+-------------+\n",
      "|18-25|        23958|\n",
      "|26-35|        23961|\n",
      "| 0-17|        23955|\n",
      "|46-50|        23960|\n",
      "|51-55|        23960|\n",
      "|36-45|        23960|\n",
      "|  55+|        23960|\n",
      "+-----+-------------+\n",
      "\n"
     ]
    }
   ],
   "source": [
    "sql_context.sql('select Age, max(Purchase) from train_table group by Age').show()"
   ]
  }
 ],
 "metadata": {
  "kernelspec": {
   "display_name": "Python 3",
   "language": "python",
   "name": "python3"
  },
  "language_info": {
   "codemirror_mode": {
    "name": "ipython",
    "version": 3
   },
   "file_extension": ".py",
   "mimetype": "text/x-python",
   "name": "python",
   "nbconvert_exporter": "python",
   "pygments_lexer": "ipython3",
   "version": "3.8.6"
  }
 },
 "nbformat": 4,
 "nbformat_minor": 4
}
