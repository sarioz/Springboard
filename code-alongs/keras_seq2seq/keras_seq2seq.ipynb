{
 "cells": [
  {
   "cell_type": "markdown",
   "id": "26de5187",
   "metadata": {},
   "source": [
    "This is my enhanced codealong to https://keras.io/examples/nlp/lstm_seq2seq/ using my local Anaconda setup"
   ]
  },
  {
   "cell_type": "markdown",
   "id": "74ef03a1",
   "metadata": {},
   "source": [
    "Setup"
   ]
  },
  {
   "cell_type": "code",
   "execution_count": 1,
   "id": "0a5b3047",
   "metadata": {
    "ExecuteTime": {
     "end_time": "2021-05-29T08:20:35.631168Z",
     "start_time": "2021-05-29T08:20:33.129921Z"
    }
   },
   "outputs": [],
   "source": [
    "import numpy as np\n",
    "import tensorflow as tf\n",
    "from tensorflow import keras"
   ]
  },
  {
   "cell_type": "code",
   "execution_count": 2,
   "id": "be9b5b52",
   "metadata": {
    "ExecuteTime": {
     "end_time": "2021-05-29T08:20:35.644485Z",
     "start_time": "2021-05-29T08:20:35.633730Z"
    }
   },
   "outputs": [
    {
     "data": {
      "text/plain": [
       "'3.7.10 (default, Feb 26 2021, 10:16:00) \\n[Clang 10.0.0 ]'"
      ]
     },
     "execution_count": 2,
     "metadata": {},
     "output_type": "execute_result"
    }
   ],
   "source": [
    "import sys\n",
    "sys.version"
   ]
  },
  {
   "cell_type": "code",
   "execution_count": 3,
   "id": "891ef1d9",
   "metadata": {
    "ExecuteTime": {
     "end_time": "2021-05-29T08:20:35.653908Z",
     "start_time": "2021-05-29T08:20:35.650284Z"
    }
   },
   "outputs": [
    {
     "data": {
      "text/plain": [
       "('1.18.5', '2.5.0', '2.5.0')"
      ]
     },
     "execution_count": 3,
     "metadata": {},
     "output_type": "execute_result"
    }
   ],
   "source": [
    "np.__version__, tf.__version__, keras.__version__"
   ]
  },
  {
   "cell_type": "markdown",
   "id": "11bc2c35",
   "metadata": {},
   "source": [
    "Download the data"
   ]
  },
  {
   "cell_type": "code",
   "execution_count": 4,
   "id": "79d6c241",
   "metadata": {
    "ExecuteTime": {
     "end_time": "2021-05-29T08:20:38.421556Z",
     "start_time": "2021-05-29T08:20:35.655629Z"
    }
   },
   "outputs": [
    {
     "data": {
      "text/plain": [
       "['Archive:  fra-eng.zip',\n",
       " 'replace _about.txt? [y]es, [n]o, [A]ll, [N]one, [r]ename:  NULL',\n",
       " '(EOF or read error, treating as \"[N]one\" ...)',\n",
       " '  inflating: fra.txt                 ']"
      ]
     },
     "execution_count": 4,
     "metadata": {},
     "output_type": "execute_result"
    }
   ],
   "source": [
    "!!curl -O http://www.manythings.org/anki/fra-eng.zip\n",
    "!!unzip fra-eng.zip"
   ]
  },
  {
   "cell_type": "markdown",
   "id": "dc5fe261",
   "metadata": {},
   "source": [
    "Configuration"
   ]
  },
  {
   "cell_type": "code",
   "execution_count": 5,
   "id": "f1122813",
   "metadata": {
    "ExecuteTime": {
     "end_time": "2021-05-29T08:20:38.427963Z",
     "start_time": "2021-05-29T08:20:38.423497Z"
    }
   },
   "outputs": [],
   "source": [
    "batch_size = 64  # Batch size for training\n",
    "epochs = 100  # Number of epochs to train for\n",
    "latent_dim = 256  # Latent dimensionality of the encoding space\n",
    "num_samples = 10000  # Number of samples to train on\n",
    "# Path to the data txt file on disk\n",
    "data_path = \"fra.txt\""
   ]
  },
  {
   "cell_type": "markdown",
   "id": "0bfe54f3",
   "metadata": {},
   "source": [
    "Prepare the data"
   ]
  },
  {
   "cell_type": "code",
   "execution_count": 6,
   "id": "a15b0e57",
   "metadata": {
    "ExecuteTime": {
     "end_time": "2021-05-29T08:20:38.599474Z",
     "start_time": "2021-05-29T08:20:38.430956Z"
    }
   },
   "outputs": [],
   "source": [
    "input_texts = []\n",
    "target_texts = []\n",
    "input_characters = set()\n",
    "target_characters = set()\n",
    "with open(data_path, \"r\", encoding=\"utf-8\") as f:\n",
    "    lines = f.read().split(\"\\n\")\n",
    "for line in lines[: min(num_samples, len(lines) - 1)]:\n",
    "    input_text, target_text, _ = line.split(\"\\t\")\n",
    "    # We use \"tab\" as the \"start sequence\" character\n",
    "    # for the targets, and \"\\n\" as \"end sequence\" character.\n",
    "    target_text = \"\\t\" + target_text + \"\\n\"\n",
    "    input_texts.append(input_text)\n",
    "    target_texts.append(target_text)\n",
    "    for char in input_text:\n",
    "        input_characters.add(char)\n",
    "    for char in target_text:\n",
    "        target_characters.add(char)"
   ]
  },
  {
   "cell_type": "code",
   "execution_count": 7,
   "id": "71297067",
   "metadata": {
    "ExecuteTime": {
     "end_time": "2021-05-29T08:20:38.610165Z",
     "start_time": "2021-05-29T08:20:38.605115Z"
    }
   },
   "outputs": [],
   "source": [
    "input_characters = sorted(list(input_characters))\n",
    "target_characters = sorted(list(target_characters))\n",
    "num_encoder_tokens = len(input_characters)\n",
    "num_decoder_tokens = len(target_characters)\n",
    "max_encoder_seq_length = max([len(txt) for txt in input_texts])\n",
    "max_decoder_seq_length = max([len(txt) for txt in target_texts])"
   ]
  },
  {
   "cell_type": "code",
   "execution_count": 8,
   "id": "36f8b342",
   "metadata": {
    "ExecuteTime": {
     "end_time": "2021-05-29T08:20:38.617196Z",
     "start_time": "2021-05-29T08:20:38.612950Z"
    }
   },
   "outputs": [
    {
     "name": "stdout",
     "output_type": "stream",
     "text": [
      "Number of samples: 10000\n",
      "Number of unique input tokens: 71\n",
      "Number of unique output tokens: 93\n",
      "Max sequence length for inputs: 15\n",
      "Max sequence length for outputs: 59\n"
     ]
    }
   ],
   "source": [
    "print(\"Number of samples:\", len(input_texts))\n",
    "print(\"Number of unique input tokens:\", num_encoder_tokens)\n",
    "print(\"Number of unique output tokens:\", num_decoder_tokens)\n",
    "print(\"Max sequence length for inputs:\", max_encoder_seq_length)\n",
    "print(\"Max sequence length for outputs:\", max_decoder_seq_length)"
   ]
  },
  {
   "cell_type": "code",
   "execution_count": 9,
   "id": "65d3dc27",
   "metadata": {
    "ExecuteTime": {
     "end_time": "2021-05-29T08:20:38.622701Z",
     "start_time": "2021-05-29T08:20:38.619704Z"
    }
   },
   "outputs": [
    {
     "name": "stdout",
     "output_type": "stream",
     "text": [
      "[' ', '!', '\"', '$', '%', '&', \"'\", ',', '-', '.', '0', '1', '2', '3', '5', '7', '8', '9', ':', '?', 'A', 'B', 'C', 'D', 'E', 'F', 'G', 'H', 'I', 'J', 'K', 'L', 'M', 'N', 'O', 'P', 'Q', 'R', 'S', 'T', 'U', 'V', 'W', 'Y', 'a', 'b', 'c', 'd', 'e', 'f', 'g', 'h', 'i', 'j', 'k', 'l', 'm', 'n', 'o', 'p', 'q', 'r', 's', 't', 'u', 'v', 'w', 'x', 'y', 'z', 'é']\n"
     ]
    }
   ],
   "source": [
    "print(input_characters)"
   ]
  },
  {
   "cell_type": "code",
   "execution_count": 10,
   "id": "dc3d7b94",
   "metadata": {
    "ExecuteTime": {
     "end_time": "2021-05-29T08:20:38.628287Z",
     "start_time": "2021-05-29T08:20:38.624985Z"
    }
   },
   "outputs": [
    {
     "name": "stdout",
     "output_type": "stream",
     "text": [
      "['\\t', '\\n', ' ', '!', '$', '%', '&', \"'\", '(', ')', ',', '-', '.', '0', '1', '2', '3', '5', '8', '9', ':', '?', 'A', 'B', 'C', 'D', 'E', 'F', 'G', 'H', 'I', 'J', 'K', 'L', 'M', 'N', 'O', 'P', 'Q', 'R', 'S', 'T', 'U', 'V', 'Y', 'a', 'b', 'c', 'd', 'e', 'f', 'g', 'h', 'i', 'j', 'k', 'l', 'm', 'n', 'o', 'p', 'q', 'r', 's', 't', 'u', 'v', 'w', 'x', 'y', 'z', '\\xa0', '«', '»', 'À', 'Ç', 'É', 'Ê', 'à', 'â', 'ç', 'è', 'é', 'ê', 'î', 'ï', 'ô', 'ù', 'û', 'œ', '\\u2009', '’', '\\u202f']\n"
     ]
    }
   ],
   "source": [
    "print(target_characters)"
   ]
  },
  {
   "cell_type": "code",
   "execution_count": 11,
   "id": "5cd21b77",
   "metadata": {
    "ExecuteTime": {
     "end_time": "2021-05-29T08:20:38.638478Z",
     "start_time": "2021-05-29T08:20:38.631500Z"
    }
   },
   "outputs": [
    {
     "name": "stdout",
     "output_type": "stream",
     "text": [
      "I got carded. \tOn m'a demandé ma carte d'identité pour vérifier mon âge.\n",
      "\n"
     ]
    }
   ],
   "source": [
    "for i in range(len(input_texts)):\n",
    "    if len(target_texts[i]) == 59:\n",
    "        print(input_texts[i], target_texts[i])"
   ]
  },
  {
   "cell_type": "code",
   "execution_count": 12,
   "id": "2fc69e74",
   "metadata": {
    "ExecuteTime": {
     "end_time": "2021-05-29T08:20:38.648383Z",
     "start_time": "2021-05-29T08:20:38.640435Z"
    }
   },
   "outputs": [],
   "source": [
    "input_token_index = dict([(char, i) for i, char in enumerate(input_characters)])\n",
    "target_token_index = dict([(char, i) for i, char in enumerate(target_characters)])\n",
    "\n",
    "encoder_input_data = np.zeros(\n",
    "    (len(input_texts), max_encoder_seq_length, num_encoder_tokens), dtype=\"float32\"\n",
    ")\n",
    "\n",
    "decoder_input_data = np.zeros(\n",
    "    (len(input_texts), max_decoder_seq_length, num_decoder_tokens), dtype=\"float32\"\n",
    ")\n",
    "\n",
    "decoder_target_data = np.zeros(\n",
    "    (len(input_texts), max_decoder_seq_length, num_decoder_tokens), dtype=\"float32\"\n",
    ")"
   ]
  },
  {
   "cell_type": "code",
   "execution_count": 13,
   "id": "fdc4581e",
   "metadata": {
    "ExecuteTime": {
     "end_time": "2021-05-29T08:20:38.997828Z",
     "start_time": "2021-05-29T08:20:38.650683Z"
    }
   },
   "outputs": [],
   "source": [
    "for i, (input_text, target_text) in enumerate(zip(input_texts, target_texts)):\n",
    "    for t, char in enumerate(input_text):\n",
    "        encoder_input_data[i, t, input_token_index[char]] = 1.0\n",
    "    encoder_input_data[i, t + 1 :, input_token_index[\" \"]] = 1.0\n",
    "    for t, char in enumerate(target_text):\n",
    "        # decoder_target_data is ahead of decoder_input_data by one timestep\n",
    "        decoder_input_data[i, t, target_token_index[char]] = 1.0\n",
    "        if t > 0:\n",
    "            # decoder_target_data will be ahead by one timestep\n",
    "            # and will not include the start character.\n",
    "            decoder_target_data[i, t - 1, target_token_index[char]] = 1.0\n",
    "    decoder_input_data[i, t + 1 :, target_token_index[\" \"]] = 1.0\n",
    "    decoder_target_data[i, t:, target_token_index[\" \"]] = 1.0"
   ]
  },
  {
   "cell_type": "markdown",
   "id": "6fb24701",
   "metadata": {},
   "source": [
    "Build the model"
   ]
  },
  {
   "cell_type": "code",
   "execution_count": 14,
   "id": "aa563eeb",
   "metadata": {
    "ExecuteTime": {
     "end_time": "2021-05-29T08:20:39.234594Z",
     "start_time": "2021-05-29T08:20:38.999901Z"
    }
   },
   "outputs": [],
   "source": [
    "# Define an input sequence and process it.\n",
    "encoder_inputs = keras.Input(shape=(None, num_encoder_tokens))\n",
    "encoder = keras.layers.LSTM(latent_dim, return_state=True)\n",
    "encoder_outputs, state_h, state_c = encoder(encoder_inputs)"
   ]
  },
  {
   "cell_type": "code",
   "execution_count": 15,
   "id": "95c74658",
   "metadata": {
    "ExecuteTime": {
     "end_time": "2021-05-29T08:20:39.238802Z",
     "start_time": "2021-05-29T08:20:39.236397Z"
    }
   },
   "outputs": [],
   "source": [
    "# We discard `encoder_outputs` and only keep the states.\n",
    "encoder_states = [state_h, state_c]"
   ]
  },
  {
   "cell_type": "code",
   "execution_count": 16,
   "id": "6dd46b1b",
   "metadata": {
    "ExecuteTime": {
     "end_time": "2021-05-29T08:20:39.244340Z",
     "start_time": "2021-05-29T08:20:39.240802Z"
    }
   },
   "outputs": [],
   "source": [
    "# Set up the decoder, using `encoder_states` as initial state.\n",
    "decoder_inputs = keras.Input(shape=(None, num_decoder_tokens))"
   ]
  },
  {
   "cell_type": "code",
   "execution_count": 17,
   "id": "fd8f3d3f",
   "metadata": {
    "ExecuteTime": {
     "end_time": "2021-05-29T08:20:39.455825Z",
     "start_time": "2021-05-29T08:20:39.246225Z"
    }
   },
   "outputs": [],
   "source": [
    "# We set up our decoder to return full output sequences,\n",
    "# and to return internal states as well. We don't use the\n",
    "# return states in the training model, but we will use them in inference.\n",
    "decoder_lstm = keras.layers.LSTM(latent_dim, return_sequences=True, return_state=True)\n",
    "decoder_outputs, _, _ = decoder_lstm(decoder_inputs, initial_state=encoder_states)\n",
    "decoder_dense = keras.layers.Dense(num_decoder_tokens, activation=\"softmax\")\n",
    "decoder_outputs = decoder_dense(decoder_outputs)"
   ]
  },
  {
   "cell_type": "code",
   "execution_count": 18,
   "id": "ec877161",
   "metadata": {
    "ExecuteTime": {
     "end_time": "2021-05-29T08:20:39.464612Z",
     "start_time": "2021-05-29T08:20:39.457971Z"
    }
   },
   "outputs": [],
   "source": [
    "# Define the model that will turn\n",
    "# `encoder_input_data` & `decoder_input_data` into `decoder_target_data`\n",
    "model = keras.Model([encoder_inputs, decoder_inputs], decoder_outputs)"
   ]
  },
  {
   "cell_type": "code",
   "execution_count": 19,
   "id": "69e49684",
   "metadata": {
    "ExecuteTime": {
     "end_time": "2021-05-29T08:20:39.471274Z",
     "start_time": "2021-05-29T08:20:39.466675Z"
    }
   },
   "outputs": [
    {
     "name": "stdout",
     "output_type": "stream",
     "text": [
      "Model: \"model\"\n",
      "__________________________________________________________________________________________________\n",
      "Layer (type)                    Output Shape         Param #     Connected to                     \n",
      "==================================================================================================\n",
      "input_1 (InputLayer)            [(None, None, 71)]   0                                            \n",
      "__________________________________________________________________________________________________\n",
      "input_2 (InputLayer)            [(None, None, 93)]   0                                            \n",
      "__________________________________________________________________________________________________\n",
      "lstm (LSTM)                     [(None, 256), (None, 335872      input_1[0][0]                    \n",
      "__________________________________________________________________________________________________\n",
      "lstm_1 (LSTM)                   [(None, None, 256),  358400      input_2[0][0]                    \n",
      "                                                                 lstm[0][1]                       \n",
      "                                                                 lstm[0][2]                       \n",
      "__________________________________________________________________________________________________\n",
      "dense (Dense)                   (None, None, 93)     23901       lstm_1[0][0]                     \n",
      "==================================================================================================\n",
      "Total params: 718,173\n",
      "Trainable params: 718,173\n",
      "Non-trainable params: 0\n",
      "__________________________________________________________________________________________________\n"
     ]
    }
   ],
   "source": [
    "model.summary()"
   ]
  },
  {
   "cell_type": "markdown",
   "id": "a66c3012",
   "metadata": {},
   "source": [
    "Train the model"
   ]
  },
  {
   "cell_type": "code",
   "execution_count": 20,
   "id": "f608139b",
   "metadata": {
    "ExecuteTime": {
     "end_time": "2021-05-29T08:20:39.482352Z",
     "start_time": "2021-05-29T08:20:39.473623Z"
    },
    "scrolled": true
   },
   "outputs": [],
   "source": [
    "model.compile(\n",
    "    optimizer=\"rmsprop\", loss=\"categorical_crossentropy\", metrics=[\"accuracy\"]\n",
    ")"
   ]
  },
  {
   "cell_type": "code",
   "execution_count": 21,
   "id": "e29e96e9",
   "metadata": {
    "ExecuteTime": {
     "end_time": "2021-05-29T08:20:39.863889Z",
     "start_time": "2021-05-29T08:20:39.483966Z"
    }
   },
   "outputs": [
    {
     "data": {
      "image/png": "[encoded data removed]",
      "text/plain": [
       "<IPython.core.display.Image object>"
      ]
     },
     "execution_count": 21,
     "metadata": {},
     "output_type": "execute_result"
    }
   ],
   "source": [
    "keras.utils.plot_model(model)"
   ]
  },
  {
   "cell_type": "code",
   "execution_count": 22,
   "id": "52435143",
   "metadata": {
    "ExecuteTime": {
     "end_time": "2021-05-29T09:04:09.248977Z",
     "start_time": "2021-05-29T08:20:39.870773Z"
    }
   },
   "outputs": [
    {
     "name": "stdout",
     "output_type": "stream",
     "text": [
      "Epoch 1/100\n",
      "WARNING:tensorflow:AutoGraph could not transform <function Model.make_train_function.<locals>.train_function at 0x7fca36872170> and will run it as-is.\n",
      "Please report this to the TensorFlow team. When filing the bug, set the verbosity to 10 (on Linux, `export AUTOGRAPH_VERBOSITY=10`) and attach the full output.\n",
      "Cause: 'arguments' object has no attribute 'posonlyargs'\n",
      "To silence this warning, decorate the function with @tf.autograph.experimental.do_not_convert\n",
      "WARNING: AutoGraph could not transform <function Model.make_train_function.<locals>.train_function at 0x7fca36872170> and will run it as-is.\n",
      "Please report this to the TensorFlow team. When filing the bug, set the verbosity to 10 (on Linux, `export AUTOGRAPH_VERBOSITY=10`) and attach the full output.\n",
      "Cause: 'arguments' object has no attribute 'posonlyargs'\n",
      "To silence this warning, decorate the function with @tf.autograph.experimental.do_not_convert\n",
      "125/125 [==============================] - ETA: 0s - loss: 1.1569 - accuracy: 0.7339WARNING:tensorflow:AutoGraph could not transform <function Model.make_test_function.<locals>.test_function at 0x7fca38b24b00> and will run it as-is.\n",
      "Please report this to the TensorFlow team. When filing the bug, set the verbosity to 10 (on Linux, `export AUTOGRAPH_VERBOSITY=10`) and attach the full output.\n",
      "Cause: 'arguments' object has no attribute 'posonlyargs'\n",
      "To silence this warning, decorate the function with @tf.autograph.experimental.do_not_convert\n",
      "WARNING: AutoGraph could not transform <function Model.make_test_function.<locals>.test_function at 0x7fca38b24b00> and will run it as-is.\n",
      "Please report this to the TensorFlow team. When filing the bug, set the verbosity to 10 (on Linux, `export AUTOGRAPH_VERBOSITY=10`) and attach the full output.\n",
      "Cause: 'arguments' object has no attribute 'posonlyargs'\n",
      "To silence this warning, decorate the function with @tf.autograph.experimental.do_not_convert\n",
      "125/125 [==============================] - 22s 161ms/step - loss: 1.1569 - accuracy: 0.7339 - val_loss: 1.0579 - val_accuracy: 0.7092\n",
      "Epoch 2/100\n",
      "125/125 [==============================] - 21s 169ms/step - loss: 0.8328 - accuracy: 0.7747 - val_loss: 0.8597 - val_accuracy: 0.7675\n",
      "Epoch 3/100\n",
      "125/125 [==============================] - 22s 173ms/step - loss: 0.6868 - accuracy: 0.8083 - val_loss: 0.7027 - val_accuracy: 0.7979\n",
      "Epoch 4/100\n",
      "125/125 [==============================] - 21s 169ms/step - loss: 0.5836 - accuracy: 0.8311 - val_loss: 0.6412 - val_accuracy: 0.8105\n",
      "Epoch 5/100\n",
      "125/125 [==============================] - 22s 174ms/step - loss: 0.5336 - accuracy: 0.8437 - val_loss: 0.6021 - val_accuracy: 0.8223\n",
      "Epoch 6/100\n",
      "125/125 [==============================] - 22s 172ms/step - loss: 0.4975 - accuracy: 0.8533 - val_loss: 0.5656 - val_accuracy: 0.8347\n",
      "Epoch 7/100\n",
      "125/125 [==============================] - 23s 187ms/step - loss: 0.4694 - accuracy: 0.8608 - val_loss: 0.5429 - val_accuracy: 0.8398\n",
      "Epoch 8/100\n",
      "125/125 [==============================] - 24s 196ms/step - loss: 0.4463 - accuracy: 0.8670 - val_loss: 0.5267 - val_accuracy: 0.8434\n",
      "Epoch 9/100\n",
      "125/125 [==============================] - 26s 206ms/step - loss: 0.4254 - accuracy: 0.8729 - val_loss: 0.5122 - val_accuracy: 0.8486\n",
      "Epoch 10/100\n",
      "125/125 [==============================] - 26s 207ms/step - loss: 0.4068 - accuracy: 0.8781 - val_loss: 0.4998 - val_accuracy: 0.8508\n",
      "Epoch 11/100\n",
      "125/125 [==============================] - 25s 201ms/step - loss: 0.3895 - accuracy: 0.8830 - val_loss: 0.4903 - val_accuracy: 0.8550\n",
      "Epoch 12/100\n",
      "125/125 [==============================] - 25s 200ms/step - loss: 0.3739 - accuracy: 0.8876 - val_loss: 0.4765 - val_accuracy: 0.8597\n",
      "Epoch 13/100\n",
      "125/125 [==============================] - 26s 206ms/step - loss: 0.3586 - accuracy: 0.8924 - val_loss: 0.4743 - val_accuracy: 0.8600\n",
      "Epoch 14/100\n",
      "125/125 [==============================] - 25s 202ms/step - loss: 0.3449 - accuracy: 0.8961 - val_loss: 0.4659 - val_accuracy: 0.8633\n",
      "Epoch 15/100\n",
      "125/125 [==============================] - 25s 204ms/step - loss: 0.3316 - accuracy: 0.9002 - val_loss: 0.4609 - val_accuracy: 0.8653\n",
      "Epoch 16/100\n",
      "125/125 [==============================] - 25s 203ms/step - loss: 0.3192 - accuracy: 0.9039 - val_loss: 0.4598 - val_accuracy: 0.8667\n",
      "Epoch 17/100\n",
      "125/125 [==============================] - 25s 196ms/step - loss: 0.3071 - accuracy: 0.9074 - val_loss: 0.4553 - val_accuracy: 0.8684\n",
      "Epoch 18/100\n",
      "125/125 [==============================] - 25s 199ms/step - loss: 0.2964 - accuracy: 0.9107 - val_loss: 0.4490 - val_accuracy: 0.8699\n",
      "Epoch 19/100\n",
      "125/125 [==============================] - 25s 200ms/step - loss: 0.2856 - accuracy: 0.9136 - val_loss: 0.4473 - val_accuracy: 0.8711\n",
      "Epoch 20/100\n",
      "125/125 [==============================] - 26s 206ms/step - loss: 0.2753 - accuracy: 0.9169 - val_loss: 0.4488 - val_accuracy: 0.8719\n",
      "Epoch 21/100\n",
      "125/125 [==============================] - 25s 203ms/step - loss: 0.2654 - accuracy: 0.9198 - val_loss: 0.4508 - val_accuracy: 0.8710\n",
      "Epoch 22/100\n",
      "125/125 [==============================] - 26s 209ms/step - loss: 0.2558 - accuracy: 0.9225 - val_loss: 0.4492 - val_accuracy: 0.8731\n",
      "Epoch 23/100\n",
      "125/125 [==============================] - 25s 201ms/step - loss: 0.2469 - accuracy: 0.9253 - val_loss: 0.4491 - val_accuracy: 0.8745\n",
      "Epoch 24/100\n",
      "125/125 [==============================] - 25s 203ms/step - loss: 0.2377 - accuracy: 0.9282 - val_loss: 0.4498 - val_accuracy: 0.8742\n",
      "Epoch 25/100\n",
      "125/125 [==============================] - 26s 204ms/step - loss: 0.2308 - accuracy: 0.9299 - val_loss: 0.4517 - val_accuracy: 0.8749\n",
      "Epoch 26/100\n",
      "125/125 [==============================] - 25s 203ms/step - loss: 0.2227 - accuracy: 0.9326 - val_loss: 0.4565 - val_accuracy: 0.8743\n",
      "Epoch 27/100\n",
      "125/125 [==============================] - 25s 201ms/step - loss: 0.2152 - accuracy: 0.9347 - val_loss: 0.4555 - val_accuracy: 0.8746\n",
      "Epoch 28/100\n",
      "125/125 [==============================] - 25s 203ms/step - loss: 0.2078 - accuracy: 0.9368 - val_loss: 0.4582 - val_accuracy: 0.8755\n",
      "Epoch 29/100\n",
      "125/125 [==============================] - 26s 209ms/step - loss: 0.2011 - accuracy: 0.9389 - val_loss: 0.4632 - val_accuracy: 0.8755\n",
      "Epoch 30/100\n",
      "125/125 [==============================] - 26s 210ms/step - loss: 0.1942 - accuracy: 0.9409 - val_loss: 0.4681 - val_accuracy: 0.8745\n",
      "Epoch 31/100\n",
      "125/125 [==============================] - 27s 215ms/step - loss: 0.1882 - accuracy: 0.9425 - val_loss: 0.4790 - val_accuracy: 0.8727\n",
      "Epoch 32/100\n",
      "125/125 [==============================] - 26s 211ms/step - loss: 0.1822 - accuracy: 0.9445 - val_loss: 0.4747 - val_accuracy: 0.8746\n",
      "Epoch 33/100\n",
      "125/125 [==============================] - 27s 215ms/step - loss: 0.1763 - accuracy: 0.9459 - val_loss: 0.4772 - val_accuracy: 0.8756\n",
      "Epoch 34/100\n",
      "125/125 [==============================] - 27s 215ms/step - loss: 0.1708 - accuracy: 0.9478 - val_loss: 0.4843 - val_accuracy: 0.8750\n",
      "Epoch 35/100\n",
      "125/125 [==============================] - 26s 212ms/step - loss: 0.1655 - accuracy: 0.9493 - val_loss: 0.4836 - val_accuracy: 0.8758\n",
      "Epoch 36/100\n",
      "125/125 [==============================] - 26s 210ms/step - loss: 0.1603 - accuracy: 0.9510 - val_loss: 0.4960 - val_accuracy: 0.8739\n",
      "Epoch 37/100\n",
      "125/125 [==============================] - 26s 209ms/step - loss: 0.1558 - accuracy: 0.9523 - val_loss: 0.4897 - val_accuracy: 0.8758\n",
      "Epoch 38/100\n",
      "125/125 [==============================] - 26s 208ms/step - loss: 0.1509 - accuracy: 0.9539 - val_loss: 0.4958 - val_accuracy: 0.8760\n",
      "Epoch 39/100\n",
      "125/125 [==============================] - 26s 209ms/step - loss: 0.1468 - accuracy: 0.9548 - val_loss: 0.5035 - val_accuracy: 0.8759\n",
      "Epoch 40/100\n",
      "125/125 [==============================] - 26s 207ms/step - loss: 0.1418 - accuracy: 0.9565 - val_loss: 0.5054 - val_accuracy: 0.8751\n",
      "Epoch 41/100\n",
      "125/125 [==============================] - 28s 224ms/step - loss: 0.1379 - accuracy: 0.9575 - val_loss: 0.5148 - val_accuracy: 0.8748\n",
      "Epoch 42/100\n",
      "125/125 [==============================] - 27s 214ms/step - loss: 0.1343 - accuracy: 0.9587 - val_loss: 0.5180 - val_accuracy: 0.8751\n",
      "Epoch 43/100\n",
      "125/125 [==============================] - 27s 216ms/step - loss: 0.1306 - accuracy: 0.9597 - val_loss: 0.5269 - val_accuracy: 0.8748\n"
     ]
    },
    {
     "name": "stdout",
     "output_type": "stream",
     "text": [
      "Epoch 44/100\n",
      "125/125 [==============================] - 28s 222ms/step - loss: 0.1269 - accuracy: 0.9609 - val_loss: 0.5275 - val_accuracy: 0.8747\n",
      "Epoch 45/100\n",
      "125/125 [==============================] - 26s 208ms/step - loss: 0.1239 - accuracy: 0.9616 - val_loss: 0.5315 - val_accuracy: 0.8748\n",
      "Epoch 46/100\n",
      "125/125 [==============================] - 26s 205ms/step - loss: 0.1203 - accuracy: 0.9628 - val_loss: 0.5405 - val_accuracy: 0.8734\n",
      "Epoch 47/100\n",
      "125/125 [==============================] - 26s 207ms/step - loss: 0.1171 - accuracy: 0.9635 - val_loss: 0.5453 - val_accuracy: 0.8745\n",
      "Epoch 48/100\n",
      "125/125 [==============================] - 26s 209ms/step - loss: 0.1145 - accuracy: 0.9647 - val_loss: 0.5461 - val_accuracy: 0.8746\n",
      "Epoch 49/100\n",
      "125/125 [==============================] - 26s 205ms/step - loss: 0.1112 - accuracy: 0.9656 - val_loss: 0.5537 - val_accuracy: 0.8743\n",
      "Epoch 50/100\n",
      "125/125 [==============================] - 25s 203ms/step - loss: 0.1089 - accuracy: 0.9662 - val_loss: 0.5565 - val_accuracy: 0.8738\n",
      "Epoch 51/100\n",
      "125/125 [==============================] - 25s 200ms/step - loss: 0.1058 - accuracy: 0.9670 - val_loss: 0.5588 - val_accuracy: 0.8753\n",
      "Epoch 52/100\n",
      "125/125 [==============================] - 26s 205ms/step - loss: 0.1033 - accuracy: 0.9679 - val_loss: 0.5661 - val_accuracy: 0.8745\n",
      "Epoch 53/100\n",
      "125/125 [==============================] - 26s 204ms/step - loss: 0.1009 - accuracy: 0.9682 - val_loss: 0.5718 - val_accuracy: 0.8741\n",
      "Epoch 54/100\n",
      "125/125 [==============================] - 26s 210ms/step - loss: 0.0986 - accuracy: 0.9691 - val_loss: 0.5795 - val_accuracy: 0.8739\n",
      "Epoch 55/100\n",
      "125/125 [==============================] - 26s 206ms/step - loss: 0.0965 - accuracy: 0.9696 - val_loss: 0.5833 - val_accuracy: 0.8734\n",
      "Epoch 56/100\n",
      "125/125 [==============================] - 26s 211ms/step - loss: 0.0944 - accuracy: 0.9704 - val_loss: 0.5856 - val_accuracy: 0.8739\n",
      "Epoch 57/100\n",
      "125/125 [==============================] - 26s 211ms/step - loss: 0.0924 - accuracy: 0.9711 - val_loss: 0.5906 - val_accuracy: 0.8746\n",
      "Epoch 58/100\n",
      "125/125 [==============================] - 26s 205ms/step - loss: 0.0902 - accuracy: 0.9714 - val_loss: 0.5937 - val_accuracy: 0.8737\n",
      "Epoch 59/100\n",
      "125/125 [==============================] - 27s 218ms/step - loss: 0.0880 - accuracy: 0.9721 - val_loss: 0.6000 - val_accuracy: 0.8737\n",
      "Epoch 60/100\n",
      "125/125 [==============================] - 27s 214ms/step - loss: 0.0864 - accuracy: 0.9727 - val_loss: 0.6016 - val_accuracy: 0.8732\n",
      "Epoch 61/100\n",
      "125/125 [==============================] - 26s 211ms/step - loss: 0.0842 - accuracy: 0.9733 - val_loss: 0.6084 - val_accuracy: 0.8734\n",
      "Epoch 62/100\n",
      "125/125 [==============================] - 27s 214ms/step - loss: 0.0828 - accuracy: 0.9735 - val_loss: 0.6104 - val_accuracy: 0.8735\n",
      "Epoch 63/100\n",
      "125/125 [==============================] - 25s 201ms/step - loss: 0.0809 - accuracy: 0.9741 - val_loss: 0.6246 - val_accuracy: 0.8729\n",
      "Epoch 64/100\n",
      "125/125 [==============================] - 26s 209ms/step - loss: 0.0794 - accuracy: 0.9746 - val_loss: 0.6158 - val_accuracy: 0.8743\n",
      "Epoch 65/100\n",
      "125/125 [==============================] - 26s 210ms/step - loss: 0.0776 - accuracy: 0.9748 - val_loss: 0.6224 - val_accuracy: 0.8734\n",
      "Epoch 66/100\n",
      "125/125 [==============================] - 25s 204ms/step - loss: 0.0760 - accuracy: 0.9753 - val_loss: 0.6377 - val_accuracy: 0.8716\n",
      "Epoch 67/100\n",
      "125/125 [==============================] - 26s 207ms/step - loss: 0.0748 - accuracy: 0.9761 - val_loss: 0.6319 - val_accuracy: 0.8734\n",
      "Epoch 68/100\n",
      "125/125 [==============================] - 26s 208ms/step - loss: 0.0728 - accuracy: 0.9765 - val_loss: 0.6347 - val_accuracy: 0.8741\n",
      "Epoch 69/100\n",
      "125/125 [==============================] - 25s 201ms/step - loss: 0.0721 - accuracy: 0.9765 - val_loss: 0.6379 - val_accuracy: 0.8735\n",
      "Epoch 70/100\n",
      "125/125 [==============================] - 26s 208ms/step - loss: 0.0703 - accuracy: 0.9771 - val_loss: 0.6429 - val_accuracy: 0.8735\n",
      "Epoch 71/100\n",
      "125/125 [==============================] - 26s 209ms/step - loss: 0.0692 - accuracy: 0.9773 - val_loss: 0.6552 - val_accuracy: 0.8734\n",
      "Epoch 72/100\n",
      "125/125 [==============================] - 27s 213ms/step - loss: 0.0677 - accuracy: 0.9777 - val_loss: 0.6585 - val_accuracy: 0.8726\n",
      "Epoch 73/100\n",
      "125/125 [==============================] - 26s 209ms/step - loss: 0.0667 - accuracy: 0.9781 - val_loss: 0.6619 - val_accuracy: 0.8737\n",
      "Epoch 74/100\n",
      "125/125 [==============================] - 27s 215ms/step - loss: 0.0653 - accuracy: 0.9783 - val_loss: 0.6605 - val_accuracy: 0.8738\n",
      "Epoch 75/100\n",
      "125/125 [==============================] - 27s 214ms/step - loss: 0.0644 - accuracy: 0.9788 - val_loss: 0.6665 - val_accuracy: 0.8739\n",
      "Epoch 76/100\n",
      "125/125 [==============================] - 29s 236ms/step - loss: 0.0629 - accuracy: 0.9792 - val_loss: 0.6672 - val_accuracy: 0.8734\n",
      "Epoch 77/100\n",
      "125/125 [==============================] - 29s 235ms/step - loss: 0.0620 - accuracy: 0.9794 - val_loss: 0.6787 - val_accuracy: 0.8719\n",
      "Epoch 78/100\n",
      "125/125 [==============================] - 31s 249ms/step - loss: 0.0610 - accuracy: 0.9795 - val_loss: 0.6849 - val_accuracy: 0.8726\n",
      "Epoch 79/100\n",
      "125/125 [==============================] - 29s 233ms/step - loss: 0.0596 - accuracy: 0.9801 - val_loss: 0.6851 - val_accuracy: 0.8723\n",
      "Epoch 80/100\n",
      "125/125 [==============================] - 28s 225ms/step - loss: 0.0590 - accuracy: 0.9800 - val_loss: 0.6839 - val_accuracy: 0.8728\n",
      "Epoch 81/100\n",
      "125/125 [==============================] - 27s 212ms/step - loss: 0.0582 - accuracy: 0.9803 - val_loss: 0.6925 - val_accuracy: 0.8723\n",
      "Epoch 82/100\n",
      "125/125 [==============================] - 27s 213ms/step - loss: 0.0567 - accuracy: 0.9807 - val_loss: 0.6996 - val_accuracy: 0.8720\n",
      "Epoch 83/100\n",
      "125/125 [==============================] - 26s 211ms/step - loss: 0.0561 - accuracy: 0.9811 - val_loss: 0.7042 - val_accuracy: 0.8716\n",
      "Epoch 84/100\n",
      "125/125 [==============================] - 27s 214ms/step - loss: 0.0553 - accuracy: 0.9812 - val_loss: 0.6989 - val_accuracy: 0.8732\n",
      "Epoch 85/100\n",
      "125/125 [==============================] - 26s 211ms/step - loss: 0.0546 - accuracy: 0.9813 - val_loss: 0.7063 - val_accuracy: 0.8725\n",
      "Epoch 86/100\n",
      "125/125 [==============================] - 28s 220ms/step - loss: 0.0535 - accuracy: 0.9817 - val_loss: 0.7118 - val_accuracy: 0.8722\n",
      "Epoch 87/100\n",
      "125/125 [==============================] - 27s 219ms/step - loss: 0.0528 - accuracy: 0.9818 - val_loss: 0.7134 - val_accuracy: 0.8718\n",
      "Epoch 88/100\n",
      "125/125 [==============================] - 27s 214ms/step - loss: 0.0522 - accuracy: 0.9820 - val_loss: 0.7190 - val_accuracy: 0.8727\n",
      "Epoch 89/100\n",
      "125/125 [==============================] - 28s 222ms/step - loss: 0.0514 - accuracy: 0.9821 - val_loss: 0.7130 - val_accuracy: 0.8718\n",
      "Epoch 90/100\n",
      "125/125 [==============================] - 27s 217ms/step - loss: 0.0504 - accuracy: 0.9825 - val_loss: 0.7262 - val_accuracy: 0.8718\n",
      "Epoch 91/100\n",
      "125/125 [==============================] - 27s 218ms/step - loss: 0.0498 - accuracy: 0.9829 - val_loss: 0.7280 - val_accuracy: 0.8721\n",
      "Epoch 92/100\n",
      "125/125 [==============================] - 27s 219ms/step - loss: 0.0496 - accuracy: 0.9826 - val_loss: 0.7270 - val_accuracy: 0.8719\n",
      "Epoch 93/100\n",
      "125/125 [==============================] - 30s 236ms/step - loss: 0.0486 - accuracy: 0.9831 - val_loss: 0.7276 - val_accuracy: 0.8724\n",
      "Epoch 94/100\n",
      "125/125 [==============================] - 29s 231ms/step - loss: 0.0479 - accuracy: 0.9833 - val_loss: 0.7340 - val_accuracy: 0.8726\n",
      "Epoch 95/100\n",
      "125/125 [==============================] - 28s 222ms/step - loss: 0.0477 - accuracy: 0.9833 - val_loss: 0.7336 - val_accuracy: 0.8718\n",
      "Epoch 96/100\n",
      "125/125 [==============================] - 27s 218ms/step - loss: 0.0466 - accuracy: 0.9836 - val_loss: 0.7391 - val_accuracy: 0.8725\n",
      "Epoch 97/100\n",
      "125/125 [==============================] - 27s 213ms/step - loss: 0.0463 - accuracy: 0.9837 - val_loss: 0.7430 - val_accuracy: 0.8724\n",
      "Epoch 98/100\n",
      "125/125 [==============================] - 27s 212ms/step - loss: 0.0457 - accuracy: 0.9839 - val_loss: 0.7444 - val_accuracy: 0.8721\n",
      "Epoch 99/100\n",
      "125/125 [==============================] - 28s 223ms/step - loss: 0.0452 - accuracy: 0.9839 - val_loss: 0.7506 - val_accuracy: 0.8717\n"
     ]
    },
    {
     "name": "stdout",
     "output_type": "stream",
     "text": [
      "Epoch 100/100\n",
      "125/125 [==============================] - 28s 223ms/step - loss: 0.0446 - accuracy: 0.9841 - val_loss: 0.7525 - val_accuracy: 0.8722\n"
     ]
    },
    {
     "data": {
      "text/plain": [
       "<tensorflow.python.keras.callbacks.History at 0x7fca372122d0>"
      ]
     },
     "execution_count": 22,
     "metadata": {},
     "output_type": "execute_result"
    }
   ],
   "source": [
    "model.fit(\n",
    "    [encoder_input_data, decoder_input_data],\n",
    "    decoder_target_data,\n",
    "    batch_size=batch_size,\n",
    "    epochs=epochs,\n",
    "    validation_split=0.2\n",
    ")"
   ]
  },
  {
   "cell_type": "code",
   "execution_count": 37,
   "id": "52932970",
   "metadata": {
    "ExecuteTime": {
     "end_time": "2021-05-29T09:04:34.983277Z",
     "start_time": "2021-05-29T09:04:34.952150Z"
    }
   },
   "outputs": [],
   "source": [
    "# Save model\n",
    "model.save(\"s2s_100epochs.h5\")"
   ]
  },
  {
   "cell_type": "code",
   "execution_count": 38,
   "id": "b4bc48fe",
   "metadata": {
    "ExecuteTime": {
     "end_time": "2021-05-29T09:04:35.447128Z",
     "start_time": "2021-05-29T09:04:34.988433Z"
    }
   },
   "outputs": [],
   "source": [
    "model = keras.models.load_model(\"s2s_100epochs.h5\")"
   ]
  },
  {
   "cell_type": "code",
   "execution_count": 25,
   "id": "ec49afa7",
   "metadata": {
    "ExecuteTime": {
     "end_time": "2021-05-29T09:04:10.099445Z",
     "start_time": "2021-05-29T09:04:10.092937Z"
    }
   },
   "outputs": [
    {
     "name": "stdout",
     "output_type": "stream",
     "text": [
      "Model: \"model\"\n",
      "__________________________________________________________________________________________________\n",
      "Layer (type)                    Output Shape         Param #     Connected to                     \n",
      "==================================================================================================\n",
      "input_1 (InputLayer)            [(None, None, 71)]   0                                            \n",
      "__________________________________________________________________________________________________\n",
      "input_2 (InputLayer)            [(None, None, 93)]   0                                            \n",
      "__________________________________________________________________________________________________\n",
      "lstm (LSTM)                     [(None, 256), (None, 335872      input_1[0][0]                    \n",
      "__________________________________________________________________________________________________\n",
      "lstm_1 (LSTM)                   [(None, None, 256),  358400      input_2[0][0]                    \n",
      "                                                                 lstm[0][1]                       \n",
      "                                                                 lstm[0][2]                       \n",
      "__________________________________________________________________________________________________\n",
      "dense (Dense)                   (None, None, 93)     23901       lstm_1[0][0]                     \n",
      "==================================================================================================\n",
      "Total params: 718,173\n",
      "Trainable params: 718,173\n",
      "Non-trainable params: 0\n",
      "__________________________________________________________________________________________________\n"
     ]
    }
   ],
   "source": [
    "model.summary()"
   ]
  },
  {
   "cell_type": "code",
   "execution_count": 26,
   "id": "31fd00af",
   "metadata": {
    "ExecuteTime": {
     "end_time": "2021-05-29T09:04:10.451777Z",
     "start_time": "2021-05-29T09:04:10.103298Z"
    }
   },
   "outputs": [],
   "source": [
    "encoder_inputs = model.input[0]  # input_1\n",
    "encoder_outputs, state_h_enc, state_c_enc = model.layers[2].output  # lstm_1\n",
    "encoder_states = [state_h_enc, state_c_enc]\n",
    "encoder_model = keras.Model(encoder_inputs, encoder_states)\n",
    "\n",
    "decoder_inputs = model.input[1]  # input_2\n",
    "decoder_state_input_h = keras.Input(shape=(latent_dim,), name=\"decoder_state_input_h\")\n",
    "decoder_state_input_c = keras.Input(shape=(latent_dim,), name=\"decoder_state_input_c\")\n",
    "decoder_states_inputs = [decoder_state_input_h, decoder_state_input_c]\n",
    "decoder_lstm = model.layers[3]\n",
    "decoder_outputs, state_h_dec, state_c_dec = decoder_lstm(\n",
    "    decoder_inputs, initial_state=decoder_states_inputs\n",
    ")\n",
    "decoder_states = [state_h_dec, state_c_dec]\n",
    "decoder_dense = model.layers[4]\n",
    "decoder_outputs = decoder_dense(decoder_outputs)\n",
    "decoder_model = keras.Model(\n",
    "    [decoder_inputs] + decoder_states_inputs, [decoder_outputs] + decoder_states\n",
    ")"
   ]
  },
  {
   "cell_type": "code",
   "execution_count": 27,
   "id": "20ccf363",
   "metadata": {
    "ExecuteTime": {
     "end_time": "2021-05-29T09:04:10.459398Z",
     "start_time": "2021-05-29T09:04:10.454925Z"
    }
   },
   "outputs": [],
   "source": [
    "# Reverse-lookup token index to decode sequences back to\n",
    "# something readable.\n",
    "reverse_input_char_index = dict((i, char) for char, i in input_token_index.items())\n",
    "reverse_target_char_index = dict((i, char) for char, i in target_token_index.items())"
   ]
  },
  {
   "cell_type": "code",
   "execution_count": 28,
   "id": "e3d83fef",
   "metadata": {
    "ExecuteTime": {
     "end_time": "2021-05-29T09:04:10.469707Z",
     "start_time": "2021-05-29T09:04:10.462296Z"
    }
   },
   "outputs": [],
   "source": [
    "def decode_sequence(input_seq):\n",
    "    # Encode the input as state vectors.\n",
    "    states_value = encoder_model.predict(input_seq)\n",
    "\n",
    "    # Generate empty target sequence of length 1.\n",
    "    target_seq = np.zeros((1, 1, num_decoder_tokens))\n",
    "    # Populate the first character of target sequence with the start character.\n",
    "    target_seq[0, 0, target_token_index[\"\\t\"]] = 1.0\n",
    "\n",
    "    # Sampling loop for a batch of sequences\n",
    "    # (to simplify, here we assume a batch of size 1).\n",
    "    stop_condition = False\n",
    "    decoded_sentence = \"\"\n",
    "    while not stop_condition:\n",
    "        output_tokens, h, c = decoder_model.predict([target_seq] + states_value)\n",
    "\n",
    "        # Sample a token\n",
    "        sampled_token_index = np.argmax(output_tokens[0, -1, :])\n",
    "        sampled_char = reverse_target_char_index[sampled_token_index]\n",
    "        decoded_sentence += sampled_char\n",
    "\n",
    "        # Exit condition: either hit max length\n",
    "        # or find stop character.\n",
    "        if sampled_char == \"\\n\" or len(decoded_sentence) > max_decoder_seq_length:\n",
    "            stop_condition = True\n",
    "\n",
    "        # Update the target sequence (of length 1).\n",
    "        target_seq = np.zeros((1, 1, num_decoder_tokens))\n",
    "        target_seq[0, 0, sampled_token_index] = 1.0\n",
    "\n",
    "        # Update states\n",
    "        states_value = [h, c]\n",
    "    return decoded_sentence"
   ]
  },
  {
   "cell_type": "code",
   "execution_count": 29,
   "id": "14ff20b1",
   "metadata": {
    "ExecuteTime": {
     "end_time": "2021-05-29T09:04:19.281975Z",
     "start_time": "2021-05-29T09:04:10.472258Z"
    }
   },
   "outputs": [
    {
     "name": "stdout",
     "output_type": "stream",
     "text": [
      "WARNING:tensorflow:AutoGraph could not transform <function Model.make_predict_function.<locals>.predict_function at 0x7fca36332950> and will run it as-is.\n",
      "Please report this to the TensorFlow team. When filing the bug, set the verbosity to 10 (on Linux, `export AUTOGRAPH_VERBOSITY=10`) and attach the full output.\n",
      "Cause: 'arguments' object has no attribute 'posonlyargs'\n",
      "To silence this warning, decorate the function with @tf.autograph.experimental.do_not_convert\n",
      "WARNING: AutoGraph could not transform <function Model.make_predict_function.<locals>.predict_function at 0x7fca36332950> and will run it as-is.\n",
      "Please report this to the TensorFlow team. When filing the bug, set the verbosity to 10 (on Linux, `export AUTOGRAPH_VERBOSITY=10`) and attach the full output.\n",
      "Cause: 'arguments' object has no attribute 'posonlyargs'\n",
      "To silence this warning, decorate the function with @tf.autograph.experimental.do_not_convert\n",
      "WARNING:tensorflow:AutoGraph could not transform <function Model.make_predict_function.<locals>.predict_function at 0x7fca36c7f950> and will run it as-is.\n",
      "Please report this to the TensorFlow team. When filing the bug, set the verbosity to 10 (on Linux, `export AUTOGRAPH_VERBOSITY=10`) and attach the full output.\n",
      "Cause: 'arguments' object has no attribute 'posonlyargs'\n",
      "To silence this warning, decorate the function with @tf.autograph.experimental.do_not_convert\n",
      "WARNING: AutoGraph could not transform <function Model.make_predict_function.<locals>.predict_function at 0x7fca36c7f950> and will run it as-is.\n",
      "Please report this to the TensorFlow team. When filing the bug, set the verbosity to 10 (on Linux, `export AUTOGRAPH_VERBOSITY=10`) and attach the full output.\n",
      "Cause: 'arguments' object has no attribute 'posonlyargs'\n",
      "To silence this warning, decorate the function with @tf.autograph.experimental.do_not_convert\n",
      "-\n",
      "Input sentence: Go.\n",
      "Decoded sentence: Bouge !\n",
      "\n",
      "-\n",
      "Input sentence: Go.\n",
      "Decoded sentence: Bouge !\n",
      "\n",
      "-\n",
      "Input sentence: Go.\n",
      "Decoded sentence: Bouge !\n",
      "\n",
      "-\n",
      "Input sentence: Hi.\n",
      "Decoded sentence: Salut.\n",
      "\n",
      "-\n",
      "Input sentence: Hi.\n",
      "Decoded sentence: Salut.\n",
      "\n",
      "-\n",
      "Input sentence: Run!\n",
      "Decoded sentence: Fuyez !\n",
      "\n",
      "-\n",
      "Input sentence: Run!\n",
      "Decoded sentence: Fuyez !\n",
      "\n",
      "-\n",
      "Input sentence: Run!\n",
      "Decoded sentence: Fuyez !\n",
      "\n",
      "-\n",
      "Input sentence: Run!\n",
      "Decoded sentence: Fuyez !\n",
      "\n",
      "-\n",
      "Input sentence: Run!\n",
      "Decoded sentence: Fuyez !\n",
      "\n",
      "-\n",
      "Input sentence: Run!\n",
      "Decoded sentence: Fuyez !\n",
      "\n",
      "-\n",
      "Input sentence: Run!\n",
      "Decoded sentence: Fuyez !\n",
      "\n",
      "-\n",
      "Input sentence: Run!\n",
      "Decoded sentence: Fuyez !\n",
      "\n",
      "-\n",
      "Input sentence: Run.\n",
      "Decoded sentence: Fuyez !\n",
      "\n",
      "-\n",
      "Input sentence: Run.\n",
      "Decoded sentence: Fuyez !\n",
      "\n",
      "-\n",
      "Input sentence: Run.\n",
      "Decoded sentence: Fuyez !\n",
      "\n",
      "-\n",
      "Input sentence: Run.\n",
      "Decoded sentence: Fuyez !\n",
      "\n",
      "-\n",
      "Input sentence: Run.\n",
      "Decoded sentence: Fuyez !\n",
      "\n",
      "-\n",
      "Input sentence: Run.\n",
      "Decoded sentence: Fuyez !\n",
      "\n",
      "-\n",
      "Input sentence: Run.\n",
      "Decoded sentence: Fuyez !\n",
      "\n"
     ]
    }
   ],
   "source": [
    "for seq_index in range(20):\n",
    "    # Take one sequence (part of the training set)\n",
    "    # for trying out decoding.\n",
    "    input_seq = encoder_input_data[seq_index : seq_index + 1]\n",
    "    decoded_sentence = decode_sequence(input_seq)\n",
    "    print(\"-\")\n",
    "    print(\"Input sentence:\", input_texts[seq_index])\n",
    "    print(\"Decoded sentence:\", decoded_sentence)"
   ]
  },
  {
   "cell_type": "code",
   "execution_count": 30,
   "id": "1e8f9b22",
   "metadata": {
    "ExecuteTime": {
     "end_time": "2021-05-29T09:04:19.750483Z",
     "start_time": "2021-05-29T09:04:19.284356Z"
    }
   },
   "outputs": [
    {
     "data": {
      "image/png": "[encoded data removed]",
      "text/plain": [
       "<IPython.core.display.Image object>"
      ]
     },
     "execution_count": 30,
     "metadata": {},
     "output_type": "execute_result"
    }
   ],
   "source": [
    "keras.utils.plot_model(model)"
   ]
  },
  {
   "cell_type": "code",
   "execution_count": 31,
   "id": "a158dd97",
   "metadata": {
    "ExecuteTime": {
     "end_time": "2021-05-29T09:04:20.229328Z",
     "start_time": "2021-05-29T09:04:19.752442Z"
    }
   },
   "outputs": [
    {
     "data": {
      "image/png": "[encoded data removed]",
      "text/plain": [
       "<IPython.core.display.Image object>"
      ]
     },
     "execution_count": 31,
     "metadata": {},
     "output_type": "execute_result"
    }
   ],
   "source": [
    "keras.utils.plot_model(decoder_model)"
   ]
  },
  {
   "cell_type": "code",
   "execution_count": 32,
   "id": "2f647142",
   "metadata": {
    "ExecuteTime": {
     "end_time": "2021-05-29T09:04:20.235798Z",
     "start_time": "2021-05-29T09:04:20.231485Z"
    }
   },
   "outputs": [
    {
     "data": {
      "text/plain": [
       "15"
      ]
     },
     "execution_count": 32,
     "metadata": {},
     "output_type": "execute_result"
    }
   ],
   "source": [
    "max_encoder_seq_length"
   ]
  },
  {
   "cell_type": "code",
   "execution_count": 33,
   "id": "2b491864",
   "metadata": {
    "ExecuteTime": {
     "end_time": "2021-05-29T09:04:20.242652Z",
     "start_time": "2021-05-29T09:04:20.238006Z"
    }
   },
   "outputs": [],
   "source": [
    "def encode_and_call(input_text):\n",
    "    encoder_input_data = np.zeros(\n",
    "        (1, max_encoder_seq_length, num_encoder_tokens), dtype=\"float32\"\n",
    "    )\n",
    "    for t, char in enumerate(input_text):\n",
    "        encoder_input_data[0, t, input_token_index[char]] = 1.0\n",
    "    encoder_input_data[0, t + 1 :, input_token_index[\" \"]] = 1.0\n",
    "\n",
    "    decoded_sentence = decode_sequence(encoder_input_data)\n",
    "    print(\"-\")\n",
    "    print(\"Input sentence:\", input_text)\n",
    "    print(\"Decoded sentence:\", decoded_sentence)"
   ]
  },
  {
   "cell_type": "code",
   "execution_count": 34,
   "id": "c9da657a",
   "metadata": {
    "ExecuteTime": {
     "end_time": "2021-05-29T09:04:20.635674Z",
     "start_time": "2021-05-29T09:04:20.244576Z"
    }
   },
   "outputs": [
    {
     "name": "stdout",
     "output_type": "stream",
     "text": [
      "-\n",
      "Input sentence: Hi!\n",
      "Decoded sentence: Salut !\n",
      "\n"
     ]
    }
   ],
   "source": [
    "encode_and_call(\"Hi!\")"
   ]
  },
  {
   "cell_type": "code",
   "execution_count": 35,
   "id": "42c9a22b",
   "metadata": {
    "ExecuteTime": {
     "end_time": "2021-05-29T09:04:21.546329Z",
     "start_time": "2021-05-29T09:04:20.637551Z"
    }
   },
   "outputs": [
    {
     "name": "stdout",
     "output_type": "stream",
     "text": [
      "-\n",
      "Input sentence: How are you?\n",
      "Decoded sentence: Comment allez-vous ?\n",
      "\n"
     ]
    }
   ],
   "source": [
    "encode_and_call(\"How are you?\")"
   ]
  },
  {
   "cell_type": "code",
   "execution_count": 36,
   "id": "647a88b6",
   "metadata": {
    "ExecuteTime": {
     "end_time": "2021-05-29T09:04:34.950236Z",
     "start_time": "2021-05-29T09:04:21.548339Z"
    }
   },
   "outputs": [
    {
     "name": "stdout",
     "output_type": "stream",
     "text": [
      "-\n",
      "Input sentence: Go!\n",
      "Decoded sentence: Au l'ardement !\n",
      "\n",
      "-\n",
      "Input sentence: Hi.\n",
      "Decoded sentence: Salut.\n",
      "\n",
      "-\n",
      "Input sentence: I go to school.\n",
      "Decoded sentence: Je pars au boulot.\n",
      "\n",
      "-\n",
      "Input sentence: School.\n",
      "Decoded sentence: Sersélez ça !\n",
      "\n",
      "-\n",
      "Input sentence: Run.\n",
      "Decoded sentence: Fuyez !\n",
      "\n",
      "-\n",
      "Input sentence: Go.\n",
      "Decoded sentence: Bouge !\n",
      "\n",
      "-\n",
      "Input sentence: March.\n",
      "Decoded sentence: Prenez vous énôle.\n",
      "\n",
      "-\n",
      "Input sentence: This is good.\n",
      "Decoded sentence: C'est de la nourriture.\n",
      "\n",
      "-\n",
      "Input sentence: Sky is blue.\n",
      "Decoded sentence: Détends-toi !\n",
      "\n",
      "-\n",
      "Input sentence: blue\n",
      "Decoded sentence: Il l'aide.\n",
      "\n",
      "-\n",
      "Input sentence: sky\n",
      "Decoded sentence: De vous ?\n",
      "\n",
      "-\n",
      "Input sentence: Go to school.\n",
      "Decoded sentence: Allez à l'école.\n",
      "\n",
      "-\n",
      "Input sentence: I Go to school.\n",
      "Decoded sentence: Il me faut partir.\n",
      "\n",
      "-\n",
      "Input sentence: I hate school.\n",
      "Decoded sentence: Je déteste l'école.\n",
      "\n",
      "-\n",
      "Input sentence: I quit smoking.\n",
      "Decoded sentence: J'arrive les chiens.\n",
      "\n",
      "-\n",
      "Input sentence: Does it work?\n",
      "Decoded sentence: Est-ce que ça maison ?\n",
      "\n",
      "-\n",
      "Input sentence: Does it hurt?\n",
      "Decoded sentence: Est-ce que ça fait mal ?\n",
      "\n",
      "-\n",
      "Input sentence: It hurts.\n",
      "Decoded sentence: Ça fait mal.\n",
      "\n",
      "-\n",
      "Input sentence: I'm weak.\n",
      "Decoded sentence: Je suis riche.\n",
      "\n",
      "-\n",
      "Input sentence: Tom is weak.\n",
      "Decoded sentence: Tom est derminé.\n",
      "\n"
     ]
    }
   ],
   "source": [
    "encode_and_call(\"Go!\")\n",
    "\n",
    "encode_and_call(\"Hi.\")\n",
    "\n",
    "encode_and_call(\"I go to school.\")\n",
    "\n",
    "encode_and_call(\"School.\")\n",
    "\n",
    "encode_and_call(\"Run.\")\n",
    "\n",
    "encode_and_call(\"Go.\")\n",
    "\n",
    "encode_and_call(\"March.\")\n",
    "\n",
    "encode_and_call(\"This is good.\")\n",
    "\n",
    "encode_and_call(\"Sky is blue.\")\n",
    "\n",
    "encode_and_call(\"blue\")\n",
    "\n",
    "encode_and_call(\"sky\")\n",
    "\n",
    "encode_and_call(\"Go to school.\")\n",
    "\n",
    "encode_and_call(\"I Go to school.\")\n",
    "\n",
    "encode_and_call(\"I hate school.\")\n",
    "\n",
    "encode_and_call(\"I quit smoking.\")\n",
    "\n",
    "encode_and_call(\"Does it work?\")\n",
    "\n",
    "encode_and_call(\"Does it hurt?\")\n",
    "\n",
    "encode_and_call(\"It hurts.\")\n",
    "\n",
    "encode_and_call(\"I'm weak.\")\n",
    "\n",
    "encode_and_call(\"Tom is weak.\")"
   ]
  },
  {
   "cell_type": "code",
   "execution_count": null,
   "id": "829776d1",
   "metadata": {},
   "outputs": [],
   "source": []
  }
 ],
 "metadata": {
  "kernelspec": {
   "display_name": "Python 3",
   "language": "python",
   "name": "python3"
  },
  "language_info": {
   "codemirror_mode": {
    "name": "ipython",
    "version": 3
   },
   "file_extension": ".py",
   "mimetype": "text/x-python",
   "name": "python",
   "nbconvert_exporter": "python",
   "pygments_lexer": "ipython3",
   "version": "3.7.10"
  }
 },
 "nbformat": 4,
 "nbformat_minor": 5
}
