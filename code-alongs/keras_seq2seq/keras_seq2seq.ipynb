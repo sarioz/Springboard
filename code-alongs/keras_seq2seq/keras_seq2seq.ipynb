{
 "cells": [
  {
   "cell_type": "markdown",
   "id": "26de5187",
   "metadata": {},
   "source": [
    "This is my enhanced codealong to https://keras.io/examples/nlp/lstm_seq2seq/ using my local Anaconda setup"
   ]
  },
  {
   "cell_type": "markdown",
   "id": "74ef03a1",
   "metadata": {},
   "source": [
    "Setup"
   ]
  },
  {
   "cell_type": "code",
   "execution_count": 1,
   "id": "0a5b3047",
   "metadata": {
    "ExecuteTime": {
     "end_time": "2021-06-03T10:23:22.899710Z",
     "start_time": "2021-06-03T10:23:20.558381Z"
    }
   },
   "outputs": [],
   "source": [
    "import numpy as np\n",
    "import tensorflow as tf\n",
    "from tensorflow import keras"
   ]
  },
  {
   "cell_type": "code",
   "execution_count": 2,
   "id": "be9b5b52",
   "metadata": {
    "ExecuteTime": {
     "end_time": "2021-06-03T10:23:22.911122Z",
     "start_time": "2021-06-03T10:23:22.901925Z"
    }
   },
   "outputs": [
    {
     "data": {
      "text/plain": [
       "'3.7.10 (default, Feb 26 2021, 10:16:00) \\n[Clang 10.0.0 ]'"
      ]
     },
     "execution_count": 2,
     "metadata": {},
     "output_type": "execute_result"
    }
   ],
   "source": [
    "import sys\n",
    "sys.version"
   ]
  },
  {
   "cell_type": "code",
   "execution_count": 3,
   "id": "891ef1d9",
   "metadata": {
    "ExecuteTime": {
     "end_time": "2021-06-03T10:23:22.920599Z",
     "start_time": "2021-06-03T10:23:22.915035Z"
    }
   },
   "outputs": [
    {
     "data": {
      "text/plain": [
       "('1.18.5', '2.5.0', '2.5.0')"
      ]
     },
     "execution_count": 3,
     "metadata": {},
     "output_type": "execute_result"
    }
   ],
   "source": [
    "np.__version__, tf.__version__, keras.__version__"
   ]
  },
  {
   "cell_type": "markdown",
   "id": "11bc2c35",
   "metadata": {},
   "source": [
    "Download the data"
   ]
  },
  {
   "cell_type": "code",
   "execution_count": 4,
   "id": "79d6c241",
   "metadata": {
    "ExecuteTime": {
     "end_time": "2021-05-29T08:20:38.421556Z",
     "start_time": "2021-05-29T08:20:35.655629Z"
    }
   },
   "outputs": [
    {
     "data": {
      "text/plain": [
       "['Archive:  fra-eng.zip',\n",
       " 'replace _about.txt? [y]es, [n]o, [A]ll, [N]one, [r]ename:  NULL',\n",
       " '(EOF or read error, treating as \"[N]one\" ...)',\n",
       " '  inflating: fra.txt                 ']"
      ]
     },
     "execution_count": 4,
     "metadata": {},
     "output_type": "execute_result"
    }
   ],
   "source": [
    "!!curl -O http://www.manythings.org/anki/fra-eng.zip\n",
    "!!unzip fra-eng.zip"
   ]
  },
  {
   "cell_type": "markdown",
   "id": "dc5fe261",
   "metadata": {},
   "source": [
    "Configuration"
   ]
  },
  {
   "cell_type": "code",
   "execution_count": 4,
   "id": "f1122813",
   "metadata": {
    "ExecuteTime": {
     "end_time": "2021-06-03T10:23:25.468305Z",
     "start_time": "2021-06-03T10:23:25.465421Z"
    }
   },
   "outputs": [],
   "source": [
    "batch_size = 64  # Batch size for training\n",
    "epochs = 100  # Number of epochs to train for\n",
    "latent_dim = 256  # Latent dimensionality of the encoding space\n",
    "num_samples = 10000  # Number of samples to train on\n",
    "# Path to the data txt file on disk\n",
    "data_path = \"fra.txt\""
   ]
  },
  {
   "cell_type": "markdown",
   "id": "0bfe54f3",
   "metadata": {},
   "source": [
    "Prepare the data"
   ]
  },
  {
   "cell_type": "code",
   "execution_count": 5,
   "id": "a15b0e57",
   "metadata": {
    "ExecuteTime": {
     "end_time": "2021-06-03T10:23:32.451818Z",
     "start_time": "2021-06-03T10:23:32.288414Z"
    }
   },
   "outputs": [],
   "source": [
    "input_texts = []\n",
    "target_texts = []\n",
    "input_characters = set()\n",
    "target_characters = set()\n",
    "with open(data_path, \"r\", encoding=\"utf-8\") as f:\n",
    "    lines = f.read().split(\"\\n\")\n",
    "for line in lines[: min(num_samples, len(lines) - 1)]:\n",
    "    input_text, target_text, _ = line.split(\"\\t\")\n",
    "    # We use \"tab\" as the \"start sequence\" character\n",
    "    # for the targets, and \"\\n\" as \"end sequence\" character.\n",
    "    target_text = \"\\t\" + target_text + \"\\n\"\n",
    "    input_texts.append(input_text)\n",
    "    target_texts.append(target_text)\n",
    "    for char in input_text:\n",
    "        input_characters.add(char)\n",
    "    for char in target_text:\n",
    "        target_characters.add(char)"
   ]
  },
  {
   "cell_type": "code",
   "execution_count": 6,
   "id": "71297067",
   "metadata": {
    "ExecuteTime": {
     "end_time": "2021-06-03T10:23:33.454654Z",
     "start_time": "2021-06-03T10:23:33.448684Z"
    }
   },
   "outputs": [],
   "source": [
    "input_characters = sorted(list(input_characters))\n",
    "target_characters = sorted(list(target_characters))\n",
    "num_encoder_tokens = len(input_characters)\n",
    "num_decoder_tokens = len(target_characters)\n",
    "max_encoder_seq_length = max([len(txt) for txt in input_texts])\n",
    "max_decoder_seq_length = max([len(txt) for txt in target_texts])"
   ]
  },
  {
   "cell_type": "code",
   "execution_count": 7,
   "id": "36f8b342",
   "metadata": {
    "ExecuteTime": {
     "end_time": "2021-06-03T10:23:34.196668Z",
     "start_time": "2021-06-03T10:23:34.192597Z"
    }
   },
   "outputs": [
    {
     "name": "stdout",
     "output_type": "stream",
     "text": [
      "Number of samples: 10000\n",
      "Number of unique input tokens: 71\n",
      "Number of unique output tokens: 93\n",
      "Max sequence length for inputs: 15\n",
      "Max sequence length for outputs: 59\n"
     ]
    }
   ],
   "source": [
    "print(\"Number of samples:\", len(input_texts))\n",
    "print(\"Number of unique input tokens:\", num_encoder_tokens)\n",
    "print(\"Number of unique output tokens:\", num_decoder_tokens)\n",
    "print(\"Max sequence length for inputs:\", max_encoder_seq_length)\n",
    "print(\"Max sequence length for outputs:\", max_decoder_seq_length)"
   ]
  },
  {
   "cell_type": "code",
   "execution_count": 8,
   "id": "65d3dc27",
   "metadata": {
    "ExecuteTime": {
     "end_time": "2021-06-03T10:23:34.666637Z",
     "start_time": "2021-06-03T10:23:34.662984Z"
    }
   },
   "outputs": [
    {
     "name": "stdout",
     "output_type": "stream",
     "text": [
      "[' ', '!', '\"', '$', '%', '&', \"'\", ',', '-', '.', '0', '1', '2', '3', '5', '7', '8', '9', ':', '?', 'A', 'B', 'C', 'D', 'E', 'F', 'G', 'H', 'I', 'J', 'K', 'L', 'M', 'N', 'O', 'P', 'Q', 'R', 'S', 'T', 'U', 'V', 'W', 'Y', 'a', 'b', 'c', 'd', 'e', 'f', 'g', 'h', 'i', 'j', 'k', 'l', 'm', 'n', 'o', 'p', 'q', 'r', 's', 't', 'u', 'v', 'w', 'x', 'y', 'z', 'é']\n"
     ]
    }
   ],
   "source": [
    "print(input_characters)"
   ]
  },
  {
   "cell_type": "code",
   "execution_count": 9,
   "id": "dc3d7b94",
   "metadata": {
    "ExecuteTime": {
     "end_time": "2021-06-03T10:23:35.274669Z",
     "start_time": "2021-06-03T10:23:35.271686Z"
    }
   },
   "outputs": [
    {
     "name": "stdout",
     "output_type": "stream",
     "text": [
      "['\\t', '\\n', ' ', '!', '$', '%', '&', \"'\", '(', ')', ',', '-', '.', '0', '1', '2', '3', '5', '8', '9', ':', '?', 'A', 'B', 'C', 'D', 'E', 'F', 'G', 'H', 'I', 'J', 'K', 'L', 'M', 'N', 'O', 'P', 'Q', 'R', 'S', 'T', 'U', 'V', 'Y', 'a', 'b', 'c', 'd', 'e', 'f', 'g', 'h', 'i', 'j', 'k', 'l', 'm', 'n', 'o', 'p', 'q', 'r', 's', 't', 'u', 'v', 'w', 'x', 'y', 'z', '\\xa0', '«', '»', 'À', 'Ç', 'É', 'Ê', 'à', 'â', 'ç', 'è', 'é', 'ê', 'î', 'ï', 'ô', 'ù', 'û', 'œ', '\\u2009', '’', '\\u202f']\n"
     ]
    }
   ],
   "source": [
    "print(target_characters)"
   ]
  },
  {
   "cell_type": "code",
   "execution_count": 10,
   "id": "5cd21b77",
   "metadata": {
    "ExecuteTime": {
     "end_time": "2021-06-03T10:23:35.813394Z",
     "start_time": "2021-06-03T10:23:35.807788Z"
    }
   },
   "outputs": [
    {
     "name": "stdout",
     "output_type": "stream",
     "text": [
      "I got carded. \tOn m'a demandé ma carte d'identité pour vérifier mon âge.\n",
      "\n"
     ]
    }
   ],
   "source": [
    "for i in range(len(input_texts)):\n",
    "    if len(target_texts[i]) == 59:\n",
    "        print(input_texts[i], target_texts[i])"
   ]
  },
  {
   "cell_type": "code",
   "execution_count": 11,
   "id": "2fc69e74",
   "metadata": {
    "ExecuteTime": {
     "end_time": "2021-06-03T10:23:36.435607Z",
     "start_time": "2021-06-03T10:23:36.423019Z"
    }
   },
   "outputs": [],
   "source": [
    "input_token_index = dict([(char, i) for i, char in enumerate(input_characters)])\n",
    "target_token_index = dict([(char, i) for i, char in enumerate(target_characters)])\n",
    "\n",
    "encoder_input_data = np.zeros(\n",
    "    (len(input_texts), max_encoder_seq_length, num_encoder_tokens), dtype=\"float32\"\n",
    ")\n",
    "\n",
    "decoder_input_data = np.zeros(\n",
    "    (len(input_texts), max_decoder_seq_length, num_decoder_tokens), dtype=\"float32\"\n",
    ")\n",
    "\n",
    "decoder_target_data = np.zeros(\n",
    "    (len(input_texts), max_decoder_seq_length, num_decoder_tokens), dtype=\"float32\"\n",
    ")"
   ]
  },
  {
   "cell_type": "code",
   "execution_count": 12,
   "id": "fdc4581e",
   "metadata": {
    "ExecuteTime": {
     "end_time": "2021-06-03T10:23:37.451050Z",
     "start_time": "2021-06-03T10:23:37.119732Z"
    }
   },
   "outputs": [],
   "source": [
    "for i, (input_text, target_text) in enumerate(zip(input_texts, target_texts)):\n",
    "    for t, char in enumerate(input_text):\n",
    "        encoder_input_data[i, t, input_token_index[char]] = 1.0\n",
    "    encoder_input_data[i, t + 1 :, input_token_index[\" \"]] = 1.0\n",
    "    for t, char in enumerate(target_text):\n",
    "        # decoder_target_data is ahead of decoder_input_data by one timestep\n",
    "        decoder_input_data[i, t, target_token_index[char]] = 1.0\n",
    "        if t > 0:\n",
    "            # decoder_target_data will be ahead by one timestep\n",
    "            # and will not include the start character.\n",
    "            decoder_target_data[i, t - 1, target_token_index[char]] = 1.0\n",
    "    decoder_input_data[i, t + 1 :, target_token_index[\" \"]] = 1.0\n",
    "    decoder_target_data[i, t:, target_token_index[\" \"]] = 1.0"
   ]
  },
  {
   "cell_type": "markdown",
   "id": "6fb24701",
   "metadata": {},
   "source": [
    "Build the model"
   ]
  },
  {
   "cell_type": "code",
   "execution_count": 13,
   "id": "aa563eeb",
   "metadata": {
    "ExecuteTime": {
     "end_time": "2021-06-03T10:23:39.072292Z",
     "start_time": "2021-06-03T10:23:38.855698Z"
    }
   },
   "outputs": [],
   "source": [
    "# Define an input sequence and process it.\n",
    "encoder_inputs = keras.Input(shape=(None, num_encoder_tokens))\n",
    "encoder = keras.layers.LSTM(latent_dim, return_state=True)\n",
    "encoder_outputs, state_h, state_c = encoder(encoder_inputs)"
   ]
  },
  {
   "cell_type": "code",
   "execution_count": 14,
   "id": "95c74658",
   "metadata": {
    "ExecuteTime": {
     "end_time": "2021-06-03T10:23:40.106492Z",
     "start_time": "2021-06-03T10:23:40.104001Z"
    }
   },
   "outputs": [],
   "source": [
    "# We discard `encoder_outputs` and only keep the states.\n",
    "encoder_states = [state_h, state_c]"
   ]
  },
  {
   "cell_type": "code",
   "execution_count": 15,
   "id": "6dd46b1b",
   "metadata": {
    "ExecuteTime": {
     "end_time": "2021-06-03T10:23:41.339634Z",
     "start_time": "2021-06-03T10:23:41.335761Z"
    }
   },
   "outputs": [],
   "source": [
    "# Set up the decoder, using `encoder_states` as initial state.\n",
    "decoder_inputs = keras.Input(shape=(None, num_decoder_tokens))"
   ]
  },
  {
   "cell_type": "code",
   "execution_count": 16,
   "id": "fd8f3d3f",
   "metadata": {
    "ExecuteTime": {
     "end_time": "2021-06-03T10:23:42.989414Z",
     "start_time": "2021-06-03T10:23:42.792332Z"
    }
   },
   "outputs": [],
   "source": [
    "# We set up our decoder to return full output sequences,\n",
    "# and to return internal states as well. We don't use the\n",
    "# return states in the training model, but we will use them in inference.\n",
    "decoder_lstm = keras.layers.LSTM(latent_dim, return_sequences=True, return_state=True)\n",
    "decoder_outputs, _, _ = decoder_lstm(decoder_inputs, initial_state=encoder_states)\n",
    "decoder_dense = keras.layers.Dense(num_decoder_tokens, activation=\"softmax\")\n",
    "decoder_outputs = decoder_dense(decoder_outputs)"
   ]
  },
  {
   "cell_type": "code",
   "execution_count": 17,
   "id": "ec877161",
   "metadata": {
    "ExecuteTime": {
     "end_time": "2021-06-03T10:23:44.838405Z",
     "start_time": "2021-06-03T10:23:44.832085Z"
    }
   },
   "outputs": [],
   "source": [
    "# Define the model that will turn\n",
    "# `encoder_input_data` & `decoder_input_data` into `decoder_target_data`\n",
    "model = keras.Model([encoder_inputs, decoder_inputs], decoder_outputs)"
   ]
  },
  {
   "cell_type": "code",
   "execution_count": 18,
   "id": "69e49684",
   "metadata": {
    "ExecuteTime": {
     "end_time": "2021-06-03T10:23:46.052633Z",
     "start_time": "2021-06-03T10:23:46.047622Z"
    }
   },
   "outputs": [
    {
     "name": "stdout",
     "output_type": "stream",
     "text": [
      "Model: \"model\"\n",
      "__________________________________________________________________________________________________\n",
      "Layer (type)                    Output Shape         Param #     Connected to                     \n",
      "==================================================================================================\n",
      "input_1 (InputLayer)            [(None, None, 71)]   0                                            \n",
      "__________________________________________________________________________________________________\n",
      "input_2 (InputLayer)            [(None, None, 93)]   0                                            \n",
      "__________________________________________________________________________________________________\n",
      "lstm (LSTM)                     [(None, 256), (None, 335872      input_1[0][0]                    \n",
      "__________________________________________________________________________________________________\n",
      "lstm_1 (LSTM)                   [(None, None, 256),  358400      input_2[0][0]                    \n",
      "                                                                 lstm[0][1]                       \n",
      "                                                                 lstm[0][2]                       \n",
      "__________________________________________________________________________________________________\n",
      "dense (Dense)                   (None, None, 93)     23901       lstm_1[0][0]                     \n",
      "==================================================================================================\n",
      "Total params: 718,173\n",
      "Trainable params: 718,173\n",
      "Non-trainable params: 0\n",
      "__________________________________________________________________________________________________\n"
     ]
    }
   ],
   "source": [
    "model.summary()"
   ]
  },
  {
   "cell_type": "markdown",
   "id": "a66c3012",
   "metadata": {},
   "source": [
    "Train the model"
   ]
  },
  {
   "cell_type": "code",
   "execution_count": 19,
   "id": "f608139b",
   "metadata": {
    "ExecuteTime": {
     "end_time": "2021-06-03T10:23:48.241058Z",
     "start_time": "2021-06-03T10:23:48.231270Z"
    },
    "scrolled": true
   },
   "outputs": [],
   "source": [
    "model.compile(\n",
    "    optimizer=\"rmsprop\", loss=\"categorical_crossentropy\", metrics=[\"accuracy\"]\n",
    ")"
   ]
  },
  {
   "cell_type": "code",
   "execution_count": 20,
   "id": "e29e96e9",
   "metadata": {
    "ExecuteTime": {
     "end_time": "2021-06-03T10:23:49.611153Z",
     "start_time": "2021-06-03T10:23:49.095006Z"
    }
   },
   "outputs": [
    {
     "data": {
      "image/png": "[encoded data removed]",
      "text/plain": [
       "<IPython.core.display.Image object>"
      ]
     },
     "execution_count": 20,
     "metadata": {},
     "output_type": "execute_result"
    }
   ],
   "source": [
    "keras.utils.plot_model(model)"
   ]
  },
  {
   "cell_type": "code",
   "execution_count": 21,
   "id": "52435143",
   "metadata": {
    "ExecuteTime": {
     "end_time": "2021-06-03T10:58:18.531351Z",
     "start_time": "2021-06-03T10:23:50.911809Z"
    }
   },
   "outputs": [
    {
     "name": "stdout",
     "output_type": "stream",
     "text": [
      "Epoch 1/100\n",
      "WARNING:tensorflow:AutoGraph could not transform <function Model.make_train_function.<locals>.train_function at 0x7fa96668f8c0> and will run it as-is.\n",
      "Please report this to the TensorFlow team. When filing the bug, set the verbosity to 10 (on Linux, `export AUTOGRAPH_VERBOSITY=10`) and attach the full output.\n",
      "Cause: 'arguments' object has no attribute 'posonlyargs'\n",
      "To silence this warning, decorate the function with @tf.autograph.experimental.do_not_convert\n",
      "WARNING: AutoGraph could not transform <function Model.make_train_function.<locals>.train_function at 0x7fa96668f8c0> and will run it as-is.\n",
      "Please report this to the TensorFlow team. When filing the bug, set the verbosity to 10 (on Linux, `export AUTOGRAPH_VERBOSITY=10`) and attach the full output.\n",
      "Cause: 'arguments' object has no attribute 'posonlyargs'\n",
      "To silence this warning, decorate the function with @tf.autograph.experimental.do_not_convert\n",
      "125/125 [==============================] - ETA: 0s - loss: 1.1482 - accuracy: 0.7346WARNING:tensorflow:AutoGraph could not transform <function Model.make_test_function.<locals>.test_function at 0x7fa967d97b00> and will run it as-is.\n",
      "Please report this to the TensorFlow team. When filing the bug, set the verbosity to 10 (on Linux, `export AUTOGRAPH_VERBOSITY=10`) and attach the full output.\n",
      "Cause: 'arguments' object has no attribute 'posonlyargs'\n",
      "To silence this warning, decorate the function with @tf.autograph.experimental.do_not_convert\n",
      "WARNING: AutoGraph could not transform <function Model.make_test_function.<locals>.test_function at 0x7fa967d97b00> and will run it as-is.\n",
      "Please report this to the TensorFlow team. When filing the bug, set the verbosity to 10 (on Linux, `export AUTOGRAPH_VERBOSITY=10`) and attach the full output.\n",
      "Cause: 'arguments' object has no attribute 'posonlyargs'\n",
      "To silence this warning, decorate the function with @tf.autograph.experimental.do_not_convert\n",
      "125/125 [==============================] - 21s 148ms/step - loss: 1.1482 - accuracy: 0.7346 - val_loss: 1.0148 - val_accuracy: 0.7092\n",
      "Epoch 2/100\n",
      "125/125 [==============================] - 20s 158ms/step - loss: 0.8256 - accuracy: 0.7778 - val_loss: 0.8203 - val_accuracy: 0.7728\n",
      "Epoch 3/100\n",
      "125/125 [==============================] - 20s 163ms/step - loss: 0.6623 - accuracy: 0.8137 - val_loss: 0.7027 - val_accuracy: 0.7957\n",
      "Epoch 4/100\n",
      "125/125 [==============================] - 19s 156ms/step - loss: 0.5783 - accuracy: 0.8323 - val_loss: 0.6318 - val_accuracy: 0.8159\n",
      "Epoch 5/100\n",
      "125/125 [==============================] - 20s 164ms/step - loss: 0.5313 - accuracy: 0.8448 - val_loss: 0.5988 - val_accuracy: 0.8256\n",
      "Epoch 6/100\n",
      "125/125 [==============================] - 20s 158ms/step - loss: 0.4953 - accuracy: 0.8545 - val_loss: 0.5678 - val_accuracy: 0.8329\n",
      "Epoch 7/100\n",
      "125/125 [==============================] - 19s 155ms/step - loss: 0.4669 - accuracy: 0.8619 - val_loss: 0.5410 - val_accuracy: 0.8412\n",
      "Epoch 8/100\n",
      "125/125 [==============================] - 20s 156ms/step - loss: 0.4427 - accuracy: 0.8680 - val_loss: 0.5253 - val_accuracy: 0.8448\n",
      "Epoch 9/100\n",
      "125/125 [==============================] - 20s 161ms/step - loss: 0.4214 - accuracy: 0.8742 - val_loss: 0.5147 - val_accuracy: 0.8482\n",
      "Epoch 10/100\n",
      "125/125 [==============================] - 20s 163ms/step - loss: 0.4029 - accuracy: 0.8795 - val_loss: 0.5001 - val_accuracy: 0.8522\n",
      "Epoch 11/100\n",
      "125/125 [==============================] - 20s 159ms/step - loss: 0.3865 - accuracy: 0.8840 - val_loss: 0.4917 - val_accuracy: 0.8551\n",
      "Epoch 12/100\n",
      "125/125 [==============================] - 23s 181ms/step - loss: 0.3712 - accuracy: 0.8883 - val_loss: 0.4812 - val_accuracy: 0.8587\n",
      "Epoch 13/100\n",
      "125/125 [==============================] - 20s 163ms/step - loss: 0.3567 - accuracy: 0.8924 - val_loss: 0.4701 - val_accuracy: 0.8614\n",
      "Epoch 14/100\n",
      "125/125 [==============================] - 20s 158ms/step - loss: 0.3432 - accuracy: 0.8964 - val_loss: 0.4660 - val_accuracy: 0.8635\n",
      "Epoch 15/100\n",
      "125/125 [==============================] - 20s 157ms/step - loss: 0.3303 - accuracy: 0.9004 - val_loss: 0.4621 - val_accuracy: 0.8640\n",
      "Epoch 16/100\n",
      "125/125 [==============================] - 20s 158ms/step - loss: 0.3181 - accuracy: 0.9037 - val_loss: 0.4553 - val_accuracy: 0.8674\n",
      "Epoch 17/100\n",
      "125/125 [==============================] - 20s 161ms/step - loss: 0.3068 - accuracy: 0.9071 - val_loss: 0.4522 - val_accuracy: 0.8689\n",
      "Epoch 18/100\n",
      "125/125 [==============================] - 20s 157ms/step - loss: 0.2959 - accuracy: 0.9104 - val_loss: 0.4514 - val_accuracy: 0.8696\n",
      "Epoch 19/100\n",
      "125/125 [==============================] - 20s 159ms/step - loss: 0.2858 - accuracy: 0.9136 - val_loss: 0.4496 - val_accuracy: 0.8704\n",
      "Epoch 20/100\n",
      "125/125 [==============================] - 20s 158ms/step - loss: 0.2758 - accuracy: 0.9164 - val_loss: 0.4498 - val_accuracy: 0.8696\n",
      "Epoch 21/100\n",
      "125/125 [==============================] - 20s 159ms/step - loss: 0.2663 - accuracy: 0.9191 - val_loss: 0.4495 - val_accuracy: 0.8713\n",
      "Epoch 22/100\n",
      "125/125 [==============================] - 19s 156ms/step - loss: 0.2576 - accuracy: 0.9219 - val_loss: 0.4515 - val_accuracy: 0.8723\n",
      "Epoch 23/100\n",
      "125/125 [==============================] - 19s 156ms/step - loss: 0.2490 - accuracy: 0.9245 - val_loss: 0.4506 - val_accuracy: 0.8725\n",
      "Epoch 24/100\n",
      "125/125 [==============================] - 19s 156ms/step - loss: 0.2405 - accuracy: 0.9270 - val_loss: 0.4558 - val_accuracy: 0.8718\n",
      "Epoch 25/100\n",
      "125/125 [==============================] - 20s 156ms/step - loss: 0.2328 - accuracy: 0.9293 - val_loss: 0.4543 - val_accuracy: 0.8724\n",
      "Epoch 26/100\n",
      "125/125 [==============================] - 20s 157ms/step - loss: 0.2254 - accuracy: 0.9311 - val_loss: 0.4562 - val_accuracy: 0.8732\n",
      "Epoch 27/100\n",
      "125/125 [==============================] - 20s 157ms/step - loss: 0.2182 - accuracy: 0.9335 - val_loss: 0.4570 - val_accuracy: 0.8741\n",
      "Epoch 28/100\n",
      "125/125 [==============================] - 20s 156ms/step - loss: 0.2109 - accuracy: 0.9356 - val_loss: 0.4557 - val_accuracy: 0.8744\n",
      "Epoch 29/100\n",
      "125/125 [==============================] - 20s 157ms/step - loss: 0.2045 - accuracy: 0.9376 - val_loss: 0.4593 - val_accuracy: 0.8754\n",
      "Epoch 30/100\n",
      "125/125 [==============================] - 20s 157ms/step - loss: 0.1981 - accuracy: 0.9395 - val_loss: 0.4675 - val_accuracy: 0.8724\n",
      "Epoch 31/100\n",
      "125/125 [==============================] - 20s 160ms/step - loss: 0.1919 - accuracy: 0.9414 - val_loss: 0.4678 - val_accuracy: 0.8746\n",
      "Epoch 32/100\n",
      "125/125 [==============================] - 20s 158ms/step - loss: 0.1862 - accuracy: 0.9432 - val_loss: 0.4711 - val_accuracy: 0.8744\n",
      "Epoch 33/100\n",
      "125/125 [==============================] - 20s 159ms/step - loss: 0.1802 - accuracy: 0.9451 - val_loss: 0.4757 - val_accuracy: 0.8743\n",
      "Epoch 34/100\n",
      "125/125 [==============================] - 20s 157ms/step - loss: 0.1750 - accuracy: 0.9467 - val_loss: 0.4808 - val_accuracy: 0.8754\n",
      "Epoch 35/100\n",
      "125/125 [==============================] - 21s 164ms/step - loss: 0.1699 - accuracy: 0.9480 - val_loss: 0.4851 - val_accuracy: 0.8750\n",
      "Epoch 36/100\n",
      "125/125 [==============================] - 23s 184ms/step - loss: 0.1647 - accuracy: 0.9496 - val_loss: 0.4866 - val_accuracy: 0.8736\n",
      "Epoch 37/100\n",
      "125/125 [==============================] - 20s 161ms/step - loss: 0.1601 - accuracy: 0.9509 - val_loss: 0.4915 - val_accuracy: 0.8750\n",
      "Epoch 38/100\n",
      "125/125 [==============================] - 20s 161ms/step - loss: 0.1553 - accuracy: 0.9523 - val_loss: 0.4983 - val_accuracy: 0.8748\n",
      "Epoch 39/100\n",
      "125/125 [==============================] - 22s 173ms/step - loss: 0.1510 - accuracy: 0.9536 - val_loss: 0.5014 - val_accuracy: 0.8738\n",
      "Epoch 40/100\n",
      "125/125 [==============================] - 20s 161ms/step - loss: 0.1466 - accuracy: 0.9551 - val_loss: 0.5059 - val_accuracy: 0.8737\n",
      "Epoch 41/100\n",
      "125/125 [==============================] - 21s 164ms/step - loss: 0.1427 - accuracy: 0.9561 - val_loss: 0.5122 - val_accuracy: 0.8745\n",
      "Epoch 42/100\n",
      "125/125 [==============================] - 24s 189ms/step - loss: 0.1389 - accuracy: 0.9574 - val_loss: 0.5198 - val_accuracy: 0.8740\n",
      "Epoch 43/100\n",
      "125/125 [==============================] - 20s 158ms/step - loss: 0.1354 - accuracy: 0.9584 - val_loss: 0.5207 - val_accuracy: 0.8737\n"
     ]
    },
    {
     "name": "stdout",
     "output_type": "stream",
     "text": [
      "Epoch 44/100\n",
      "125/125 [==============================] - 19s 156ms/step - loss: 0.1316 - accuracy: 0.9595 - val_loss: 0.5255 - val_accuracy: 0.8742\n",
      "Epoch 45/100\n",
      "125/125 [==============================] - 20s 157ms/step - loss: 0.1282 - accuracy: 0.9604 - val_loss: 0.5339 - val_accuracy: 0.8746\n",
      "Epoch 46/100\n",
      "125/125 [==============================] - 20s 157ms/step - loss: 0.1248 - accuracy: 0.9614 - val_loss: 0.5323 - val_accuracy: 0.8748\n",
      "Epoch 47/100\n",
      "125/125 [==============================] - 20s 162ms/step - loss: 0.1208 - accuracy: 0.9625 - val_loss: 0.5404 - val_accuracy: 0.8740\n",
      "Epoch 48/100\n",
      "125/125 [==============================] - 20s 163ms/step - loss: 0.1185 - accuracy: 0.9632 - val_loss: 0.5416 - val_accuracy: 0.8738\n",
      "Epoch 49/100\n",
      "125/125 [==============================] - 20s 163ms/step - loss: 0.1159 - accuracy: 0.9639 - val_loss: 0.5495 - val_accuracy: 0.8737\n",
      "Epoch 50/100\n",
      "125/125 [==============================] - 21s 165ms/step - loss: 0.1123 - accuracy: 0.9652 - val_loss: 0.5577 - val_accuracy: 0.8743\n",
      "Epoch 51/100\n",
      "125/125 [==============================] - 20s 164ms/step - loss: 0.1099 - accuracy: 0.9659 - val_loss: 0.5592 - val_accuracy: 0.8738\n",
      "Epoch 52/100\n",
      "125/125 [==============================] - 21s 167ms/step - loss: 0.1070 - accuracy: 0.9665 - val_loss: 0.5673 - val_accuracy: 0.8732\n",
      "Epoch 53/100\n",
      "125/125 [==============================] - 22s 174ms/step - loss: 0.1045 - accuracy: 0.9673 - val_loss: 0.5666 - val_accuracy: 0.8741\n",
      "Epoch 54/100\n",
      "125/125 [==============================] - 21s 169ms/step - loss: 0.1022 - accuracy: 0.9681 - val_loss: 0.5751 - val_accuracy: 0.8724\n",
      "Epoch 55/100\n",
      "125/125 [==============================] - 21s 164ms/step - loss: 0.0995 - accuracy: 0.9689 - val_loss: 0.5854 - val_accuracy: 0.8717\n",
      "Epoch 56/100\n",
      "125/125 [==============================] - 21s 169ms/step - loss: 0.0973 - accuracy: 0.9695 - val_loss: 0.5837 - val_accuracy: 0.8746\n",
      "Epoch 57/100\n",
      "125/125 [==============================] - 21s 172ms/step - loss: 0.0949 - accuracy: 0.9701 - val_loss: 0.5960 - val_accuracy: 0.8731\n",
      "Epoch 58/100\n",
      "125/125 [==============================] - 21s 168ms/step - loss: 0.0926 - accuracy: 0.9711 - val_loss: 0.5993 - val_accuracy: 0.8732\n",
      "Epoch 59/100\n",
      "125/125 [==============================] - 21s 171ms/step - loss: 0.0909 - accuracy: 0.9710 - val_loss: 0.6007 - val_accuracy: 0.8729\n",
      "Epoch 60/100\n",
      "125/125 [==============================] - 22s 174ms/step - loss: 0.0885 - accuracy: 0.9719 - val_loss: 0.6041 - val_accuracy: 0.8727\n",
      "Epoch 61/100\n",
      "125/125 [==============================] - 20s 162ms/step - loss: 0.0865 - accuracy: 0.9727 - val_loss: 0.6103 - val_accuracy: 0.8721\n",
      "Epoch 62/100\n",
      "125/125 [==============================] - 20s 164ms/step - loss: 0.0848 - accuracy: 0.9730 - val_loss: 0.6144 - val_accuracy: 0.8730\n",
      "Epoch 63/100\n",
      "125/125 [==============================] - 20s 161ms/step - loss: 0.0830 - accuracy: 0.9734 - val_loss: 0.6186 - val_accuracy: 0.8721\n",
      "Epoch 64/100\n",
      "125/125 [==============================] - 20s 163ms/step - loss: 0.0810 - accuracy: 0.9740 - val_loss: 0.6232 - val_accuracy: 0.8708\n",
      "Epoch 65/100\n",
      "125/125 [==============================] - 20s 163ms/step - loss: 0.0793 - accuracy: 0.9747 - val_loss: 0.6272 - val_accuracy: 0.8716\n",
      "Epoch 66/100\n",
      "125/125 [==============================] - 20s 163ms/step - loss: 0.0779 - accuracy: 0.9749 - val_loss: 0.6326 - val_accuracy: 0.8722\n",
      "Epoch 67/100\n",
      "125/125 [==============================] - 20s 162ms/step - loss: 0.0761 - accuracy: 0.9755 - val_loss: 0.6497 - val_accuracy: 0.8687\n",
      "Epoch 68/100\n",
      "125/125 [==============================] - 20s 163ms/step - loss: 0.0748 - accuracy: 0.9758 - val_loss: 0.6426 - val_accuracy: 0.8721\n",
      "Epoch 69/100\n",
      "125/125 [==============================] - 21s 164ms/step - loss: 0.0730 - accuracy: 0.9764 - val_loss: 0.6452 - val_accuracy: 0.8726\n",
      "Epoch 70/100\n",
      "125/125 [==============================] - 20s 164ms/step - loss: 0.0716 - accuracy: 0.9765 - val_loss: 0.6499 - val_accuracy: 0.8712\n",
      "Epoch 71/100\n",
      "125/125 [==============================] - 20s 164ms/step - loss: 0.0703 - accuracy: 0.9772 - val_loss: 0.6564 - val_accuracy: 0.8714\n",
      "Epoch 72/100\n",
      "125/125 [==============================] - 21s 165ms/step - loss: 0.0687 - accuracy: 0.9775 - val_loss: 0.6609 - val_accuracy: 0.8724\n",
      "Epoch 73/100\n",
      "125/125 [==============================] - 21s 165ms/step - loss: 0.0672 - accuracy: 0.9780 - val_loss: 0.6671 - val_accuracy: 0.8712\n",
      "Epoch 74/100\n",
      "125/125 [==============================] - 21s 166ms/step - loss: 0.0662 - accuracy: 0.9783 - val_loss: 0.6681 - val_accuracy: 0.8714\n",
      "Epoch 75/100\n",
      "125/125 [==============================] - 21s 166ms/step - loss: 0.0648 - accuracy: 0.9788 - val_loss: 0.6694 - val_accuracy: 0.8714\n",
      "Epoch 76/100\n",
      "125/125 [==============================] - 21s 169ms/step - loss: 0.0637 - accuracy: 0.9789 - val_loss: 0.6794 - val_accuracy: 0.8708\n",
      "Epoch 77/100\n",
      "125/125 [==============================] - 22s 177ms/step - loss: 0.0627 - accuracy: 0.9793 - val_loss: 0.6833 - val_accuracy: 0.8712\n",
      "Epoch 78/100\n",
      "125/125 [==============================] - 22s 173ms/step - loss: 0.0614 - accuracy: 0.9796 - val_loss: 0.6881 - val_accuracy: 0.8701\n",
      "Epoch 79/100\n",
      "125/125 [==============================] - 22s 179ms/step - loss: 0.0603 - accuracy: 0.9799 - val_loss: 0.6958 - val_accuracy: 0.8708\n",
      "Epoch 80/100\n",
      "125/125 [==============================] - 22s 173ms/step - loss: 0.0592 - accuracy: 0.9803 - val_loss: 0.6973 - val_accuracy: 0.8706\n",
      "Epoch 81/100\n",
      "125/125 [==============================] - 22s 177ms/step - loss: 0.0581 - accuracy: 0.9806 - val_loss: 0.6967 - val_accuracy: 0.8705\n",
      "Epoch 82/100\n",
      "125/125 [==============================] - 21s 171ms/step - loss: 0.0574 - accuracy: 0.9806 - val_loss: 0.7005 - val_accuracy: 0.8702\n",
      "Epoch 83/100\n",
      "125/125 [==============================] - 21s 168ms/step - loss: 0.0564 - accuracy: 0.9808 - val_loss: 0.7119 - val_accuracy: 0.8696\n",
      "Epoch 84/100\n",
      "125/125 [==============================] - 21s 166ms/step - loss: 0.0555 - accuracy: 0.9812 - val_loss: 0.7082 - val_accuracy: 0.8707\n",
      "Epoch 85/100\n",
      "125/125 [==============================] - 21s 172ms/step - loss: 0.0545 - accuracy: 0.9815 - val_loss: 0.7115 - val_accuracy: 0.8718\n",
      "Epoch 86/100\n",
      "125/125 [==============================] - 21s 170ms/step - loss: 0.0539 - accuracy: 0.9817 - val_loss: 0.7121 - val_accuracy: 0.8708\n",
      "Epoch 87/100\n",
      "125/125 [==============================] - 22s 174ms/step - loss: 0.0528 - accuracy: 0.9819 - val_loss: 0.7193 - val_accuracy: 0.8706\n",
      "Epoch 88/100\n",
      "125/125 [==============================] - 21s 171ms/step - loss: 0.0521 - accuracy: 0.9823 - val_loss: 0.7181 - val_accuracy: 0.8707\n",
      "Epoch 89/100\n",
      "125/125 [==============================] - 21s 172ms/step - loss: 0.0515 - accuracy: 0.9824 - val_loss: 0.7267 - val_accuracy: 0.8699\n",
      "Epoch 90/100\n",
      "125/125 [==============================] - 21s 171ms/step - loss: 0.0505 - accuracy: 0.9827 - val_loss: 0.7276 - val_accuracy: 0.8703\n",
      "Epoch 91/100\n",
      "125/125 [==============================] - 21s 171ms/step - loss: 0.0496 - accuracy: 0.9828 - val_loss: 0.7362 - val_accuracy: 0.8698\n",
      "Epoch 92/100\n",
      "125/125 [==============================] - 21s 168ms/step - loss: 0.0491 - accuracy: 0.9829 - val_loss: 0.7334 - val_accuracy: 0.8705\n",
      "Epoch 93/100\n",
      "125/125 [==============================] - 22s 180ms/step - loss: 0.0484 - accuracy: 0.9833 - val_loss: 0.7371 - val_accuracy: 0.8701\n",
      "Epoch 94/100\n",
      "125/125 [==============================] - 22s 174ms/step - loss: 0.0478 - accuracy: 0.9834 - val_loss: 0.7471 - val_accuracy: 0.8693\n",
      "Epoch 95/100\n",
      "125/125 [==============================] - 22s 178ms/step - loss: 0.0471 - accuracy: 0.9835 - val_loss: 0.7492 - val_accuracy: 0.8686\n",
      "Epoch 96/100\n",
      "125/125 [==============================] - 22s 177ms/step - loss: 0.0466 - accuracy: 0.9837 - val_loss: 0.7464 - val_accuracy: 0.8696\n",
      "Epoch 97/100\n",
      "125/125 [==============================] - 25s 199ms/step - loss: 0.0459 - accuracy: 0.9838 - val_loss: 0.7510 - val_accuracy: 0.8688\n",
      "Epoch 98/100\n",
      "125/125 [==============================] - 23s 181ms/step - loss: 0.0456 - accuracy: 0.9840 - val_loss: 0.7568 - val_accuracy: 0.8695\n",
      "Epoch 99/100\n",
      "125/125 [==============================] - 22s 175ms/step - loss: 0.0447 - accuracy: 0.9841 - val_loss: 0.7568 - val_accuracy: 0.8700\n"
     ]
    },
    {
     "name": "stdout",
     "output_type": "stream",
     "text": [
      "Epoch 100/100\n",
      "125/125 [==============================] - 21s 172ms/step - loss: 0.0444 - accuracy: 0.9843 - val_loss: 0.7684 - val_accuracy: 0.8691\n"
     ]
    },
    {
     "data": {
      "text/plain": [
       "<tensorflow.python.keras.callbacks.History at 0x7fa9666a7ad0>"
      ]
     },
     "execution_count": 21,
     "metadata": {},
     "output_type": "execute_result"
    }
   ],
   "source": [
    "model.fit(\n",
    "    [encoder_input_data, decoder_input_data],\n",
    "    decoder_target_data,\n",
    "    batch_size=batch_size,\n",
    "    epochs=epochs,\n",
    "    validation_split=0.2\n",
    ")"
   ]
  },
  {
   "cell_type": "code",
   "execution_count": 22,
   "id": "52932970",
   "metadata": {
    "ExecuteTime": {
     "end_time": "2021-06-03T10:58:32.242511Z",
     "start_time": "2021-06-03T10:58:32.212520Z"
    }
   },
   "outputs": [],
   "source": [
    "# Save model\n",
    "model.save(\"s2s_100epochs.h5\")"
   ]
  },
  {
   "cell_type": "code",
   "execution_count": 23,
   "id": "b4bc48fe",
   "metadata": {
    "ExecuteTime": {
     "end_time": "2021-06-03T10:58:36.556122Z",
     "start_time": "2021-06-03T10:58:36.149419Z"
    }
   },
   "outputs": [],
   "source": [
    "model = keras.models.load_model(\"s2s_100epochs.h5\")"
   ]
  },
  {
   "cell_type": "code",
   "execution_count": 24,
   "id": "ec49afa7",
   "metadata": {
    "ExecuteTime": {
     "end_time": "2021-06-03T10:58:37.129715Z",
     "start_time": "2021-06-03T10:58:37.124970Z"
    }
   },
   "outputs": [
    {
     "name": "stdout",
     "output_type": "stream",
     "text": [
      "Model: \"model\"\n",
      "__________________________________________________________________________________________________\n",
      "Layer (type)                    Output Shape         Param #     Connected to                     \n",
      "==================================================================================================\n",
      "input_1 (InputLayer)            [(None, None, 71)]   0                                            \n",
      "__________________________________________________________________________________________________\n",
      "input_2 (InputLayer)            [(None, None, 93)]   0                                            \n",
      "__________________________________________________________________________________________________\n",
      "lstm (LSTM)                     [(None, 256), (None, 335872      input_1[0][0]                    \n",
      "__________________________________________________________________________________________________\n",
      "lstm_1 (LSTM)                   [(None, None, 256),  358400      input_2[0][0]                    \n",
      "                                                                 lstm[0][1]                       \n",
      "                                                                 lstm[0][2]                       \n",
      "__________________________________________________________________________________________________\n",
      "dense (Dense)                   (None, None, 93)     23901       lstm_1[0][0]                     \n",
      "==================================================================================================\n",
      "Total params: 718,173\n",
      "Trainable params: 718,173\n",
      "Non-trainable params: 0\n",
      "__________________________________________________________________________________________________\n"
     ]
    }
   ],
   "source": [
    "model.summary()"
   ]
  },
  {
   "cell_type": "code",
   "execution_count": 25,
   "id": "31fd00af",
   "metadata": {
    "ExecuteTime": {
     "end_time": "2021-06-03T10:58:38.055380Z",
     "start_time": "2021-06-03T10:58:37.868930Z"
    }
   },
   "outputs": [],
   "source": [
    "encoder_inputs = model.input[0]  # input_1\n",
    "encoder_outputs, state_h_enc, state_c_enc = model.layers[2].output  # lstm_1\n",
    "encoder_states = [state_h_enc, state_c_enc]\n",
    "encoder_model = keras.Model(encoder_inputs, encoder_states)\n",
    "\n",
    "decoder_inputs = model.input[1]  # input_2\n",
    "decoder_state_input_h = keras.Input(shape=(latent_dim,), name=\"decoder_state_input_h\")\n",
    "decoder_state_input_c = keras.Input(shape=(latent_dim,), name=\"decoder_state_input_c\")\n",
    "decoder_states_inputs = [decoder_state_input_h, decoder_state_input_c]\n",
    "decoder_lstm = model.layers[3]\n",
    "decoder_outputs, state_h_dec, state_c_dec = decoder_lstm(\n",
    "    decoder_inputs, initial_state=decoder_states_inputs\n",
    ")\n",
    "decoder_states = [state_h_dec, state_c_dec]\n",
    "decoder_dense = model.layers[4]\n",
    "decoder_outputs = decoder_dense(decoder_outputs)\n",
    "decoder_model = keras.Model(\n",
    "    [decoder_inputs] + decoder_states_inputs, [decoder_outputs] + decoder_states\n",
    ")"
   ]
  },
  {
   "cell_type": "code",
   "execution_count": 26,
   "id": "20ccf363",
   "metadata": {
    "ExecuteTime": {
     "end_time": "2021-06-03T10:58:44.625143Z",
     "start_time": "2021-06-03T10:58:44.622000Z"
    }
   },
   "outputs": [],
   "source": [
    "# Reverse-lookup token index to decode sequences back to\n",
    "# something readable.\n",
    "reverse_input_char_index = dict((i, char) for char, i in input_token_index.items())\n",
    "reverse_target_char_index = dict((i, char) for char, i in target_token_index.items())"
   ]
  },
  {
   "cell_type": "code",
   "execution_count": 27,
   "id": "e3d83fef",
   "metadata": {
    "ExecuteTime": {
     "end_time": "2021-06-03T10:58:45.154394Z",
     "start_time": "2021-06-03T10:58:45.148709Z"
    }
   },
   "outputs": [],
   "source": [
    "def decode_sequence(input_seq):\n",
    "    # Encode the input as state vectors.\n",
    "    states_value = encoder_model.predict(input_seq)\n",
    "\n",
    "    # Generate empty target sequence of length 1.\n",
    "    target_seq = np.zeros((1, 1, num_decoder_tokens))\n",
    "    # Populate the first character of target sequence with the start character.\n",
    "    target_seq[0, 0, target_token_index[\"\\t\"]] = 1.0\n",
    "\n",
    "    # Sampling loop for a batch of sequences\n",
    "    # (to simplify, here we assume a batch of size 1).\n",
    "    stop_condition = False\n",
    "    decoded_sentence = \"\"\n",
    "    while not stop_condition:\n",
    "        output_tokens, h, c = decoder_model.predict([target_seq] + states_value)\n",
    "\n",
    "        # Sample a token\n",
    "        sampled_token_index = np.argmax(output_tokens[0, -1, :])\n",
    "        sampled_char = reverse_target_char_index[sampled_token_index]\n",
    "        decoded_sentence += sampled_char\n",
    "\n",
    "        # Exit condition: either hit max length\n",
    "        # or find stop character.\n",
    "        if sampled_char == \"\\n\" or len(decoded_sentence) > max_decoder_seq_length:\n",
    "            stop_condition = True\n",
    "\n",
    "        # Update the target sequence (of length 1).\n",
    "        target_seq = np.zeros((1, 1, num_decoder_tokens))\n",
    "        target_seq[0, 0, sampled_token_index] = 1.0\n",
    "\n",
    "        # Update states\n",
    "        states_value = [h, c]\n",
    "    return decoded_sentence"
   ]
  },
  {
   "cell_type": "code",
   "execution_count": 28,
   "id": "14ff20b1",
   "metadata": {
    "ExecuteTime": {
     "end_time": "2021-06-03T10:58:54.224031Z",
     "start_time": "2021-06-03T10:58:46.837241Z"
    }
   },
   "outputs": [
    {
     "name": "stdout",
     "output_type": "stream",
     "text": [
      "WARNING:tensorflow:AutoGraph could not transform <function Model.make_predict_function.<locals>.predict_function at 0x7fa97732acb0> and will run it as-is.\n",
      "Please report this to the TensorFlow team. When filing the bug, set the verbosity to 10 (on Linux, `export AUTOGRAPH_VERBOSITY=10`) and attach the full output.\n",
      "Cause: 'arguments' object has no attribute 'posonlyargs'\n",
      "To silence this warning, decorate the function with @tf.autograph.experimental.do_not_convert\n",
      "WARNING: AutoGraph could not transform <function Model.make_predict_function.<locals>.predict_function at 0x7fa97732acb0> and will run it as-is.\n",
      "Please report this to the TensorFlow team. When filing the bug, set the verbosity to 10 (on Linux, `export AUTOGRAPH_VERBOSITY=10`) and attach the full output.\n",
      "Cause: 'arguments' object has no attribute 'posonlyargs'\n",
      "To silence this warning, decorate the function with @tf.autograph.experimental.do_not_convert\n",
      "WARNING:tensorflow:AutoGraph could not transform <function Model.make_predict_function.<locals>.predict_function at 0x7fa9775315f0> and will run it as-is.\n",
      "Please report this to the TensorFlow team. When filing the bug, set the verbosity to 10 (on Linux, `export AUTOGRAPH_VERBOSITY=10`) and attach the full output.\n",
      "Cause: 'arguments' object has no attribute 'posonlyargs'\n",
      "To silence this warning, decorate the function with @tf.autograph.experimental.do_not_convert\n",
      "WARNING: AutoGraph could not transform <function Model.make_predict_function.<locals>.predict_function at 0x7fa9775315f0> and will run it as-is.\n",
      "Please report this to the TensorFlow team. When filing the bug, set the verbosity to 10 (on Linux, `export AUTOGRAPH_VERBOSITY=10`) and attach the full output.\n",
      "Cause: 'arguments' object has no attribute 'posonlyargs'\n",
      "To silence this warning, decorate the function with @tf.autograph.experimental.do_not_convert\n",
      "-\n",
      "Input sentence: Go.\n",
      "Decoded sentence: Bouge !\n",
      "\n",
      "-\n",
      "Input sentence: Go.\n",
      "Decoded sentence: Bouge !\n",
      "\n",
      "-\n",
      "Input sentence: Go.\n",
      "Decoded sentence: Bouge !\n",
      "\n",
      "-\n",
      "Input sentence: Hi.\n",
      "Decoded sentence: Salut !\n",
      "\n",
      "-\n",
      "Input sentence: Hi.\n",
      "Decoded sentence: Salut !\n",
      "\n",
      "-\n",
      "Input sentence: Run!\n",
      "Decoded sentence: Cours !\n",
      "\n",
      "-\n",
      "Input sentence: Run!\n",
      "Decoded sentence: Cours !\n",
      "\n",
      "-\n",
      "Input sentence: Run!\n",
      "Decoded sentence: Cours !\n",
      "\n",
      "-\n",
      "Input sentence: Run!\n",
      "Decoded sentence: Cours !\n",
      "\n",
      "-\n",
      "Input sentence: Run!\n",
      "Decoded sentence: Cours !\n",
      "\n",
      "-\n",
      "Input sentence: Run!\n",
      "Decoded sentence: Cours !\n",
      "\n",
      "-\n",
      "Input sentence: Run!\n",
      "Decoded sentence: Cours !\n",
      "\n",
      "-\n",
      "Input sentence: Run!\n",
      "Decoded sentence: Cours !\n",
      "\n",
      "-\n",
      "Input sentence: Run.\n",
      "Decoded sentence: Cours !\n",
      "\n",
      "-\n",
      "Input sentence: Run.\n",
      "Decoded sentence: Cours !\n",
      "\n",
      "-\n",
      "Input sentence: Run.\n",
      "Decoded sentence: Cours !\n",
      "\n",
      "-\n",
      "Input sentence: Run.\n",
      "Decoded sentence: Cours !\n",
      "\n",
      "-\n",
      "Input sentence: Run.\n",
      "Decoded sentence: Cours !\n",
      "\n",
      "-\n",
      "Input sentence: Run.\n",
      "Decoded sentence: Cours !\n",
      "\n",
      "-\n",
      "Input sentence: Run.\n",
      "Decoded sentence: Cours !\n",
      "\n"
     ]
    }
   ],
   "source": [
    "for seq_index in range(20):\n",
    "    # Take one sequence (part of the training set)\n",
    "    # for trying out decoding.\n",
    "    input_seq = encoder_input_data[seq_index : seq_index + 1]\n",
    "    decoded_sentence = decode_sequence(input_seq)\n",
    "    print(\"-\")\n",
    "    print(\"Input sentence:\", input_texts[seq_index])\n",
    "    print(\"Decoded sentence:\", decoded_sentence)"
   ]
  },
  {
   "cell_type": "code",
   "execution_count": 29,
   "id": "1e8f9b22",
   "metadata": {
    "ExecuteTime": {
     "end_time": "2021-06-03T10:58:57.169117Z",
     "start_time": "2021-06-03T10:58:56.798400Z"
    }
   },
   "outputs": [
    {
     "data": {
      "image/png": "[encoded data removed]",
      "text/plain": [
       "<IPython.core.display.Image object>"
      ]
     },
     "execution_count": 29,
     "metadata": {},
     "output_type": "execute_result"
    }
   ],
   "source": [
    "keras.utils.plot_model(model)"
   ]
  },
  {
   "cell_type": "code",
   "execution_count": 30,
   "id": "a158dd97",
   "metadata": {
    "ExecuteTime": {
     "end_time": "2021-06-03T10:58:58.422579Z",
     "start_time": "2021-06-03T10:58:58.045224Z"
    }
   },
   "outputs": [
    {
     "data": {
      "image/png": "[encoded data removed]",
      "text/plain": [
       "<IPython.core.display.Image object>"
      ]
     },
     "execution_count": 30,
     "metadata": {},
     "output_type": "execute_result"
    }
   ],
   "source": [
    "keras.utils.plot_model(decoder_model)"
   ]
  },
  {
   "cell_type": "code",
   "execution_count": 31,
   "id": "2f647142",
   "metadata": {
    "ExecuteTime": {
     "end_time": "2021-06-03T10:59:04.017399Z",
     "start_time": "2021-06-03T10:59:04.013139Z"
    }
   },
   "outputs": [
    {
     "data": {
      "text/plain": [
       "15"
      ]
     },
     "execution_count": 31,
     "metadata": {},
     "output_type": "execute_result"
    }
   ],
   "source": [
    "max_encoder_seq_length"
   ]
  },
  {
   "cell_type": "code",
   "execution_count": 32,
   "id": "2b491864",
   "metadata": {
    "ExecuteTime": {
     "end_time": "2021-06-03T10:59:04.905210Z",
     "start_time": "2021-06-03T10:59:04.900516Z"
    }
   },
   "outputs": [],
   "source": [
    "def encode_and_call(input_text):\n",
    "    encoder_input_data = np.zeros(\n",
    "        (1, max_encoder_seq_length, num_encoder_tokens), dtype=\"float32\"\n",
    "    )\n",
    "    for t, char in enumerate(input_text):\n",
    "        encoder_input_data[0, t, input_token_index[char]] = 1.0\n",
    "    encoder_input_data[0, t + 1 :, input_token_index[\" \"]] = 1.0\n",
    "\n",
    "    decoded_sentence = decode_sequence(encoder_input_data)\n",
    "    print(\"-\")\n",
    "    print(\"Input sentence:\", input_text)\n",
    "    print(\"Decoded sentence:\", decoded_sentence)"
   ]
  },
  {
   "cell_type": "code",
   "execution_count": 33,
   "id": "c9da657a",
   "metadata": {
    "ExecuteTime": {
     "end_time": "2021-06-03T10:59:06.189441Z",
     "start_time": "2021-06-03T10:59:05.738068Z"
    }
   },
   "outputs": [
    {
     "name": "stdout",
     "output_type": "stream",
     "text": [
      "-\n",
      "Input sentence: Hi!\n",
      "Decoded sentence: Étaigera !\n",
      "\n"
     ]
    }
   ],
   "source": [
    "encode_and_call(\"Hi!\")"
   ]
  },
  {
   "cell_type": "code",
   "execution_count": 34,
   "id": "42c9a22b",
   "metadata": {
    "ExecuteTime": {
     "end_time": "2021-06-03T10:59:07.078365Z",
     "start_time": "2021-06-03T10:59:06.450821Z"
    }
   },
   "outputs": [
    {
     "name": "stdout",
     "output_type": "stream",
     "text": [
      "-\n",
      "Input sentence: How are you?\n",
      "Decoded sentence: Comment ça va ?\n",
      "\n"
     ]
    }
   ],
   "source": [
    "encode_and_call(\"How are you?\")"
   ]
  },
  {
   "cell_type": "code",
   "execution_count": 35,
   "id": "647a88b6",
   "metadata": {
    "ExecuteTime": {
     "end_time": "2021-06-03T10:59:19.833211Z",
     "start_time": "2021-06-03T10:59:07.877037Z"
    }
   },
   "outputs": [
    {
     "name": "stdout",
     "output_type": "stream",
     "text": [
      "-\n",
      "Input sentence: Go!\n",
      "Decoded sentence: Fouve !\n",
      "\n",
      "-\n",
      "Input sentence: Hi.\n",
      "Decoded sentence: Salut !\n",
      "\n",
      "-\n",
      "Input sentence: I go to school.\n",
      "Decoded sentence: Je vais travailler.\n",
      "\n",
      "-\n",
      "Input sentence: School.\n",
      "Decoded sentence: Chaitone ceurez !\n",
      "\n",
      "-\n",
      "Input sentence: Run.\n",
      "Decoded sentence: Cours !\n",
      "\n",
      "-\n",
      "Input sentence: Go.\n",
      "Decoded sentence: Bouge !\n",
      "\n",
      "-\n",
      "Input sentence: March.\n",
      "Decoded sentence: Calme-toi.\n",
      "\n",
      "-\n",
      "Input sentence: This is good.\n",
      "Decoded sentence: C'est la vie.\n",
      "\n",
      "-\n",
      "Input sentence: Sky is blue.\n",
      "Decoded sentence: Crouge !\n",
      "\n",
      "-\n",
      "Input sentence: blue\n",
      "Decoded sentence: Je l'ai ampré.\n",
      "\n",
      "-\n",
      "Input sentence: sky\n",
      "Decoded sentence: Time-tous !\n",
      "\n",
      "-\n",
      "Input sentence: Go to school.\n",
      "Decoded sentence: Va à l'écile.\n",
      "\n",
      "-\n",
      "Input sentence: I Go to school.\n",
      "Decoded sentence: Je ne perdrai pas.\n",
      "\n",
      "-\n",
      "Input sentence: I hate school.\n",
      "Decoded sentence: Je déteste le café.\n",
      "\n",
      "-\n",
      "Input sentence: I quit smoking.\n",
      "Decoded sentence: J'arrête a meigne.\n",
      "\n",
      "-\n",
      "Input sentence: Does it work?\n",
      "Decoded sentence: Est-ce que ça fonctionne ?\n",
      "\n",
      "-\n",
      "Input sentence: Does it hurt?\n",
      "Decoded sentence: Est-ce que ça fait mal ?\n",
      "\n",
      "-\n",
      "Input sentence: It hurts.\n",
      "Decoded sentence: Ça fait mal.\n",
      "\n",
      "-\n",
      "Input sentence: I'm weak.\n",
      "Decoded sentence: Je suis faible.\n",
      "\n",
      "-\n",
      "Input sentence: Tom is weak.\n",
      "Decoded sentence: Tom est faible.\n",
      "\n"
     ]
    }
   ],
   "source": [
    "encode_and_call(\"Go!\")\n",
    "\n",
    "encode_and_call(\"Hi.\")\n",
    "\n",
    "encode_and_call(\"I go to school.\")\n",
    "\n",
    "encode_and_call(\"School.\")\n",
    "\n",
    "encode_and_call(\"Run.\")\n",
    "\n",
    "encode_and_call(\"Go.\")\n",
    "\n",
    "encode_and_call(\"March.\")\n",
    "\n",
    "encode_and_call(\"This is good.\")\n",
    "\n",
    "encode_and_call(\"Sky is blue.\")\n",
    "\n",
    "encode_and_call(\"blue\")\n",
    "\n",
    "encode_and_call(\"sky\")\n",
    "\n",
    "encode_and_call(\"Go to school.\")\n",
    "\n",
    "encode_and_call(\"I Go to school.\")\n",
    "\n",
    "encode_and_call(\"I hate school.\")\n",
    "\n",
    "encode_and_call(\"I quit smoking.\")\n",
    "\n",
    "encode_and_call(\"Does it work?\")\n",
    "\n",
    "encode_and_call(\"Does it hurt?\")\n",
    "\n",
    "encode_and_call(\"It hurts.\")\n",
    "\n",
    "encode_and_call(\"I'm weak.\")\n",
    "\n",
    "encode_and_call(\"Tom is weak.\")"
   ]
  },
  {
   "cell_type": "code",
   "execution_count": null,
   "id": "829776d1",
   "metadata": {},
   "outputs": [],
   "source": []
  }
 ],
 "metadata": {
  "kernelspec": {
   "display_name": "Python 3",
   "language": "python",
   "name": "python3"
  },
  "language_info": {
   "codemirror_mode": {
    "name": "ipython",
    "version": 3
   },
   "file_extension": ".py",
   "mimetype": "text/x-python",
   "name": "python",
   "nbconvert_exporter": "python",
   "pygments_lexer": "ipython3",
   "version": "3.7.10"
  }
 },
 "nbformat": 4,
 "nbformat_minor": 5
}
