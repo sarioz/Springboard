{
 "cells": [
  {
   "cell_type": "markdown",
   "id": "26de5187",
   "metadata": {},
   "source": [
    "This is a codealong to https://keras.io/examples/nlp/lstm_seq2seq/ using my local Anaconda setup"
   ]
  },
  {
   "cell_type": "markdown",
   "id": "74ef03a1",
   "metadata": {},
   "source": [
    "Setup"
   ]
  },
  {
   "cell_type": "code",
   "execution_count": 34,
   "id": "0a5b3047",
   "metadata": {
    "ExecuteTime": {
     "end_time": "2021-05-15T13:16:25.614818Z",
     "start_time": "2021-05-15T13:16:25.612025Z"
    }
   },
   "outputs": [],
   "source": [
    "import numpy as np\n",
    "import tensorflow as tf\n",
    "from tensorflow import keras"
   ]
  },
  {
   "cell_type": "code",
   "execution_count": 35,
   "id": "891ef1d9",
   "metadata": {
    "ExecuteTime": {
     "end_time": "2021-05-15T13:16:25.784280Z",
     "start_time": "2021-05-15T13:16:25.779227Z"
    }
   },
   "outputs": [
    {
     "data": {
      "text/plain": [
       "('1.18.5', '2.0.0', '2.2.4-tf')"
      ]
     },
     "execution_count": 35,
     "metadata": {},
     "output_type": "execute_result"
    }
   ],
   "source": [
    "np.__version__, tf.__version__, keras.__version__"
   ]
  },
  {
   "cell_type": "markdown",
   "id": "11bc2c35",
   "metadata": {},
   "source": [
    "Download the data"
   ]
  },
  {
   "cell_type": "code",
   "execution_count": 36,
   "id": "79d6c241",
   "metadata": {
    "ExecuteTime": {
     "end_time": "2021-05-15T13:16:26.165322Z",
     "start_time": "2021-05-15T13:16:26.162839Z"
    }
   },
   "outputs": [],
   "source": [
    "# !!curl -O http://www.manythings.org/anki/fra-eng.zip\n",
    "# !!unzip fra-eng.zip"
   ]
  },
  {
   "cell_type": "markdown",
   "id": "dc5fe261",
   "metadata": {},
   "source": [
    "Configuration"
   ]
  },
  {
   "cell_type": "code",
   "execution_count": 37,
   "id": "f1122813",
   "metadata": {
    "ExecuteTime": {
     "end_time": "2021-05-15T13:16:26.614433Z",
     "start_time": "2021-05-15T13:16:26.610861Z"
    }
   },
   "outputs": [],
   "source": [
    "batch_size = 64  # Batch size for training\n",
    "epochs = 100  # Number of epochs to train for\n",
    "latent_dim = 256  # Latent dimensionality of the encoding space\n",
    "num_samples = 10000  # Number of samples to train on\n",
    "# Path to the data txt file on disk\n",
    "data_path = \"fra.txt\""
   ]
  },
  {
   "cell_type": "markdown",
   "id": "0bfe54f3",
   "metadata": {},
   "source": [
    "Prepare the data"
   ]
  },
  {
   "cell_type": "code",
   "execution_count": 38,
   "id": "a15b0e57",
   "metadata": {
    "ExecuteTime": {
     "end_time": "2021-05-15T13:16:27.485476Z",
     "start_time": "2021-05-15T13:16:27.322919Z"
    }
   },
   "outputs": [],
   "source": [
    "input_texts = []\n",
    "target_texts = []\n",
    "input_characters = set()\n",
    "target_characters = set()\n",
    "with open(data_path, \"r\", encoding=\"utf-8\") as f:\n",
    "    lines = f.read().split(\"\\n\")\n",
    "for line in lines[: min(num_samples, len(lines) - 1)]:\n",
    "    input_text, target_text, _ = line.split(\"\\t\")\n",
    "    # We use \"tab\" as the \"start sequence\" character\n",
    "    # for the targets, and \"\\n\" as \"end sequence\" character.\n",
    "    target_text = \"\\t\" + target_text + \"\\n\"\n",
    "    input_texts.append(input_text)\n",
    "    target_texts.append(target_text)\n",
    "    for char in input_text:\n",
    "        input_characters.add(char)\n",
    "    for char in target_text:\n",
    "        target_characters.add(char)"
   ]
  },
  {
   "cell_type": "code",
   "execution_count": 39,
   "id": "71297067",
   "metadata": {
    "ExecuteTime": {
     "end_time": "2021-05-15T13:16:27.737110Z",
     "start_time": "2021-05-15T13:16:27.731053Z"
    }
   },
   "outputs": [],
   "source": [
    "input_characters = sorted(list(input_characters))\n",
    "target_characters = sorted(list(target_characters))\n",
    "num_encoder_tokens = len(input_characters)\n",
    "num_decoder_tokens = len(target_characters)\n",
    "max_encoder_seq_length = max([len(txt) for txt in input_texts])\n",
    "max_decoder_seq_length = max([len(txt) for txt in target_texts])"
   ]
  },
  {
   "cell_type": "code",
   "execution_count": 40,
   "id": "36f8b342",
   "metadata": {
    "ExecuteTime": {
     "end_time": "2021-05-15T13:16:28.214655Z",
     "start_time": "2021-05-15T13:16:28.210480Z"
    }
   },
   "outputs": [
    {
     "name": "stdout",
     "output_type": "stream",
     "text": [
      "Number of samples: 10000\n",
      "Number of unique input tokens: 71\n",
      "Number of unique output tokens: 93\n",
      "Max sequence length for inputs: 15\n",
      "Max sequence length for outputs: 59\n"
     ]
    }
   ],
   "source": [
    "print(\"Number of samples:\", len(input_texts))\n",
    "print(\"Number of unique input tokens:\", num_encoder_tokens)\n",
    "print(\"Number of unique output tokens:\", num_decoder_tokens)\n",
    "print(\"Max sequence length for inputs:\", max_encoder_seq_length)\n",
    "print(\"Max sequence length for outputs:\", max_decoder_seq_length)"
   ]
  },
  {
   "cell_type": "code",
   "execution_count": 41,
   "id": "65d3dc27",
   "metadata": {
    "ExecuteTime": {
     "end_time": "2021-05-15T13:16:29.045833Z",
     "start_time": "2021-05-15T13:16:29.043001Z"
    }
   },
   "outputs": [
    {
     "name": "stdout",
     "output_type": "stream",
     "text": [
      "[' ', '!', '\"', '$', '%', '&', \"'\", ',', '-', '.', '0', '1', '2', '3', '5', '7', '8', '9', ':', '?', 'A', 'B', 'C', 'D', 'E', 'F', 'G', 'H', 'I', 'J', 'K', 'L', 'M', 'N', 'O', 'P', 'Q', 'R', 'S', 'T', 'U', 'V', 'W', 'Y', 'a', 'b', 'c', 'd', 'e', 'f', 'g', 'h', 'i', 'j', 'k', 'l', 'm', 'n', 'o', 'p', 'q', 'r', 's', 't', 'u', 'v', 'w', 'x', 'y', 'z', 'é']\n"
     ]
    }
   ],
   "source": [
    "print(input_characters)"
   ]
  },
  {
   "cell_type": "code",
   "execution_count": 42,
   "id": "dc3d7b94",
   "metadata": {
    "ExecuteTime": {
     "end_time": "2021-05-15T13:16:29.589648Z",
     "start_time": "2021-05-15T13:16:29.586839Z"
    }
   },
   "outputs": [
    {
     "name": "stdout",
     "output_type": "stream",
     "text": [
      "['\\t', '\\n', ' ', '!', '$', '%', '&', \"'\", '(', ')', ',', '-', '.', '0', '1', '2', '3', '5', '8', '9', ':', '?', 'A', 'B', 'C', 'D', 'E', 'F', 'G', 'H', 'I', 'J', 'K', 'L', 'M', 'N', 'O', 'P', 'Q', 'R', 'S', 'T', 'U', 'V', 'Y', 'a', 'b', 'c', 'd', 'e', 'f', 'g', 'h', 'i', 'j', 'k', 'l', 'm', 'n', 'o', 'p', 'q', 'r', 's', 't', 'u', 'v', 'w', 'x', 'y', 'z', '\\xa0', '«', '»', 'À', 'Ç', 'É', 'Ê', 'à', 'â', 'ç', 'è', 'é', 'ê', 'î', 'ï', 'ô', 'ù', 'û', 'œ', '\\u2009', '’', '\\u202f']\n"
     ]
    }
   ],
   "source": [
    "print(target_characters)"
   ]
  },
  {
   "cell_type": "code",
   "execution_count": 43,
   "id": "5cd21b77",
   "metadata": {
    "ExecuteTime": {
     "end_time": "2021-05-15T13:16:29.921563Z",
     "start_time": "2021-05-15T13:16:29.915346Z"
    }
   },
   "outputs": [
    {
     "name": "stdout",
     "output_type": "stream",
     "text": [
      "I got carded. \tOn m'a demandé ma carte d'identité pour vérifier mon âge.\n",
      "\n"
     ]
    }
   ],
   "source": [
    "for i in range(len(input_texts)):\n",
    "    if len(target_texts[i]) == 59:\n",
    "        print(input_texts[i], target_texts[i])"
   ]
  },
  {
   "cell_type": "code",
   "execution_count": 44,
   "id": "2fc69e74",
   "metadata": {
    "ExecuteTime": {
     "end_time": "2021-05-15T13:16:30.464907Z",
     "start_time": "2021-05-15T13:16:30.442991Z"
    }
   },
   "outputs": [],
   "source": [
    "input_token_index = dict([(char, i) for i, char in enumerate(input_characters)])\n",
    "target_token_index = dict([(char, i) for i, char in enumerate(target_characters)])\n",
    "\n",
    "encoder_input_data = np.zeros(\n",
    "    (len(input_texts), max_encoder_seq_length, num_encoder_tokens), dtype=\"float32\"\n",
    ")\n",
    "\n",
    "decoder_input_data = np.zeros(\n",
    "    (len(input_texts), max_decoder_seq_length, num_decoder_tokens), dtype=\"float32\"\n",
    ")\n",
    "\n",
    "decoder_target_data = np.zeros(\n",
    "    (len(input_texts), max_decoder_seq_length, num_decoder_tokens), dtype=\"float32\"\n",
    ")"
   ]
  },
  {
   "cell_type": "code",
   "execution_count": 45,
   "id": "fdc4581e",
   "metadata": {
    "ExecuteTime": {
     "end_time": "2021-05-15T13:16:31.603552Z",
     "start_time": "2021-05-15T13:16:30.994996Z"
    }
   },
   "outputs": [],
   "source": [
    "for i, (input_text, target_text) in enumerate(zip(input_texts, target_texts)):\n",
    "    for t, char in enumerate(input_text):\n",
    "        encoder_input_data[i, t, input_token_index[char]] = 1.0\n",
    "    encoder_input_data[i, t + 1 :, input_token_index[\" \"]] = 1.0\n",
    "    for t, char in enumerate(target_text):\n",
    "        # decoder_target_data is ahead of decoder_input_data by one timestep\n",
    "        decoder_input_data[i, t, target_token_index[char]] = 1.0\n",
    "        if t > 0:\n",
    "            # decoder_target_data will be ahead by one timestep\n",
    "            # and will not include the start character.\n",
    "            decoder_target_data[i, t - 1, target_token_index[char]] = 1.0\n",
    "        decoder_input_data[i, t + 1 :, target_token_index[\" \"]] = 1.0\n",
    "        decoder_target_data[i, t:, target_token_index[\" \"]] = 1.0"
   ]
  },
  {
   "cell_type": "markdown",
   "id": "6fb24701",
   "metadata": {},
   "source": [
    "Build the model"
   ]
  },
  {
   "cell_type": "code",
   "execution_count": 46,
   "id": "aa563eeb",
   "metadata": {
    "ExecuteTime": {
     "end_time": "2021-05-15T13:16:33.516467Z",
     "start_time": "2021-05-15T13:16:32.786998Z"
    }
   },
   "outputs": [],
   "source": [
    "# Define an input sequence and process it.\n",
    "encoder_inputs = keras.Input(shape=(None, num_encoder_tokens))\n",
    "encoder = keras.layers.LSTM(latent_dim, return_state=True)\n",
    "encoder_outputs, state_h, state_c = encoder(encoder_inputs)"
   ]
  },
  {
   "cell_type": "code",
   "execution_count": 47,
   "id": "95c74658",
   "metadata": {
    "ExecuteTime": {
     "end_time": "2021-05-15T13:16:33.521101Z",
     "start_time": "2021-05-15T13:16:33.518794Z"
    }
   },
   "outputs": [],
   "source": [
    "# We discard `encoder_outputs` and only keep the states.\n",
    "encoder_states = [state_h, state_c]"
   ]
  },
  {
   "cell_type": "code",
   "execution_count": 48,
   "id": "6dd46b1b",
   "metadata": {
    "ExecuteTime": {
     "end_time": "2021-05-15T13:16:33.528109Z",
     "start_time": "2021-05-15T13:16:33.523919Z"
    }
   },
   "outputs": [],
   "source": [
    "# Set up the decoder, using `encoder_states` as initial state.\n",
    "decoder_inputs = keras.Input(shape=(None, num_decoder_tokens))"
   ]
  },
  {
   "cell_type": "code",
   "execution_count": 49,
   "id": "fd8f3d3f",
   "metadata": {
    "ExecuteTime": {
     "end_time": "2021-05-15T13:16:34.365890Z",
     "start_time": "2021-05-15T13:16:33.610356Z"
    }
   },
   "outputs": [],
   "source": [
    "# We set up our decoder to return full output sequences,\n",
    "# and to return internal states as well. We don't use the\n",
    "# return states in the training model, but we will use them in inference.\n",
    "decoder_lstm = keras.layers.LSTM(latent_dim, return_sequences=True, return_state=True)\n",
    "decoder_outputs, _, _ = decoder_lstm(decoder_inputs, initial_state=encoder_states)\n",
    "decoder_dense = keras.layers.Dense(num_decoder_tokens, activation=\"softmax\")\n",
    "decoder_outputs = decoder_dense(decoder_outputs)"
   ]
  },
  {
   "cell_type": "code",
   "execution_count": 50,
   "id": "ec877161",
   "metadata": {
    "ExecuteTime": {
     "end_time": "2021-05-15T13:16:34.372021Z",
     "start_time": "2021-05-15T13:16:34.368146Z"
    }
   },
   "outputs": [],
   "source": [
    "# Define the model that will turn\n",
    "# `encoder_input_data` & `decoder_input_data` into `decoder_target_data`\n",
    "model = keras.Model([encoder_inputs, decoder_inputs], decoder_outputs)"
   ]
  },
  {
   "cell_type": "code",
   "execution_count": 57,
   "id": "69e49684",
   "metadata": {
    "ExecuteTime": {
     "end_time": "2021-05-15T16:11:49.616226Z",
     "start_time": "2021-05-15T16:11:49.611585Z"
    }
   },
   "outputs": [
    {
     "name": "stdout",
     "output_type": "stream",
     "text": [
      "Model: \"model_5\"\n",
      "__________________________________________________________________________________________________\n",
      "Layer (type)                    Output Shape         Param #     Connected to                     \n",
      "==================================================================================================\n",
      "input_3 (InputLayer)            [(None, None, 71)]   0                                            \n",
      "__________________________________________________________________________________________________\n",
      "input_4 (InputLayer)            [(None, None, 93)]   0                                            \n",
      "__________________________________________________________________________________________________\n",
      "lstm_2 (LSTM)                   [(None, 256), (None, 335872      input_3[0][0]                    \n",
      "__________________________________________________________________________________________________\n",
      "lstm_3 (LSTM)                   [(None, None, 256),  358400      input_4[0][0]                    \n",
      "                                                                 lstm_2[0][1]                     \n",
      "                                                                 lstm_2[0][2]                     \n",
      "__________________________________________________________________________________________________\n",
      "dense_1 (Dense)                 (None, None, 93)     23901       lstm_3[0][0]                     \n",
      "==================================================================================================\n",
      "Total params: 718,173\n",
      "Trainable params: 718,173\n",
      "Non-trainable params: 0\n",
      "__________________________________________________________________________________________________\n"
     ]
    }
   ],
   "source": [
    "model.summary()"
   ]
  },
  {
   "cell_type": "markdown",
   "id": "a66c3012",
   "metadata": {},
   "source": [
    "Train the model"
   ]
  },
  {
   "cell_type": "code",
   "execution_count": 52,
   "id": "f608139b",
   "metadata": {
    "ExecuteTime": {
     "end_time": "2021-05-15T13:16:36.854628Z",
     "start_time": "2021-05-15T13:16:36.818842Z"
    },
    "scrolled": true
   },
   "outputs": [],
   "source": [
    "model.compile(\n",
    "    optimizer=\"rmsprop\", loss=\"categorical_crossentropy\", metrics=[\"accuracy\"]\n",
    ")"
   ]
  },
  {
   "cell_type": "code",
   "execution_count": 53,
   "id": "52435143",
   "metadata": {
    "ExecuteTime": {
     "end_time": "2021-05-15T16:09:56.186507Z",
     "start_time": "2021-05-15T13:16:37.963300Z"
    }
   },
   "outputs": [
    {
     "name": "stdout",
     "output_type": "stream",
     "text": [
      "Train on 8000 samples, validate on 2000 samples\n",
      "Epoch 1/100\n",
      "8000/8000 [==============================] - 80s 10ms/sample - loss: 1.3672 - accuracy: 0.9752 - val_loss: 1.3926 - val_accuracy: 0.9831\n",
      "Epoch 2/100\n",
      "8000/8000 [==============================] - 101s 13ms/sample - loss: 1.1401 - accuracy: 0.9850 - val_loss: 1.1982 - val_accuracy: 0.9910\n",
      "Epoch 3/100\n",
      "8000/8000 [==============================] - 102s 13ms/sample - loss: 1.0142 - accuracy: 0.9896 - val_loss: 1.1021 - val_accuracy: 0.9949\n",
      "Epoch 4/100\n",
      "8000/8000 [==============================] - 98s 12ms/sample - loss: 0.9432 - accuracy: 0.9859 - val_loss: 1.0570 - val_accuracy: 0.9607\n",
      "Epoch 5/100\n",
      "8000/8000 [==============================] - 101s 13ms/sample - loss: 0.9035 - accuracy: 0.9790 - val_loss: 1.0175 - val_accuracy: 0.9879\n",
      "Epoch 6/100\n",
      "8000/8000 [==============================] - 101s 13ms/sample - loss: 0.8736 - accuracy: 0.9754 - val_loss: 0.9915 - val_accuracy: 0.9683\n",
      "Epoch 7/100\n",
      "8000/8000 [==============================] - 101s 13ms/sample - loss: 0.8494 - accuracy: 0.9716 - val_loss: 0.9659 - val_accuracy: 0.9743\n",
      "Epoch 8/100\n",
      "8000/8000 [==============================] - 101s 13ms/sample - loss: 0.8283 - accuracy: 0.9694 - val_loss: 0.9552 - val_accuracy: 0.9460\n",
      "Epoch 9/100\n",
      "8000/8000 [==============================] - 101s 13ms/sample - loss: 0.8105 - accuracy: 0.9664 - val_loss: 0.9352 - val_accuracy: 0.9722\n",
      "Epoch 10/100\n",
      "8000/8000 [==============================] - 100s 13ms/sample - loss: 0.7958 - accuracy: 0.9640 - val_loss: 0.9226 - val_accuracy: 0.9470\n",
      "Epoch 11/100\n",
      "8000/8000 [==============================] - 103s 13ms/sample - loss: 0.7825 - accuracy: 0.9614 - val_loss: 0.9138 - val_accuracy: 0.9660\n",
      "Epoch 12/100\n",
      "8000/8000 [==============================] - 102s 13ms/sample - loss: 0.7696 - accuracy: 0.9601 - val_loss: 0.9031 - val_accuracy: 0.9619\n",
      "Epoch 13/100\n",
      "8000/8000 [==============================] - 100s 12ms/sample - loss: 0.7583 - accuracy: 0.9577 - val_loss: 0.8966 - val_accuracy: 0.9447\n",
      "Epoch 14/100\n",
      "8000/8000 [==============================] - 101s 13ms/sample - loss: 0.7474 - accuracy: 0.9555 - val_loss: 0.8882 - val_accuracy: 0.9632\n",
      "Epoch 15/100\n",
      "8000/8000 [==============================] - 100s 13ms/sample - loss: 0.7366 - accuracy: 0.9537 - val_loss: 0.8845 - val_accuracy: 0.9611\n",
      "Epoch 16/100\n",
      "8000/8000 [==============================] - 104s 13ms/sample - loss: 0.7265 - accuracy: 0.9519 - val_loss: 0.8761 - val_accuracy: 0.9423\n",
      "Epoch 17/100\n",
      "8000/8000 [==============================] - 113s 14ms/sample - loss: 0.7173 - accuracy: 0.9499 - val_loss: 0.8739 - val_accuracy: 0.9337\n",
      "Epoch 18/100\n",
      "8000/8000 [==============================] - 101s 13ms/sample - loss: 0.7078 - accuracy: 0.9487 - val_loss: 0.8673 - val_accuracy: 0.9486\n",
      "Epoch 19/100\n",
      "8000/8000 [==============================] - 101s 13ms/sample - loss: 0.6991 - accuracy: 0.9464 - val_loss: 0.8600 - val_accuracy: 0.9462\n",
      "Epoch 20/100\n",
      "8000/8000 [==============================] - 104s 13ms/sample - loss: 0.6906 - accuracy: 0.9443 - val_loss: 0.8619 - val_accuracy: 0.9456\n",
      "Epoch 21/100\n",
      "8000/8000 [==============================] - 107s 13ms/sample - loss: 0.6827 - accuracy: 0.9424 - val_loss: 0.8557 - val_accuracy: 0.9420\n",
      "Epoch 22/100\n",
      "8000/8000 [==============================] - 104s 13ms/sample - loss: 0.6751 - accuracy: 0.9410 - val_loss: 0.8604 - val_accuracy: 0.9254\n",
      "Epoch 23/100\n",
      "8000/8000 [==============================] - 100s 12ms/sample - loss: 0.6678 - accuracy: 0.9394 - val_loss: 0.8566 - val_accuracy: 0.9566\n",
      "Epoch 24/100\n",
      "8000/8000 [==============================] - 104s 13ms/sample - loss: 0.6606 - accuracy: 0.9385 - val_loss: 0.8516 - val_accuracy: 0.9266\n",
      "Epoch 25/100\n",
      "8000/8000 [==============================] - 99s 12ms/sample - loss: 0.6537 - accuracy: 0.9365 - val_loss: 0.8502 - val_accuracy: 0.9286\n",
      "Epoch 26/100\n",
      "8000/8000 [==============================] - 99s 12ms/sample - loss: 0.6472 - accuracy: 0.9351 - val_loss: 0.8476 - val_accuracy: 0.9382\n",
      "Epoch 27/100\n",
      "8000/8000 [==============================] - 99s 12ms/sample - loss: 0.6407 - accuracy: 0.9339 - val_loss: 0.8498 - val_accuracy: 0.9364\n",
      "Epoch 28/100\n",
      "8000/8000 [==============================] - 100s 13ms/sample - loss: 0.6348 - accuracy: 0.9327 - val_loss: 0.8471 - val_accuracy: 0.9482\n",
      "Epoch 29/100\n",
      "8000/8000 [==============================] - 102s 13ms/sample - loss: 0.6290 - accuracy: 0.9307 - val_loss: 0.8485 - val_accuracy: 0.9309\n",
      "Epoch 30/100\n",
      "8000/8000 [==============================] - 103s 13ms/sample - loss: 0.6233 - accuracy: 0.9295 - val_loss: 0.8459 - val_accuracy: 0.9180\n",
      "Epoch 31/100\n",
      "8000/8000 [==============================] - 101s 13ms/sample - loss: 0.6175 - accuracy: 0.9286 - val_loss: 0.8495 - val_accuracy: 0.9420\n",
      "Epoch 32/100\n",
      "8000/8000 [==============================] - 101s 13ms/sample - loss: 0.6123 - accuracy: 0.9271 - val_loss: 0.8494 - val_accuracy: 0.9345\n",
      "Epoch 33/100\n",
      "8000/8000 [==============================] - 102s 13ms/sample - loss: 0.6071 - accuracy: 0.9265 - val_loss: 0.8521 - val_accuracy: 0.9416\n",
      "Epoch 34/100\n",
      "8000/8000 [==============================] - 106s 13ms/sample - loss: 0.6019 - accuracy: 0.9245 - val_loss: 0.8440 - val_accuracy: 0.9337\n",
      "Epoch 35/100\n",
      "8000/8000 [==============================] - 101s 13ms/sample - loss: 0.5974 - accuracy: 0.9240 - val_loss: 0.8497 - val_accuracy: 0.9363\n",
      "Epoch 36/100\n",
      "8000/8000 [==============================] - 100s 13ms/sample - loss: 0.5924 - accuracy: 0.9233 - val_loss: 0.8484 - val_accuracy: 0.9107\n",
      "Epoch 37/100\n",
      "8000/8000 [==============================] - 100s 13ms/sample - loss: 0.5878 - accuracy: 0.9219 - val_loss: 0.8494 - val_accuracy: 0.9237\n",
      "Epoch 38/100\n",
      "8000/8000 [==============================] - 100s 12ms/sample - loss: 0.5834 - accuracy: 0.9211 - val_loss: 0.8480 - val_accuracy: 0.9208\n",
      "Epoch 39/100\n",
      "8000/8000 [==============================] - 99s 12ms/sample - loss: 0.5793 - accuracy: 0.9197 - val_loss: 0.8547 - val_accuracy: 0.9360\n",
      "Epoch 40/100\n",
      "8000/8000 [==============================] - 99s 12ms/sample - loss: 0.5752 - accuracy: 0.9191 - val_loss: 0.8546 - val_accuracy: 0.9222\n",
      "Epoch 41/100\n",
      "8000/8000 [==============================] - 99s 12ms/sample - loss: 0.5712 - accuracy: 0.9184 - val_loss: 0.8573 - val_accuracy: 0.9277\n",
      "Epoch 42/100\n",
      "8000/8000 [==============================] - 99s 12ms/sample - loss: 0.5670 - accuracy: 0.9175 - val_loss: 0.8578 - val_accuracy: 0.9214\n",
      "Epoch 43/100\n",
      "8000/8000 [==============================] - 102s 13ms/sample - loss: 0.5633 - accuracy: 0.9165 - val_loss: 0.8624 - val_accuracy: 0.9171\n",
      "Epoch 44/100\n",
      "8000/8000 [==============================] - 166s 21ms/sample - loss: 0.5596 - accuracy: 0.9155 - val_loss: 0.8631 - val_accuracy: 0.9240\n",
      "Epoch 45/100\n",
      "8000/8000 [==============================] - 119s 15ms/sample - loss: 0.5558 - accuracy: 0.9150 - val_loss: 0.8630 - val_accuracy: 0.9154\n",
      "Epoch 46/100\n",
      "8000/8000 [==============================] - 113s 14ms/sample - loss: 0.5522 - accuracy: 0.9141 - val_loss: 0.8619 - val_accuracy: 0.9205\n",
      "Epoch 47/100\n",
      "8000/8000 [==============================] - 110s 14ms/sample - loss: 0.5488 - accuracy: 0.9131 - val_loss: 0.8653 - val_accuracy: 0.9098\n",
      "Epoch 48/100\n",
      "8000/8000 [==============================] - 106s 13ms/sample - loss: 0.5458 - accuracy: 0.9127 - val_loss: 0.8653 - val_accuracy: 0.9152\n",
      "Epoch 49/100\n",
      "8000/8000 [==============================] - 104s 13ms/sample - loss: 0.5421 - accuracy: 0.9120 - val_loss: 0.8696 - val_accuracy: 0.9063\n",
      "Epoch 50/100\n",
      "8000/8000 [==============================] - 106s 13ms/sample - loss: 0.5392 - accuracy: 0.9111 - val_loss: 0.8725 - val_accuracy: 0.9174\n",
      "Epoch 51/100\n",
      "8000/8000 [==============================] - 101s 13ms/sample - loss: 0.5363 - accuracy: 0.9104 - val_loss: 0.8765 - val_accuracy: 0.9246\n",
      "Epoch 52/100\n",
      "8000/8000 [==============================] - 104s 13ms/sample - loss: 0.5332 - accuracy: 0.9103 - val_loss: 0.8733 - val_accuracy: 0.9102\n",
      "Epoch 53/100\n",
      "8000/8000 [==============================] - 103s 13ms/sample - loss: 0.5305 - accuracy: 0.9093 - val_loss: 0.8797 - val_accuracy: 0.9199\n",
      "Epoch 54/100\n",
      "8000/8000 [==============================] - 101s 13ms/sample - loss: 0.5277 - accuracy: 0.9087 - val_loss: 0.8831 - val_accuracy: 0.9091\n",
      "Epoch 55/100\n"
     ]
    },
    {
     "name": "stdout",
     "output_type": "stream",
     "text": [
      "8000/8000 [==============================] - 102s 13ms/sample - loss: 0.5253 - accuracy: 0.9079 - val_loss: 0.8900 - val_accuracy: 0.9247\n",
      "Epoch 56/100\n",
      "8000/8000 [==============================] - 103s 13ms/sample - loss: 0.5222 - accuracy: 0.9075 - val_loss: 0.8830 - val_accuracy: 0.9145\n",
      "Epoch 57/100\n",
      "8000/8000 [==============================] - 104s 13ms/sample - loss: 0.5198 - accuracy: 0.9067 - val_loss: 0.8880 - val_accuracy: 0.9128\n",
      "Epoch 58/100\n",
      "8000/8000 [==============================] - 102s 13ms/sample - loss: 0.5172 - accuracy: 0.9063 - val_loss: 0.8948 - val_accuracy: 0.9252\n",
      "Epoch 59/100\n",
      "8000/8000 [==============================] - 102s 13ms/sample - loss: 0.5150 - accuracy: 0.9057 - val_loss: 0.8896 - val_accuracy: 0.9196\n",
      "Epoch 60/100\n",
      "8000/8000 [==============================] - 106s 13ms/sample - loss: 0.5126 - accuracy: 0.9054 - val_loss: 0.9006 - val_accuracy: 0.9140\n",
      "Epoch 61/100\n",
      "8000/8000 [==============================] - 102s 13ms/sample - loss: 0.5101 - accuracy: 0.9049 - val_loss: 0.9019 - val_accuracy: 0.9108\n",
      "Epoch 62/100\n",
      "8000/8000 [==============================] - 104s 13ms/sample - loss: 0.5079 - accuracy: 0.9041 - val_loss: 0.9000 - val_accuracy: 0.9193\n",
      "Epoch 63/100\n",
      "8000/8000 [==============================] - 105s 13ms/sample - loss: 0.5056 - accuracy: 0.9044 - val_loss: 0.9008 - val_accuracy: 0.9097\n",
      "Epoch 64/100\n",
      "8000/8000 [==============================] - 106s 13ms/sample - loss: 0.5038 - accuracy: 0.9035 - val_loss: 0.9049 - val_accuracy: 0.9105\n",
      "Epoch 65/100\n",
      "8000/8000 [==============================] - 107s 13ms/sample - loss: 0.5013 - accuracy: 0.9030 - val_loss: 0.9085 - val_accuracy: 0.9099\n",
      "Epoch 66/100\n",
      "8000/8000 [==============================] - 104s 13ms/sample - loss: 0.4994 - accuracy: 0.9027 - val_loss: 0.9162 - val_accuracy: 0.9158\n",
      "Epoch 67/100\n",
      "8000/8000 [==============================] - 110s 14ms/sample - loss: 0.4976 - accuracy: 0.9021 - val_loss: 0.9127 - val_accuracy: 0.9014\n",
      "Epoch 68/100\n",
      "8000/8000 [==============================] - 105s 13ms/sample - loss: 0.4958 - accuracy: 0.9012 - val_loss: 0.9129 - val_accuracy: 0.9078\n",
      "Epoch 69/100\n",
      "8000/8000 [==============================] - 103s 13ms/sample - loss: 0.4940 - accuracy: 0.9013 - val_loss: 0.9163 - val_accuracy: 0.9025\n",
      "Epoch 70/100\n",
      "8000/8000 [==============================] - 103s 13ms/sample - loss: 0.4921 - accuracy: 0.9011 - val_loss: 0.9216 - val_accuracy: 0.9080\n",
      "Epoch 71/100\n",
      "8000/8000 [==============================] - 104s 13ms/sample - loss: 0.4902 - accuracy: 0.9004 - val_loss: 0.9247 - val_accuracy: 0.9121\n",
      "Epoch 72/100\n",
      "8000/8000 [==============================] - 105s 13ms/sample - loss: 0.4887 - accuracy: 0.9002 - val_loss: 0.9330 - val_accuracy: 0.9197\n",
      "Epoch 73/100\n",
      "8000/8000 [==============================] - 104s 13ms/sample - loss: 0.4866 - accuracy: 0.8999 - val_loss: 0.9314 - val_accuracy: 0.9060\n",
      "Epoch 74/100\n",
      "8000/8000 [==============================] - 106s 13ms/sample - loss: 0.4851 - accuracy: 0.8995 - val_loss: 0.9336 - val_accuracy: 0.9066\n",
      "Epoch 75/100\n",
      "8000/8000 [==============================] - 104s 13ms/sample - loss: 0.4835 - accuracy: 0.8990 - val_loss: 0.9374 - val_accuracy: 0.9081\n",
      "Epoch 76/100\n",
      "8000/8000 [==============================] - 105s 13ms/sample - loss: 0.4818 - accuracy: 0.8987 - val_loss: 0.9431 - val_accuracy: 0.9170\n",
      "Epoch 77/100\n",
      "8000/8000 [==============================] - 107s 13ms/sample - loss: 0.4804 - accuracy: 0.8984 - val_loss: 0.9429 - val_accuracy: 0.9134\n",
      "Epoch 78/100\n",
      "8000/8000 [==============================] - 108s 13ms/sample - loss: 0.4789 - accuracy: 0.8980 - val_loss: 0.9435 - val_accuracy: 0.9045\n",
      "Epoch 79/100\n",
      "8000/8000 [==============================] - 104s 13ms/sample - loss: 0.4775 - accuracy: 0.8977 - val_loss: 0.9459 - val_accuracy: 0.9007\n",
      "Epoch 80/100\n",
      "8000/8000 [==============================] - 104s 13ms/sample - loss: 0.4759 - accuracy: 0.8975 - val_loss: 0.9474 - val_accuracy: 0.9012\n",
      "Epoch 81/100\n",
      "8000/8000 [==============================] - 107s 13ms/sample - loss: 0.4746 - accuracy: 0.8966 - val_loss: 0.9521 - val_accuracy: 0.9102\n",
      "Epoch 82/100\n",
      "8000/8000 [==============================] - 106s 13ms/sample - loss: 0.4734 - accuracy: 0.8966 - val_loss: 0.9559 - val_accuracy: 0.9127\n",
      "Epoch 83/100\n",
      "8000/8000 [==============================] - 103s 13ms/sample - loss: 0.4721 - accuracy: 0.8961 - val_loss: 0.9535 - val_accuracy: 0.9103\n",
      "Epoch 84/100\n",
      "8000/8000 [==============================] - 108s 14ms/sample - loss: 0.4708 - accuracy: 0.8966 - val_loss: 0.9531 - val_accuracy: 0.9025\n",
      "Epoch 85/100\n",
      "8000/8000 [==============================] - 105s 13ms/sample - loss: 0.4698 - accuracy: 0.8959 - val_loss: 0.9574 - val_accuracy: 0.8991\n",
      "Epoch 86/100\n",
      "8000/8000 [==============================] - 104s 13ms/sample - loss: 0.4684 - accuracy: 0.8954 - val_loss: 0.9618 - val_accuracy: 0.9107\n",
      "Epoch 87/100\n",
      "8000/8000 [==============================] - 104s 13ms/sample - loss: 0.4672 - accuracy: 0.8956 - val_loss: 0.9663 - val_accuracy: 0.9012\n",
      "Epoch 88/100\n",
      "8000/8000 [==============================] - 107s 13ms/sample - loss: 0.4660 - accuracy: 0.8949 - val_loss: 0.9674 - val_accuracy: 0.9122\n",
      "Epoch 89/100\n",
      "8000/8000 [==============================] - 103s 13ms/sample - loss: 0.4650 - accuracy: 0.8944 - val_loss: 0.9698 - val_accuracy: 0.9066\n",
      "Epoch 90/100\n",
      "8000/8000 [==============================] - 106s 13ms/sample - loss: 0.4638 - accuracy: 0.8942 - val_loss: 0.9758 - val_accuracy: 0.9117\n",
      "Epoch 91/100\n",
      "8000/8000 [==============================] - 107s 13ms/sample - loss: 0.4626 - accuracy: 0.8947 - val_loss: 0.9754 - val_accuracy: 0.9049\n",
      "Epoch 92/100\n",
      "8000/8000 [==============================] - 106s 13ms/sample - loss: 0.4616 - accuracy: 0.8944 - val_loss: 0.9702 - val_accuracy: 0.9013\n",
      "Epoch 93/100\n",
      "8000/8000 [==============================] - 104s 13ms/sample - loss: 0.4609 - accuracy: 0.8937 - val_loss: 0.9786 - val_accuracy: 0.9072\n",
      "Epoch 94/100\n",
      "8000/8000 [==============================] - 112s 14ms/sample - loss: 0.4595 - accuracy: 0.8935 - val_loss: 0.9767 - val_accuracy: 0.8967\n",
      "Epoch 95/100\n",
      "8000/8000 [==============================] - 105s 13ms/sample - loss: 0.4583 - accuracy: 0.8928 - val_loss: 0.9827 - val_accuracy: 0.9019\n",
      "Epoch 96/100\n",
      "8000/8000 [==============================] - 106s 13ms/sample - loss: 0.4578 - accuracy: 0.8925 - val_loss: 0.9851 - val_accuracy: 0.9073\n",
      "Epoch 97/100\n",
      "8000/8000 [==============================] - 106s 13ms/sample - loss: 0.4568 - accuracy: 0.8923 - val_loss: 0.9881 - val_accuracy: 0.9111\n",
      "Epoch 98/100\n",
      "8000/8000 [==============================] - 102s 13ms/sample - loss: 0.4554 - accuracy: 0.8923 - val_loss: 0.9864 - val_accuracy: 0.9040\n",
      "Epoch 99/100\n",
      "8000/8000 [==============================] - 103s 13ms/sample - loss: 0.4548 - accuracy: 0.8921 - val_loss: 0.9901 - val_accuracy: 0.9065\n",
      "Epoch 100/100\n",
      "8000/8000 [==============================] - 103s 13ms/sample - loss: 0.4539 - accuracy: 0.8921 - val_loss: 0.9947 - val_accuracy: 0.9084\n"
     ]
    },
    {
     "data": {
      "text/plain": [
       "<tensorflow.python.keras.callbacks.History at 0x7ff712296090>"
      ]
     },
     "execution_count": 53,
     "metadata": {},
     "output_type": "execute_result"
    }
   ],
   "source": [
    "model.fit(\n",
    "    [encoder_input_data, decoder_input_data],\n",
    "    decoder_target_data,\n",
    "    batch_size=batch_size,\n",
    "    epochs=epochs,\n",
    "    validation_split=0.2\n",
    ")"
   ]
  },
  {
   "cell_type": "code",
   "execution_count": 54,
   "id": "52932970",
   "metadata": {
    "ExecuteTime": {
     "end_time": "2021-05-15T16:11:22.647867Z",
     "start_time": "2021-05-15T16:11:22.609876Z"
    }
   },
   "outputs": [],
   "source": [
    "# Save model\n",
    "model.save(\"s2s_100epochs.h5\")  # to use TF 2.0, must end with \".h5\""
   ]
  },
  {
   "cell_type": "code",
   "execution_count": 60,
   "id": "b4bc48fe",
   "metadata": {
    "ExecuteTime": {
     "end_time": "2021-05-15T16:12:24.479638Z",
     "start_time": "2021-05-15T16:12:21.043340Z"
    }
   },
   "outputs": [],
   "source": [
    "model = keras.models.load_model(\"s2s_100epochs.h5\")"
   ]
  },
  {
   "cell_type": "code",
   "execution_count": 61,
   "id": "ec49afa7",
   "metadata": {
    "ExecuteTime": {
     "end_time": "2021-05-15T16:12:25.376893Z",
     "start_time": "2021-05-15T16:12:25.371817Z"
    }
   },
   "outputs": [
    {
     "name": "stdout",
     "output_type": "stream",
     "text": [
      "Model: \"model_5\"\n",
      "__________________________________________________________________________________________________\n",
      "Layer (type)                    Output Shape         Param #     Connected to                     \n",
      "==================================================================================================\n",
      "input_3 (InputLayer)            [(None, None, 71)]   0                                            \n",
      "__________________________________________________________________________________________________\n",
      "input_4 (InputLayer)            [(None, None, 93)]   0                                            \n",
      "__________________________________________________________________________________________________\n",
      "lstm_2 (LSTM)                   [(None, 256), (None, 335872      input_3[0][0]                    \n",
      "__________________________________________________________________________________________________\n",
      "lstm_3 (LSTM)                   [(None, None, 256),  358400      input_4[0][0]                    \n",
      "                                                                 lstm_2[0][1]                     \n",
      "                                                                 lstm_2[0][2]                     \n",
      "__________________________________________________________________________________________________\n",
      "dense_1 (Dense)                 (None, None, 93)     23901       lstm_3[0][0]                     \n",
      "==================================================================================================\n",
      "Total params: 718,173\n",
      "Trainable params: 718,173\n",
      "Non-trainable params: 0\n",
      "__________________________________________________________________________________________________\n"
     ]
    }
   ],
   "source": [
    "model.summary()"
   ]
  },
  {
   "cell_type": "code",
   "execution_count": 63,
   "id": "31fd00af",
   "metadata": {
    "ExecuteTime": {
     "end_time": "2021-05-15T16:14:48.680391Z",
     "start_time": "2021-05-15T16:14:48.593987Z"
    }
   },
   "outputs": [],
   "source": [
    "encoder_inputs = model.input[0]  # input_3\n",
    "encoder_outputs, state_h_enc, state_c_enc = model.layers[2].output  # lstm_1\n",
    "encoder_states = [state_h_enc, state_c_enc]\n",
    "encoder_model = keras.Model(encoder_inputs, encoder_states)\n",
    "\n",
    "decoder_inputs = model.input[1]  # input_4\n",
    "decoder_state_input_h = keras.Input(shape=(latent_dim,), name=\"input_5\")\n",
    "decoder_state_input_c = keras.Input(shape=(latent_dim,), name=\"input_6\")\n",
    "decoder_states_inputs = [decoder_state_input_h, decoder_state_input_c]\n",
    "decoder_lstm = model.layers[3]\n",
    "decoder_outputs, state_h_dec, state_c_dec = decoder_lstm(\n",
    "    decoder_inputs, initial_state=decoder_states_inputs\n",
    ")\n",
    "decoder_states = [state_h_dec, state_c_dec]\n",
    "decoder_dense = model.layers[4]\n",
    "decoder_outputs = decoder_dense(decoder_outputs)\n",
    "decoder_model = keras.Model(\n",
    "    [decoder_inputs] + decoder_states_inputs, [decoder_outputs] + decoder_states\n",
    ")"
   ]
  },
  {
   "cell_type": "code",
   "execution_count": 64,
   "id": "20ccf363",
   "metadata": {
    "ExecuteTime": {
     "end_time": "2021-05-15T16:14:52.852537Z",
     "start_time": "2021-05-15T16:14:52.849054Z"
    }
   },
   "outputs": [],
   "source": [
    "# Reverse-lookup token index to decode sequences back to\n",
    "# something readable.\n",
    "reverse_input_char_index = dict((i, char) for char, i in input_token_index.items())\n",
    "reverse_target_char_index = dict((i, char) for char, i in target_token_index.items())"
   ]
  },
  {
   "cell_type": "code",
   "execution_count": 65,
   "id": "e3d83fef",
   "metadata": {
    "ExecuteTime": {
     "end_time": "2021-05-15T16:14:56.565716Z",
     "start_time": "2021-05-15T16:14:56.559936Z"
    }
   },
   "outputs": [],
   "source": [
    "def decode_sequence(input_seq):\n",
    "    # Encode the input as state vectors.\n",
    "    states_value = encoder_model.predict(input_seq)\n",
    "\n",
    "    # Generate empty target sequence of length 1.\n",
    "    target_seq = np.zeros((1, 1, num_decoder_tokens))\n",
    "    # Populate the first character of target sequence with the start character.\n",
    "    target_seq[0, 0, target_token_index[\"\\t\"]] = 1.0\n",
    "\n",
    "    # Sampling loop for a batch of sequences\n",
    "    # (to simplify, here we assume a batch of size 1).\n",
    "    stop_condition = False\n",
    "    decoded_sentence = \"\"\n",
    "    while not stop_condition:\n",
    "        output_tokens, h, c = decoder_model.predict([target_seq] + states_value)\n",
    "\n",
    "        # Sample a token\n",
    "        sampled_token_index = np.argmax(output_tokens[0, -1, :])\n",
    "        sampled_char = reverse_target_char_index[sampled_token_index]\n",
    "        decoded_sentence += sampled_char\n",
    "\n",
    "        # Exit condition: either hit max length\n",
    "        # or find stop character.\n",
    "        if sampled_char == \"\\n\" or len(decoded_sentence) > max_decoder_seq_length:\n",
    "            stop_condition = True\n",
    "\n",
    "        # Update the target sequence (of length 1).\n",
    "        target_seq = np.zeros((1, 1, num_decoder_tokens))\n",
    "        target_seq[0, 0, sampled_token_index] = 1.0\n",
    "\n",
    "        # Update states\n",
    "        states_value = [h, c]\n",
    "    return decoded_sentence"
   ]
  },
  {
   "cell_type": "code",
   "execution_count": 66,
   "id": "14ff20b1",
   "metadata": {
    "ExecuteTime": {
     "end_time": "2021-05-15T16:15:03.612543Z",
     "start_time": "2021-05-15T16:14:58.784079Z"
    }
   },
   "outputs": [
    {
     "name": "stdout",
     "output_type": "stream",
     "text": [
      "-\n",
      "Input sentence: Go.\n",
      "Decoded sentence:          a f    c           !                               \n",
      "-\n",
      "Input sentence: Go.\n",
      "Decoded sentence:          a f    c           !                               \n",
      "-\n",
      "Input sentence: Go.\n",
      "Decoded sentence:          a f    c           !                               \n",
      "-\n",
      "Input sentence: Hi.\n",
      "Decoded sentence:    u    l                                                   \n",
      "-\n",
      "Input sentence: Hi.\n",
      "Decoded sentence:    u    l                                                   \n",
      "-\n",
      "Input sentence: Run!\n",
      "Decoded sentence:                                                             \n",
      "-\n",
      "Input sentence: Run!\n",
      "Decoded sentence:                                                             \n",
      "-\n",
      "Input sentence: Run!\n",
      "Decoded sentence:                                                             \n",
      "-\n",
      "Input sentence: Run!\n",
      "Decoded sentence:                                                             \n",
      "-\n",
      "Input sentence: Run!\n",
      "Decoded sentence:                                                             \n",
      "-\n",
      "Input sentence: Run!\n",
      "Decoded sentence:                                                             \n",
      "-\n",
      "Input sentence: Run!\n",
      "Decoded sentence:                                                             \n",
      "-\n",
      "Input sentence: Run!\n",
      "Decoded sentence:                                                             \n",
      "-\n",
      "Input sentence: Run.\n",
      "Decoded sentence:                                                             \n",
      "-\n",
      "Input sentence: Run.\n",
      "Decoded sentence:                                                             \n",
      "-\n",
      "Input sentence: Run.\n",
      "Decoded sentence:                                                             \n",
      "-\n",
      "Input sentence: Run.\n",
      "Decoded sentence:                                                             \n",
      "-\n",
      "Input sentence: Run.\n",
      "Decoded sentence:                                                             \n",
      "-\n",
      "Input sentence: Run.\n",
      "Decoded sentence:                                                             \n",
      "-\n",
      "Input sentence: Run.\n",
      "Decoded sentence:                                                             \n"
     ]
    }
   ],
   "source": [
    "for seq_index in range(20):\n",
    "    # Take one sequence (part of the training set)\n",
    "    # for trying out decoding.\n",
    "    input_seq = encoder_input_data[seq_index : seq_index + 1]\n",
    "    decoded_sentence = decode_sequence(input_seq)\n",
    "    print(\"-\")\n",
    "    print(\"Input sentence:\", input_texts[seq_index])\n",
    "    print(\"Decoded sentence:\", decoded_sentence)"
   ]
  },
  {
   "cell_type": "code",
   "execution_count": null,
   "id": "1e8f9b22",
   "metadata": {},
   "outputs": [],
   "source": []
  }
 ],
 "metadata": {
  "kernelspec": {
   "display_name": "Python 3",
   "language": "python",
   "name": "python3"
  },
  "language_info": {
   "codemirror_mode": {
    "name": "ipython",
    "version": 3
   },
   "file_extension": ".py",
   "mimetype": "text/x-python",
   "name": "python",
   "nbconvert_exporter": "python",
   "pygments_lexer": "ipython3",
   "version": "3.7.10"
  }
 },
 "nbformat": 4,
 "nbformat_minor": 5
}
