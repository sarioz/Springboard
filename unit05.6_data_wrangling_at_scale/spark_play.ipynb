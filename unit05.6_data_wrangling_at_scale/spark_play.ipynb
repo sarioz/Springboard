{
 "cells": [
  {
   "cell_type": "code",
   "execution_count": 1,
   "metadata": {
    "ExecuteTime": {
     "end_time": "2020-12-26T13:39:55.639116Z",
     "start_time": "2020-12-26T13:39:55.635034Z"
    }
   },
   "outputs": [],
   "source": [
    "%env PYSPARK_PYTHON /opt/anaconda3/bin/python3\n",
    "%env PYSPARK_DRIVER_PYTHON /opt/anaconda3/bin/python3"
   ]
  },
  {
   "cell_type": "code",
   "execution_count": 2,
   "metadata": {
    "ExecuteTime": {
     "end_time": "2020-12-26T13:39:55.835797Z",
     "start_time": "2020-12-26T13:39:55.641133Z"
    }
   },
   "outputs": [],
   "source": [
    "import pyspark.sql.functions as F"
   ]
  },
  {
   "cell_type": "code",
   "execution_count": 3,
   "metadata": {
    "ExecuteTime": {
     "end_time": "2020-12-26T13:39:55.840412Z",
     "start_time": "2020-12-26T13:39:55.838170Z"
    }
   },
   "outputs": [],
   "source": [
    "import pyspark"
   ]
  },
  {
   "cell_type": "code",
   "execution_count": 4,
   "metadata": {
    "ExecuteTime": {
     "end_time": "2020-12-26T13:40:03.706248Z",
     "start_time": "2020-12-26T13:39:55.842722Z"
    }
   },
   "outputs": [],
   "source": [
    "sc = pyspark.SparkContext.getOrCreate()"
   ]
  },
  {
   "cell_type": "code",
   "execution_count": 5,
   "metadata": {
    "ExecuteTime": {
     "end_time": "2020-12-26T13:40:21.125666Z",
     "start_time": "2020-12-26T13:40:03.708125Z"
    }
   },
   "outputs": [
    {
     "name": "stdout",
     "output_type": "stream",
     "text": [
      "3.14146724\n"
     ]
    }
   ],
   "source": [
    "import random\n",
    "\n",
    "num_samples = 100000000\n",
    "\n",
    "def inside(p):     \n",
    "  x, y = random.random(), random.random()\n",
    "  return x*x + y*y < 1\n",
    "\n",
    "count = sc.parallelize(range(0, num_samples)).filter(inside).count()\n",
    "\n",
    "pi = 4 * count / num_samples\n",
    "print(pi)\n",
    "\n",
    "sc.stop()"
   ]
  },
  {
   "cell_type": "code",
   "execution_count": 6,
   "metadata": {
    "ExecuteTime": {
     "end_time": "2020-12-26T13:40:21.991709Z",
     "start_time": "2020-12-26T13:40:21.128898Z"
    }
   },
   "outputs": [],
   "source": [
    "from pyspark.sql import SparkSession\n",
    " \n",
    "spark = SparkSession \\\n",
    "    .builder \\\n",
    "    .appName(\"Python Spark SQL basic example\") \\\n",
    "    .getOrCreate()"
   ]
  },
  {
   "cell_type": "code",
   "execution_count": 7,
   "metadata": {
    "ExecuteTime": {
     "end_time": "2020-12-26T13:40:24.578306Z",
     "start_time": "2020-12-26T13:40:21.993393Z"
    }
   },
   "outputs": [],
   "source": [
    "df = spark.read \\\n",
    "    .options(header=True, inferSchema=True) \\\n",
    "    .csv(\"my_data.csv\")"
   ]
  },
  {
   "cell_type": "code",
   "execution_count": 8,
   "metadata": {
    "ExecuteTime": {
     "end_time": "2020-12-26T13:40:24.627029Z",
     "start_time": "2020-12-26T13:40:24.584414Z"
    }
   },
   "outputs": [
    {
     "data": {
      "text/plain": [
       "DataFrame[a: int, b: int, c: int]"
      ]
     },
     "execution_count": 8,
     "metadata": {},
     "output_type": "execute_result"
    }
   ],
   "source": [
    "df"
   ]
  },
  {
   "cell_type": "code",
   "execution_count": 9,
   "metadata": {
    "ExecuteTime": {
     "end_time": "2020-12-26T13:40:24.864653Z",
     "start_time": "2020-12-26T13:40:24.630414Z"
    }
   },
   "outputs": [
    {
     "name": "stdout",
     "output_type": "stream",
     "text": [
      "+---+\n",
      "|  a|\n",
      "+---+\n",
      "|  3|\n",
      "|  2|\n",
      "|  5|\n",
      "|  8|\n",
      "+---+\n",
      "\n"
     ]
    }
   ],
   "source": [
    "df.select('a').show()"
   ]
  },
  {
   "cell_type": "code",
   "execution_count": 10,
   "metadata": {
    "ExecuteTime": {
     "end_time": "2020-12-26T13:40:25.078676Z",
     "start_time": "2020-12-26T13:40:24.868138Z"
    }
   },
   "outputs": [
    {
     "name": "stdout",
     "output_type": "stream",
     "text": [
      "+---+---+---+\n",
      "|  a|  b|  c|\n",
      "+---+---+---+\n",
      "|  3|  2|  1|\n",
      "|  2|  3|  1|\n",
      "|  5|  8|  9|\n",
      "|  8|  5|  9|\n",
      "+---+---+---+\n",
      "\n"
     ]
    }
   ],
   "source": [
    "df.show()"
   ]
  },
  {
   "cell_type": "code",
   "execution_count": 11,
   "metadata": {
    "ExecuteTime": {
     "end_time": "2020-12-26T13:40:25.091455Z",
     "start_time": "2020-12-26T13:40:25.081291Z"
    }
   },
   "outputs": [
    {
     "data": {
      "text/plain": [
       "[('a', 'int'), ('b', 'int'), ('c', 'int')]"
      ]
     },
     "execution_count": 11,
     "metadata": {},
     "output_type": "execute_result"
    }
   ],
   "source": [
    "df.dtypes"
   ]
  },
  {
   "cell_type": "code",
   "execution_count": 12,
   "metadata": {
    "ExecuteTime": {
     "end_time": "2020-12-26T13:40:25.326902Z",
     "start_time": "2020-12-26T13:40:25.093817Z"
    }
   },
   "outputs": [
    {
     "name": "stdout",
     "output_type": "stream",
     "text": [
      "+---+---+---+\n",
      "|  a|  b|  c|\n",
      "+---+---+---+\n",
      "|  3|  2|  1|\n",
      "|  2|  3|  1|\n",
      "+---+---+---+\n",
      "\n"
     ]
    }
   ],
   "source": [
    "df[df.a < 4].show()"
   ]
  },
  {
   "cell_type": "code",
   "execution_count": 13,
   "metadata": {
    "ExecuteTime": {
     "end_time": "2020-12-26T13:40:25.493787Z",
     "start_time": "2020-12-26T13:40:25.329109Z"
    }
   },
   "outputs": [
    {
     "name": "stdout",
     "output_type": "stream",
     "text": [
      "+---+---+---+\n",
      "|  a|  b|  c|\n",
      "+---+---+---+\n",
      "|  3|  2|  1|\n",
      "|  2|  3|  1|\n",
      "+---+---+---+\n",
      "\n"
     ]
    }
   ],
   "source": [
    "df[df['a'] < 4].show()"
   ]
  },
  {
   "cell_type": "code",
   "execution_count": 14,
   "metadata": {
    "ExecuteTime": {
     "end_time": "2020-12-26T13:40:26.973672Z",
     "start_time": "2020-12-26T13:40:25.496047Z"
    }
   },
   "outputs": [
    {
     "name": "stdout",
     "output_type": "stream",
     "text": [
      "+---+------+------+\n",
      "|  c|sum(a)|avg(b)|\n",
      "+---+------+------+\n",
      "|  1|     5|   2.5|\n",
      "|  9|    13|   6.5|\n",
      "+---+------+------+\n",
      "\n"
     ]
    }
   ],
   "source": [
    "df.groupby(['c']).agg({'a': 'sum', 'b': 'mean'}).show()"
   ]
  },
  {
   "cell_type": "code",
   "execution_count": 15,
   "metadata": {
    "ExecuteTime": {
     "end_time": "2020-12-26T13:40:27.151674Z",
     "start_time": "2020-12-26T13:40:26.976442Z"
    }
   },
   "outputs": [
    {
     "name": "stdout",
     "output_type": "stream",
     "text": [
      "+---+---+---+------------------+\n",
      "|  a|  b|  c|              loga|\n",
      "+---+---+---+------------------+\n",
      "|  3|  2|  1|1.0986122886681096|\n",
      "|  2|  3|  1|0.6931471805599453|\n",
      "|  5|  8|  9|1.6094379124341003|\n",
      "|  8|  5|  9|2.0794415416798357|\n",
      "+---+---+---+------------------+\n",
      "\n"
     ]
    }
   ],
   "source": [
    "df.withColumn('loga', F.log(df.a)).show()"
   ]
  },
  {
   "cell_type": "code",
   "execution_count": 16,
   "metadata": {
    "ExecuteTime": {
     "end_time": "2020-12-26T13:40:27.159126Z",
     "start_time": "2020-12-26T13:40:27.154186Z"
    }
   },
   "outputs": [
    {
     "data": {
      "text/plain": [
       "DataFrame[a: int, b: int, c: int]"
      ]
     },
     "execution_count": 16,
     "metadata": {},
     "output_type": "execute_result"
    }
   ],
   "source": [
    "df"
   ]
  },
  {
   "cell_type": "code",
   "execution_count": 17,
   "metadata": {
    "ExecuteTime": {
     "end_time": "2020-12-26T13:40:27.491990Z",
     "start_time": "2020-12-26T13:40:27.161676Z"
    }
   },
   "outputs": [
    {
     "name": "stdout",
     "output_type": "stream",
     "text": [
      "+---+---+---+---+---+\n",
      "|  c|  a|  b|  a|  b|\n",
      "+---+---+---+---+---+\n",
      "|  1|  3|  2|  2|  3|\n",
      "|  1|  3|  2|  3|  2|\n",
      "|  1|  2|  3|  2|  3|\n",
      "|  1|  2|  3|  3|  2|\n",
      "|  9|  5|  8|  8|  5|\n",
      "|  9|  5|  8|  5|  8|\n",
      "|  9|  8|  5|  8|  5|\n",
      "|  9|  8|  5|  5|  8|\n",
      "+---+---+---+---+---+\n",
      "\n"
     ]
    }
   ],
   "source": [
    "# in pandas this is called merge()\n",
    "df.join(df, on='c').show()"
   ]
  },
  {
   "cell_type": "code",
   "execution_count": 18,
   "metadata": {
    "ExecuteTime": {
     "end_time": "2020-12-26T13:40:29.578198Z",
     "start_time": "2020-12-26T13:40:27.494187Z"
    }
   },
   "outputs": [
    {
     "name": "stdout",
     "output_type": "stream",
     "text": [
      "+---+----+----+----+----+\n",
      "|  c|   2|   3|   5|   8|\n",
      "+---+----+----+----+----+\n",
      "|  1|   3|   2|null|null|\n",
      "|  9|null|null|   8|   5|\n",
      "+---+----+----+----+----+\n",
      "\n"
     ]
    }
   ],
   "source": [
    "# pivot table\n",
    "df.groupby(\"c\").pivot(\"b\").sum(\"a\").show()"
   ]
  },
  {
   "cell_type": "code",
   "execution_count": 19,
   "metadata": {
    "ExecuteTime": {
     "end_time": "2020-12-26T13:40:29.970824Z",
     "start_time": "2020-12-26T13:40:29.580954Z"
    }
   },
   "outputs": [
    {
     "name": "stdout",
     "output_type": "stream",
     "text": [
      "+-------+------------------+------------------+-----------------+\n",
      "|summary|                 a|                 b|                c|\n",
      "+-------+------------------+------------------+-----------------+\n",
      "|  count|                 4|                 4|                4|\n",
      "|   mean|               4.5|               4.5|              5.0|\n",
      "| stddev|2.6457513110645903|2.6457513110645907|4.618802153517006|\n",
      "|    min|                 2|                 2|                1|\n",
      "|    max|                 8|                 8|                9|\n",
      "+-------+------------------+------------------+-----------------+\n",
      "\n"
     ]
    }
   ],
   "source": [
    "df.describe().show()"
   ]
  },
  {
   "cell_type": "code",
   "execution_count": 20,
   "metadata": {
    "ExecuteTime": {
     "end_time": "2020-12-26T13:40:31.040110Z",
     "start_time": "2020-12-26T13:40:29.973624Z"
    }
   },
   "outputs": [
    {
     "data": {
      "text/plain": [
       "array([[<AxesSubplot:title={'center':'a'}>,\n",
       "        <AxesSubplot:title={'center':'b'}>],\n",
       "       [<AxesSubplot:title={'center':'c'}>, <AxesSubplot:>]], dtype=object)"
      ]
     },
     "execution_count": 20,
     "metadata": {},
     "output_type": "execute_result"
    },
    {
     "data": {
      "image/png": "[encoded data removed]",
      "text/plain": [
       "<Figure size 432x288 with 4 Axes>"
      ]
     },
     "metadata": {
      "needs_background": "light"
     },
     "output_type": "display_data"
    }
   ],
   "source": [
    "df.sample(False, 0.8).toPandas().hist()"
   ]
  },
  {
   "cell_type": "code",
   "execution_count": 21,
   "metadata": {
    "ExecuteTime": {
     "end_time": "2020-12-26T13:40:31.522471Z",
     "start_time": "2020-12-26T13:40:31.041903Z"
    }
   },
   "outputs": [
    {
     "data": {
      "text/plain": [
       "array([[<AxesSubplot:title={'center':'a'}>,\n",
       "        <AxesSubplot:title={'center':'b'}>],\n",
       "       [<AxesSubplot:title={'center':'c'}>, <AxesSubplot:>]], dtype=object)"
      ]
     },
     "execution_count": 21,
     "metadata": {},
     "output_type": "execute_result"
    },
    {
     "data": {
      "image/png": "[encoded data removed]",
      "text/plain": [
       "<Figure size 432x288 with 4 Axes>"
      ]
     },
     "metadata": {
      "needs_background": "light"
     },
     "output_type": "display_data"
    }
   ],
   "source": [
    "df.toPandas().hist()"
   ]
  },
  {
   "cell_type": "code",
   "execution_count": 22,
   "metadata": {
    "ExecuteTime": {
     "end_time": "2020-12-26T13:40:31.780915Z",
     "start_time": "2020-12-26T13:40:31.524526Z"
    }
   },
   "outputs": [],
   "source": [
    "df.createOrReplaceTempView('foo')\n",
    "df2 = spark.sql('select * from foo')"
   ]
  },
  {
   "cell_type": "code",
   "execution_count": 23,
   "metadata": {
    "ExecuteTime": {
     "end_time": "2020-12-26T13:40:31.886806Z",
     "start_time": "2020-12-26T13:40:31.788930Z"
    }
   },
   "outputs": [
    {
     "name": "stdout",
     "output_type": "stream",
     "text": [
      "+---+---+---+\n",
      "|  a|  b|  c|\n",
      "+---+---+---+\n",
      "|  3|  2|  1|\n",
      "|  2|  3|  1|\n",
      "|  5|  8|  9|\n",
      "|  8|  5|  9|\n",
      "+---+---+---+\n",
      "\n"
     ]
    }
   ],
   "source": [
    "df2.show()"
   ]
  }
 ],
 "metadata": {
  "kernelspec": {
   "display_name": "Python 3",
   "language": "python",
   "name": "python3"
  },
  "language_info": {
   "codemirror_mode": {
    "name": "ipython",
    "version": 3
   },
   "file_extension": ".py",
   "mimetype": "text/x-python",
   "name": "python",
   "nbconvert_exporter": "python",
   "pygments_lexer": "ipython3",
   "version": "3.8.6"
  }
 },
 "nbformat": 4,
 "nbformat_minor": 4
}
