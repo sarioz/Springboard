{
 "cells": [
  {
   "cell_type": "code",
   "execution_count": 1,
   "metadata": {
    "ExecuteTime": {
     "end_time": "2020-12-24T17:28:07.195906Z",
     "start_time": "2020-12-24T17:28:07.005668Z"
    }
   },
   "outputs": [],
   "source": [
    "import pyspark.sql.functions as F"
   ]
  },
  {
   "cell_type": "code",
   "execution_count": 2,
   "metadata": {
    "ExecuteTime": {
     "end_time": "2020-12-24T17:28:08.388919Z",
     "start_time": "2020-12-24T17:28:08.386766Z"
    }
   },
   "outputs": [],
   "source": [
    "import pyspark"
   ]
  },
  {
   "cell_type": "code",
   "execution_count": 3,
   "metadata": {
    "ExecuteTime": {
     "end_time": "2020-12-24T17:28:17.368718Z",
     "start_time": "2020-12-24T17:28:09.517352Z"
    }
   },
   "outputs": [],
   "source": [
    "sc = pyspark.SparkContext(appName=\"Pi\")"
   ]
  },
  {
   "cell_type": "code",
   "execution_count": 4,
   "metadata": {
    "ExecuteTime": {
     "end_time": "2020-12-24T17:28:37.596935Z",
     "start_time": "2020-12-24T17:28:20.893365Z"
    }
   },
   "outputs": [
    {
     "name": "stdout",
     "output_type": "stream",
     "text": [
      "3.14159364\n"
     ]
    }
   ],
   "source": [
    "import random\n",
    "\n",
    "num_samples = 100000000\n",
    "\n",
    "def inside(p):     \n",
    "  x, y = random.random(), random.random()\n",
    "  return x*x + y*y < 1\n",
    "\n",
    "count = sc.parallelize(range(0, num_samples)).filter(inside).count()\n",
    "\n",
    "pi = 4 * count / num_samples\n",
    "print(pi)\n",
    "\n",
    "sc.stop()"
   ]
  },
  {
   "cell_type": "code",
   "execution_count": 5,
   "metadata": {
    "ExecuteTime": {
     "end_time": "2020-12-24T17:31:14.979885Z",
     "start_time": "2020-12-24T17:31:14.188459Z"
    }
   },
   "outputs": [],
   "source": [
    "from pyspark.sql import SparkSession\n",
    "\n",
    "spark = SparkSession \\\n",
    "    .builder \\\n",
    "    .appName(\"Python Spark SQL basic example\") \\\n",
    "    .getOrCreate()"
   ]
  },
  {
   "cell_type": "code",
   "execution_count": 9,
   "metadata": {
    "ExecuteTime": {
     "end_time": "2020-12-24T17:34:07.216891Z",
     "start_time": "2020-12-24T17:34:06.993390Z"
    }
   },
   "outputs": [],
   "source": [
    "df = spark.read \\\n",
    "    .options(header=True, inferSchema=True) \\\n",
    "    .csv(\"my_data.csv\")"
   ]
  },
  {
   "cell_type": "code",
   "execution_count": 10,
   "metadata": {
    "ExecuteTime": {
     "end_time": "2020-12-24T17:34:08.066202Z",
     "start_time": "2020-12-24T17:34:08.061012Z"
    }
   },
   "outputs": [
    {
     "data": {
      "text/plain": [
       "DataFrame[a: int, b: int, c: int]"
      ]
     },
     "execution_count": 10,
     "metadata": {},
     "output_type": "execute_result"
    }
   ],
   "source": [
    "df"
   ]
  },
  {
   "cell_type": "code",
   "execution_count": 12,
   "metadata": {
    "ExecuteTime": {
     "end_time": "2020-12-24T17:34:28.510889Z",
     "start_time": "2020-12-24T17:34:28.347638Z"
    }
   },
   "outputs": [
    {
     "name": "stdout",
     "output_type": "stream",
     "text": [
      "+---+\n",
      "|  a|\n",
      "+---+\n",
      "|  3|\n",
      "|  2|\n",
      "|  5|\n",
      "|  8|\n",
      "+---+\n",
      "\n"
     ]
    }
   ],
   "source": [
    "df.select('a').show()"
   ]
  },
  {
   "cell_type": "code",
   "execution_count": 13,
   "metadata": {
    "ExecuteTime": {
     "end_time": "2020-12-24T17:34:37.560814Z",
     "start_time": "2020-12-24T17:34:37.442150Z"
    }
   },
   "outputs": [
    {
     "name": "stdout",
     "output_type": "stream",
     "text": [
      "+---+---+---+\n",
      "|  a|  b|  c|\n",
      "+---+---+---+\n",
      "|  3|  2|  1|\n",
      "|  2|  3|  1|\n",
      "|  5|  8|  9|\n",
      "|  8|  5|  9|\n",
      "+---+---+---+\n",
      "\n"
     ]
    }
   ],
   "source": [
    "df.show()"
   ]
  },
  {
   "cell_type": "code",
   "execution_count": 15,
   "metadata": {
    "ExecuteTime": {
     "end_time": "2020-12-24T17:35:17.692736Z",
     "start_time": "2020-12-24T17:35:17.689502Z"
    }
   },
   "outputs": [
    {
     "data": {
      "text/plain": [
       "[('a', 'int'), ('b', 'int'), ('c', 'int')]"
      ]
     },
     "execution_count": 15,
     "metadata": {},
     "output_type": "execute_result"
    }
   ],
   "source": [
    "df.dtypes"
   ]
  },
  {
   "cell_type": "code",
   "execution_count": 17,
   "metadata": {
    "ExecuteTime": {
     "end_time": "2020-12-24T17:37:56.429013Z",
     "start_time": "2020-12-24T17:37:56.299936Z"
    }
   },
   "outputs": [
    {
     "name": "stdout",
     "output_type": "stream",
     "text": [
      "+---+---+---+\n",
      "|  a|  b|  c|\n",
      "+---+---+---+\n",
      "|  3|  2|  1|\n",
      "|  2|  3|  1|\n",
      "+---+---+---+\n",
      "\n"
     ]
    }
   ],
   "source": [
    "df[df.a < 4].show()"
   ]
  },
  {
   "cell_type": "code",
   "execution_count": 18,
   "metadata": {
    "ExecuteTime": {
     "end_time": "2020-12-24T17:38:11.897053Z",
     "start_time": "2020-12-24T17:38:11.800646Z"
    }
   },
   "outputs": [
    {
     "name": "stdout",
     "output_type": "stream",
     "text": [
      "+---+---+---+\n",
      "|  a|  b|  c|\n",
      "+---+---+---+\n",
      "|  3|  2|  1|\n",
      "|  2|  3|  1|\n",
      "+---+---+---+\n",
      "\n"
     ]
    }
   ],
   "source": [
    "df[df['a'] < 4].show()"
   ]
  },
  {
   "cell_type": "code",
   "execution_count": 20,
   "metadata": {
    "ExecuteTime": {
     "end_time": "2020-12-24T17:40:03.904464Z",
     "start_time": "2020-12-24T17:40:02.901739Z"
    }
   },
   "outputs": [
    {
     "name": "stdout",
     "output_type": "stream",
     "text": [
      "+---+------+------+\n",
      "|  c|sum(a)|avg(b)|\n",
      "+---+------+------+\n",
      "|  1|     5|   2.5|\n",
      "|  9|    13|   6.5|\n",
      "+---+------+------+\n",
      "\n"
     ]
    }
   ],
   "source": [
    "df.groupby(['c']).agg({'a': 'sum', 'b': 'mean'}).show()"
   ]
  },
  {
   "cell_type": "code",
   "execution_count": 23,
   "metadata": {
    "ExecuteTime": {
     "end_time": "2020-12-24T17:41:20.892730Z",
     "start_time": "2020-12-24T17:41:20.770813Z"
    }
   },
   "outputs": [
    {
     "name": "stdout",
     "output_type": "stream",
     "text": [
      "+---+---+---+------------------+\n",
      "|  a|  b|  c|              loga|\n",
      "+---+---+---+------------------+\n",
      "|  3|  2|  1|1.0986122886681096|\n",
      "|  2|  3|  1|0.6931471805599453|\n",
      "|  5|  8|  9|1.6094379124341003|\n",
      "|  8|  5|  9|2.0794415416798357|\n",
      "+---+---+---+------------------+\n",
      "\n"
     ]
    }
   ],
   "source": [
    "df.withColumn('loga', F.log(df.a)).show()"
   ]
  },
  {
   "cell_type": "code",
   "execution_count": 22,
   "metadata": {
    "ExecuteTime": {
     "end_time": "2020-12-24T17:41:17.222451Z",
     "start_time": "2020-12-24T17:41:17.218749Z"
    }
   },
   "outputs": [
    {
     "data": {
      "text/plain": [
       "DataFrame[a: int, b: int, c: int]"
      ]
     },
     "execution_count": 22,
     "metadata": {},
     "output_type": "execute_result"
    }
   ],
   "source": [
    "df"
   ]
  },
  {
   "cell_type": "code",
   "execution_count": 24,
   "metadata": {
    "ExecuteTime": {
     "end_time": "2020-12-24T17:44:08.249385Z",
     "start_time": "2020-12-24T17:44:08.009220Z"
    }
   },
   "outputs": [
    {
     "name": "stdout",
     "output_type": "stream",
     "text": [
      "+---+---+---+---+---+\n",
      "|  c|  a|  b|  a|  b|\n",
      "+---+---+---+---+---+\n",
      "|  1|  3|  2|  2|  3|\n",
      "|  1|  3|  2|  3|  2|\n",
      "|  1|  2|  3|  2|  3|\n",
      "|  1|  2|  3|  3|  2|\n",
      "|  9|  5|  8|  8|  5|\n",
      "|  9|  5|  8|  5|  8|\n",
      "|  9|  8|  5|  8|  5|\n",
      "|  9|  8|  5|  5|  8|\n",
      "+---+---+---+---+---+\n",
      "\n"
     ]
    }
   ],
   "source": [
    "# in pandas this is called merge()\n",
    "df.join(df, on='c').show()"
   ]
  },
  {
   "cell_type": "code",
   "execution_count": 29,
   "metadata": {
    "ExecuteTime": {
     "end_time": "2020-12-24T17:47:50.587306Z",
     "start_time": "2020-12-24T17:47:49.648086Z"
    }
   },
   "outputs": [
    {
     "name": "stdout",
     "output_type": "stream",
     "text": [
      "+---+----+----+----+----+\n",
      "|  c|   2|   3|   5|   8|\n",
      "+---+----+----+----+----+\n",
      "|  1|   3|   2|null|null|\n",
      "|  9|null|null|   8|   5|\n",
      "+---+----+----+----+----+\n",
      "\n"
     ]
    }
   ],
   "source": [
    "# pivot table\n",
    "df.groupby(\"c\").pivot(\"b\").sum(\"a\").show()"
   ]
  },
  {
   "cell_type": "code",
   "execution_count": 30,
   "metadata": {
    "ExecuteTime": {
     "end_time": "2020-12-24T17:48:41.547932Z",
     "start_time": "2020-12-24T17:48:41.284736Z"
    }
   },
   "outputs": [
    {
     "name": "stdout",
     "output_type": "stream",
     "text": [
      "+-------+------------------+------------------+-----------------+\n",
      "|summary|                 a|                 b|                c|\n",
      "+-------+------------------+------------------+-----------------+\n",
      "|  count|                 4|                 4|                4|\n",
      "|   mean|               4.5|               4.5|              5.0|\n",
      "| stddev|2.6457513110645903|2.6457513110645907|4.618802153517006|\n",
      "|    min|                 2|                 2|                1|\n",
      "|    max|                 8|                 8|                9|\n",
      "+-------+------------------+------------------+-----------------+\n",
      "\n"
     ]
    }
   ],
   "source": [
    "df.describe().show()"
   ]
  },
  {
   "cell_type": "code",
   "execution_count": 32,
   "metadata": {
    "ExecuteTime": {
     "end_time": "2020-12-24T17:50:22.601858Z",
     "start_time": "2020-12-24T17:50:22.240578Z"
    }
   },
   "outputs": [
    {
     "data": {
      "text/plain": [
       "array([[<AxesSubplot:title={'center':'a'}>,\n",
       "        <AxesSubplot:title={'center':'b'}>],\n",
       "       [<AxesSubplot:title={'center':'c'}>, <AxesSubplot:>]], dtype=object)"
      ]
     },
     "execution_count": 32,
     "metadata": {},
     "output_type": "execute_result"
    },
    {
     "data": {
      "image/png": "[encoded data removed]",
      "text/plain": [
       "<Figure size 432x288 with 4 Axes>"
      ]
     },
     "metadata": {
      "needs_background": "light"
     },
     "output_type": "display_data"
    }
   ],
   "source": [
    "df.sample(False, 0.8).toPandas().hist()"
   ]
  },
  {
   "cell_type": "code",
   "execution_count": 33,
   "metadata": {
    "ExecuteTime": {
     "end_time": "2020-12-24T17:50:53.945496Z",
     "start_time": "2020-12-24T17:50:53.622737Z"
    }
   },
   "outputs": [
    {
     "data": {
      "text/plain": [
       "array([[<AxesSubplot:title={'center':'a'}>,\n",
       "        <AxesSubplot:title={'center':'b'}>],\n",
       "       [<AxesSubplot:title={'center':'c'}>, <AxesSubplot:>]], dtype=object)"
      ]
     },
     "execution_count": 33,
     "metadata": {},
     "output_type": "execute_result"
    },
    {
     "data": {
      "image/png": "[encoded data removed]",
      "text/plain": [
       "<Figure size 432x288 with 4 Axes>"
      ]
     },
     "metadata": {
      "needs_background": "light"
     },
     "output_type": "display_data"
    }
   ],
   "source": [
    "df.toPandas().hist()"
   ]
  },
  {
   "cell_type": "code",
   "execution_count": 34,
   "metadata": {
    "ExecuteTime": {
     "end_time": "2020-12-24T17:51:38.963197Z",
     "start_time": "2020-12-24T17:51:38.764409Z"
    }
   },
   "outputs": [],
   "source": [
    "df.createOrReplaceTempView('foo')\n",
    "df2 = spark.sql('select * from foo')"
   ]
  },
  {
   "cell_type": "code",
   "execution_count": 35,
   "metadata": {
    "ExecuteTime": {
     "end_time": "2020-12-24T17:51:41.072010Z",
     "start_time": "2020-12-24T17:51:40.979319Z"
    }
   },
   "outputs": [
    {
     "name": "stdout",
     "output_type": "stream",
     "text": [
      "+---+---+---+\n",
      "|  a|  b|  c|\n",
      "+---+---+---+\n",
      "|  3|  2|  1|\n",
      "|  2|  3|  1|\n",
      "|  5|  8|  9|\n",
      "|  8|  5|  9|\n",
      "+---+---+---+\n",
      "\n"
     ]
    }
   ],
   "source": [
    "df2.show()"
   ]
  },
  {
   "cell_type": "code",
   "execution_count": null,
   "metadata": {},
   "outputs": [],
   "source": []
  }
 ],
 "metadata": {
  "kernelspec": {
   "display_name": "Python 3",
   "language": "python",
   "name": "python3"
  },
  "language_info": {
   "codemirror_mode": {
    "name": "ipython",
    "version": 3
   },
   "file_extension": ".py",
   "mimetype": "text/x-python",
   "name": "python",
   "nbconvert_exporter": "python",
   "pygments_lexer": "ipython3",
   "version": "3.8.3"
  }
 },
 "nbformat": 4,
 "nbformat_minor": 4
}
