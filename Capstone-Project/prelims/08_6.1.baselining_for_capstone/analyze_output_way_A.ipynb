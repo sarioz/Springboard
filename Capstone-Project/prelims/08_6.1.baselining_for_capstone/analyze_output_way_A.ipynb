{
 "cells": [
  {
   "cell_type": "markdown",
   "metadata": {},
   "source": [
    "# First we analyze the output due to \"Way A\""
   ]
  },
  {
   "cell_type": "code",
   "execution_count": 1,
   "metadata": {
    "ExecuteTime": {
     "end_time": "2021-01-09T18:56:33.630568Z",
     "start_time": "2021-01-09T18:56:33.134276Z"
    }
   },
   "outputs": [],
   "source": [
    "import pandas as pd\n",
    "import numpy as np\n",
    "import matplotlib.pyplot as plt"
   ]
  },
  {
   "cell_type": "code",
   "execution_count": 2,
   "metadata": {
    "ExecuteTime": {
     "end_time": "2021-01-09T18:56:33.654083Z",
     "start_time": "2021-01-09T18:56:33.632598Z"
    }
   },
   "outputs": [],
   "source": [
    "df = pd.read_csv('train_with_google_labels.tsv', sep='\\t')"
   ]
  },
  {
   "cell_type": "code",
   "execution_count": 3,
   "metadata": {
    "ExecuteTime": {
     "end_time": "2021-01-09T18:56:33.668399Z",
     "start_time": "2021-01-09T18:56:33.659856Z"
    }
   },
   "outputs": [
    {
     "name": "stdout",
     "output_type": "stream",
     "text": [
      "<class 'pandas.core.frame.DataFrame'>\n",
      "RangeIndex: 12194 entries, 0 to 12193\n",
      "Data columns (total 4 columns):\n",
      " #   Column                 Non-Null Count  Dtype \n",
      "---  ------                 --------------  ----- \n",
      " 0   Tweet                  12194 non-null  object\n",
      " 1   Curated_Sentiment      12194 non-null  object\n",
      " 2   G_Sentiment_Score      12194 non-null  object\n",
      " 3   G_Sentiment_Magnitude  12194 non-null  object\n",
      "dtypes: object(4)\n",
      "memory usage: 381.2+ KB\n"
     ]
    }
   ],
   "source": [
    "df.info()"
   ]
  },
  {
   "cell_type": "code",
   "execution_count": 4,
   "metadata": {
    "ExecuteTime": {
     "end_time": "2021-01-09T18:56:33.677525Z",
     "start_time": "2021-01-09T18:56:33.670398Z"
    }
   },
   "outputs": [
    {
     "data": {
      "text/plain": [
       "positive    6848\n",
       "neutral     3363\n",
       "negative    1983\n",
       "Name: Curated_Sentiment, dtype: int64"
      ]
     },
     "execution_count": 4,
     "metadata": {},
     "output_type": "execute_result"
    }
   ],
   "source": [
    "df.Curated_Sentiment.value_counts()"
   ]
  },
  {
   "cell_type": "markdown",
   "metadata": {
    "ExecuteTime": {
     "end_time": "2021-01-09T14:36:46.528162Z",
     "start_time": "2021-01-09T14:36:46.524880Z"
    }
   },
   "source": [
    "We see that the positive tweets dominate the data set."
   ]
  },
  {
   "cell_type": "code",
   "execution_count": 5,
   "metadata": {
    "ExecuteTime": {
     "end_time": "2021-01-09T18:56:33.683554Z",
     "start_time": "2021-01-09T18:56:33.678976Z"
    }
   },
   "outputs": [
    {
     "data": {
      "text/plain": [
       "0.00         1704\n",
       "0.20         1530\n",
       "0.40         1364\n",
       "0.10         1341\n",
       "0.30         1319\n",
       "0.50          930\n",
       "0.60          735\n",
       "0.90          496\n",
       "-0.10         463\n",
       "0.80          424\n",
       "0.70          399\n",
       "-0.20         373\n",
       "-0.30         310\n",
       "-0.40         227\n",
       "-0.50         167\n",
       "-0.70         149\n",
       "-0.60         146\n",
       "-0.80          90\n",
       "-0.90          25\n",
       "Exception       2\n",
       "Name: G_Sentiment_Score, dtype: int64"
      ]
     },
     "execution_count": 5,
     "metadata": {},
     "output_type": "execute_result"
    }
   ],
   "source": [
    "df.G_Sentiment_Score.value_counts()"
   ]
  },
  {
   "cell_type": "code",
   "execution_count": 6,
   "metadata": {
    "ExecuteTime": {
     "end_time": "2021-01-09T18:56:33.690650Z",
     "start_time": "2021-01-09T18:56:33.685133Z"
    }
   },
   "outputs": [
    {
     "data": {
      "text/plain": [
       "0.400000     1189\n",
       "0.100000     1140\n",
       "0.200000     1127\n",
       "0.000000     1075\n",
       "0.300000     1035\n",
       "0.900000      869\n",
       "0.500000      844\n",
       "0.800000      817\n",
       "0.600000      791\n",
       "0.700000      769\n",
       "1.100000      366\n",
       "1.000000      349\n",
       "1.200000      317\n",
       "1.300000      292\n",
       "1.400000      208\n",
       "1.500000      177\n",
       "1.600000      154\n",
       "1.700000      132\n",
       "1.800000      104\n",
       "1.900000       96\n",
       "2.000000       69\n",
       "2.200000       43\n",
       "2.100000       41\n",
       "2.300000       41\n",
       "2.500000       28\n",
       "2.600000       27\n",
       "2.400000       18\n",
       "2.900000       10\n",
       "3.200000        9\n",
       "2.800000        9\n",
       "3.300000        9\n",
       "2.700000        8\n",
       "3.400000        7\n",
       "3.100000        7\n",
       "3.000000        6\n",
       "3.500000        3\n",
       "Exception       2\n",
       "4.000000        2\n",
       "4.100000        1\n",
       "3.800000        1\n",
       "4.500000        1\n",
       "3.900000        1\n",
       "Name: G_Sentiment_Magnitude, dtype: int64"
      ]
     },
     "execution_count": 6,
     "metadata": {},
     "output_type": "execute_result"
    }
   ],
   "source": [
    "df.G_Sentiment_Magnitude.value_counts()"
   ]
  },
  {
   "cell_type": "markdown",
   "metadata": {},
   "source": [
    "We drop the two rows where a call resulted in an Exception."
   ]
  },
  {
   "cell_type": "code",
   "execution_count": 7,
   "metadata": {
    "ExecuteTime": {
     "end_time": "2021-01-09T18:56:33.698552Z",
     "start_time": "2021-01-09T18:56:33.693796Z"
    }
   },
   "outputs": [],
   "source": [
    "df = df[df.G_Sentiment_Score != \"Exception\"]"
   ]
  },
  {
   "cell_type": "code",
   "execution_count": 8,
   "metadata": {
    "ExecuteTime": {
     "end_time": "2021-01-09T18:56:33.707274Z",
     "start_time": "2021-01-09T18:56:33.701685Z"
    }
   },
   "outputs": [
    {
     "data": {
      "text/plain": [
       "0.00     1704\n",
       "0.20     1530\n",
       "0.40     1364\n",
       "0.10     1341\n",
       "0.30     1319\n",
       "0.50      930\n",
       "0.60      735\n",
       "0.90      496\n",
       "-0.10     463\n",
       "0.80      424\n",
       "0.70      399\n",
       "-0.20     373\n",
       "-0.30     310\n",
       "-0.40     227\n",
       "-0.50     167\n",
       "-0.70     149\n",
       "-0.60     146\n",
       "-0.80      90\n",
       "-0.90      25\n",
       "Name: G_Sentiment_Score, dtype: int64"
      ]
     },
     "execution_count": 8,
     "metadata": {},
     "output_type": "execute_result"
    }
   ],
   "source": [
    "df.G_Sentiment_Score.value_counts()"
   ]
  },
  {
   "cell_type": "markdown",
   "metadata": {},
   "source": [
    "We note that sentiment scores are all multiples of 0.10. This means we can easily vary a threshold with a step size of 0.10."
   ]
  },
  {
   "cell_type": "code",
   "execution_count": 9,
   "metadata": {
    "ExecuteTime": {
     "end_time": "2021-01-09T18:56:33.717711Z",
     "start_time": "2021-01-09T18:56:33.709576Z"
    }
   },
   "outputs": [
    {
     "data": {
      "text/plain": [
       "0.400000    1189\n",
       "0.100000    1140\n",
       "0.200000    1127\n",
       "0.000000    1075\n",
       "0.300000    1035\n",
       "0.900000     869\n",
       "0.500000     844\n",
       "0.800000     817\n",
       "0.600000     791\n",
       "0.700000     769\n",
       "1.100000     366\n",
       "1.000000     349\n",
       "1.200000     317\n",
       "1.300000     292\n",
       "1.400000     208\n",
       "1.500000     177\n",
       "1.600000     154\n",
       "1.700000     132\n",
       "1.800000     104\n",
       "1.900000      96\n",
       "2.000000      69\n",
       "2.200000      43\n",
       "2.100000      41\n",
       "2.300000      41\n",
       "2.500000      28\n",
       "2.600000      27\n",
       "2.400000      18\n",
       "2.900000      10\n",
       "3.200000       9\n",
       "2.800000       9\n",
       "3.300000       9\n",
       "2.700000       8\n",
       "3.400000       7\n",
       "3.100000       7\n",
       "3.000000       6\n",
       "3.500000       3\n",
       "4.000000       2\n",
       "4.500000       1\n",
       "3.900000       1\n",
       "3.800000       1\n",
       "4.100000       1\n",
       "Name: G_Sentiment_Magnitude, dtype: int64"
      ]
     },
     "execution_count": 9,
     "metadata": {},
     "output_type": "execute_result"
    }
   ],
   "source": [
    "df.G_Sentiment_Magnitude.value_counts()"
   ]
  },
  {
   "cell_type": "code",
   "execution_count": 10,
   "metadata": {
    "ExecuteTime": {
     "end_time": "2021-01-09T18:56:33.732193Z",
     "start_time": "2021-01-09T18:56:33.719582Z"
    }
   },
   "outputs": [
    {
     "name": "stdout",
     "output_type": "stream",
     "text": [
      "<class 'pandas.core.frame.DataFrame'>\n",
      "Int64Index: 12192 entries, 0 to 12193\n",
      "Data columns (total 4 columns):\n",
      " #   Column                 Non-Null Count  Dtype \n",
      "---  ------                 --------------  ----- \n",
      " 0   Tweet                  12192 non-null  object\n",
      " 1   Curated_Sentiment      12192 non-null  object\n",
      " 2   G_Sentiment_Score      12192 non-null  object\n",
      " 3   G_Sentiment_Magnitude  12192 non-null  object\n",
      "dtypes: object(4)\n",
      "memory usage: 476.2+ KB\n"
     ]
    }
   ],
   "source": [
    "df.info()"
   ]
  },
  {
   "cell_type": "code",
   "execution_count": 11,
   "metadata": {
    "ExecuteTime": {
     "end_time": "2021-01-09T18:56:33.744848Z",
     "start_time": "2021-01-09T18:56:33.735177Z"
    }
   },
   "outputs": [],
   "source": [
    "df['G_Sentiment_Score'] = pd.to_numeric(df.G_Sentiment_Score)"
   ]
  },
  {
   "cell_type": "code",
   "execution_count": 12,
   "metadata": {
    "ExecuteTime": {
     "end_time": "2021-01-09T18:56:33.756500Z",
     "start_time": "2021-01-09T18:56:33.747684Z"
    }
   },
   "outputs": [],
   "source": [
    "df['G_Sentiment_Magnitude'] = pd.to_numeric(df.G_Sentiment_Magnitude)"
   ]
  },
  {
   "cell_type": "code",
   "execution_count": 13,
   "metadata": {
    "ExecuteTime": {
     "end_time": "2021-01-09T18:56:33.768236Z",
     "start_time": "2021-01-09T18:56:33.758838Z"
    }
   },
   "outputs": [
    {
     "name": "stdout",
     "output_type": "stream",
     "text": [
      "<class 'pandas.core.frame.DataFrame'>\n",
      "Int64Index: 12192 entries, 0 to 12193\n",
      "Data columns (total 4 columns):\n",
      " #   Column                 Non-Null Count  Dtype  \n",
      "---  ------                 --------------  -----  \n",
      " 0   Tweet                  12192 non-null  object \n",
      " 1   Curated_Sentiment      12192 non-null  object \n",
      " 2   G_Sentiment_Score      12192 non-null  float64\n",
      " 3   G_Sentiment_Magnitude  12192 non-null  float64\n",
      "dtypes: float64(2), object(2)\n",
      "memory usage: 476.2+ KB\n"
     ]
    }
   ],
   "source": [
    "df.info()"
   ]
  },
  {
   "cell_type": "code",
   "execution_count": 14,
   "metadata": {
    "ExecuteTime": {
     "end_time": "2021-01-09T18:56:33.922166Z",
     "start_time": "2021-01-09T18:56:33.770162Z"
    }
   },
   "outputs": [
    {
     "data": {
      "text/plain": [
       "Text(0, 0.5, 'Google Sentiment Magnitude')"
      ]
     },
     "execution_count": 14,
     "metadata": {},
     "output_type": "execute_result"
    },
    {
     "data": {
      "image/png": "[encoded data removed]",
      "text/plain": [
       "<Figure size 432x288 with 1 Axes>"
      ]
     },
     "metadata": {
      "needs_background": "light"
     },
     "output_type": "display_data"
    }
   ],
   "source": [
    "plt.scatter(df.G_Sentiment_Score, df.G_Sentiment_Magnitude, alpha=0.05)\n",
    "plt.xlabel('Google Sentiment Score')\n",
    "plt.ylabel('Google Sentiment Magnitude')"
   ]
  },
  {
   "cell_type": "code",
   "execution_count": 15,
   "metadata": {
    "ExecuteTime": {
     "end_time": "2021-01-09T18:56:33.927155Z",
     "start_time": "2021-01-09T18:56:33.924124Z"
    }
   },
   "outputs": [],
   "source": [
    "def score_transform_gen(score_abs_threshold):\n",
    "    \"\"\"We define this function generator so that we can vary the inputs to apply below.\"\"\"\n",
    "    def score_transform(numeric_score):\n",
    "        if abs(numeric_score) < score_abs_threshold:\n",
    "            return 'neutral'\n",
    "        return 'positive' if numeric_score >= 0 else 'negative'\n",
    "\n",
    "    return score_transform"
   ]
  },
  {
   "cell_type": "markdown",
   "metadata": {},
   "source": [
    "To give Google the benefit of the doubt the most, let's use all possible subdivisions of the G_Sentiment_Score."
   ]
  },
  {
   "cell_type": "code",
   "execution_count": 16,
   "metadata": {
    "ExecuteTime": {
     "end_time": "2021-01-09T18:56:34.002245Z",
     "start_time": "2021-01-09T18:56:33.930671Z"
    }
   },
   "outputs": [
    {
     "name": "stdout",
     "output_type": "stream",
     "text": [
      "-0.05 0.584\n",
      "0.05 0.573\n",
      "0.15 0.559\n",
      "0.25 0.522\n",
      "0.35 0.479\n",
      "0.45 0.43\n",
      "0.55 0.389\n",
      "0.65 0.352\n",
      "0.75 0.328\n",
      "0.85 0.304\n",
      "0.95 0.276\n"
     ]
    }
   ],
   "source": [
    "for score_abs_threshold in np.arange(-0.05, 0.97, 0.10):\n",
    "    g_summary = df.G_Sentiment_Score.apply(score_transform_gen(score_abs_threshold))\n",
    "    match_count = sum(g_summary == df.Curated_Sentiment)\n",
    "    print(round(score_abs_threshold, 3), round(match_count / len(df), 3))"
   ]
  },
  {
   "cell_type": "markdown",
   "metadata": {},
   "source": [
    "We see that the absolute value threshold that maximizes agreement is 0.05, yielding agreement ratio 53.7%. Moreover, we see the agreement ratio decrease monotonically as the threshold is raised for positive thresholds. A negative threshold value results in only positive and negative labels, and we see that having neutral results helps the agreement ratio by about 2%."
   ]
  },
  {
   "cell_type": "markdown",
   "metadata": {},
   "source": [
    "Correction: If for a negative absolute threshold we map scores of 0 to 'positive' rather than to 'negative', the agreement ratio goes up to 58.4%. This makes sense because the ground truth contains a lot more positives than neutrals."
   ]
  },
  {
   "cell_type": "code",
   "execution_count": null,
   "metadata": {},
   "outputs": [],
   "source": []
  }
 ],
 "metadata": {
  "kernelspec": {
   "display_name": "Python 3",
   "language": "python",
   "name": "python3"
  },
  "language_info": {
   "codemirror_mode": {
    "name": "ipython",
    "version": 3
   },
   "file_extension": ".py",
   "mimetype": "text/x-python",
   "name": "python",
   "nbconvert_exporter": "python",
   "pygments_lexer": "ipython3",
   "version": "3.8.6"
  }
 },
 "nbformat": 4,
 "nbformat_minor": 4
}
