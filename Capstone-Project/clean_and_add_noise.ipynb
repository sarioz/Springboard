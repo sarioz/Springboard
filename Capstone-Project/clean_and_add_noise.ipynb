{
 "cells": [
  {
   "cell_type": "code",
   "execution_count": 1,
   "metadata": {
    "ExecuteTime": {
     "end_time": "2021-05-03T11:45:24.228835Z",
     "start_time": "2021-05-03T11:45:24.223969Z"
    }
   },
   "outputs": [],
   "source": [
    "import re\n",
    "\n",
    "def clean_tweet(tweet: str) -> str:\n",
    "    # take out URLs\n",
    "    tweet = re.sub(\"http.*(\\s|$)\", ' ', tweet)\n",
    "    # take out mentions\n",
    "    tweet = re.sub(\"@[^\\s]+\", ' ', tweet)\n",
    "    # take out hashtags\n",
    "    tweet = re.sub(\"#[^\\s]+\", ' ', tweet)\n",
    "    # take out all characters outside of those we enumerate\n",
    "    tweet = re.sub(\"[^\\da-zA-záéíóúüñÁÉÍÑÓÚÜ¿?¡!.,;#:<>()'“”\\\"\\s]\", ' ', tweet)\n",
    "    # lowercase everything\n",
    "    tweet = tweet.lower()\n",
    "    # reset spaces\n",
    "    tweet = re.sub(\"\\s+\", ' ', tweet)\n",
    "    tweet = re.sub(\"^\\s+\", '', tweet)\n",
    "    tweet = re.sub(\"\\s$\", '', tweet)\n",
    "    return tweet"
   ]
  },
  {
   "cell_type": "code",
   "execution_count": 2,
   "metadata": {
    "ExecuteTime": {
     "end_time": "2021-05-03T11:45:24.249726Z",
     "start_time": "2021-05-03T11:45:24.230832Z"
    }
   },
   "outputs": [
    {
     "name": "stdout",
     "output_type": "stream",
     "text": [
      "En el vlog de hoy .. . EMPIEZA EL RODAJE http://t.co/KpGzh5QeNP\n",
      "en el vlog de hoy .. . empieza el rodaje\n",
      "Con tanto mosquito que me pica no se como nunca me ha dau algo\n",
      "con tanto mosquito que me pica no se como nunca me ha dau algo\n",
      "Look de impacto para las redes sociales @borjavoces con Saco de #Zara y pantalon @topshop #topmen … http://t.co/j9nhRIjzgg\n",
      "look de impacto para las redes sociales con saco de y pantalon\n",
      "@AndreaChediak @holamartin @adrianacastro @mmasjuan @UrsulaModa @VivaFashion @KellySaks @NicolasFelizola ocupada cambiando a @Ninelconde 👏✌️\n",
      "ocupada cambiando a\n",
      "@azayas41 jajajaja oka oka\n",
      "jajajaja oka oka\n",
      "Lavar ropa para mi vecina es como respirar , todos los días y todo el tiempo ! Coge un break amiga es domingo !! !\n",
      "lavar ropa para mi vecina es como respirar , todos los días y todo el tiempo ! coge un break amiga es domingo !! !\n",
      "No seee vivir si no es contigooo .. Sin Ti no se ni quien soy ...\n",
      "no seee vivir si no es contigooo .. sin ti no se ni quien soy ...\n",
      "@arelyyy_090812 \" like \" 2 spoons or two spoons . Habla bien !! Either she has two spoons or she does n't . cual like no que nada\n",
      "\" like \" 2 spoons or two spoons . habla bien !! either she has two spoons or she does n't . cual like no que nada\n"
     ]
    }
   ],
   "source": [
    "import random\n",
    "\n",
    "# spotchecking loop to check that clean_tweet() works\n",
    "with open('lid_train_lines.txt', 'r') as input_file:\n",
    "    for line in input_file:\n",
    "        if random.random() < 0.0005:\n",
    "            line = line.strip()\n",
    "            print(line)\n",
    "            print(clean_tweet(line))"
   ]
  },
  {
   "cell_type": "code",
   "execution_count": 3,
   "metadata": {
    "ExecuteTime": {
     "end_time": "2021-05-03T11:45:24.513890Z",
     "start_time": "2021-05-03T11:45:24.251808Z"
    }
   },
   "outputs": [],
   "source": [
    "clean_lines = []\n",
    "\n",
    "with open('lid_train_lines.txt', 'r') as input_file:\n",
    "    for line in input_file:\n",
    "        clean_lines.append(clean_tweet(line))"
   ]
  },
  {
   "cell_type": "code",
   "execution_count": 4,
   "metadata": {
    "ExecuteTime": {
     "end_time": "2021-05-03T11:45:24.524166Z",
     "start_time": "2021-05-03T11:45:24.516132Z"
    }
   },
   "outputs": [
    {
     "data": {
      "text/plain": [
       "21030"
      ]
     },
     "execution_count": 4,
     "metadata": {},
     "output_type": "execute_result"
    }
   ],
   "source": [
    "len(clean_lines)"
   ]
  },
  {
   "cell_type": "code",
   "execution_count": 5,
   "metadata": {
    "ExecuteTime": {
     "end_time": "2021-05-03T11:45:24.528894Z",
     "start_time": "2021-05-03T11:45:24.526621Z"
    }
   },
   "outputs": [],
   "source": [
    "random.seed(a=50)"
   ]
  },
  {
   "cell_type": "code",
   "execution_count": 6,
   "metadata": {
    "ExecuteTime": {
     "end_time": "2021-05-03T11:45:24.532819Z",
     "start_time": "2021-05-03T11:45:24.530479Z"
    }
   },
   "outputs": [],
   "source": [
    "chosen_tweets = random.choices(clean_lines, k=100)"
   ]
  },
  {
   "cell_type": "code",
   "execution_count": 7,
   "metadata": {
    "ExecuteTime": {
     "end_time": "2021-05-03T11:45:24.539156Z",
     "start_time": "2021-05-03T11:45:24.534429Z"
    }
   },
   "outputs": [
    {
     "data": {
      "text/plain": [
       "['mañana viernes wilfrido vargas ..',\n",
       " 'u love me',\n",
       " 'so original .. .',\n",
       " 'whats up with nature',\n",
       " 'aguanta tu ritmo .',\n",
       " \"i do n't like ( xxx ) people , they always think they 're right and do n't listen to anything else . ( testarudo a obstinado a tercho a )\",\n",
       " 'ni pinches moscas pescas tu mondaooo',\n",
       " 'new week , be kind and sweet ! vestido sahara',\n",
       " 'no puedo bregar con la gente stalker',\n",
       " 'a cantarle las mañanitas ala virgencita',\n",
       " 'el vlog de hoy aunque sea tarde , pequeñas cenas agradables : el día más feliz de mi vida',\n",
       " 'all bad',\n",
       " 'no es sinónimo pero significa lo mismo , i get out of work at 6 pm , creo q esto es lo q querías decir :)',\n",
       " 'blusa violeta y sus diferentes estampados ! escoge tu color favorito made in ecuador',\n",
       " '¡¡ nuevo vídeo !! en esta ocasión , un famoso presentador de tv me hace una durísima entrevista .. . ¡ se .. .',\n",
       " 'get the hang of it : acostumbrarse a esto poder dominarlo person 1 : this new job is so stressful . person 2 : you ll get the hang of it .',\n",
       " 'clase de text',\n",
       " 'voy a empezar a pedirle trabajos a la gente como me los piden a mi',\n",
       " 'en estos momentos prefiero hacer mi ensayo de psicología que trabajar',\n",
       " 'online class de sexual harassment .. . arianna is so mean',\n",
       " '\" y nunca me entretengo aber si me aman , les doy mi corazon por una semana , y luego dejo k se alejen de mi si les da la gana \"',\n",
       " \"ruth likes my dad 's new truck\",\n",
       " '“ : si el camino es difícil .. . normalmente es porque vas en la dirección correcta . ” very true !! !',\n",
       " 'been waiting haha',\n",
       " 'lol jk but gracias corazon',\n",
       " '\" : my best friend',\n",
       " 'gracias flaca y el vestido es de la marca .',\n",
       " 'haber saludao !',\n",
       " 'u love me',\n",
       " 'unless they cut my hours again and tell me bout to go in today _',\n",
       " 'es fun ver lo que dicen y eso jaja .',\n",
       " 'this bop put bacon on my food omfg foh',\n",
       " '',\n",
       " 'yo no pregunte pq a la defensiva ?',\n",
       " 'comenzó la recta final a 1 mes y 1 día !! ! omg : o',\n",
       " 'la respuesta de es :',\n",
       " 'tu sabes que no',\n",
       " 'a escucharlo y disfrutarlo ! ( si te gusta claro )',\n",
       " 'te relacionas ? jajaja',\n",
       " '“ : i miss my favorite stylist ! ” miss u to chica',\n",
       " 'ay y yo , pero tengo el estomago vacio y me iria over',\n",
       " 'si quieren un poco de inspiracion busquen el poema de steve jobs \" here \\'s to the crazy ones \"',\n",
       " 'fuhk valley is gunna close already',\n",
       " 'so si te van aser ?',\n",
       " 'a la verdad que el verano despues de freshmen year yo estaba obesa',\n",
       " \"plain and simple . simple y llanamente . i do n t need a new car , i 'm not interested , plain and simple\",\n",
       " 'así o más energía ? la mayor cantidad de música',\n",
       " 'that was so emberrasing',\n",
       " 'lol your all bad',\n",
       " 'tfti !! i want chokomil lmao',\n",
       " 'mi perrita abda de latosa y no me deja dormir .',\n",
       " 'me estan comprando una mac',\n",
       " 'a tus niñas les gusts el mundo del modelaje ? registralas en imagen modeling by la',\n",
       " \"yessss !! it does :d nd it 's gonna help us muajajaja . ;)\",\n",
       " 'gastar toel dinero que hiciste ?',\n",
       " 'buen provecho !',\n",
       " 'todos ayer jajaja',\n",
       " 'me metieron con un guineo en la cara ! jajajajjaj',\n",
       " 'quisiera volver a ser pequeño , no pagar renta , ni usar desodrante .',\n",
       " '“ : que guapa esperemos pronto verte por mexico saludos de todo el club de hp ” gracias chica . saludos a todos',\n",
       " 'go with the flow : varias cosas una sigue a la mayoría p1 : are we going to plan the trip ? p2 : let s just go with the flow and see what happen',\n",
       " \"jajajajja ayy precious have you tried the chocolate filled gansitos ?? they 're sooooo good !!!\",\n",
       " 'la he escuchado mucho , pero no la usaba :)',\n",
       " 'can you ? lol',\n",
       " 'tengo el brazo como el muslo de beyoncé , pero totally worth it . buenos días .',\n",
       " 'hate being so detailed when describing a person because i hit their qualities spot on when they describe me they make me sound so blah .',\n",
       " 'really what is it about ? i wanted too go see it lmao',\n",
       " 'all my tios are coming to my house .... like always',\n",
       " 'jajajajaja mira ponte a estudiar para el depa de mañana y shh',\n",
       " 'life long dream ? ir a un concierto de coldplay',\n",
       " 'beffas beers pool',\n",
       " 'imagen modeling by la gatita regístrate en',\n",
       " 'la primera es la correcta , no me expliqué bien :( can you tell me who she is , can you tell me where it is , do you know who he is :)',\n",
       " 'no',\n",
       " 'hay alguien que o no hablo en todo el dia o tiene la mente a millon',\n",
       " 'down like a real friends supposed to im trying to show you the life of somebody like you should be living',\n",
       " 'gracias',\n",
       " \"oh no ! let 's figure this out , edgar . could you please follow us and send us a dm for further assistance ? thanks ! mh\",\n",
       " 'gracias mi ponchin !',\n",
       " 'make them your strength',\n",
       " 'con cariño , una canción , . conéctate a la fiesta',\n",
       " '“ : gracias via x mi para ña2014 ”',\n",
       " 'jajajaja yo',\n",
       " 'my brothers are honestly amazing !!! i loved every single one of the presents they gave me !',\n",
       " 'no lmfao i was just not sleepy jajaja .',\n",
       " 'lo mejor hasta ahorita son y mi bella',\n",
       " '\" : alcoholic ? no , i prefer the term drinking enthusiast . \" jajajajaja accurate ?',\n",
       " 'me maltrato con un guineo .',\n",
       " 'nuestras faldas lucianas en sus diferentes colores para cada personalidad cuál prefieres ?',\n",
       " 'obsesionada con este personaje',\n",
       " '\" que mucha mierda has comido con la monografia esa .. \" pues hasla tu que tal ?',\n",
       " 'belvita !',\n",
       " 'no dejes que el lunes te ponga patas arriba ! empieza la semana con ánimo . mi',\n",
       " 'para una noticiero estelar es necesario un outfit ! lucete como nuestra querida',\n",
       " 'los amo . ; un besote a mi por confiar en mi y a ustedes tambien .',\n",
       " \"lol okay it 's iaavalos\",\n",
       " \"omg this sucks !! i hate being sick can n't even breath :(\",\n",
       " '“ : to err is human , to forgive , devine . ”',\n",
       " 'exacto',\n",
       " 'your not going to find a girl who loves you more than me']"
      ]
     },
     "execution_count": 7,
     "metadata": {},
     "output_type": "execute_result"
    }
   ],
   "source": [
    "chosen_tweets"
   ]
  },
  {
   "cell_type": "code",
   "execution_count": 8,
   "metadata": {
    "ExecuteTime": {
     "end_time": "2021-05-03T11:45:24.547915Z",
     "start_time": "2021-05-03T11:45:24.542815Z"
    },
    "scrolled": true
   },
   "outputs": [
    {
     "name": "stdout",
     "output_type": "stream",
     "text": [
      "mañana viernes wilfrido vargas ..\n",
      "u love me\n",
      "so original .. .\n",
      "whats up with nature\n",
      "aguanta tu ritmo .\n",
      "i do n't like ( xxx ) people , they always think they 're right and do n't listen to anything else . ( testarudo a obstinado a tercho a )\n",
      "ni pinches moscas pescas tu mondaooo\n",
      "new week , be kind and sweet ! vestido sahara\n",
      "no puedo bregar con la gente stalker\n",
      "a cantarle las mañanitas ala virgencita\n",
      "el vlog de hoy aunque sea tarde , pequeñas cenas agradables : el día más feliz de mi vida\n",
      "all bad\n",
      "no es sinónimo pero significa lo mismo , i get out of work at 6 pm , creo q esto es lo q querías decir :)\n",
      "blusa violeta y sus diferentes estampados ! escoge tu color favorito made in ecuador\n",
      "¡¡ nuevo vídeo !! en esta ocasión , un famoso presentador de tv me hace una durísima entrevista .. . ¡ se .. .\n",
      "get the hang of it : acostumbrarse a esto poder dominarlo person 1 : this new job is so stressful . person 2 : you ll get the hang of it .\n",
      "clase de text\n",
      "voy a empezar a pedirle trabajos a la gente como me los piden a mi\n",
      "en estos momentos prefiero hacer mi ensayo de psicología que trabajar\n",
      "online class de sexual harassment .. . arianna is so mean\n",
      "\" y nunca me entretengo aber si me aman , les doy mi corazon por una semana , y luego dejo k se alejen de mi si les da la gana \"\n",
      "ruth likes my dad 's new truck\n",
      "“ : si el camino es difícil .. . normalmente es porque vas en la dirección correcta . ” very true !! !\n",
      "been waiting haha\n",
      "lol jk but gracias corazon\n",
      "\" : my best friend\n",
      "gracias flaca y el vestido es de la marca .\n",
      "haber saludao !\n",
      "u love me\n",
      "unless they cut my hours again and tell me bout to go in today _\n",
      "es fun ver lo que dicen y eso jaja .\n",
      "this bop put bacon on my food omfg foh\n",
      "\n",
      "yo no pregunte pq a la defensiva ?\n",
      "comenzó la recta final a 1 mes y 1 día !! ! omg : o\n",
      "la respuesta de es :\n",
      "tu sabes que no\n",
      "a escucharlo y disfrutarlo ! ( si te gusta claro )\n",
      "te relacionas ? jajaja\n",
      "“ : i miss my favorite stylist ! ” miss u to chica\n",
      "ay y yo , pero tengo el estomago vacio y me iria over\n",
      "si quieren un poco de inspiracion busquen el poema de steve jobs \" here 's to the crazy ones \"\n",
      "fuhk valley is gunna close already\n",
      "so si te van aser ?\n",
      "a la verdad que el verano despues de freshmen year yo estaba obesa\n",
      "plain and simple . simple y llanamente . i do n t need a new car , i 'm not interested , plain and simple\n",
      "así o más energía ? la mayor cantidad de música\n",
      "that was so emberrasing\n",
      "lol your all bad\n",
      "tfti !! i want chokomil lmao\n",
      "mi perrita abda de latosa y no me deja dormir .\n",
      "me estan comprando una mac\n",
      "a tus niñas les gusts el mundo del modelaje ? registralas en imagen modeling by la\n",
      "yessss !! it does :d nd it 's gonna help us muajajaja . ;)\n",
      "gastar toel dinero que hiciste ?\n",
      "buen provecho !\n",
      "todos ayer jajaja\n",
      "me metieron con un guineo en la cara ! jajajajjaj\n",
      "quisiera volver a ser pequeño , no pagar renta , ni usar desodrante .\n",
      "“ : que guapa esperemos pronto verte por mexico saludos de todo el club de hp ” gracias chica . saludos a todos\n",
      "go with the flow : varias cosas una sigue a la mayoría p1 : are we going to plan the trip ? p2 : let s just go with the flow and see what happen\n",
      "jajajajja ayy precious have you tried the chocolate filled gansitos ?? they 're sooooo good !!!\n",
      "la he escuchado mucho , pero no la usaba :)\n",
      "can you ? lol\n",
      "tengo el brazo como el muslo de beyoncé , pero totally worth it . buenos días .\n",
      "hate being so detailed when describing a person because i hit their qualities spot on when they describe me they make me sound so blah .\n",
      "really what is it about ? i wanted too go see it lmao\n",
      "all my tios are coming to my house .... like always\n",
      "jajajajaja mira ponte a estudiar para el depa de mañana y shh\n",
      "life long dream ? ir a un concierto de coldplay\n",
      "beffas beers pool\n",
      "imagen modeling by la gatita regístrate en\n",
      "la primera es la correcta , no me expliqué bien :( can you tell me who she is , can you tell me where it is , do you know who he is :)\n",
      "no\n",
      "hay alguien que o no hablo en todo el dia o tiene la mente a millon\n",
      "down like a real friends supposed to im trying to show you the life of somebody like you should be living\n",
      "gracias\n",
      "oh no ! let 's figure this out , edgar . could you please follow us and send us a dm for further assistance ? thanks ! mh\n",
      "gracias mi ponchin !\n",
      "make them your strength\n",
      "con cariño , una canción , . conéctate a la fiesta\n",
      "“ : gracias via x mi para ña2014 ”\n",
      "jajajaja yo\n",
      "my brothers are honestly amazing !!! i loved every single one of the presents they gave me !\n",
      "no lmfao i was just not sleepy jajaja .\n",
      "lo mejor hasta ahorita son y mi bella\n",
      "\" : alcoholic ? no , i prefer the term drinking enthusiast . \" jajajajaja accurate ?\n",
      "me maltrato con un guineo .\n",
      "nuestras faldas lucianas en sus diferentes colores para cada personalidad cuál prefieres ?\n",
      "obsesionada con este personaje\n",
      "\" que mucha mierda has comido con la monografia esa .. \" pues hasla tu que tal ?\n",
      "belvita !\n",
      "no dejes que el lunes te ponga patas arriba ! empieza la semana con ánimo . mi\n",
      "para una noticiero estelar es necesario un outfit ! lucete como nuestra querida\n",
      "los amo . ; un besote a mi por confiar en mi y a ustedes tambien .\n",
      "lol okay it 's iaavalos\n",
      "omg this sucks !! i hate being sick can n't even breath :(\n",
      "“ : to err is human , to forgive , devine . ”\n",
      "exacto\n",
      "your not going to find a girl who loves you more than me\n"
     ]
    }
   ],
   "source": [
    "for chosen_tweet in chosen_tweets:\n",
    "    print (chosen_tweet)"
   ]
  },
  {
   "cell_type": "code",
   "execution_count": 9,
   "metadata": {
    "ExecuteTime": {
     "end_time": "2021-05-03T11:45:24.557007Z",
     "start_time": "2021-05-03T11:45:24.551421Z"
    }
   },
   "outputs": [],
   "source": [
    "DISACCENT_MAP = {'á': 'a', 'é': 'e', 'í': 'i', 'ó': 'o', 'ú': 'u', 'ü': 'u', 'ñ': 'n'}\n",
    "\n",
    "def drop_accents(tweet: [str], drop_probability: float=1.0) -> [str]:\n",
    "    output = []\n",
    "    for c in tweet:\n",
    "        if c in DISACCENT_MAP and random.random() < drop_probability:\n",
    "            output.append(DISACCENT_MAP[c])\n",
    "        else:\n",
    "            output.append(c)\n",
    "    return output"
   ]
  },
  {
   "cell_type": "code",
   "execution_count": 10,
   "metadata": {
    "ExecuteTime": {
     "end_time": "2021-05-03T11:45:24.561945Z",
     "start_time": "2021-05-03T11:45:24.558798Z"
    }
   },
   "outputs": [
    {
     "data": {
      "text/plain": [
       "'jajajaajaja yo odio la palabra \" mocion \" con mi vida entera despues de la estupidez de huelga esa'"
      ]
     },
     "execution_count": 10,
     "metadata": {},
     "output_type": "execute_result"
    }
   ],
   "source": [
    "example = 'jajajaajaja yo odio la palabra \" moción \" con mi vida entera después de la estupidez de huelga esa'\n",
    "''.join(drop_accents(example, 0.5))"
   ]
  },
  {
   "cell_type": "code",
   "execution_count": 11,
   "metadata": {
    "ExecuteTime": {
     "end_time": "2021-05-03T11:45:24.566463Z",
     "start_time": "2021-05-03T11:45:24.563489Z"
    }
   },
   "outputs": [
    {
     "data": {
      "text/plain": [
       "21030"
      ]
     },
     "execution_count": 11,
     "metadata": {},
     "output_type": "execute_result"
    }
   ],
   "source": [
    "len(clean_lines)"
   ]
  },
  {
   "cell_type": "code",
   "execution_count": 12,
   "metadata": {
    "ExecuteTime": {
     "end_time": "2021-05-03T11:45:24.572342Z",
     "start_time": "2021-05-03T11:45:24.568150Z"
    }
   },
   "outputs": [],
   "source": [
    "VOWELS_SET = set(\"aeiouáéíóúü\")\n",
    "\n",
    "def drop_vowels(tweet: [str], drop_probability: float=1.0) -> [str]:\n",
    "    output = []\n",
    "    for c in tweet:\n",
    "        if c in VOWELS_SET and random.random() < drop_probability:\n",
    "            continue\n",
    "        output.append(c)\n",
    "    return output"
   ]
  },
  {
   "cell_type": "code",
   "execution_count": 13,
   "metadata": {
    "ExecuteTime": {
     "end_time": "2021-05-03T11:45:24.579108Z",
     "start_time": "2021-05-03T11:45:24.574779Z"
    }
   },
   "outputs": [
    {
     "data": {
      "text/plain": [
       "'jajajajaja yo odo la palabr \" moción \" con m vida entera después de la estpidez de huelga esa'"
      ]
     },
     "execution_count": 13,
     "metadata": {},
     "output_type": "execute_result"
    }
   ],
   "source": [
    "''.join(drop_vowels(example, 0.1))"
   ]
  },
  {
   "cell_type": "code",
   "execution_count": 14,
   "metadata": {
    "ExecuteTime": {
     "end_time": "2021-05-03T11:45:24.586183Z",
     "start_time": "2021-05-03T11:45:24.581869Z"
    }
   },
   "outputs": [],
   "source": [
    "def repeat_vowels(tweet: [str], repeat_probability=0.05, max_repeat=6) -> [str]:\n",
    "    output = []\n",
    "    for c in tweet:\n",
    "        if c in VOWELS_SET and random.random() < repeat_probability:\n",
    "            for _ in range(random.randint(1, max_repeat)):\n",
    "                output.append(c)\n",
    "        output.append(c)\n",
    "    return output"
   ]
  },
  {
   "cell_type": "code",
   "execution_count": 15,
   "metadata": {
    "ExecuteTime": {
     "end_time": "2021-05-03T11:45:24.592175Z",
     "start_time": "2021-05-03T11:45:24.588582Z"
    }
   },
   "outputs": [
    {
     "data": {
      "text/plain": [
       "'jajajaajaaaaaaja yo odio la palabra \" moción \" con miiii vida entera después de la estupidez dee huelga esa'"
      ]
     },
     "execution_count": 15,
     "metadata": {},
     "output_type": "execute_result"
    }
   ],
   "source": [
    "''.join(repeat_vowels(example))"
   ]
  },
  {
   "cell_type": "code",
   "execution_count": 16,
   "metadata": {
    "ExecuteTime": {
     "end_time": "2021-05-03T11:45:24.598062Z",
     "start_time": "2021-05-03T11:45:24.593855Z"
    }
   },
   "outputs": [],
   "source": [
    "CREATIVE_SUB_MAP = {'c': 's', 's': 'z', 'b': 'v', 'v': 'b'}\n",
    "\n",
    "def substitute_creatively(tweet: [str], substitution_probability=0.1):\n",
    "    output = []\n",
    "    for c in tweet:\n",
    "        if c in CREATIVE_SUB_MAP and random.random() < substitution_probability:\n",
    "            output.append(CREATIVE_SUB_MAP[c])\n",
    "        else:\n",
    "            output.append(c)\n",
    "    return output"
   ]
  },
  {
   "cell_type": "code",
   "execution_count": 17,
   "metadata": {
    "ExecuteTime": {
     "end_time": "2021-05-03T11:45:24.606139Z",
     "start_time": "2021-05-03T11:45:24.600656Z"
    }
   },
   "outputs": [
    {
     "data": {
      "text/plain": [
       "'jajajaajaja yo odio la palabra \" moción \" con mi vida entera después de la estupidez de huelga eza'"
      ]
     },
     "execution_count": 17,
     "metadata": {},
     "output_type": "execute_result"
    }
   ],
   "source": [
    "''.join(substitute_creatively(example))"
   ]
  },
  {
   "cell_type": "code",
   "execution_count": 18,
   "metadata": {
    "ExecuteTime": {
     "end_time": "2021-05-03T11:45:24.613979Z",
     "start_time": "2021-05-03T11:45:24.610284Z"
    }
   },
   "outputs": [],
   "source": [
    "def simulate_creative_misspellings(tweet: [str]) -> [str]:\n",
    "    if random.random() < 0.7:\n",
    "        return repeat_vowels(tweet)\n",
    "    else:\n",
    "        return substitute_creatively(tweet)"
   ]
  },
  {
   "cell_type": "code",
   "execution_count": 19,
   "metadata": {
    "ExecuteTime": {
     "end_time": "2021-05-03T11:45:24.620470Z",
     "start_time": "2021-05-03T11:45:24.616369Z"
    }
   },
   "outputs": [],
   "source": [
    "def simulate_intentional_shortenings(tweet: [str]) -> [str]:\n",
    "    input_tokens = ''.join(tweet).split(' ')\n",
    "    output_tokens = []\n",
    "    for token in input_tokens:\n",
    "        if random.random() < 0.3:\n",
    "            output_tokens.append(''.join(drop_vowels(list(token), 0.5)))\n",
    "        else:\n",
    "            output_tokens.append(token)\n",
    "    return list(' '.join(output_tokens))"
   ]
  },
  {
   "cell_type": "code",
   "execution_count": 20,
   "metadata": {
    "ExecuteTime": {
     "end_time": "2021-05-03T11:45:24.627750Z",
     "start_time": "2021-05-03T11:45:24.623141Z"
    }
   },
   "outputs": [
    {
     "data": {
      "text/plain": [
       "'jajajaajaja yo odio l palabra \" moción \" con mi vida entera despus d la estupidez de huelga esa'"
      ]
     },
     "execution_count": 20,
     "metadata": {},
     "output_type": "execute_result"
    }
   ],
   "source": [
    "''.join(simulate_intentional_shortenings(example))"
   ]
  },
  {
   "cell_type": "code",
   "execution_count": 21,
   "metadata": {
    "ExecuteTime": {
     "end_time": "2021-05-03T11:45:24.634258Z",
     "start_time": "2021-05-03T11:45:24.630149Z"
    }
   },
   "outputs": [
    {
     "name": "stdout",
     "output_type": "stream",
     "text": [
      "['a', 'b', 'c', 'd', 'e', 'f', 'g', 'h', 'i', 'j', 'k', 'l', 'm', 'n', 'o', 'p', 'q', 'r', 's', 't', 'u', 'v', 'w', 'x', 'y', 'z', 'á', 'é', 'í', 'ó', 'ú', 'ü', 'ñ']\n",
      "{'g', 'z', 'á', 'o', 'l', 'é', 'ó', 'd', 'x', 'q', 'n', 'f', 'u', 'ñ', 'e', 'y', 'i', 'c', 'j', 'ú', 'w', 'a', 'k', 'ü', 's', 'b', 'm', 't', 'v', 'í', 'r', 'h', 'p'}\n"
     ]
    }
   ],
   "source": [
    "ALPHABET_L = list(\"abcdefghijklmnopqrstuvwxyzáéíóúüñ\")\n",
    "ALPHABET_S = set(ALPHABET_L)\n",
    "print(ALPHABET_L)\n",
    "print(ALPHABET_S)"
   ]
  },
  {
   "cell_type": "code",
   "execution_count": 22,
   "metadata": {
    "ExecuteTime": {
     "end_time": "2021-05-03T11:45:24.643230Z",
     "start_time": "2021-05-03T11:45:24.636837Z"
    }
   },
   "outputs": [],
   "source": [
    "def simulate_bona_fide_spelling_mistakes(tweet: [str], modify_rate=0.1) -> [str]:\n",
    "    # equally add, omit, or substitute each character for a total probability of modify_rate\n",
    "    add_cmf_val = modify_rate / 3\n",
    "    omit_cmf_val = 2 * modify_rate / 3\n",
    "    substitute_cmf_val = modify_rate\n",
    "    \n",
    "    output = []\n",
    "    for c in tweet:\n",
    "        r = random.random()\n",
    "        if r < add_cmf_val:\n",
    "            output.append(c)\n",
    "            output.append(random.choice(ALPHABET_L))\n",
    "        elif r < omit_cmf_val:\n",
    "            continue\n",
    "        elif c in ALPHABET_S and r < substitute_cmf_val:\n",
    "            # we don't apply substitutions to non-alpha\n",
    "            output.append(random.choice(ALPHABET_L))\n",
    "        else:\n",
    "            output.append(c)\n",
    "    return output"
   ]
  },
  {
   "cell_type": "code",
   "execution_count": 23,
   "metadata": {
    "ExecuteTime": {
     "end_time": "2021-05-03T11:45:24.651380Z",
     "start_time": "2021-05-03T11:45:24.648088Z"
    }
   },
   "outputs": [
    {
     "data": {
      "text/plain": [
       "'jajajaajaja vo odio la palabra \" moción \" con mi vida etea después dte lx esteupidez de huega esa'"
      ]
     },
     "execution_count": 23,
     "metadata": {},
     "output_type": "execute_result"
    }
   ],
   "source": [
    "''.join(simulate_bona_fide_spelling_mistakes(example))"
   ]
  },
  {
   "cell_type": "code",
   "execution_count": 24,
   "metadata": {
    "ExecuteTime": {
     "end_time": "2021-05-03T11:45:24.657202Z",
     "start_time": "2021-05-03T11:45:24.654274Z"
    }
   },
   "outputs": [],
   "source": [
    "def identity(tweet: [str]) -> [str]:\n",
    "    return tweet"
   ]
  },
  {
   "cell_type": "code",
   "execution_count": 25,
   "metadata": {
    "ExecuteTime": {
     "end_time": "2021-05-03T11:45:24.666953Z",
     "start_time": "2021-05-03T11:45:24.659053Z"
    }
   },
   "outputs": [],
   "source": [
    "DEFAULT_WEIGHT_MAP = [[14, simulate_creative_misspellings],\n",
    "                      [13, drop_accents],\n",
    "                      [10, simulate_intentional_shortenings],\n",
    "                      [8, simulate_bona_fide_spelling_mistakes],\n",
    "                      [10, identity]]\n",
    "\n",
    "class DisjointNoiser:\n",
    "    def __init__(self, weight_map=DEFAULT_WEIGHT_MAP):\n",
    "        self.weight_map = weight_map\n",
    "        total = sum([self.weight_map[i][0] for i in range(len(self.weight_map))])\n",
    "        # we normalize the pmf\n",
    "        for i in range(len(self.weight_map)):\n",
    "            self.weight_map[i][0] /= total\n",
    "        # we make the pmf into a cmf\n",
    "        for i in range(1, len(self.weight_map) - 1):\n",
    "            self.weight_map[i][0] += self.weight_map[i - 1][0]\n",
    "        self.weight_map[-1][0] = 1.0  # so as not to worry about rounding errors\n",
    "\n",
    "    def add_noise(self, tweet: [str]) -> [str]:\n",
    "        \"\"\"Applies at most 1 kind of noising to the tweet according to the weights in the weight map.\n",
    "        Each 'noising' could alter the tweet in multiple places or not at all.\n",
    "        \"\"\"\n",
    "        tweet = list(tweet)\n",
    "        my_random_number = random.random()\n",
    "        for max_prob, noise_function in self.weight_map:\n",
    "            if my_random_number < max_prob:\n",
    "                print('calling', noise_function)\n",
    "                return noise_function(tweet)"
   ]
  },
  {
   "cell_type": "code",
   "execution_count": 26,
   "metadata": {
    "ExecuteTime": {
     "end_time": "2021-05-03T11:45:24.674652Z",
     "start_time": "2021-05-03T11:45:24.669538Z"
    }
   },
   "outputs": [
    {
     "name": "stdout",
     "output_type": "stream",
     "text": [
      "calling <function simulate_bona_fide_spelling_mistakes at 0x7fa5f0e4d2f0>\n",
      "calling <function simulate_bona_fide_spelling_mistakes at 0x7fa5f0e4d2f0>\n",
      "calling <function simulate_intentional_shortenings at 0x7fa5f0e4bd08>\n",
      "calling <function simulate_intentional_shortenings at 0x7fa5f0e4bd08>\n",
      "calling <function simulate_bona_fide_spelling_mistakes at 0x7fa5f0e4d2f0>\n",
      "calling <function simulate_bona_fide_spelling_mistakes at 0x7fa5f0e4d2f0>\n",
      "calling <function simulate_intentional_shortenings at 0x7fa5f0e4bd08>\n",
      "calling <function drop_accents at 0x7fa5f0e3c9d8>\n",
      "calling <function simulate_bona_fide_spelling_mistakes at 0x7fa5f0e4d2f0>\n",
      "calling <function drop_accents at 0x7fa5f0e3c9d8>\n"
     ]
    }
   ],
   "source": [
    "noiser = DisjointNoiser()\n",
    "for _ in range(10):\n",
    "    noiser.add_noise('abcd')"
   ]
  },
  {
   "cell_type": "code",
   "execution_count": 27,
   "metadata": {
    "ExecuteTime": {
     "end_time": "2021-05-03T11:45:24.681375Z",
     "start_time": "2021-05-03T11:45:24.676913Z"
    }
   },
   "outputs": [
    {
     "name": "stdout",
     "output_type": "stream",
     "text": [
      "calling <function simulate_intentional_shortenings at 0x7fa5f0e4bd08>\n",
      "jjajjaja yo odio la palabra \" moción \" con mi vida entera después de la estupidez de huelga esa\n",
      "\n",
      "calling <function simulate_intentional_shortenings at 0x7fa5f0e4bd08>\n",
      "jajajaajaja yo odio l palabra \" moción \" con m vida entera dspués de la stpidz de huelga esa\n",
      "\n",
      "calling <function identity at 0x7fa5f0ad79d8>\n",
      "jajajaajaja yo odio la palabra \" moción \" con mi vida entera después de la estupidez de huelga esa\n",
      "\n",
      "calling <function drop_accents at 0x7fa5f0e3c9d8>\n",
      "jajajaajaja yo odio la palabra \" mocion \" con mi vida entera despues de la estupidez de huelga esa\n",
      "\n",
      "calling <function identity at 0x7fa5f0ad79d8>\n",
      "jajajaajaja yo odio la palabra \" moción \" con mi vida entera después de la estupidez de huelga esa\n",
      "\n",
      "calling <function identity at 0x7fa5f0ad79d8>\n",
      "jajajaajaja yo odio la palabra \" moción \" con mi vida entera después de la estupidez de huelga esa\n",
      "\n",
      "calling <function simulate_bona_fide_spelling_mistakes at 0x7fa5f0e4d2f0>\n",
      "jajajajfja yo odio la ypalabra \" oción \" con mi vviada etera después de la estufpidez de huelga qsa\n",
      "\n",
      "calling <function simulate_intentional_shortenings at 0x7fa5f0e4bd08>\n",
      "jajajaajaja yo odio la palabra \" mción \" con mi vd entera desps de la estupidez de hulga esa\n",
      "\n",
      "calling <function simulate_bona_fide_spelling_mistakes at 0x7fa5f0e4d2f0>\n",
      "jjajaajajay yo diá la alabra \" moción \" con mi vida entera después de la estoupidez de huelga es\n",
      "\n",
      "calling <function simulate_bona_fide_spelling_mistakes at 0x7fa5f0e4d2f0>\n",
      "jajajaajavja y odiolj plabra \" moción c\" csn mi visa entera dñespué de la estupidez de helga xsa\n",
      "\n"
     ]
    }
   ],
   "source": [
    "noiser = DisjointNoiser()\n",
    "for _ in range(10):\n",
    "    print(''.join(noiser.add_noise(example)))\n",
    "    print()"
   ]
  },
  {
   "cell_type": "code",
   "execution_count": null,
   "metadata": {},
   "outputs": [],
   "source": []
  }
 ],
 "metadata": {
  "kernelspec": {
   "display_name": "Python 3",
   "language": "python",
   "name": "python3"
  },
  "language_info": {
   "codemirror_mode": {
    "name": "ipython",
    "version": 3
   },
   "file_extension": ".py",
   "mimetype": "text/x-python",
   "name": "python",
   "nbconvert_exporter": "python",
   "pygments_lexer": "ipython3",
   "version": "3.6.13"
  }
 },
 "nbformat": 4,
 "nbformat_minor": 4
}
