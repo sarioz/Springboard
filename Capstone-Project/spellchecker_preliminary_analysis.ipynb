{
 "cells": [
  {
   "cell_type": "code",
   "execution_count": 53,
   "metadata": {
    "ExecuteTime": {
     "end_time": "2021-03-29T11:00:20.412553Z",
     "start_time": "2021-03-29T11:00:20.408873Z"
    }
   },
   "outputs": [],
   "source": [
    "import re\n",
    "\n",
    "def clean_tweet(tweet: str) -> str:\n",
    "    # take out URLs\n",
    "    tweet = re.sub(\"http.*(\\s|$)\", ' ', tweet)\n",
    "    # take out mentions\n",
    "    tweet = re.sub(\"@[^\\s]+\", ' ', tweet)\n",
    "    # take out hashtags\n",
    "    tweet = re.sub(\"#[^\\s]+\", ' ', tweet)\n",
    "    # take out all characters outside of those we enumerate\n",
    "    tweet = re.sub(\"[^\\da-zA-záéíóúüñÁÉÍÑÓÚÜ¿?¡!.,;#:<>()'“”\\\"\\s]\", ' ', tweet)\n",
    "    # reset spaces\n",
    "    tweet = re.sub(\"\\s+\", ' ', tweet)\n",
    "    tweet = re.sub(\"^\\s+\", '', tweet)\n",
    "    tweet = re.sub(\"\\s$\", '', tweet)\n",
    "    return tweet"
   ]
  },
  {
   "cell_type": "code",
   "execution_count": 76,
   "metadata": {
    "ExecuteTime": {
     "end_time": "2021-03-29T11:21:23.211076Z",
     "start_time": "2021-03-29T11:21:23.193099Z"
    }
   },
   "outputs": [
    {
     "name": "stdout",
     "output_type": "stream",
     "text": [
      "@BarackObama no cuz ur team light skin bro thts why i didnt vote 4 u\n",
      "no cuz ur team light skin bro thts why i didnt vote 4 u\n",
      "Total , que estoy así : https://t.co/WW3jAqKVGs\n",
      "Total , que estoy así :\n",
      "El vlog de hoy : INFORMACIÓN TOP SECRET https://t.co/7oZdo7UWca\n",
      "El vlog de hoy : INFORMACIÓN TOP SECRET\n",
      "Hoy a las 20h se estrena algo muy especial en el canal .. . EL VIDEOCLIP . HYPE HYPE HYPE !! !\n",
      "Hoy a las 20h se estrena algo muy especial en el canal .. . EL VIDEOCLIP . HYPE HYPE HYPE !! !\n",
      "Me levanto confundido si estoy en verano o en navidad .. #christmasweather\n",
      "Me levanto confundido si estoy en verano o en navidad ..\n",
      "#happybday #felizcumple @acanseco #anamariacanseco #amiga #hermana Dios te bendiga hoy y siempre !! ! #tqm http://t.co/csQdPMFqWG\n",
      "Dios te bendiga hoy y siempre !! !\n",
      "No es un superhéroe , pero el Verizon Mobile Protection Center protege tu teléfono igual de bien . http://t.co/pMXp8or1Z6\n",
      "No es un superhéroe , pero el Verizon Mobile Protection Center protege tu teléfono igual de bien .\n",
      "Simplemente .. .. .. GRACIAS MI DIOS !\n",
      "Simplemente .. .. .. GRACIAS MI DIOS !\n",
      "@vecolberg ahh pues landfill !\n",
      "ahh pues landfill !\n",
      "whatever no me importa el examennn me quiero irrr omg\n",
      "whatever no me importa el examennn me quiero irrr omg\n",
      "que show\n",
      "que show\n",
      "Gracias q lo jefa por todo lo q me enseño . 2 shot y 2 tragos después .. . #PATRON #tequila\n",
      "Gracias q lo jefa por todo lo q me enseño . 2 shot y 2 tragos después .. .\n"
     ]
    }
   ],
   "source": [
    "import random\n",
    "\n",
    "# spotchecking loop to check that clean_tweet() works\n",
    "with open('lid_train_lines.txt', 'r') as input_file:\n",
    "    for line in input_file:\n",
    "        if random.random() < 0.0005:\n",
    "            line = line.strip()\n",
    "            print(line)\n",
    "            print(clean_tweet(line))"
   ]
  },
  {
   "cell_type": "code",
   "execution_count": 56,
   "metadata": {
    "ExecuteTime": {
     "end_time": "2021-03-29T11:04:14.716844Z",
     "start_time": "2021-03-29T11:04:14.452657Z"
    }
   },
   "outputs": [],
   "source": [
    "clean_lines = []\n",
    "\n",
    "with open('lid_train_lines.txt', 'r') as input_file:\n",
    "    for line in input_file:\n",
    "        clean_lines.append(clean_tweet(line))"
   ]
  },
  {
   "cell_type": "code",
   "execution_count": 57,
   "metadata": {
    "ExecuteTime": {
     "end_time": "2021-03-29T11:04:33.940057Z",
     "start_time": "2021-03-29T11:04:33.931319Z"
    }
   },
   "outputs": [
    {
     "data": {
      "text/plain": [
       "21030"
      ]
     },
     "execution_count": 57,
     "metadata": {},
     "output_type": "execute_result"
    }
   ],
   "source": [
    "len(clean_lines)"
   ]
  },
  {
   "cell_type": "code",
   "execution_count": 80,
   "metadata": {
    "ExecuteTime": {
     "end_time": "2021-03-29T12:37:49.427421Z",
     "start_time": "2021-03-29T12:37:49.424989Z"
    }
   },
   "outputs": [],
   "source": [
    "random.seed(a=42)"
   ]
  },
  {
   "cell_type": "code",
   "execution_count": 81,
   "metadata": {
    "ExecuteTime": {
     "end_time": "2021-03-29T12:37:50.252423Z",
     "start_time": "2021-03-29T12:37:50.249823Z"
    }
   },
   "outputs": [],
   "source": [
    "chosen_tweets = random.choices(clean_lines, k=50)"
   ]
  },
  {
   "cell_type": "code",
   "execution_count": 82,
   "metadata": {
    "ExecuteTime": {
     "end_time": "2021-03-29T12:37:50.926347Z",
     "start_time": "2021-03-29T12:37:50.922366Z"
    }
   },
   "outputs": [
    {
     "data": {
      "text/plain": [
       "['teatro breve me dejo con los cachetes duros .. . forever smiling',\n",
       " 'Alcohol gives me heartburn :( por eso no tomo jajaja .',\n",
       " 'Bueno es el pan y le comen el culo',\n",
       " 'El vlog de hoy : REACCIÓN A LA PARODIA DE MELOMORE',\n",
       " 'PUES',\n",
       " 'Ya tengo mi prom dress',\n",
       " 'Oh shit people coming to my house (:',\n",
       " 'tomate una molly y te subes hahaha',\n",
       " '“ : Feliz miércoles q tengas un excelente día , no te olvides sonreír , millones de bendiciones :D ” igual Pam',\n",
       " 'lmao hahaha no seas mamona tu me dejaste ir',\n",
       " 'Mirad lo que me acaba de llegar .. .',\n",
       " 'Se le sigue acercando a en las encuestas por el partido',\n",
       " 'yes he does a little bit hahaha nd si orita te lo mando :)',\n",
       " 'tengo muy poca idea sobre lo que está pasando en realidad como para opinar sobre ello',\n",
       " 'Mi childhood crush',\n",
       " 'Felicidades a Betzy Vazquez \" La Gatita \" es finalistas de Medallas de Cortez',\n",
       " 'a ver si es verdad hostia puta vente a madrid coño',\n",
       " 'Gerardo con \" G \" o con \" J \"',\n",
       " 'is never to early !! Lmao',\n",
       " 'JA ese examen fue un chiste !',\n",
       " 'To the moon and back ... remember ?',\n",
       " 'de Q mega Random !! Jajjaaja',\n",
       " 'chico la semana que me lesione me vio el ortopeda el viernes so aja',\n",
       " 'ouch',\n",
       " 'Clarines lol',\n",
       " 'Jajaja tanta libertad mano .. no pensé que eso me iba a pasar',\n",
       " 'your welcomed',\n",
       " 'I finally got ready for werk',\n",
       " \"When my mom says tht Oscar see 's my tio as his biggest role model >>>>>>>\",\n",
       " 'Mami : yo soy tan cool , mucha gente me ha felicitado',\n",
       " 'Want your relationship to last ? Keep people away from your business',\n",
       " \"Then yall 's asses wonder why they be having sideline hoes hiding shit from you ! Maybe if you did n't suffocate his ass he would n't need to !\",\n",
       " 'Receta de macarrones árabes',\n",
       " \"There 's two of them : Son dos . Shit , there 's two of them . From the movie Top Gun\",\n",
       " 'ahh pues eso debe estar peor',\n",
       " 'Stressed Still stressed',\n",
       " 'ahhh no sabía :)',\n",
       " 'este weekend estuvo perfecto',\n",
       " 'te acuerdas de tu chaparra cuando andes aya lol me saludas al novio !',\n",
       " 'Me da tanto asco fregar',\n",
       " 'XD BEZOYA , siente el efecto de mi .. . Que diga es bueno que tomes agua man ! sorry la rima era muy fasil !',\n",
       " 'only for you',\n",
       " 'bieeeeen no los disfrutarás !! Wohoooo !!',\n",
       " 'jajaja yo en realidad lo digo pq me molestar estar hablando con alguien y que esten el celu me siento que compito con el cel',\n",
       " '\" : quiero un novio como nick \" YO TAMBIEN:\\'(',\n",
       " 'Yo .',\n",
       " 'nd the only way my internet works fast is with my wifi',\n",
       " 'jajaja no se si fue sarcastico pero si no jajaja gracias gracias',\n",
       " 'fragancias del verano : playa y off !',\n",
       " 'Aqui hay una nena que me esta dando mil bofetadas con olor a pasto']"
      ]
     },
     "execution_count": 82,
     "metadata": {},
     "output_type": "execute_result"
    }
   ],
   "source": [
    "chosen_tweets"
   ]
  },
  {
   "cell_type": "code",
   "execution_count": 83,
   "metadata": {
    "ExecuteTime": {
     "end_time": "2021-03-29T12:37:54.438563Z",
     "start_time": "2021-03-29T12:37:54.434701Z"
    },
    "scrolled": true
   },
   "outputs": [
    {
     "name": "stdout",
     "output_type": "stream",
     "text": [
      "teatro breve me dejo con los cachetes duros .. . forever smiling\n",
      "Alcohol gives me heartburn :( por eso no tomo jajaja .\n",
      "Bueno es el pan y le comen el culo\n",
      "El vlog de hoy : REACCIÓN A LA PARODIA DE MELOMORE\n",
      "PUES\n",
      "Ya tengo mi prom dress\n",
      "Oh shit people coming to my house (:\n",
      "tomate una molly y te subes hahaha\n",
      "“ : Feliz miércoles q tengas un excelente día , no te olvides sonreír , millones de bendiciones :D ” igual Pam\n",
      "lmao hahaha no seas mamona tu me dejaste ir\n",
      "Mirad lo que me acaba de llegar .. .\n",
      "Se le sigue acercando a en las encuestas por el partido\n",
      "yes he does a little bit hahaha nd si orita te lo mando :)\n",
      "tengo muy poca idea sobre lo que está pasando en realidad como para opinar sobre ello\n",
      "Mi childhood crush\n",
      "Felicidades a Betzy Vazquez \" La Gatita \" es finalistas de Medallas de Cortez\n",
      "a ver si es verdad hostia puta vente a madrid coño\n",
      "Gerardo con \" G \" o con \" J \"\n",
      "is never to early !! Lmao\n",
      "JA ese examen fue un chiste !\n",
      "To the moon and back ... remember ?\n",
      "de Q mega Random !! Jajjaaja\n",
      "chico la semana que me lesione me vio el ortopeda el viernes so aja\n",
      "ouch\n",
      "Clarines lol\n",
      "Jajaja tanta libertad mano .. no pensé que eso me iba a pasar\n",
      "your welcomed\n",
      "I finally got ready for werk\n",
      "When my mom says tht Oscar see 's my tio as his biggest role model >>>>>>>\n",
      "Mami : yo soy tan cool , mucha gente me ha felicitado\n",
      "Want your relationship to last ? Keep people away from your business\n",
      "Then yall 's asses wonder why they be having sideline hoes hiding shit from you ! Maybe if you did n't suffocate his ass he would n't need to !\n",
      "Receta de macarrones árabes\n",
      "There 's two of them : Son dos . Shit , there 's two of them . From the movie Top Gun\n",
      "ahh pues eso debe estar peor\n",
      "Stressed Still stressed\n",
      "ahhh no sabía :)\n",
      "este weekend estuvo perfecto\n",
      "te acuerdas de tu chaparra cuando andes aya lol me saludas al novio !\n",
      "Me da tanto asco fregar\n",
      "XD BEZOYA , siente el efecto de mi .. . Que diga es bueno que tomes agua man ! sorry la rima era muy fasil !\n",
      "only for you\n",
      "bieeeeen no los disfrutarás !! Wohoooo !!\n",
      "jajaja yo en realidad lo digo pq me molestar estar hablando con alguien y que esten el celu me siento que compito con el cel\n",
      "\" : quiero un novio como nick \" YO TAMBIEN:'(\n",
      "Yo .\n",
      "nd the only way my internet works fast is with my wifi\n",
      "jajaja no se si fue sarcastico pero si no jajaja gracias gracias\n",
      "fragancias del verano : playa y off !\n",
      "Aqui hay una nena que me esta dando mil bofetadas con olor a pasto\n"
     ]
    }
   ],
   "source": [
    "for chosen_tweet in chosen_tweets:\n",
    "    print (chosen_tweet)"
   ]
  },
  {
   "cell_type": "code",
   "execution_count": null,
   "metadata": {},
   "outputs": [],
   "source": []
  }
 ],
 "metadata": {
  "kernelspec": {
   "display_name": "Python 3",
   "language": "python",
   "name": "python3"
  },
  "language_info": {
   "codemirror_mode": {
    "name": "ipython",
    "version": 3
   },
   "file_extension": ".py",
   "mimetype": "text/x-python",
   "name": "python",
   "nbconvert_exporter": "python",
   "pygments_lexer": "ipython3",
   "version": "3.8.6"
  }
 },
 "nbformat": 4,
 "nbformat_minor": 4
}
