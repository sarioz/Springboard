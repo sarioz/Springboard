{
 "cells": [
  {
   "cell_type": "markdown",
   "metadata": {
    "ExecuteTime": {
     "end_time": "2021-02-02T12:00:51.916649Z",
     "start_time": "2021-02-02T12:00:51.914745Z"
    }
   },
   "source": [
    "# Phase 1, Step 4: Data wrangling / EDA"
   ]
  },
  {
   "cell_type": "markdown",
   "metadata": {},
   "source": [
    "To recap from the project proposal, we want to build (1) a Spell Checker, (2) a Part Of Speech (POS) Tagger, and (3) a Sentiment Analyzer (SA) for tweets in Spanish-English code switching text. Hence we split this exploration into 3."
   ]
  },
  {
   "cell_type": "markdown",
   "metadata": {
    "ExecuteTime": {
     "end_time": "2021-02-02T11:50:34.585247Z",
     "start_time": "2021-02-02T11:50:34.582423Z"
    }
   },
   "source": [
    "## 1. General / Spell Checker"
   ]
  },
  {
   "cell_type": "markdown",
   "metadata": {},
   "source": [
    "The \"lid\" (Language IDentification) corpus \"train\" portion contains 21030 tweets. The first column is a token within a tweet, and the second column is a language label for that token. The language label is always one of the following: \"fw, lang1, lang2, mixed, ne, other, unk\". Here \"lang1\" is English, \"lang2\" is Spanish, \"mixed\" is for partially in both languages, \"fw\" means other than the two languages, \"ne\" is for named entities, \"ambiguous\" is for either one or the other language, and \"unk\" is for unrecognizable.\n",
    "\n",
    "I will build out a Spell Checker using this \"train\" portion, use the \"dev\" portion (3332 tweets) to tune it, and modify a sampling of tweets in the \"test\" portion (8289 tweets) for the final evaluation."
   ]
  },
  {
   "cell_type": "code",
   "execution_count": 1,
   "metadata": {
    "ExecuteTime": {
     "end_time": "2021-02-02T14:57:42.309057Z",
     "start_time": "2021-02-02T14:57:42.306074Z"
    }
   },
   "outputs": [],
   "source": [
    "lid_train_file = \"~/Documents/Springboard-notes-data/lince/lid_spaeng/train.conll\""
   ]
  },
  {
   "cell_type": "code",
   "execution_count": 2,
   "metadata": {
    "ExecuteTime": {
     "end_time": "2021-02-02T14:57:42.649769Z",
     "start_time": "2021-02-02T14:57:42.311297Z"
    }
   },
   "outputs": [],
   "source": [
    "import pandas as pd\n",
    "import numpy as np"
   ]
  },
  {
   "cell_type": "markdown",
   "metadata": {},
   "source": [
    "We dump the entire file into a Pandas dataframe."
   ]
  },
  {
   "cell_type": "code",
   "execution_count": 3,
   "metadata": {
    "ExecuteTime": {
     "end_time": "2021-02-02T14:57:43.410238Z",
     "start_time": "2021-02-02T14:57:42.652343Z"
    }
   },
   "outputs": [],
   "source": [
    "df = pd.read_csv(lid_train_file, engine='python', sep='\\t+', header=None, names=['token', 'language'], encoding='utf-8')"
   ]
  },
  {
   "cell_type": "code",
   "execution_count": 4,
   "metadata": {
    "ExecuteTime": {
     "end_time": "2021-02-02T14:57:43.441078Z",
     "start_time": "2021-02-02T14:57:43.412370Z"
    }
   },
   "outputs": [
    {
     "name": "stdout",
     "output_type": "stream",
     "text": [
      "<class 'pandas.core.frame.DataFrame'>\n",
      "RangeIndex: 274251 entries, 0 to 274250\n",
      "Data columns (total 2 columns):\n",
      " #   Column    Non-Null Count   Dtype \n",
      "---  ------    --------------   ----- \n",
      " 0   token     274249 non-null  object\n",
      " 1   language  253221 non-null  object\n",
      "dtypes: object(2)\n",
      "memory usage: 4.2+ MB\n"
     ]
    }
   ],
   "source": [
    "df.info()"
   ]
  },
  {
   "cell_type": "code",
   "execution_count": 5,
   "metadata": {
    "ExecuteTime": {
     "end_time": "2021-02-02T14:57:43.454347Z",
     "start_time": "2021-02-02T14:57:43.442768Z"
    }
   },
   "outputs": [
    {
     "data": {
      "text/html": [
       "<div>\n",
       "<style scoped>\n",
       "    .dataframe tbody tr th:only-of-type {\n",
       "        vertical-align: middle;\n",
       "    }\n",
       "\n",
       "    .dataframe tbody tr th {\n",
       "        vertical-align: top;\n",
       "    }\n",
       "\n",
       "    .dataframe thead th {\n",
       "        text-align: right;\n",
       "    }\n",
       "</style>\n",
       "<table border=\"1\" class=\"dataframe\">\n",
       "  <thead>\n",
       "    <tr style=\"text-align: right;\">\n",
       "      <th></th>\n",
       "      <th>token</th>\n",
       "      <th>language</th>\n",
       "    </tr>\n",
       "  </thead>\n",
       "  <tbody>\n",
       "    <tr>\n",
       "      <th>0</th>\n",
       "      <td># sent_enum = 1</td>\n",
       "      <td>None</td>\n",
       "    </tr>\n",
       "    <tr>\n",
       "      <th>1</th>\n",
       "      <td>11:11</td>\n",
       "      <td>other</td>\n",
       "    </tr>\n",
       "    <tr>\n",
       "      <th>2</th>\n",
       "      <td>.....</td>\n",
       "      <td>other</td>\n",
       "    </tr>\n",
       "    <tr>\n",
       "      <th>3</th>\n",
       "      <td>make</td>\n",
       "      <td>lang1</td>\n",
       "    </tr>\n",
       "    <tr>\n",
       "      <th>4</th>\n",
       "      <td>a</td>\n",
       "      <td>lang1</td>\n",
       "    </tr>\n",
       "  </tbody>\n",
       "</table>\n",
       "</div>"
      ],
      "text/plain": [
       "             token language\n",
       "0  # sent_enum = 1     None\n",
       "1            11:11    other\n",
       "2            .....    other\n",
       "3             make    lang1\n",
       "4                a    lang1"
      ]
     },
     "execution_count": 5,
     "metadata": {},
     "output_type": "execute_result"
    }
   ],
   "source": [
    "df.head()"
   ]
  },
  {
   "cell_type": "code",
   "execution_count": 6,
   "metadata": {
    "ExecuteTime": {
     "end_time": "2021-02-02T14:57:43.496075Z",
     "start_time": "2021-02-02T14:57:43.455987Z"
    }
   },
   "outputs": [],
   "source": [
    "df = df.dropna()"
   ]
  },
  {
   "cell_type": "code",
   "execution_count": 7,
   "metadata": {
    "ExecuteTime": {
     "end_time": "2021-02-02T14:57:43.527429Z",
     "start_time": "2021-02-02T14:57:43.497838Z"
    }
   },
   "outputs": [
    {
     "name": "stdout",
     "output_type": "stream",
     "text": [
      "<class 'pandas.core.frame.DataFrame'>\n",
      "Int64Index: 253219 entries, 1 to 274250\n",
      "Data columns (total 2 columns):\n",
      " #   Column    Non-Null Count   Dtype \n",
      "---  ------    --------------   ----- \n",
      " 0   token     253219 non-null  object\n",
      " 1   language  253219 non-null  object\n",
      "dtypes: object(2)\n",
      "memory usage: 5.8+ MB\n"
     ]
    }
   ],
   "source": [
    "df.info()"
   ]
  },
  {
   "cell_type": "code",
   "execution_count": 8,
   "metadata": {
    "ExecuteTime": {
     "end_time": "2021-02-02T14:57:43.616780Z",
     "start_time": "2021-02-02T14:57:43.530877Z"
    }
   },
   "outputs": [
    {
     "data": {
      "text/html": [
       "<div>\n",
       "<style scoped>\n",
       "    .dataframe tbody tr th:only-of-type {\n",
       "        vertical-align: middle;\n",
       "    }\n",
       "\n",
       "    .dataframe tbody tr th {\n",
       "        vertical-align: top;\n",
       "    }\n",
       "\n",
       "    .dataframe thead th {\n",
       "        text-align: right;\n",
       "    }\n",
       "</style>\n",
       "<table border=\"1\" class=\"dataframe\">\n",
       "  <thead>\n",
       "    <tr style=\"text-align: right;\">\n",
       "      <th></th>\n",
       "      <th>token</th>\n",
       "      <th>language</th>\n",
       "    </tr>\n",
       "  </thead>\n",
       "  <tbody>\n",
       "    <tr>\n",
       "      <th>count</th>\n",
       "      <td>253219</td>\n",
       "      <td>253219</td>\n",
       "    </tr>\n",
       "    <tr>\n",
       "      <th>unique</th>\n",
       "      <td>39192</td>\n",
       "      <td>8</td>\n",
       "    </tr>\n",
       "    <tr>\n",
       "      <th>top</th>\n",
       "      <td>.</td>\n",
       "      <td>lang2</td>\n",
       "    </tr>\n",
       "    <tr>\n",
       "      <th>freq</th>\n",
       "      <td>5663</td>\n",
       "      <td>112987</td>\n",
       "    </tr>\n",
       "  </tbody>\n",
       "</table>\n",
       "</div>"
      ],
      "text/plain": [
       "         token language\n",
       "count   253219   253219\n",
       "unique   39192        8\n",
       "top          .    lang2\n",
       "freq      5663   112987"
      ]
     },
     "execution_count": 8,
     "metadata": {},
     "output_type": "execute_result"
    }
   ],
   "source": [
    "df.describe()"
   ]
  },
  {
   "cell_type": "code",
   "execution_count": 9,
   "metadata": {
    "ExecuteTime": {
     "end_time": "2021-02-02T14:57:43.640153Z",
     "start_time": "2021-02-02T14:57:43.619683Z"
    }
   },
   "outputs": [
    {
     "data": {
      "text/plain": [
       "lang2        112987\n",
       "lang1         80437\n",
       "other         54060\n",
       "ne             5186\n",
       "ambiguous       266\n",
       "unk             218\n",
       "mixed            42\n",
       "fw               23\n",
       "Name: language, dtype: int64"
      ]
     },
     "execution_count": 9,
     "metadata": {},
     "output_type": "execute_result"
    }
   ],
   "source": [
    "df.language.value_counts()"
   ]
  },
  {
   "cell_type": "code",
   "execution_count": 10,
   "metadata": {
    "ExecuteTime": {
     "end_time": "2021-02-02T14:57:43.695411Z",
     "start_time": "2021-02-02T14:57:43.642482Z"
    }
   },
   "outputs": [
    {
     "data": {
      "text/plain": [
       ".      5663\n",
       "de     4022\n",
       ",      3775\n",
       "a      3686\n",
       "!      3255\n",
       "que    3239\n",
       "I      2579\n",
       "me     2531\n",
       "y      2474\n",
       "no     2152\n",
       "Name: token, dtype: int64"
      ]
     },
     "execution_count": 10,
     "metadata": {},
     "output_type": "execute_result"
    }
   ],
   "source": [
    "df.token.value_counts()[:10]"
   ]
  },
  {
   "cell_type": "code",
   "execution_count": 11,
   "metadata": {
    "ExecuteTime": {
     "end_time": "2021-02-02T14:57:43.745395Z",
     "start_time": "2021-02-02T14:57:43.696889Z"
    }
   },
   "outputs": [
    {
     "data": {
      "text/plain": [
       ".         5663\n",
       "de        4022\n",
       ",         3775\n",
       "a         3686\n",
       "!         3255\n",
       "          ... \n",
       "as         115\n",
       "tiene      115\n",
       "really     113\n",
       "👌          113\n",
       "dia        113\n",
       "Name: token, Length: 250, dtype: int64"
      ]
     },
     "execution_count": 11,
     "metadata": {},
     "output_type": "execute_result"
    }
   ],
   "source": [
    "df.token.value_counts()[:250]"
   ]
  },
  {
   "cell_type": "code",
   "execution_count": 12,
   "metadata": {
    "ExecuteTime": {
     "end_time": "2021-02-02T14:57:43.794251Z",
     "start_time": "2021-02-02T14:57:43.746868Z"
    }
   },
   "outputs": [
    {
     "data": {
      "text/plain": [
       "array(['.', 'de', ',', 'a', '!', 'que', 'I', 'me', 'y', 'no', 'la', 'el',\n",
       "       'en', '\"', '..', ':', '!!', 'to', '?', 'the', 'es', 'you', 'con',\n",
       "       'un', 'my', 'te', 'lo', 'para', 'mi', 'it', 'se', 'and', 'i', 'tu',\n",
       "       'por', 'los', 'lol', 'is', 'yo', '…', 'las', 'si', 'in', 'una',\n",
       "       'for', 'ya', 'of', \"n't\", 'that', '❤', 'pero', ':)', 'como', '️',\n",
       "       \"'s\", 'do', 'like', 'lmao', 'with', 'be', 'hoy', 'so', 'on', '“',\n",
       "       '😂', 'El', 'No', '...', 'del', 'up', 'esta', '”', \"'m\", 'your',\n",
       "       'but', 'have', 'just', 'this', 'u', 'al', 'all', '!!!', 'at',\n",
       "       'get', 'go', 'too', 'was', 'can', 'jajaja', 'La', 'he', 'A', 'Me',\n",
       "       '#elvacilondelagatita', 'are', '@JimmyEsqueda', 'out', 'Y', 'bien',\n",
       "       'le', 'todo', 'love', 'más', 'know', 'Que', 'q', 'este', 'we',\n",
       "       'not', 'tengo', 'mas', 'My', 'voy', 'vlog', 'pa', 'eso', 'day',\n",
       "       'quiero', 'mejor', 'gracias', 'Ya', '(', 'mis', 'Gracias', 'o',\n",
       "       'cuando', '&', 'estoy', 'one', 'ser', 'hay', '*', 'by', 'what',\n",
       "       'todos', 'when', 'ver', '¿', 'good', 'time', 'siempre', '😍', 'k',\n",
       "       'got', 'va', ')', 'tus', 'Yo', 'jajajaja', 'they', 'su', 'nada',\n",
       "       'or', 'ha', 'son', 'her', 'ni', '2', 'día', 'Mi', 'vida', 'im',\n",
       "       'if', 'tan', 'nos', 'Feliz', 'she', 'está', '@AngieEstilo', 'shit',\n",
       "       ':(', '¡', 'ti', 'its', 'now', 'Si', 'more', 'hacer', 'always',\n",
       "       'algo', 'ahora', 'cosas', 'mañana', 'mucho', 'The', 'You', 'want',\n",
       "       'work', 'NO', 'Te', 'muy', 'from', 'need', \"'\", 'porque', 'Un',\n",
       "       'back', 'sin', 'solo', 'going', 'En', 'soy', '??',\n",
       "       '#salhuaclothing', 'DE', 'haha', 'Lol', 'eres', 'ir', 'did',\n",
       "       'verdad', '☺', 'Happy', 'fuck', 'gente', 'will', 'Hoy', 'how',\n",
       "       ':D', 'why', 'jaja', 'semana', '-', 'esto', 'estar', 'think',\n",
       "       'today', 'dont', 'QUE', 'about', 'De', 'gonna', 'then', 'qué', '😭',\n",
       "       '@javiidiaz06', 'fue', 'some', '😂😂', '!!!!', 'there', '|', 'puedo',\n",
       "       'see', 'mismo', 'as', 'tiene', 'really', '👌', 'dia'], dtype=object)"
      ]
     },
     "execution_count": 12,
     "metadata": {},
     "output_type": "execute_result"
    }
   ],
   "source": [
    "df.token.value_counts()[:250].keys().values"
   ]
  },
  {
   "cell_type": "code",
   "execution_count": 13,
   "metadata": {
    "ExecuteTime": {
     "end_time": "2021-02-02T14:57:43.840619Z",
     "start_time": "2021-02-02T14:57:43.795890Z"
    }
   },
   "outputs": [],
   "source": [
    "token_counts = df.token.value_counts().values"
   ]
  },
  {
   "cell_type": "code",
   "execution_count": 14,
   "metadata": {
    "ExecuteTime": {
     "end_time": "2021-02-02T14:57:43.860737Z",
     "start_time": "2021-02-02T14:57:43.842168Z"
    }
   },
   "outputs": [],
   "source": [
    "from collections import Counter\n",
    "\n",
    "count_counter = Counter()\n",
    "\n",
    "for count in token_counts:\n",
    "    count_counter[count] += 1"
   ]
  },
  {
   "cell_type": "markdown",
   "metadata": {},
   "source": [
    "Now let's see how many tokens are encountered only once. Recall that this is out of 253219 tokens."
   ]
  },
  {
   "cell_type": "code",
   "execution_count": 15,
   "metadata": {
    "ExecuteTime": {
     "end_time": "2021-02-02T14:57:43.865350Z",
     "start_time": "2021-02-02T14:57:43.862361Z"
    }
   },
   "outputs": [
    {
     "data": {
      "text/plain": [
       "25905"
      ]
     },
     "execution_count": 15,
     "metadata": {},
     "output_type": "execute_result"
    }
   ],
   "source": [
    "count_counter[1]"
   ]
  },
  {
   "cell_type": "markdown",
   "metadata": {},
   "source": [
    "So, about one in every 10 tokens is unique!"
   ]
  },
  {
   "cell_type": "code",
   "execution_count": 16,
   "metadata": {
    "ExecuteTime": {
     "end_time": "2021-02-02T14:57:43.869259Z",
     "start_time": "2021-02-02T14:57:43.866889Z"
    }
   },
   "outputs": [],
   "source": [
    "x, y = list(count_counter.keys()), list(count_counter.values())"
   ]
  },
  {
   "cell_type": "code",
   "execution_count": 17,
   "metadata": {
    "ExecuteTime": {
     "end_time": "2021-02-02T14:57:43.874984Z",
     "start_time": "2021-02-02T14:57:43.871296Z"
    }
   },
   "outputs": [
    {
     "data": {
      "text/plain": [
       "([5663, 4022, 3775, 3686, 3255, 3239, 2579, 2531, 2474, 2152],\n",
       " [1, 1, 1, 1, 1, 1, 1, 1, 1, 1])"
      ]
     },
     "execution_count": 17,
     "metadata": {},
     "output_type": "execute_result"
    }
   ],
   "source": [
    "x[:10], y[:10]"
   ]
  },
  {
   "cell_type": "markdown",
   "metadata": {},
   "source": [
    "We plot the count of counts."
   ]
  },
  {
   "cell_type": "code",
   "execution_count": 18,
   "metadata": {
    "ExecuteTime": {
     "end_time": "2021-02-02T14:57:44.169026Z",
     "start_time": "2021-02-02T14:57:43.876667Z"
    }
   },
   "outputs": [
    {
     "data": {
      "text/plain": [
       "[<matplotlib.lines.Line2D at 0x7fd15b548460>]"
      ]
     },
     "execution_count": 18,
     "metadata": {},
     "output_type": "execute_result"
    },
    {
     "data": {
      "image/png": "[encoded data removed]",
      "text/plain": [
       "<Figure size 432x288 with 1 Axes>"
      ]
     },
     "metadata": {
      "needs_background": "light"
     },
     "output_type": "display_data"
    }
   ],
   "source": [
    "from matplotlib import pyplot as plt\n",
    "\n",
    "plt.plot(x, y)"
   ]
  },
  {
   "cell_type": "code",
   "execution_count": 19,
   "metadata": {
    "ExecuteTime": {
     "end_time": "2021-02-02T14:57:44.284535Z",
     "start_time": "2021-02-02T14:57:44.171097Z"
    }
   },
   "outputs": [
    {
     "data": {
      "text/plain": [
       "[<matplotlib.lines.Line2D at 0x7fd15b5d9e20>]"
      ]
     },
     "execution_count": 19,
     "metadata": {},
     "output_type": "execute_result"
    },
    {
     "data": {
      "image/png": "[encoded data removed]",
      "text/plain": [
       "<Figure size 432x288 with 1 Axes>"
      ]
     },
     "metadata": {
      "needs_background": "light"
     },
     "output_type": "display_data"
    }
   ],
   "source": [
    "plt.ylim(0, 250)\n",
    "plt.xlim(0, 250)\n",
    "plt.plot(x, y)"
   ]
  },
  {
   "cell_type": "markdown",
   "metadata": {},
   "source": [
    "This is a very sharp power law distribution. It might look better if we take the log of the y-axis..."
   ]
  },
  {
   "cell_type": "code",
   "execution_count": 20,
   "metadata": {
    "ExecuteTime": {
     "end_time": "2021-02-02T14:57:44.400671Z",
     "start_time": "2021-02-02T14:57:44.286530Z"
    }
   },
   "outputs": [
    {
     "data": {
      "text/plain": [
       "[<matplotlib.lines.Line2D at 0x7fd15c3a1310>]"
      ]
     },
     "execution_count": 20,
     "metadata": {},
     "output_type": "execute_result"
    },
    {
     "data": {
      "image/png": "[encoded data removed]",
      "text/plain": [
       "<Figure size 432x288 with 1 Axes>"
      ]
     },
     "metadata": {
      "needs_background": "light"
     },
     "output_type": "display_data"
    }
   ],
   "source": [
    "plt.xlim(0, 250)\n",
    "plt.plot(x, np.log1p(y))"
   ]
  },
  {
   "cell_type": "markdown",
   "metadata": {},
   "source": [
    "...or the log of the log..."
   ]
  },
  {
   "cell_type": "code",
   "execution_count": 21,
   "metadata": {
    "ExecuteTime": {
     "end_time": "2021-02-02T14:57:44.530636Z",
     "start_time": "2021-02-02T14:57:44.402601Z"
    }
   },
   "outputs": [
    {
     "data": {
      "text/plain": [
       "[<matplotlib.lines.Line2D at 0x7fd15a79a160>]"
      ]
     },
     "execution_count": 21,
     "metadata": {},
     "output_type": "execute_result"
    },
    {
     "data": {
      "image/png": "[encoded data removed]",
      "text/plain": [
       "<Figure size 432x288 with 1 Axes>"
      ]
     },
     "metadata": {
      "needs_background": "light"
     },
     "output_type": "display_data"
    }
   ],
   "source": [
    "plt.xlim(0, 250)\n",
    "plt.plot(x, np.log1p(np.log1p(y)))"
   ]
  },
  {
   "cell_type": "markdown",
   "metadata": {
    "ExecuteTime": {
     "end_time": "2021-02-02T13:55:02.960969Z",
     "start_time": "2021-02-02T13:55:02.958958Z"
    }
   },
   "source": [
    "### General Remarks"
   ]
  },
  {
   "cell_type": "markdown",
   "metadata": {},
   "source": [
    "According to [1], the frequent alternations between two languages is what makes the automated processing of code-switching data difficult. This is quantified by using the CMI index. In the case of Spanish-English code switched text, there is a large overlap of English and Spanish words, moreover, code-switching also appears within words, often inflecting words by conjugating English verbs using Spanish grammatical rules. We should be aware that this affects non-contextualized word embeddings as it increases the out-of-vocabulary rate."
   ]
  },
  {
   "cell_type": "markdown",
   "metadata": {
    "ExecuteTime": {
     "end_time": "2021-02-02T11:50:34.585247Z",
     "start_time": "2021-02-02T11:50:34.582423Z"
    }
   },
   "source": [
    "## 2. Part Of Speech (POS) tagger"
   ]
  },
  {
   "cell_type": "code",
   "execution_count": 22,
   "metadata": {
    "ExecuteTime": {
     "end_time": "2021-02-02T14:57:44.534599Z",
     "start_time": "2021-02-02T14:57:44.532427Z"
    }
   },
   "outputs": [],
   "source": [
    "pos_train_file = \"~/Documents/Springboard-notes-data/lince/pos_spaeng/train.conll\""
   ]
  },
  {
   "cell_type": "markdown",
   "metadata": {
    "ExecuteTime": {
     "end_time": "2021-02-02T12:16:22.994423Z",
     "start_time": "2021-02-02T12:16:22.989953Z"
    }
   },
   "source": [
    "The \"pos\" corpus \"train\" portion contains 27893 tweets. The first column is a token within a tweet, and the second column is a language label for that token, and the third column is a POS label.\n",
    "\n",
    "I will build out a POS Tagger using the \"train\" portion, use the \"dev\" portion of the \"pos\" corpus (4298 tweets) to tune it, and modify tweets in the \"test\" portion (10720 tweets) for the final evaluation."
   ]
  },
  {
   "cell_type": "code",
   "execution_count": 23,
   "metadata": {
    "ExecuteTime": {
     "end_time": "2021-02-02T14:57:45.350487Z",
     "start_time": "2021-02-02T14:57:44.540406Z"
    }
   },
   "outputs": [],
   "source": [
    "df = pd.read_csv(pos_train_file, engine='python', sep='\\t+', header=None, names=['token', 'language', 'pos'], encoding='utf-8')"
   ]
  },
  {
   "cell_type": "code",
   "execution_count": 24,
   "metadata": {
    "ExecuteTime": {
     "end_time": "2021-02-02T14:57:45.383390Z",
     "start_time": "2021-02-02T14:57:45.353584Z"
    }
   },
   "outputs": [
    {
     "name": "stdout",
     "output_type": "stream",
     "text": [
      "<class 'pandas.core.frame.DataFrame'>\n",
      "RangeIndex: 244961 entries, 0 to 244960\n",
      "Data columns (total 3 columns):\n",
      " #   Column    Non-Null Count   Dtype \n",
      "---  ------    --------------   ----- \n",
      " 0   token     244961 non-null  object\n",
      " 1   language  217068 non-null  object\n",
      " 2   pos       217068 non-null  object\n",
      "dtypes: object(3)\n",
      "memory usage: 5.6+ MB\n"
     ]
    }
   ],
   "source": [
    "df.info()"
   ]
  },
  {
   "cell_type": "code",
   "execution_count": 25,
   "metadata": {
    "ExecuteTime": {
     "end_time": "2021-02-02T14:57:45.424335Z",
     "start_time": "2021-02-02T14:57:45.385411Z"
    }
   },
   "outputs": [],
   "source": [
    "df = df.dropna()"
   ]
  },
  {
   "cell_type": "code",
   "execution_count": 26,
   "metadata": {
    "ExecuteTime": {
     "end_time": "2021-02-02T14:57:45.444217Z",
     "start_time": "2021-02-02T14:57:45.426093Z"
    }
   },
   "outputs": [
    {
     "data": {
      "text/plain": [
       "eng        115461\n",
       "spa         61129\n",
       "eng&spa     38841\n",
       "UNK          1637\n",
       "Name: language, dtype: int64"
      ]
     },
     "execution_count": 26,
     "metadata": {},
     "output_type": "execute_result"
    }
   ],
   "source": [
    "df.language.value_counts()"
   ]
  },
  {
   "cell_type": "markdown",
   "metadata": {},
   "source": [
    "Notice that the language values are different from those in the lid data. Here 'eng&spa'covers both mixed and ambiguous words, and 'UNK' is for everything else."
   ]
  },
  {
   "cell_type": "code",
   "execution_count": 27,
   "metadata": {
    "ExecuteTime": {
     "end_time": "2021-02-02T14:57:45.463068Z",
     "start_time": "2021-02-02T14:57:45.445457Z"
    }
   },
   "outputs": [
    {
     "data": {
      "text/plain": [
       "VERB     35297\n",
       "PUNCT    33922\n",
       "PRON     33243\n",
       "NOUN     19416\n",
       "DET      15361\n",
       "ADV      14570\n",
       "ADP      12515\n",
       "INTJ     10435\n",
       "CONJ      7684\n",
       "ADJ       7257\n",
       "AUX       7178\n",
       "SCONJ     6840\n",
       "PART      4576\n",
       "PROPN     4502\n",
       "NUM       2634\n",
       "UNK       1624\n",
       "X           14\n",
       "Name: pos, dtype: int64"
      ]
     },
     "execution_count": 27,
     "metadata": {},
     "output_type": "execute_result"
    }
   ],
   "source": [
    "df.pos.value_counts()"
   ]
  },
  {
   "cell_type": "code",
   "execution_count": 28,
   "metadata": {
    "ExecuteTime": {
     "end_time": "2021-02-02T14:57:45.530663Z",
     "start_time": "2021-02-02T14:57:45.464587Z"
    }
   },
   "outputs": [
    {
     "data": {
      "text/plain": [
       "token        language  pos  \n",
       ".            eng&spa   PUNCT    21043\n",
       "...          eng&spa   PUNCT     7324\n",
       "I            eng       PRON      5280\n",
       "you          eng       PRON      3879\n",
       "the          eng       DET       3731\n",
       "                                ...  \n",
       "derechita    spa       ADJ          1\n",
       "planeaba     spa       VERB         1\n",
       "desahogar+   spa       VERB         1\n",
       "desanimando  spa       VERB         1\n",
       "reciclable   spa       ADJ          1\n",
       "Length: 12882, dtype: int64"
      ]
     },
     "execution_count": 28,
     "metadata": {},
     "output_type": "execute_result"
    }
   ],
   "source": [
    "df.value_counts()"
   ]
  },
  {
   "cell_type": "markdown",
   "metadata": {
    "ExecuteTime": {
     "end_time": "2021-02-02T12:35:40.077114Z",
     "start_time": "2021-02-02T12:35:40.074860Z"
    }
   },
   "source": [
    "## 3. Sentiment Analyzer"
   ]
  },
  {
   "cell_type": "code",
   "execution_count": 29,
   "metadata": {
    "ExecuteTime": {
     "end_time": "2021-02-02T14:57:45.534308Z",
     "start_time": "2021-02-02T14:57:45.532171Z"
    }
   },
   "outputs": [],
   "source": [
    "sa_train_file = \"~/Documents/Springboard-notes-data/lince/sa_spaeng/train.conll\""
   ]
  },
  {
   "cell_type": "markdown",
   "metadata": {},
   "source": [
    "In this \"train\" file, there are 12194 tweets and one sentiment label (negative, neutral, or positive) per tweet. I will build out the Sentiment Analyzer using the \"train\" set, tune it on the \"dev\" set (1859 tweets), and measure the final performance on the \"test\" set (4736 tweets)."
   ]
  },
  {
   "cell_type": "code",
   "execution_count": 30,
   "metadata": {
    "ExecuteTime": {
     "end_time": "2021-02-02T14:57:46.057926Z",
     "start_time": "2021-02-02T14:57:45.536008Z"
    }
   },
   "outputs": [],
   "source": [
    "df = pd.read_csv(sa_train_file, engine='python', sep='\\t+', header=None, names=['token_or_tweetid', 'sentiment_or_language'], encoding='utf-8')"
   ]
  },
  {
   "cell_type": "code",
   "execution_count": 31,
   "metadata": {
    "ExecuteTime": {
     "end_time": "2021-02-02T14:57:46.091440Z",
     "start_time": "2021-02-02T14:57:46.059625Z"
    }
   },
   "outputs": [
    {
     "name": "stdout",
     "output_type": "stream",
     "text": [
      "<class 'pandas.core.frame.DataFrame'>\n",
      "RangeIndex: 198796 entries, 0 to 198795\n",
      "Data columns (total 2 columns):\n",
      " #   Column                 Non-Null Count   Dtype \n",
      "---  ------                 --------------   ----- \n",
      " 0   token_or_tweetid       198796 non-null  object\n",
      " 1   sentiment_or_language  198796 non-null  object\n",
      "dtypes: object(2)\n",
      "memory usage: 3.0+ MB\n"
     ]
    }
   ],
   "source": [
    "df.info()"
   ]
  },
  {
   "cell_type": "code",
   "execution_count": 32,
   "metadata": {
    "ExecuteTime": {
     "end_time": "2021-02-02T14:57:46.109512Z",
     "start_time": "2021-02-02T14:57:46.093226Z"
    }
   },
   "outputs": [
    {
     "data": {
      "text/plain": [
       "lang2        92961\n",
       "other        44306\n",
       "lang1        44013\n",
       "positive      6848\n",
       "ne            4892\n",
       "neutral       3363\n",
       "negative      1983\n",
       "unk            171\n",
       "ambiguous      170\n",
       "mixed           72\n",
       "fw              17\n",
       "Name: sentiment_or_language, dtype: int64"
      ]
     },
     "execution_count": 32,
     "metadata": {},
     "output_type": "execute_result"
    }
   ],
   "source": [
    "df.sentiment_or_language.value_counts()"
   ]
  },
  {
   "cell_type": "code",
   "execution_count": 33,
   "metadata": {
    "ExecuteTime": {
     "end_time": "2021-02-02T14:57:46.203736Z",
     "start_time": "2021-02-02T14:57:46.111083Z"
    }
   },
   "outputs": [],
   "source": [
    "is_sentiment = df.token_or_tweetid.str.startswith('# sent_enum = ')"
   ]
  },
  {
   "cell_type": "code",
   "execution_count": 34,
   "metadata": {
    "ExecuteTime": {
     "end_time": "2021-02-02T14:57:46.212241Z",
     "start_time": "2021-02-02T14:57:46.205606Z"
    }
   },
   "outputs": [
    {
     "data": {
      "text/plain": [
       "False    186602\n",
       "True      12194\n",
       "Name: token_or_tweetid, dtype: int64"
      ]
     },
     "execution_count": 34,
     "metadata": {},
     "output_type": "execute_result"
    }
   ],
   "source": [
    "is_sentiment.value_counts()"
   ]
  },
  {
   "cell_type": "code",
   "execution_count": 35,
   "metadata": {
    "ExecuteTime": {
     "end_time": "2021-02-02T14:57:46.217762Z",
     "start_time": "2021-02-02T14:57:46.214019Z"
    }
   },
   "outputs": [],
   "source": [
    "df_sentiments = df[is_sentiment]"
   ]
  },
  {
   "cell_type": "code",
   "execution_count": 36,
   "metadata": {
    "ExecuteTime": {
     "end_time": "2021-02-02T14:57:46.221640Z",
     "start_time": "2021-02-02T14:57:46.219443Z"
    }
   },
   "outputs": [],
   "source": [
    "df_sentiments.columns = ['tweetid', 'sentiment']"
   ]
  },
  {
   "cell_type": "code",
   "execution_count": 37,
   "metadata": {
    "ExecuteTime": {
     "end_time": "2021-02-02T14:57:46.227132Z",
     "start_time": "2021-02-02T14:57:46.223291Z"
    }
   },
   "outputs": [
    {
     "data": {
      "text/plain": [
       "0             # sent_enum = 1\n",
       "17            # sent_enum = 2\n",
       "24            # sent_enum = 3\n",
       "32            # sent_enum = 4\n",
       "50            # sent_enum = 5\n",
       "                 ...         \n",
       "198732    # sent_enum = 12190\n",
       "198738    # sent_enum = 12191\n",
       "198751    # sent_enum = 12192\n",
       "198764    # sent_enum = 12193\n",
       "198774    # sent_enum = 12194\n",
       "Name: tweetid, Length: 12194, dtype: object"
      ]
     },
     "execution_count": 37,
     "metadata": {},
     "output_type": "execute_result"
    }
   ],
   "source": [
    "df_sentiments.tweetid"
   ]
  },
  {
   "cell_type": "code",
   "execution_count": 38,
   "metadata": {
    "ExecuteTime": {
     "end_time": "2021-02-02T14:57:46.233792Z",
     "start_time": "2021-02-02T14:57:46.228526Z"
    }
   },
   "outputs": [
    {
     "data": {
      "text/plain": [
       "positive    6848\n",
       "neutral     3363\n",
       "negative    1983\n",
       "Name: sentiment, dtype: int64"
      ]
     },
     "execution_count": 38,
     "metadata": {},
     "output_type": "execute_result"
    }
   ],
   "source": [
    "df_sentiments.sentiment.value_counts()"
   ]
  },
  {
   "cell_type": "code",
   "execution_count": 39,
   "metadata": {
    "ExecuteTime": {
     "end_time": "2021-02-02T14:57:46.243823Z",
     "start_time": "2021-02-02T14:57:46.235360Z"
    }
   },
   "outputs": [],
   "source": [
    "df_tokens = df[~is_sentiment]"
   ]
  },
  {
   "cell_type": "code",
   "execution_count": 40,
   "metadata": {
    "ExecuteTime": {
     "end_time": "2021-02-02T14:57:46.248318Z",
     "start_time": "2021-02-02T14:57:46.245660Z"
    }
   },
   "outputs": [],
   "source": [
    "df_tokens.columns = ['token', 'language']"
   ]
  },
  {
   "cell_type": "code",
   "execution_count": 41,
   "metadata": {
    "ExecuteTime": {
     "end_time": "2021-02-02T14:57:46.337180Z",
     "start_time": "2021-02-02T14:57:46.250257Z"
    }
   },
   "outputs": [
    {
     "data": {
      "text/plain": [
       "token   language\n",
       ".       other       4550\n",
       "de      lang2       3815\n",
       ":       other       3120\n",
       ",       other       3060\n",
       "!       other       2900\n",
       "                    ... \n",
       "mhm     unk            1\n",
       "box     lang1          1\n",
       "boxers  lang1          1\n",
       "mf      lang1          1\n",
       "🦄☁️     other          1\n",
       "Length: 34765, dtype: int64"
      ]
     },
     "execution_count": 41,
     "metadata": {},
     "output_type": "execute_result"
    }
   ],
   "source": [
    "df_tokens.value_counts()"
   ]
  },
  {
   "cell_type": "code",
   "execution_count": 42,
   "metadata": {
    "ExecuteTime": {
     "end_time": "2021-02-02T14:57:46.354111Z",
     "start_time": "2021-02-02T14:57:46.338757Z"
    }
   },
   "outputs": [
    {
     "data": {
      "text/plain": [
       "lang2        92961\n",
       "other        44306\n",
       "lang1        44013\n",
       "ne            4892\n",
       "unk            171\n",
       "ambiguous      170\n",
       "mixed           72\n",
       "fw              17\n",
       "Name: language, dtype: int64"
      ]
     },
     "execution_count": 42,
     "metadata": {},
     "output_type": "execute_result"
    }
   ],
   "source": [
    "df_tokens.language.value_counts()"
   ]
  },
  {
   "cell_type": "markdown",
   "metadata": {
    "ExecuteTime": {
     "end_time": "2021-02-02T14:01:04.110815Z",
     "start_time": "2021-02-02T14:01:04.107754Z"
    }
   },
   "source": [
    "Note that this corpus skews more Spanish than English, as compared to the other two."
   ]
  },
  {
   "cell_type": "markdown",
   "metadata": {
    "ExecuteTime": {
     "end_time": "2021-02-02T14:08:13.049070Z",
     "start_time": "2021-02-02T14:08:13.046981Z"
    }
   },
   "source": [
    "## General Code for converting each tweet to a sentence"
   ]
  },
  {
   "cell_type": "code",
   "execution_count": 50,
   "metadata": {
    "ExecuteTime": {
     "end_time": "2021-02-02T14:58:54.856417Z",
     "start_time": "2021-02-02T14:58:54.852446Z"
    }
   },
   "outputs": [],
   "source": [
    "def convert_file(filename):\n",
    "    output = ''\n",
    "    tweet = ''\n",
    "    f = open(filename, 'r')\n",
    "    is_first_line = True\n",
    "    is_first_token = True\n",
    "    for line in f:\n",
    "        line = line.strip()\n",
    "        if len(line) <= 1:\n",
    "            continue\n",
    "        if line.startswith('# sent_enum = '):\n",
    "            if is_first_line:\n",
    "                is_first_line = False\n",
    "                continue\n",
    "            output += tweet + \"\\n\"\n",
    "            tweet = ''\n",
    "            is_first_token = True\n",
    "            continue\n",
    "        token = line.split('\\t')[0]\n",
    "        # if we wanted to parse out fields other than token, we would do so here\n",
    "        tweet += (token if is_first_token else ' ' + token)\n",
    "        # alternatively, we might have tweet be a list and just append the token to it\n",
    "        is_first_token = False\n",
    "    output += tweet + '\\n'\n",
    "    return output"
   ]
  },
  {
   "cell_type": "code",
   "execution_count": 51,
   "metadata": {
    "ExecuteTime": {
     "end_time": "2021-02-02T14:58:55.808617Z",
     "start_time": "2021-02-02T14:58:55.590926Z"
    }
   },
   "outputs": [],
   "source": [
    "output = convert_file(filename='/Users/d/Documents/Springboard-notes-data/lince/lid_spaeng/train.conll')"
   ]
  },
  {
   "cell_type": "code",
   "execution_count": 52,
   "metadata": {
    "ExecuteTime": {
     "end_time": "2021-02-02T14:58:56.066694Z",
     "start_time": "2021-02-02T14:58:55.966809Z"
    }
   },
   "outputs": [],
   "source": [
    "out_f = open(\"lid_train_lines.txt\", \"w\")\n",
    "out_f.writelines(output)\n",
    "out_f.close()\n",
    "\n",
    "# The output looks great, has 21030 lines."
   ]
  },
  {
   "cell_type": "code",
   "execution_count": 53,
   "metadata": {
    "ExecuteTime": {
     "end_time": "2021-02-02T14:58:56.752096Z",
     "start_time": "2021-02-02T14:58:56.566866Z"
    }
   },
   "outputs": [],
   "source": [
    "output = convert_file(filename='/Users/d/Documents/Springboard-notes-data/lince/pos_spaeng/train.conll')"
   ]
  },
  {
   "cell_type": "code",
   "execution_count": 54,
   "metadata": {
    "ExecuteTime": {
     "end_time": "2021-02-02T14:58:57.083843Z",
     "start_time": "2021-02-02T14:58:57.016840Z"
    }
   },
   "outputs": [],
   "source": [
    "out_f = open(\"pos_train_lines.txt\", \"w\")\n",
    "out_f.writelines(output)\n",
    "out_f.close()\n",
    "\n",
    "# The output looks great, has 27893 lines."
   ]
  },
  {
   "cell_type": "code",
   "execution_count": 55,
   "metadata": {
    "ExecuteTime": {
     "end_time": "2021-02-02T14:58:57.584145Z",
     "start_time": "2021-02-02T14:58:57.420603Z"
    }
   },
   "outputs": [],
   "source": [
    "output = convert_file(filename='/Users/d/Documents/Springboard-notes-data/lince/sa_spaeng/train.conll')"
   ]
  },
  {
   "cell_type": "code",
   "execution_count": 56,
   "metadata": {
    "ExecuteTime": {
     "end_time": "2021-02-02T14:58:58.012515Z",
     "start_time": "2021-02-02T14:58:57.934814Z"
    }
   },
   "outputs": [],
   "source": [
    "out_f = open(\"sentiment_train_lines.txt\", \"w\")\n",
    "out_f.writelines(output)\n",
    "out_f.close()\n",
    "\n",
    "# The output looks terrific, has 12194 lines."
   ]
  },
  {
   "cell_type": "markdown",
   "metadata": {},
   "source": [
    "## Conclusions"
   ]
  },
  {
   "cell_type": "markdown",
   "metadata": {},
   "source": [
    "During this exploration, I noticed that when using pd.read_csv, the separator needs to be '\\t+' as opposed to just '\\t', though I cannot find these occurrences when I less through a file."
   ]
  },
  {
   "cell_type": "markdown",
   "metadata": {
    "ExecuteTime": {
     "end_time": "2021-02-02T13:34:37.588978Z",
     "start_time": "2021-02-02T13:34:37.586864Z"
    }
   },
   "source": [
    "## References"
   ]
  },
  {
   "cell_type": "markdown",
   "metadata": {},
   "source": [
    "G. Aguilar, S. Kar, and T. Solorio, \"LinCE: A Centralized Benchmark for Linguistic Code-switching Evaluation\", in Proc. LREC 2020, pp. 1803-1813."
   ]
  },
  {
   "cell_type": "code",
   "execution_count": null,
   "metadata": {},
   "outputs": [],
   "source": []
  }
 ],
 "metadata": {
  "kernelspec": {
   "display_name": "Python 3",
   "language": "python",
   "name": "python3"
  },
  "language_info": {
   "codemirror_mode": {
    "name": "ipython",
    "version": 3
   },
   "file_extension": ".py",
   "mimetype": "text/x-python",
   "name": "python",
   "nbconvert_exporter": "python",
   "pygments_lexer": "ipython3",
   "version": "3.8.6"
  }
 },
 "nbformat": 4,
 "nbformat_minor": 4
}
