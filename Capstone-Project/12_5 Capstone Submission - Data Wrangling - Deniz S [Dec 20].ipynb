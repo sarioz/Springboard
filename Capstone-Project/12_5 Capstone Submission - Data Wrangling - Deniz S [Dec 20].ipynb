{
 "cells": [
  {
   "cell_type": "markdown",
   "metadata": {
    "ExecuteTime": {
     "end_time": "2021-02-02T12:00:51.916649Z",
     "start_time": "2021-02-02T12:00:51.914745Z"
    }
   },
   "source": [
    "# Phase 1, Step 4: Data wrangling / EDA"
   ]
  },
  {
   "cell_type": "markdown",
   "metadata": {},
   "source": [
    "To recap from the project proposal, we want to build (1) a Spell Checker, (2) a Part Of Speech (POS) Tagger, and (3) a Sentiment Analyzer (SA) for tweets in Spanish-English code switching text. Hence we split this exploration into 3."
   ]
  },
  {
   "cell_type": "markdown",
   "metadata": {
    "ExecuteTime": {
     "end_time": "2021-02-02T11:50:34.585247Z",
     "start_time": "2021-02-02T11:50:34.582423Z"
    }
   },
   "source": [
    "## 1. General / Spell Checker"
   ]
  },
  {
   "cell_type": "markdown",
   "metadata": {},
   "source": [
    "The \"lid\" (Language IDentification) corpus \"train\" portion contains 21030 tweets. The first column is a token within a tweet, and the second column is a language label for that token. The language label is always one of the following: \"fw, lang1, lang2, mixed, ne, other, unk\". Here \"lang1\" is English, \"lang2\" is Spanish, \"mixed\" is for partially in both languages, \"fw\" means other than the two languages, \"ne\" is for named entities, \"ambiguous\" is for either one or the other language, and \"unk\" is for unrecognizable.\n",
    "\n",
    "I will build out a Spell Checker using this \"train\" portion, use the \"dev\" portion (3332 tweets) to tune it, and modify a sampling of tweets in the \"test\" portion (8289 tweets) for the final evaluation."
   ]
  },
  {
   "cell_type": "code",
   "execution_count": 1,
   "metadata": {
    "ExecuteTime": {
     "end_time": "2021-02-06T15:28:52.920606Z",
     "start_time": "2021-02-06T15:28:52.917801Z"
    }
   },
   "outputs": [],
   "source": [
    "lid_train_file = \"~/Documents/Springboard-notes-data/lince/lid_spaeng/train.conll\""
   ]
  },
  {
   "cell_type": "code",
   "execution_count": 2,
   "metadata": {
    "ExecuteTime": {
     "end_time": "2021-02-06T15:28:53.263176Z",
     "start_time": "2021-02-06T15:28:52.922942Z"
    }
   },
   "outputs": [],
   "source": [
    "import pandas as pd\n",
    "import numpy as np"
   ]
  },
  {
   "cell_type": "markdown",
   "metadata": {},
   "source": [
    "We dump the entire file into a Pandas dataframe."
   ]
  },
  {
   "cell_type": "code",
   "execution_count": 3,
   "metadata": {
    "ExecuteTime": {
     "end_time": "2021-02-06T15:28:54.028180Z",
     "start_time": "2021-02-06T15:28:53.265326Z"
    }
   },
   "outputs": [],
   "source": [
    "df = pd.read_csv(lid_train_file, engine='python', sep='\\t+', header=None, names=['token', 'language'], encoding='utf-8')"
   ]
  },
  {
   "cell_type": "code",
   "execution_count": 4,
   "metadata": {
    "ExecuteTime": {
     "end_time": "2021-02-06T15:28:54.059666Z",
     "start_time": "2021-02-06T15:28:54.030106Z"
    }
   },
   "outputs": [
    {
     "name": "stdout",
     "output_type": "stream",
     "text": [
      "<class 'pandas.core.frame.DataFrame'>\n",
      "RangeIndex: 274251 entries, 0 to 274250\n",
      "Data columns (total 2 columns):\n",
      " #   Column    Non-Null Count   Dtype \n",
      "---  ------    --------------   ----- \n",
      " 0   token     274249 non-null  object\n",
      " 1   language  253221 non-null  object\n",
      "dtypes: object(2)\n",
      "memory usage: 4.2+ MB\n"
     ]
    }
   ],
   "source": [
    "df.info()"
   ]
  },
  {
   "cell_type": "code",
   "execution_count": 5,
   "metadata": {
    "ExecuteTime": {
     "end_time": "2021-02-06T15:28:54.072334Z",
     "start_time": "2021-02-06T15:28:54.061467Z"
    }
   },
   "outputs": [
    {
     "data": {
      "text/html": [
       "<div>\n",
       "<style scoped>\n",
       "    .dataframe tbody tr th:only-of-type {\n",
       "        vertical-align: middle;\n",
       "    }\n",
       "\n",
       "    .dataframe tbody tr th {\n",
       "        vertical-align: top;\n",
       "    }\n",
       "\n",
       "    .dataframe thead th {\n",
       "        text-align: right;\n",
       "    }\n",
       "</style>\n",
       "<table border=\"1\" class=\"dataframe\">\n",
       "  <thead>\n",
       "    <tr style=\"text-align: right;\">\n",
       "      <th></th>\n",
       "      <th>token</th>\n",
       "      <th>language</th>\n",
       "    </tr>\n",
       "  </thead>\n",
       "  <tbody>\n",
       "    <tr>\n",
       "      <th>0</th>\n",
       "      <td># sent_enum = 1</td>\n",
       "      <td>None</td>\n",
       "    </tr>\n",
       "    <tr>\n",
       "      <th>1</th>\n",
       "      <td>11:11</td>\n",
       "      <td>other</td>\n",
       "    </tr>\n",
       "    <tr>\n",
       "      <th>2</th>\n",
       "      <td>.....</td>\n",
       "      <td>other</td>\n",
       "    </tr>\n",
       "    <tr>\n",
       "      <th>3</th>\n",
       "      <td>make</td>\n",
       "      <td>lang1</td>\n",
       "    </tr>\n",
       "    <tr>\n",
       "      <th>4</th>\n",
       "      <td>a</td>\n",
       "      <td>lang1</td>\n",
       "    </tr>\n",
       "  </tbody>\n",
       "</table>\n",
       "</div>"
      ],
      "text/plain": [
       "             token language\n",
       "0  # sent_enum = 1     None\n",
       "1            11:11    other\n",
       "2            .....    other\n",
       "3             make    lang1\n",
       "4                a    lang1"
      ]
     },
     "execution_count": 5,
     "metadata": {},
     "output_type": "execute_result"
    }
   ],
   "source": [
    "df.head()"
   ]
  },
  {
   "cell_type": "code",
   "execution_count": 6,
   "metadata": {
    "ExecuteTime": {
     "end_time": "2021-02-06T15:28:54.113080Z",
     "start_time": "2021-02-06T15:28:54.074284Z"
    }
   },
   "outputs": [],
   "source": [
    "df = df.dropna()"
   ]
  },
  {
   "cell_type": "code",
   "execution_count": 7,
   "metadata": {
    "ExecuteTime": {
     "end_time": "2021-02-06T15:28:54.141040Z",
     "start_time": "2021-02-06T15:28:54.116981Z"
    }
   },
   "outputs": [
    {
     "name": "stdout",
     "output_type": "stream",
     "text": [
      "<class 'pandas.core.frame.DataFrame'>\n",
      "Int64Index: 253219 entries, 1 to 274250\n",
      "Data columns (total 2 columns):\n",
      " #   Column    Non-Null Count   Dtype \n",
      "---  ------    --------------   ----- \n",
      " 0   token     253219 non-null  object\n",
      " 1   language  253219 non-null  object\n",
      "dtypes: object(2)\n",
      "memory usage: 5.8+ MB\n"
     ]
    }
   ],
   "source": [
    "df.info()"
   ]
  },
  {
   "cell_type": "code",
   "execution_count": 8,
   "metadata": {
    "ExecuteTime": {
     "end_time": "2021-02-06T15:28:54.230223Z",
     "start_time": "2021-02-06T15:28:54.144822Z"
    }
   },
   "outputs": [
    {
     "data": {
      "text/html": [
       "<div>\n",
       "<style scoped>\n",
       "    .dataframe tbody tr th:only-of-type {\n",
       "        vertical-align: middle;\n",
       "    }\n",
       "\n",
       "    .dataframe tbody tr th {\n",
       "        vertical-align: top;\n",
       "    }\n",
       "\n",
       "    .dataframe thead th {\n",
       "        text-align: right;\n",
       "    }\n",
       "</style>\n",
       "<table border=\"1\" class=\"dataframe\">\n",
       "  <thead>\n",
       "    <tr style=\"text-align: right;\">\n",
       "      <th></th>\n",
       "      <th>token</th>\n",
       "      <th>language</th>\n",
       "    </tr>\n",
       "  </thead>\n",
       "  <tbody>\n",
       "    <tr>\n",
       "      <th>count</th>\n",
       "      <td>253219</td>\n",
       "      <td>253219</td>\n",
       "    </tr>\n",
       "    <tr>\n",
       "      <th>unique</th>\n",
       "      <td>39192</td>\n",
       "      <td>8</td>\n",
       "    </tr>\n",
       "    <tr>\n",
       "      <th>top</th>\n",
       "      <td>.</td>\n",
       "      <td>lang2</td>\n",
       "    </tr>\n",
       "    <tr>\n",
       "      <th>freq</th>\n",
       "      <td>5663</td>\n",
       "      <td>112987</td>\n",
       "    </tr>\n",
       "  </tbody>\n",
       "</table>\n",
       "</div>"
      ],
      "text/plain": [
       "         token language\n",
       "count   253219   253219\n",
       "unique   39192        8\n",
       "top          .    lang2\n",
       "freq      5663   112987"
      ]
     },
     "execution_count": 8,
     "metadata": {},
     "output_type": "execute_result"
    }
   ],
   "source": [
    "df.describe()"
   ]
  },
  {
   "cell_type": "code",
   "execution_count": 9,
   "metadata": {
    "ExecuteTime": {
     "end_time": "2021-02-06T15:28:54.252162Z",
     "start_time": "2021-02-06T15:28:54.232130Z"
    }
   },
   "outputs": [
    {
     "data": {
      "text/plain": [
       "lang2        112987\n",
       "lang1         80437\n",
       "other         54060\n",
       "ne             5186\n",
       "ambiguous       266\n",
       "unk             218\n",
       "mixed            42\n",
       "fw               23\n",
       "Name: language, dtype: int64"
      ]
     },
     "execution_count": 9,
     "metadata": {},
     "output_type": "execute_result"
    }
   ],
   "source": [
    "df.language.value_counts()"
   ]
  },
  {
   "cell_type": "code",
   "execution_count": 10,
   "metadata": {
    "ExecuteTime": {
     "end_time": "2021-02-06T15:28:54.311944Z",
     "start_time": "2021-02-06T15:28:54.253798Z"
    }
   },
   "outputs": [
    {
     "data": {
      "text/plain": [
       ".      5663\n",
       "de     4022\n",
       ",      3775\n",
       "a      3686\n",
       "!      3255\n",
       "que    3239\n",
       "I      2579\n",
       "me     2531\n",
       "y      2474\n",
       "no     2152\n",
       "Name: token, dtype: int64"
      ]
     },
     "execution_count": 10,
     "metadata": {},
     "output_type": "execute_result"
    }
   ],
   "source": [
    "df.token.value_counts()[:10]"
   ]
  },
  {
   "cell_type": "code",
   "execution_count": 11,
   "metadata": {
    "ExecuteTime": {
     "end_time": "2021-02-06T15:28:54.369265Z",
     "start_time": "2021-02-06T15:28:54.313830Z"
    }
   },
   "outputs": [
    {
     "data": {
      "text/plain": [
       ".         5663\n",
       "de        4022\n",
       ",         3775\n",
       "a         3686\n",
       "!         3255\n",
       "          ... \n",
       "mismo      115\n",
       "as         115\n",
       "really     113\n",
       "dia        113\n",
       "👌          113\n",
       "Name: token, Length: 250, dtype: int64"
      ]
     },
     "execution_count": 11,
     "metadata": {},
     "output_type": "execute_result"
    }
   ],
   "source": [
    "df.token.value_counts()[:250]"
   ]
  },
  {
   "cell_type": "code",
   "execution_count": 12,
   "metadata": {
    "ExecuteTime": {
     "end_time": "2021-02-06T15:28:54.417125Z",
     "start_time": "2021-02-06T15:28:54.370907Z"
    }
   },
   "outputs": [
    {
     "data": {
      "text/plain": [
       "array(['.', 'de', ',', 'a', '!', 'que', 'I', 'me', 'y', 'no', 'la', 'el',\n",
       "       'en', '\"', '..', ':', '!!', 'to', '?', 'the', 'es', 'you', 'con',\n",
       "       'un', 'my', 'te', 'lo', 'para', 'mi', 'it', 'se', 'and', 'i', 'tu',\n",
       "       'por', 'los', 'lol', 'is', 'yo', '…', 'las', 'si', 'in', 'una',\n",
       "       'for', 'ya', 'of', \"n't\", 'that', '❤', 'pero', ':)', 'como', \"'s\",\n",
       "       '️', 'do', 'like', 'lmao', 'with', 'be', 'hoy', 'so', 'on', '“',\n",
       "       '😂', 'No', 'El', '...', 'del', 'esta', 'up', '”', \"'m\", 'your',\n",
       "       'but', 'have', 'just', 'this', 'u', 'al', 'all', '!!!', 'at',\n",
       "       'get', 'go', 'too', 'was', 'can', 'jajaja', 'La', 'he', 'A', 'Me',\n",
       "       '#elvacilondelagatita', 'are', '@JimmyEsqueda', 'out', 'Y', 'le',\n",
       "       'bien', 'todo', 'love', 'más', 'know', 'Que', 'q', 'este', 'we',\n",
       "       'not', 'mas', 'tengo', 'My', 'voy', 'pa', 'vlog', 'eso', 'day',\n",
       "       'quiero', 'mejor', 'gracias', 'Ya', '(', 'mis', 'Gracias',\n",
       "       'cuando', 'o', '&', 'estoy', 'one', 'ser', 'hay', 'by', '*',\n",
       "       'what', 'todos', 'when', 'ver', '¿', 'good', 'time', 'siempre',\n",
       "       '😍', 'k', 'got', 'va', ')', 'tus', 'Yo', 'jajajaja', 'they', 'su',\n",
       "       'nada', 'or', 'son', 'ha', 'her', 'ni', 'día', '2', 'Mi', 'vida',\n",
       "       'if', 'tan', 'im', 'nos', 'Feliz', 'she', 'está', '@AngieEstilo',\n",
       "       ':(', 'shit', '¡', 'ti', 'now', 'its', 'more', 'Si', 'hacer',\n",
       "       'always', 'algo', 'cosas', 'ahora', 'The', 'You', 'mañana', 'want',\n",
       "       'mucho', 'work', 'muy', 'NO', 'Te', 'from', 'need', 'porque', \"'\",\n",
       "       'Un', 'sin', 'back', 'solo', 'going', 'En', 'soy', '??',\n",
       "       '#salhuaclothing', 'DE', 'haha', 'Lol', 'eres', 'ir', 'verdad',\n",
       "       'did', '☺', 'Happy', 'fuck', 'will', 'gente', 'Hoy', 'why', 'how',\n",
       "       ':D', 'jaja', 'semana', 'estar', 'esto', '-', 'think', 'today',\n",
       "       'QUE', 'dont', 'De', 'about', 'gonna', 'then', 'qué', 'fue',\n",
       "       '@javiidiaz06', '😭', 'some', '😂😂', '!!!!', 'there', '|', 'puedo',\n",
       "       'see', 'tiene', 'mismo', 'as', 'really', 'dia', '👌'], dtype=object)"
      ]
     },
     "execution_count": 12,
     "metadata": {},
     "output_type": "execute_result"
    }
   ],
   "source": [
    "df.token.value_counts()[:250].keys().values"
   ]
  },
  {
   "cell_type": "code",
   "execution_count": 13,
   "metadata": {
    "ExecuteTime": {
     "end_time": "2021-02-06T15:28:54.462377Z",
     "start_time": "2021-02-06T15:28:54.418587Z"
    }
   },
   "outputs": [],
   "source": [
    "token_counts = df.token.value_counts().values"
   ]
  },
  {
   "cell_type": "code",
   "execution_count": 14,
   "metadata": {
    "ExecuteTime": {
     "end_time": "2021-02-06T15:28:54.483918Z",
     "start_time": "2021-02-06T15:28:54.464179Z"
    }
   },
   "outputs": [],
   "source": [
    "from collections import Counter\n",
    "\n",
    "count_counter = Counter()\n",
    "\n",
    "for count in token_counts:\n",
    "    count_counter[count] += 1"
   ]
  },
  {
   "cell_type": "markdown",
   "metadata": {},
   "source": [
    "Now let's see how many tokens are encountered only once. Recall that this is out of 253219 tokens."
   ]
  },
  {
   "cell_type": "code",
   "execution_count": 15,
   "metadata": {
    "ExecuteTime": {
     "end_time": "2021-02-06T15:28:54.488524Z",
     "start_time": "2021-02-06T15:28:54.485626Z"
    }
   },
   "outputs": [
    {
     "data": {
      "text/plain": [
       "25905"
      ]
     },
     "execution_count": 15,
     "metadata": {},
     "output_type": "execute_result"
    }
   ],
   "source": [
    "count_counter[1]"
   ]
  },
  {
   "cell_type": "markdown",
   "metadata": {},
   "source": [
    "So, about one in every 10 tokens is unique!"
   ]
  },
  {
   "cell_type": "code",
   "execution_count": 16,
   "metadata": {
    "ExecuteTime": {
     "end_time": "2021-02-06T15:28:54.492441Z",
     "start_time": "2021-02-06T15:28:54.489897Z"
    }
   },
   "outputs": [],
   "source": [
    "x, y = list(count_counter.keys()), list(count_counter.values())"
   ]
  },
  {
   "cell_type": "code",
   "execution_count": 17,
   "metadata": {
    "ExecuteTime": {
     "end_time": "2021-02-06T15:28:54.496897Z",
     "start_time": "2021-02-06T15:28:54.493829Z"
    }
   },
   "outputs": [
    {
     "data": {
      "text/plain": [
       "([5663, 4022, 3775, 3686, 3255, 3239, 2579, 2531, 2474, 2152],\n",
       " [1, 1, 1, 1, 1, 1, 1, 1, 1, 1])"
      ]
     },
     "execution_count": 17,
     "metadata": {},
     "output_type": "execute_result"
    }
   ],
   "source": [
    "x[:10], y[:10]"
   ]
  },
  {
   "cell_type": "markdown",
   "metadata": {},
   "source": [
    "We plot the count of counts."
   ]
  },
  {
   "cell_type": "code",
   "execution_count": 18,
   "metadata": {
    "ExecuteTime": {
     "end_time": "2021-02-06T15:28:54.786698Z",
     "start_time": "2021-02-06T15:28:54.498253Z"
    }
   },
   "outputs": [
    {
     "data": {
      "text/plain": [
       "[<matplotlib.lines.Line2D at 0x7fcb54226610>]"
      ]
     },
     "execution_count": 18,
     "metadata": {},
     "output_type": "execute_result"
    },
    {
     "data": {
      "image/png": "[encoded data removed]",
      "text/plain": [
       "<Figure size 432x288 with 1 Axes>"
      ]
     },
     "metadata": {
      "needs_background": "light"
     },
     "output_type": "display_data"
    }
   ],
   "source": [
    "from matplotlib import pyplot as plt\n",
    "\n",
    "plt.plot(x, y)"
   ]
  },
  {
   "cell_type": "code",
   "execution_count": 19,
   "metadata": {
    "ExecuteTime": {
     "end_time": "2021-02-06T15:28:54.902052Z",
     "start_time": "2021-02-06T15:28:54.792128Z"
    }
   },
   "outputs": [
    {
     "data": {
      "text/plain": [
       "[<matplotlib.lines.Line2D at 0x7fcb53f76520>]"
      ]
     },
     "execution_count": 19,
     "metadata": {},
     "output_type": "execute_result"
    },
    {
     "data": {
      "image/png": "[encoded data removed]",
      "text/plain": [
       "<Figure size 432x288 with 1 Axes>"
      ]
     },
     "metadata": {
      "needs_background": "light"
     },
     "output_type": "display_data"
    }
   ],
   "source": [
    "plt.ylim(0, 250)\n",
    "plt.xlim(0, 250)\n",
    "plt.plot(x, y)"
   ]
  },
  {
   "cell_type": "markdown",
   "metadata": {},
   "source": [
    "This is a very sharp power law distribution. It might look better if we take the log of the y-axis..."
   ]
  },
  {
   "cell_type": "code",
   "execution_count": 20,
   "metadata": {
    "ExecuteTime": {
     "end_time": "2021-02-06T15:28:55.015957Z",
     "start_time": "2021-02-06T15:28:54.906082Z"
    }
   },
   "outputs": [
    {
     "data": {
      "text/plain": [
       "[<matplotlib.lines.Line2D at 0x7fcb549da580>]"
      ]
     },
     "execution_count": 20,
     "metadata": {},
     "output_type": "execute_result"
    },
    {
     "data": {
      "image/png": "[encoded data removed]",
      "text/plain": [
       "<Figure size 432x288 with 1 Axes>"
      ]
     },
     "metadata": {
      "needs_background": "light"
     },
     "output_type": "display_data"
    }
   ],
   "source": [
    "plt.xlim(0, 250)\n",
    "plt.plot(x, np.log1p(y))"
   ]
  },
  {
   "cell_type": "markdown",
   "metadata": {},
   "source": [
    "...or the log of the log..."
   ]
  },
  {
   "cell_type": "code",
   "execution_count": 21,
   "metadata": {
    "ExecuteTime": {
     "end_time": "2021-02-06T15:28:55.143859Z",
     "start_time": "2021-02-06T15:28:55.017707Z"
    }
   },
   "outputs": [
    {
     "data": {
      "text/plain": [
       "[<matplotlib.lines.Line2D at 0x7fcb5296c3d0>]"
      ]
     },
     "execution_count": 21,
     "metadata": {},
     "output_type": "execute_result"
    },
    {
     "data": {
      "image/png": "[encoded data removed]",
      "text/plain": [
       "<Figure size 432x288 with 1 Axes>"
      ]
     },
     "metadata": {
      "needs_background": "light"
     },
     "output_type": "display_data"
    }
   ],
   "source": [
    "plt.xlim(0, 250)\n",
    "plt.plot(x, np.log1p(np.log1p(y)))"
   ]
  },
  {
   "cell_type": "markdown",
   "metadata": {
    "ExecuteTime": {
     "end_time": "2021-02-02T13:55:02.960969Z",
     "start_time": "2021-02-02T13:55:02.958958Z"
    }
   },
   "source": [
    "### General Remarks"
   ]
  },
  {
   "cell_type": "markdown",
   "metadata": {},
   "source": [
    "According to [1], the frequent alternations between two languages is what makes the automated processing of code-switching data difficult. This is quantified by using the CMI index. In the case of Spanish-English code switched text, there is a large overlap of English and Spanish words, moreover, code-switching also appears within words, often inflecting words by conjugating English verbs using Spanish grammatical rules. We should be aware that this affects non-contextualized word embeddings as it increases the out-of-vocabulary rate."
   ]
  },
  {
   "cell_type": "markdown",
   "metadata": {
    "ExecuteTime": {
     "end_time": "2021-02-02T11:50:34.585247Z",
     "start_time": "2021-02-02T11:50:34.582423Z"
    }
   },
   "source": [
    "## 2. Part Of Speech (POS) tagger"
   ]
  },
  {
   "cell_type": "code",
   "execution_count": 22,
   "metadata": {
    "ExecuteTime": {
     "end_time": "2021-02-06T15:28:55.147847Z",
     "start_time": "2021-02-06T15:28:55.145617Z"
    }
   },
   "outputs": [],
   "source": [
    "pos_train_file = \"~/Documents/Springboard-notes-data/lince/pos_spaeng/train.conll\""
   ]
  },
  {
   "cell_type": "markdown",
   "metadata": {
    "ExecuteTime": {
     "end_time": "2021-02-02T12:16:22.994423Z",
     "start_time": "2021-02-02T12:16:22.989953Z"
    }
   },
   "source": [
    "The \"pos\" corpus \"train\" portion contains 27893 tweets. The first column is a token within a tweet, and the second column is a language label for that token, and the third column is a POS label.\n",
    "\n",
    "I will build out a POS Tagger using the \"train\" portion, use the \"dev\" portion of the \"pos\" corpus (4298 tweets) to tune it, and modify tweets in the \"test\" portion (10720 tweets) for the final evaluation."
   ]
  },
  {
   "cell_type": "code",
   "execution_count": 23,
   "metadata": {
    "ExecuteTime": {
     "end_time": "2021-02-06T15:28:55.920911Z",
     "start_time": "2021-02-06T15:28:55.149598Z"
    }
   },
   "outputs": [],
   "source": [
    "df = pd.read_csv(pos_train_file, engine='python', sep='\\t+', header=None, names=['token', 'language', 'pos'], encoding='utf-8')"
   ]
  },
  {
   "cell_type": "code",
   "execution_count": 24,
   "metadata": {
    "ExecuteTime": {
     "end_time": "2021-02-06T15:28:55.951715Z",
     "start_time": "2021-02-06T15:28:55.922553Z"
    }
   },
   "outputs": [
    {
     "name": "stdout",
     "output_type": "stream",
     "text": [
      "<class 'pandas.core.frame.DataFrame'>\n",
      "RangeIndex: 244961 entries, 0 to 244960\n",
      "Data columns (total 3 columns):\n",
      " #   Column    Non-Null Count   Dtype \n",
      "---  ------    --------------   ----- \n",
      " 0   token     244961 non-null  object\n",
      " 1   language  217068 non-null  object\n",
      " 2   pos       217068 non-null  object\n",
      "dtypes: object(3)\n",
      "memory usage: 5.6+ MB\n"
     ]
    }
   ],
   "source": [
    "df.info()"
   ]
  },
  {
   "cell_type": "code",
   "execution_count": 25,
   "metadata": {
    "ExecuteTime": {
     "end_time": "2021-02-06T15:28:55.991404Z",
     "start_time": "2021-02-06T15:28:55.953349Z"
    }
   },
   "outputs": [],
   "source": [
    "df = df.dropna()"
   ]
  },
  {
   "cell_type": "code",
   "execution_count": 26,
   "metadata": {
    "ExecuteTime": {
     "end_time": "2021-02-06T15:28:56.014076Z",
     "start_time": "2021-02-06T15:28:55.993133Z"
    }
   },
   "outputs": [
    {
     "data": {
      "text/plain": [
       "eng        115461\n",
       "spa         61129\n",
       "eng&spa     38841\n",
       "UNK          1637\n",
       "Name: language, dtype: int64"
      ]
     },
     "execution_count": 26,
     "metadata": {},
     "output_type": "execute_result"
    }
   ],
   "source": [
    "df.language.value_counts()"
   ]
  },
  {
   "cell_type": "markdown",
   "metadata": {},
   "source": [
    "Notice that the language values are different from those in the lid data. Here 'eng&spa'covers both mixed and ambiguous words, and 'UNK' is for everything else."
   ]
  },
  {
   "cell_type": "code",
   "execution_count": 27,
   "metadata": {
    "ExecuteTime": {
     "end_time": "2021-02-06T15:28:56.034479Z",
     "start_time": "2021-02-06T15:28:56.015536Z"
    }
   },
   "outputs": [
    {
     "data": {
      "text/plain": [
       "VERB     35297\n",
       "PUNCT    33922\n",
       "PRON     33243\n",
       "NOUN     19416\n",
       "DET      15361\n",
       "ADV      14570\n",
       "ADP      12515\n",
       "INTJ     10435\n",
       "CONJ      7684\n",
       "ADJ       7257\n",
       "AUX       7178\n",
       "SCONJ     6840\n",
       "PART      4576\n",
       "PROPN     4502\n",
       "NUM       2634\n",
       "UNK       1624\n",
       "X           14\n",
       "Name: pos, dtype: int64"
      ]
     },
     "execution_count": 27,
     "metadata": {},
     "output_type": "execute_result"
    }
   ],
   "source": [
    "df.pos.value_counts()"
   ]
  },
  {
   "cell_type": "markdown",
   "metadata": {
    "ExecuteTime": {
     "end_time": "2021-02-06T12:07:23.822821Z",
     "start_time": "2021-02-06T12:07:23.819433Z"
    }
   },
   "source": [
    "These values are as defined in https://universaldependencies.org/u/pos/all.html. A read through is likely to be helpful."
   ]
  },
  {
   "cell_type": "code",
   "execution_count": 28,
   "metadata": {
    "ExecuteTime": {
     "end_time": "2021-02-06T15:28:56.106920Z",
     "start_time": "2021-02-06T15:28:56.036205Z"
    }
   },
   "outputs": [
    {
     "data": {
      "text/plain": [
       "token        language  pos  \n",
       ".            eng&spa   PUNCT    21043\n",
       "...          eng&spa   PUNCT     7324\n",
       "I            eng       PRON      5280\n",
       "you          eng       PRON      3879\n",
       "the          eng       DET       3731\n",
       "                                ...  \n",
       "derechita    spa       ADJ          1\n",
       "planeaba     spa       VERB         1\n",
       "desahogar+   spa       VERB         1\n",
       "desanimando  spa       VERB         1\n",
       "reciclable   spa       ADJ          1\n",
       "Length: 12882, dtype: int64"
      ]
     },
     "execution_count": 28,
     "metadata": {},
     "output_type": "execute_result"
    }
   ],
   "source": [
    "df.value_counts()"
   ]
  },
  {
   "cell_type": "markdown",
   "metadata": {},
   "source": [
    "Now let us see if words are frequently found in one role or more."
   ]
  },
  {
   "cell_type": "code",
   "execution_count": 29,
   "metadata": {
    "ExecuteTime": {
     "end_time": "2021-02-06T15:29:39.361687Z",
     "start_time": "2021-02-06T15:28:56.108956Z"
    }
   },
   "outputs": [],
   "source": [
    "from collections import defaultdict, Counter\n",
    "\n",
    "d = defaultdict(Counter)\n",
    "\n",
    "for i in range(len(df)):\n",
    "    d[df.iloc[i].token][(df.iloc[i].language, df.iloc[i].pos)] += 1"
   ]
  },
  {
   "cell_type": "code",
   "execution_count": 30,
   "metadata": {
    "ExecuteTime": {
     "end_time": "2021-02-06T15:29:39.468189Z",
     "start_time": "2021-02-06T15:29:39.363873Z"
    }
   },
   "outputs": [
    {
     "data": {
      "text/plain": [
       "defaultdict(collections.Counter,\n",
       "            {'maybe': Counter({('eng', 'ADV'): 124}),\n",
       "             'the': Counter({('eng', 'DET'): 3731}),\n",
       "             'teachers': Counter({('eng', 'NOUN'): 7}),\n",
       "             'are': Counter({('eng', 'VERB'): 350,\n",
       "                      ('eng', 'AUX'): 199,\n",
       "                      ('spa', 'VERB'): 1}),\n",
       "             'not': Counter({('eng', 'PART'): 710, ('eng', 'ADV'): 115}),\n",
       "             '.': Counter({('eng&spa', 'PUNCT'): 21043}),\n",
       "             'yeah': Counter({('eng', 'INTJ'): 1736,\n",
       "                      ('eng&spa', 'INTJ'): 11,\n",
       "                      ('spa', 'INTJ'): 4}),\n",
       "             'cada': Counter({('spa', 'DET'): 25}),\n",
       "             'qué': Counter({('spa', 'DET'): 96,\n",
       "                      ('spa', 'PRON'): 353,\n",
       "                      ('spa', 'ADV'): 75,\n",
       "                      ('spa', 'INTJ'): 3}),\n",
       "             'tiempo': Counter({('spa', 'NOUN'): 43}),\n",
       "             '?': Counter({('eng&spa', 'PUNCT'): 3113}),\n",
       "             'sí': Counter({('spa', 'INTJ'): 854,\n",
       "                      ('eng', 'INTJ'): 2,\n",
       "                      ('spa', 'PRON'): 1}),\n",
       "             'ellos': Counter({('spa', 'PRON'): 107}),\n",
       "             'pasan': Counter({('spa', 'VERB'): 5}),\n",
       "             'is': Counter({('eng', 'VERB'): 1194, ('eng', 'AUX'): 123}),\n",
       "             'it': Counter({('eng', 'PRON'): 3166}),\n",
       "             'a': Counter({('eng', 'DET'): 1823,\n",
       "                      ('spa', 'ADP'): 1536,\n",
       "                      ('eng', 'ADP'): 18}),\n",
       "             'miniature': Counter({('eng', 'NOUN'): 1, ('eng', 'ADJ'): 3}),\n",
       "             'y': Counter({('spa', 'CONJ'): 1942}),\n",
       "             'that': Counter({('eng', 'PRON'): 1721,\n",
       "                      ('eng', 'SCONJ'): 697,\n",
       "                      ('eng', 'DET'): 365,\n",
       "                      ('eng', 'ADV'): 22}),\n",
       "             'was': Counter({('eng', 'VERB'): 872, ('eng', 'AUX'): 248}),\n",
       "             'her': Counter({('eng', 'DET'): 183, ('eng', 'PRON'): 279}),\n",
       "             'companion': Counter({('eng', 'NOUN'): 1}),\n",
       "             'te': Counter({('spa', 'PRON'): 611}),\n",
       "             'asaltan': Counter({('spa', 'VERB'): 2}),\n",
       "             'matan': Counter({('spa', 'VERB'): 2}),\n",
       "             'por': Counter({('spa', 'ADP'): 425}),\n",
       "             'cualquier': Counter({('spa', 'DET'): 25}),\n",
       "             'cosa': Counter({('spa', 'NOUN'): 99}),\n",
       "             'er': Counter({('eng&spa', 'INTJ'): 89, ('eng', 'INTJ'): 35}),\n",
       "             'exacto': Counter({('spa', 'ADV'): 1, ('spa', 'ADJ'): 38}),\n",
       "             'la': Counter({('spa', 'PRON'): 136,\n",
       "                      ('spa', 'DET'): 1296,\n",
       "                      ('eng', 'DET'): 1,\n",
       "                      ('eng&spa', 'DET'): 1}),\n",
       "             'hubiera': Counter({('spa', 'AUX'): 15, ('spa', 'VERB'): 2}),\n",
       "             'matado': Counter({('spa', 'VERB'): 2}),\n",
       "             'imagína+': Counter({('spa', 'VERB'): 35}),\n",
       "             '+te': Counter({('spa', 'PRON'): 174}),\n",
       "             'no': Counter({('spa', 'INTJ'): 1158,\n",
       "                      ('eng', 'INTJ'): 863,\n",
       "                      ('spa', 'ADV'): 1349,\n",
       "                      ('eng', 'ADV'): 13,\n",
       "                      ('eng&spa', 'INTJ'): 138,\n",
       "                      ('eng', 'DET'): 83,\n",
       "                      ('eng&spa', 'ADV'): 3}),\n",
       "             'donde': Counter({('spa', 'ADV'): 40, ('spa', 'ADP'): 8}),\n",
       "             'quieran': Counter({('spa', 'VERB'): 5}),\n",
       "             'roban': Counter({('spa', 'VERB'): 1}),\n",
       "             'ya': Counter({('spa', 'ADV'): 399}),\n",
       "             'se': Counter({('spa', 'PRON'): 692}),\n",
       "             'está': Counter({('spa', 'AUX'): 83,\n",
       "                      ('spa', 'VERB'): 298,\n",
       "                      ('eng', 'VERB'): 1}),\n",
       "             'haciendo': Counter({('spa', 'VERB'): 44}),\n",
       "             'de': Counter({('spa', 'ADP'): 1452, ('eng', 'NOUN'): 4}),\n",
       "             'noche': Counter({('spa', 'NOUN'): 28}),\n",
       "             'mañana': Counter({('spa', 'ADV'): 29, ('spa', 'NOUN'): 14}),\n",
       "             'hay': Counter({('spa', 'AUX'): 33, ('spa', 'VERB'): 139}),\n",
       "             'que': Counter({('spa', 'SCONJ'): 2133,\n",
       "                      ('spa', 'PRON'): 672,\n",
       "                      ('spa', 'INTJ'): 1}),\n",
       "             'ir': Counter({('spa', 'VERB'): 114}),\n",
       "             'trabajar': Counter({('spa', 'VERB'): 25}),\n",
       "             'mmhm': Counter({('eng', 'INTJ'): 417, ('spa', 'INTJ'): 2}),\n",
       "             'this': Counter({('eng', 'PRON'): 318,\n",
       "                      ('eng', 'DET'): 242,\n",
       "                      ('eng', 'ADV'): 1}),\n",
       "             'liability': Counter({('eng', 'NOUN'): 1}),\n",
       "             'for': Counter({('eng', 'ADP'): 704}),\n",
       "             'us': Counter({('eng', 'PRON'): 98}),\n",
       "             'insurance': Counter({('eng', 'NOUN'): 23}),\n",
       "             'cheaper': Counter({('eng', 'ADJ'): 7}),\n",
       "             'but': Counter({('eng', 'CONJ'): 1013,\n",
       "                      ('eng', 'ADV'): 2,\n",
       "                      ('eng', 'ADP'): 1}),\n",
       "             'still': Counter({('eng', 'ADV'): 109, ('eng', 'ADJ'): 7}),\n",
       "             'para': Counter({('spa', 'ADP'): 491, ('spa', 'VERB'): 8}),\n",
       "             'puedan': Counter({('spa', 'VERB'): 2, ('spa', 'AUX'): 1}),\n",
       "             'entonces': Counter({('spa', 'ADV'): 311, ('spa', 'SCONJ'): 98}),\n",
       "             'mandar+': Counter({('spa', 'VERB'): 4}),\n",
       "             '+les': Counter({('spa', 'PRON'): 7}),\n",
       "             'los': Counter({('spa', 'DET'): 412, ('spa', 'PRON'): 50}),\n",
       "             'trescientos': Counter({('spa', 'NUM'): 11}),\n",
       "             'dólares': Counter({('spa', 'NOUN'): 32}),\n",
       "             'le': Counter({('spa', 'PRON'): 554}),\n",
       "             'den': Counter({('spa', 'VERB'): 2, ('eng', 'NOUN'): 1}),\n",
       "             'quinientos': Counter({('spa', 'NUM'): 2}),\n",
       "             'pesos': Counter({('spa', 'NOUN'): 19}),\n",
       "             'Maria': Counter({('eng&spa', 'PROPN'): 21}),\n",
       "             'working': Counter({('eng', 'VERB'): 33,\n",
       "                      ('eng', 'NOUN'): 1,\n",
       "                      ('eng', 'ADJ'): 1}),\n",
       "             'tonight': Counter({('eng', 'ADV'): 2, ('eng', 'NOUN'): 13}),\n",
       "             'sepan': Counter({('spa', 'VERB'): 2}),\n",
       "             'ah': Counter({('eng&spa', 'INTJ'): 246,\n",
       "                      ('eng', 'INTJ'): 44,\n",
       "                      ('spa', 'INTJ'): 96}),\n",
       "             'tampoco': Counter({('spa', 'ADV'): 32}),\n",
       "             'Miami': Counter({('eng&spa', 'PROPN'): 33,\n",
       "                      ('spa', 'PROPN'): 18,\n",
       "                      ('eng', 'PROPN'): 8}),\n",
       "             'Gardens': Counter({('eng&spa', 'PROPN'): 9,\n",
       "                      ('eng', 'PROPN'): 3}),\n",
       "             'does': Counter({('eng', 'AUX'): 181, ('eng', 'VERB'): 57}),\n",
       "             \"n't\": Counter({('eng', 'PART'): 1517}),\n",
       "             'come': Counter({('eng', 'VERB'): 120, ('spa', 'VERB'): 3}),\n",
       "             'across': Counter({('eng', 'ADP'): 5, ('eng', 'ADV'): 2}),\n",
       "             'fifty-seventh': Counter({('eng', 'NOUN'): 1}),\n",
       "             'avenue': Counter({('eng', 'NOUN'): 4}),\n",
       "             'my': Counter({('eng', 'DET'): 790}),\n",
       "             'friend': Counter({('eng', 'NOUN'): 44}),\n",
       "             'has': Counter({('eng', 'VERB'): 131,\n",
       "                      ('spa', 'AUX'): 23,\n",
       "                      ('spa', 'VERB'): 4,\n",
       "                      ('eng', 'AUX'): 80}),\n",
       "             'an': Counter({('eng', 'DET'): 152, ('eng', 'ADP'): 6}),\n",
       "             'R_V': Counter({('eng', 'PROPN'): 1, ('spa', 'PROPN'): 1}),\n",
       "             'you': Counter({('eng', 'PRON'): 3879}),\n",
       "             'do': Counter({('eng', 'AUX'): 1115,\n",
       "                      ('eng', 'VERB'): 523,\n",
       "                      ('spa', 'NOUN'): 2,\n",
       "                      ('eng&spa', 'NOUN'): 2}),\n",
       "             'even': Counter({('eng', 'ADV'): 132, ('eng', 'ADJ'): 11}),\n",
       "             'have': Counter({('eng', 'VERB'): 562, ('eng', 'AUX'): 433}),\n",
       "             '...': Counter({('eng&spa', 'PUNCT'): 7324}),\n",
       "             'ok': Counter({('eng&spa', 'INTJ'): 110,\n",
       "                      ('eng', 'INTJ'): 237,\n",
       "                      ('eng', 'ADJ'): 23,\n",
       "                      ('eng&spa', 'ADJ'): 2,\n",
       "                      ('spa', 'INTJ'): 19,\n",
       "                      ('eng', 'ADV'): 2}),\n",
       "             'right': Counter({('eng', 'INTJ'): 282,\n",
       "                      ('eng', 'ADV'): 79,\n",
       "                      ('eng', 'NOUN'): 12,\n",
       "                      ('eng', 'ADJ'): 229}),\n",
       "             \"'s\": Counter({('eng', 'VERB'): 2686,\n",
       "                      ('eng&spa', 'PART'): 30,\n",
       "                      ('eng', 'AUX'): 310,\n",
       "                      ('eng', 'PRON'): 81,\n",
       "                      ('eng', 'PART'): 99,\n",
       "                      ('eng', 'ADJ'): 11,\n",
       "                      ('eng', 'NOUN'): 8,\n",
       "                      ('eng', 'ADV'): 1,\n",
       "                      ('eng&spa', 'VERB'): 11}),\n",
       "             'Miramar': Counter({('eng&spa', 'PROPN'): 6}),\n",
       "             'know': Counter({('eng', 'VERB'): 1676}),\n",
       "             'we': Counter({('eng', 'PRON'): 964, ('spa', 'INTJ'): 5}),\n",
       "             \"'ve\": Counter({('eng', 'AUX'): 152, ('eng', 'VERB'): 21}),\n",
       "             'been': Counter({('eng', 'AUX'): 18, ('eng', 'VERB'): 147}),\n",
       "             'talking': Counter({('eng', 'VERB'): 101, ('eng', 'ADJ'): 1}),\n",
       "             'so': Counter({('eng', 'ADV'): 241,\n",
       "                      ('eng', 'INTJ'): 359,\n",
       "                      ('eng', 'SCONJ'): 573}),\n",
       "             'much': Counter({('eng', 'ADV'): 81,\n",
       "                      ('eng', 'PRON'): 2,\n",
       "                      ('eng', 'ADJ'): 36}),\n",
       "             'already': Counter({('eng', 'ADV'): 76}),\n",
       "             'on': Counter({('eng', 'ADP'): 534,\n",
       "                      ('eng', 'ADV'): 18,\n",
       "                      ('eng', 'ADJ'): 10}),\n",
       "             'time': Counter({('eng', 'NOUN'): 202}),\n",
       "             'he': Counter({('eng', 'PRON'): 1266,\n",
       "                      ('spa', 'AUX'): 52,\n",
       "                      ('spa', 'VERB'): 4}),\n",
       "             'must': Counter({('eng', 'AUX'): 19}),\n",
       "             'gotten': Counter({('eng', 'VERB'): 8}),\n",
       "             'in': Counter({('eng', 'ADP'): 937,\n",
       "                      ('eng', 'ADV'): 122,\n",
       "                      ('spa', 'ADP'): 1,\n",
       "                      ('eng', 'SCONJ'): 2}),\n",
       "             'fight': Counter({('eng', 'NOUN'): 6, ('eng', 'VERB'): 2}),\n",
       "             'porque': Counter({('spa', 'SCONJ'): 507}),\n",
       "             'como': Counter({('spa', 'ADV'): 189,\n",
       "                      ('spa', 'ADP'): 15,\n",
       "                      ('spa', 'SCONJ'): 137,\n",
       "                      ('spa', 'VERB'): 7,\n",
       "                      ('spa', 'INTJ'): 1}),\n",
       "             'yo': Counter({('spa', 'PRON'): 1126, ('eng', 'INTJ'): 4}),\n",
       "             'nunca': Counter({('spa', 'ADV'): 67}),\n",
       "             'veía': Counter({('spa', 'VERB'): 3}),\n",
       "             'aquí': Counter({('spa', 'ADV'): 176}),\n",
       "             'ni': Counter({('spa', 'CONJ'): 68, ('spa', 'ADV'): 36}),\n",
       "             'nada': Counter({('spa', 'PRON'): 162,\n",
       "                      ('spa', 'ADV'): 7,\n",
       "                      ('spa', 'NOUN'): 9}),\n",
       "             'Burger': Counter({('eng&spa', 'PROPN'): 3}),\n",
       "             'Kings': Counter({('eng&spa', 'PROPN'): 1}),\n",
       "             'and': Counter({('eng', 'CONJ'): 2927}),\n",
       "             'McDonalds': Counter({('eng&spa', 'PROPN'): 3}),\n",
       "             'todo': Counter({('spa', 'ADJ'): 11,\n",
       "                      ('spa', 'DET'): 108,\n",
       "                      ('spa', 'PRON'): 133,\n",
       "                      ('spa', 'ADV'): 2,\n",
       "                      ('spa', 'NOUN'): 1}),\n",
       "             'eso': Counter({('spa', 'PRON'): 519}),\n",
       "             'allá': Counter({('spa', 'ADV'): 78}),\n",
       "             'es': Counter({('spa', 'VERB'): 1116, ('spa', 'AUX'): 11}),\n",
       "             'they': Counter({('eng', 'PRON'): 1351}),\n",
       "             'grow': Counter({('eng', 'VERB'): 4}),\n",
       "             'bueno': Counter({('spa', 'INTJ'): 258, ('spa', 'ADJ'): 32}),\n",
       "             'yes': Counter({('eng', 'INTJ'): 168, ('eng', 'NOUN'): 1}),\n",
       "             'el': Counter({('spa', 'DET'): 1330, ('spa', 'PRON'): 1}),\n",
       "             'tiroteo': Counter({('spa', 'NOUN'): 4}),\n",
       "             'ese': Counter({('spa', 'PRON'): 65, ('spa', 'DET'): 76}),\n",
       "             'ahí': Counter({('spa', 'ADV'): 286}),\n",
       "             'en': Counter({('spa', 'ADP'): 924}),\n",
       "             'Chili': Counter({('eng&spa', 'PROPN'): 13}),\n",
       "             'oh': Counter({('eng&spa', 'INTJ'): 328,\n",
       "                      ('eng', 'INTJ'): 538,\n",
       "                      ('spa', 'INTJ'): 17}),\n",
       "             'incredible': Counter({('eng', 'ADJ'): 4}),\n",
       "             'keep': Counter({('eng', 'VERB'): 39}),\n",
       "             '<unintelligible>': Counter({('UNK', 'UNK'): 1622}),\n",
       "             'I': Counter({('eng', 'PRON'): 5280, ('eng', 'PROPN'): 2}),\n",
       "             'want': Counter({('eng', 'VERB'): 349}),\n",
       "             'to': Counter({('eng', 'PART'): 2220,\n",
       "                      ('eng', 'ADP'): 870,\n",
       "                      ('spa', 'ADP'): 2}),\n",
       "             'worry': Counter({('eng', 'VERB'): 17}),\n",
       "             'three': Counter({('eng', 'NUM'): 135}),\n",
       "             'zero': Counter({('eng', 'NUM'): 6}),\n",
       "             'one': Counter({('eng', 'NUM'): 285,\n",
       "                      ('eng', 'NOUN'): 227,\n",
       "                      ('eng', 'PRON'): 39}),\n",
       "             'four': Counter({('eng', 'NUM'): 121}),\n",
       "             'sigues': Counter({('spa', 'AUX'): 2}),\n",
       "             'saliendo': Counter({('spa', 'VERB'): 5}),\n",
       "             'Hialeah': Counter({('eng', 'PROPN'): 4,\n",
       "                      ('eng&spa', 'PROPN'): 3}),\n",
       "             'sales': Counter({('spa', 'VERB'): 2, ('eng', 'NOUN'): 3}),\n",
       "             'traffic': Counter({('eng', 'NOUN'): 3}),\n",
       "             'going': Counter({('eng', 'VERB'): 733, ('eng', 'ADJ'): 1}),\n",
       "             'get': Counter({('eng', 'VERB'): 316, ('eng', 'AUX'): 12}),\n",
       "             'bad': Counter({('eng', 'ADJ'): 81, ('eng', 'ADV'): 1}),\n",
       "             'all': Counter({('eng', 'DET'): 273,\n",
       "                      ('eng', 'NOUN'): 72,\n",
       "                      ('eng', 'ADV'): 60,\n",
       "                      ('eng', 'ADJ'): 4,\n",
       "                      ('eng', 'PRON'): 2}),\n",
       "             'these': Counter({('eng', 'DET'): 50, ('eng', 'PRON'): 28}),\n",
       "             'days': Counter({('eng', 'NOUN'): 33}),\n",
       "             'now': Counter({('eng', 'ADV'): 259}),\n",
       "             'because': Counter({('eng', 'SCONJ'): 715}),\n",
       "             'of': Counter({('eng', 'ADP'): 940}),\n",
       "             'un': Counter({('spa', 'DET'): 674}),\n",
       "             'rebuilt': Counter({('eng', 'NOUN'): 1}),\n",
       "             'she': Counter({('eng', 'PRON'): 1152}),\n",
       "             'off': Counter({('eng', 'ADJ'): 8,\n",
       "                      ('eng', 'ADP'): 45,\n",
       "                      ('eng', 'ADV'): 24}),\n",
       "             'viste': Counter({('spa', 'VERB'): 21}),\n",
       "             'mandaron': Counter({('spa', 'VERB'): 4}),\n",
       "             'una': Counter({('spa', 'DET'): 354,\n",
       "                      ('spa', 'PRON'): 35,\n",
       "                      ('spa', 'NUM'): 3}),\n",
       "             'hoja': Counter({('spa', 'NOUN'): 2}),\n",
       "             'hoy': Counter({('spa', 'ADV'): 60, ('spa', 'NOUN'): 3}),\n",
       "             'con': Counter({('spa', 'ADP'): 411}),\n",
       "             'lo': Counter({('spa', 'DET'): 268, ('spa', 'PRON'): 649}),\n",
       "             'de+': Counter({('spa', 'ADP'): 159, ('spa', 'VERB'): 4}),\n",
       "             '+el': Counter({('spa', 'DET'): 360}),\n",
       "             'meeting': Counter({('eng', 'NOUN'): 17}),\n",
       "             'estaba': Counter({('spa', 'VERB'): 117, ('spa', 'AUX'): 77}),\n",
       "             'puerta': Counter({('spa', 'NOUN'): 17}),\n",
       "             'parquecito': Counter({('spa', 'NOUN'): 2}),\n",
       "             'atrás': Counter({('spa', 'ADV'): 8}),\n",
       "             'got': Counter({('eng', 'VERB'): 172, ('eng', 'AUX'): 70}),\n",
       "             'five': Counter({('eng', 'NUM'): 146, ('eng', 'PROPN'): 4}),\n",
       "             'more': Counter({('eng', 'ADJ'): 89, ('eng', 'ADV'): 62}),\n",
       "             'minutes': Counter({('eng', 'NOUN'): 35}),\n",
       "             'doing': Counter({('eng', 'VERB'): 132}),\n",
       "             'something': Counter({('eng', 'PRON'): 224, ('eng', 'ADV'): 19}),\n",
       "             'better': Counter({('eng', 'ADJ'): 44, ('eng', 'ADV'): 4}),\n",
       "             'than': Counter({('eng', 'SCONJ'): 25, ('eng', 'ADP'): 67}),\n",
       "             'watching': Counter({('eng', 'VERB'): 19}),\n",
       "             'tv': Counter({('eng', 'NOUN'): 2}),\n",
       "             'computers': Counter({('eng', 'NOUN'): 5}),\n",
       "             'day': Counter({('eng', 'NOUN'): 145}),\n",
       "             'Dade': Counter({('eng&spa', 'PROPN'): 10}),\n",
       "             'like': Counter({('eng', 'SCONJ'): 150,\n",
       "                      ('eng', 'VERB'): 184,\n",
       "                      ('eng', 'ADP'): 392,\n",
       "                      ('eng', 'ADV'): 1709,\n",
       "                      ('eng', 'NOUN'): 1}),\n",
       "             'what': Counter({('eng', 'PRON'): 932,\n",
       "                      ('eng', 'DET'): 66,\n",
       "                      ('eng', 'INTJ'): 3}),\n",
       "             'were': Counter({('eng', 'VERB'): 137, ('eng', 'AUX'): 100}),\n",
       "             'before': Counter({('eng', 'ADV'): 34,\n",
       "                      ('eng', 'SCONJ'): 28,\n",
       "                      ('eng', 'ADP'): 18}),\n",
       "             'wow': Counter({('eng&spa', 'INTJ'): 29, ('eng', 'INTJ'): 65}),\n",
       "             'estoy': Counter({('spa', 'AUX'): 42, ('spa', 'VERB'): 54}),\n",
       "             'maternidad': Counter({('spa', 'NOUN'): 2}),\n",
       "             'más': Counter({('spa', 'ADV'): 149,\n",
       "                      ('spa', 'ADJ'): 44,\n",
       "                      ('spa', 'PRON'): 92,\n",
       "                      ('spa', 'CONJ'): 6}),\n",
       "             'pesado': Counter({('spa', 'ADJ'): 7}),\n",
       "             'go': Counter({('eng', 'VERB'): 594}),\n",
       "             'there': Counter({('eng', 'ADV'): 406, ('eng', 'PRON'): 280}),\n",
       "             'eight': Counter({('eng', 'NUM'): 48}),\n",
       "             'hours': Counter({('eng', 'NOUN'): 39}),\n",
       "             'where': Counter({('eng', 'ADV'): 181}),\n",
       "             'County': Counter({('eng&spa', 'PROPN'): 9}),\n",
       "             'unincorporated': Counter({('eng', 'ADJ'): 4,\n",
       "                      ('eng', 'VERB'): 3}),\n",
       "             'could': Counter({('eng', 'AUX'): 132}),\n",
       "             'find': Counter({('eng', 'VERB'): 59}),\n",
       "             'igual': Counter({('spa', 'ADJ'): 9, ('spa', 'ADV'): 21}),\n",
       "             'cuando': Counter({('spa', 'SCONJ'): 133,\n",
       "                      ('spa', 'ADP'): 37,\n",
       "                      ('spa', 'ADV'): 41}),\n",
       "             'uno': Counter({('spa', 'PRON'): 85, ('spa', 'NUM'): 29}),\n",
       "             'manda': Counter({('spa', 'VERB'): 8}),\n",
       "             'cheques': Counter({('spa', 'NOUN'): 1}),\n",
       "             'a+': Counter({('spa', 'ADP'): 201}),\n",
       "             'I_R_S': Counter({('eng', 'PROPN'): 2}),\n",
       "             'sé': Counter({('spa', 'VERB'): 268}),\n",
       "             'día': Counter({('spa', 'NOUN'): 91}),\n",
       "             'empieza': Counter({('spa', 'VERB'): 12, ('spa', 'AUX'): 3}),\n",
       "             'Pepita': Counter({('eng&spa', 'PROPN'): 9}),\n",
       "             'pero': Counter({('spa', 'CONJ'): 915}),\n",
       "             'F_I_U': Counter({('eng', 'PROPN'): 4, ('eng&spa', 'PROPN'): 7}),\n",
       "             'showers': Counter({('eng', 'NOUN'): 2}),\n",
       "             'mi': Counter({('spa', 'DET'): 227, ('eng&spa', 'NOUN'): 2}),\n",
       "             'mamá': Counter({('spa', 'NOUN'): 81}),\n",
       "             'me': Counter({('spa', 'PRON'): 990, ('eng', 'PRON'): 601}),\n",
       "             'dejó': Counter({('spa', 'VERB'): 11, ('spa', 'AUX'): 2}),\n",
       "             'nieto': Counter({('spa', 'NOUN'): 4}),\n",
       "             'viviendo': Counter({('spa', 'VERB'): 10}),\n",
       "             'ella': Counter({('spa', 'PRON'): 314}),\n",
       "             'worth': Counter({('eng', 'ADJ'): 14, ('eng', 'NOUN'): 2}),\n",
       "             'being': Counter({('eng', 'VERB'): 45}),\n",
       "             'streets': Counter({('eng', 'NOUN'): 1}),\n",
       "             'sold': Counter({('eng', 'VERB'): 7}),\n",
       "             'thinking': Counter({('eng', 'VERB'): 34}),\n",
       "             'tenía': Counter({('spa', 'VERB'): 63, ('spa', 'AUX'): 12}),\n",
       "             'carro': Counter({('spa', 'NOUN'): 14}),\n",
       "             'fue': Counter({('spa', 'VERB'): 123, ('spa', 'AUX'): 1}),\n",
       "             'oí': Counter({('spa', 'VERB'): 4}),\n",
       "             'dijeron': Counter({('spa', 'VERB'): 11}),\n",
       "             \"'ll\": Counter({('eng', 'AUX'): 266}),\n",
       "             'be': Counter({('eng', 'AUX'): 33, ('eng', 'VERB'): 467}),\n",
       "             'catching': Counter({('eng', 'VERB'): 2}),\n",
       "             'fish': Counter({('eng', 'NOUN'): 8, ('eng', 'VERB'): 1}),\n",
       "             'see': Counter({('eng', 'VERB'): 330}),\n",
       "             'them': Counter({('eng', 'PRON'): 280}),\n",
       "             'bringing': Counter({('eng', 'VERB'): 1}),\n",
       "             'up': Counter({('eng', 'ADV'): 289,\n",
       "                      ('eng', 'ADP'): 15,\n",
       "                      ('eng', 'VERB'): 2,\n",
       "                      ('eng', 'ADJ'): 2}),\n",
       "             'every': Counter({('eng', 'DET'): 78}),\n",
       "             'once': Counter({('eng', 'ADV'): 19,\n",
       "                      ('eng', 'SCONJ'): 13,\n",
       "                      ('spa', 'NUM'): 15}),\n",
       "             'while': Counter({('eng', 'NOUN'): 13, ('eng', 'SCONJ'): 8}),\n",
       "             'haber': Counter({('spa', 'AUX'): 3, ('spa', 'VERB'): 10}),\n",
       "             'recogido': Counter({('spa', 'VERB'): 1}),\n",
       "             'tengo': Counter({('spa', 'VERB'): 128, ('spa', 'AUX'): 40}),\n",
       "             'él': Counter({('spa', 'PRON'): 330, ('eng', 'PRON'): 2}),\n",
       "             'dio': Counter({('spa', 'VERB'): 29, ('spa', 'AUX'): 1}),\n",
       "             'copia': Counter({('spa', 'NOUN'): 7, ('spa', 'VERB'): 1}),\n",
       "             'ahora': Counter({('spa', 'ADV'): 137}),\n",
       "             'hacérsela+': Counter({('spa', 'VERB'): 1}),\n",
       "             '+se': Counter({('spa', 'PRON'): 50}),\n",
       "             'voy': Counter({('spa', 'AUX'): 129, ('spa', 'VERB'): 44}),\n",
       "             'hacer': Counter({('spa', 'VERB'): 128}),\n",
       "             'esa': Counter({('spa', 'PRON'): 69, ('spa', 'DET'): 73}),\n",
       "             'Sandisk': Counter({('eng&spa', 'PROPN'): 1}),\n",
       "             'M_P': Counter({('eng', 'PROPN'): 2}),\n",
       "             'Three': Counter({('eng', 'PROPN'): 2}),\n",
       "             'player': Counter({('eng', 'NOUN'): 2}),\n",
       "             'recording': Counter({('eng', 'NOUN'): 3, ('eng', 'VERB'): 5}),\n",
       "             'radiecito': Counter({('spa', 'NOUN'): 1}),\n",
       "             'F_M': Counter({('spa', 'PROPN'): 1}),\n",
       "             'piececita': Counter({('spa', 'NOUN'): 1}),\n",
       "             'nos': Counter({('spa', 'PRON'): 113}),\n",
       "             'ha': Counter({('spa', 'AUX'): 65,\n",
       "                      ('spa', 'VERB'): 7,\n",
       "                      ('eng', 'INTJ'): 2,\n",
       "                      ('eng&spa', 'INTJ'): 5}),\n",
       "             'ocurrido': Counter({('spa', 'VERB'): 5}),\n",
       "             'pasa': Counter({('spa', 'VERB'): 47}),\n",
       "             'ground': Counter({('eng', 'NOUN'): 2}),\n",
       "             'back': Counter({('eng', 'NOUN'): 19,\n",
       "                      ('eng', 'VERB'): 6,\n",
       "                      ('eng', 'ADV'): 137,\n",
       "                      ('eng', 'ADJ'): 1}),\n",
       "             'slanted': Counter({('eng', 'ADJ'): 1}),\n",
       "             'Dutch': Counter({('eng', 'PROPN'): 2, ('eng', 'ADJ'): 2}),\n",
       "             'pues': Counter({('spa', 'SCONJ'): 251, ('spa', 'ADV'): 1}),\n",
       "             'impresionante': Counter({('spa', 'ADJ'): 1}),\n",
       "             'verdad': Counter({('spa', 'NOUN'): 84, ('spa', 'INTJ'): 1}),\n",
       "             'estudio': Counter({('spa', 'NOUN'): 5}),\n",
       "             'universidad': Counter({('spa', 'NOUN'): 20}),\n",
       "             'Pepa': Counter({('eng&spa', 'PROPN'): 4}),\n",
       "             'free': Counter({('eng', 'ADJ'): 16}),\n",
       "             'tú': Counter({('spa', 'PRON'): 463}),\n",
       "             'sabes': Counter({('spa', 'VERB'): 179}),\n",
       "             'deal': Counter({('eng', 'VERB'): 10, ('eng', 'NOUN'): 11}),\n",
       "             'with': Counter({('eng', 'ADP'): 490}),\n",
       "             'had': Counter({('eng', 'VERB'): 184, ('eng', 'AUX'): 95}),\n",
       "             'own': Counter({('eng', 'ADJ'): 20,\n",
       "                      ('eng', 'NOUN'): 4,\n",
       "                      ('eng', 'VERB'): 4,\n",
       "                      ('eng', 'PRON'): 1}),\n",
       "             'mejor': Counter({('spa', 'ADJ'): 21, ('spa', 'ADV'): 16}),\n",
       "             'really': Counter({('eng', 'ADV'): 346}),\n",
       "             'encuentras': Counter({('spa', 'VERB'): 2}),\n",
       "             'lily': Counter({('eng', 'NOUN'): 1}),\n",
       "             'pads': Counter({('eng', 'NOUN'): 1}),\n",
       "             'crecen': Counter({('spa', 'VERB'): 1}),\n",
       "             'home': Counter({('eng', 'NOUN'): 39, ('eng', 'ADV'): 16}),\n",
       "             'déja+': Counter({('spa', 'VERB'): 23}),\n",
       "             '+nos': Counter({('spa', 'PRON'): 7}),\n",
       "             'acabar': Counter({('spa', 'VERB'): 3, ('spa', 'AUX'): 1}),\n",
       "             'hablar': Counter({('spa', 'VERB'): 40}),\n",
       "             'quedan': Counter({('spa', 'VERB'): 13}),\n",
       "             'bye': Counter({('eng', 'INTJ'): 25}),\n",
       "             'fácil': Counter({('spa', 'ADJ'): 12}),\n",
       "             'carros': Counter({('spa', 'NOUN'): 3}),\n",
       "             'hicieron': Counter({('spa', 'VERB'): 17}),\n",
       "             'llevar': Counter({('spa', 'VERB'): 11}),\n",
       "             'llevar+': Counter({('spa', 'VERB'): 7}),\n",
       "             '+la': Counter({('spa', 'PRON'): 19}),\n",
       "             'hasta': Counter({('spa', 'ADP'): 75}),\n",
       "             'camión': Counter({('spa', 'NOUN'): 5}),\n",
       "             'just': Counter({('eng', 'ADV'): 574}),\n",
       "             'lady': Counter({('eng', 'NOUN'): 28}),\n",
       "             'chocó': Counter({('spa', 'VERB'): 4}),\n",
       "             'Myriam': Counter({('eng&spa', 'PROPN'): 1}),\n",
       "             'fumigó': Counter({('spa', 'VERB'): 1}),\n",
       "             'mantener': Counter({('spa', 'VERB'): 4}),\n",
       "             'hierba': Counter({('spa', 'NOUN'): 7}),\n",
       "             'menos': Counter({('spa', 'ADV'): 30,\n",
       "                      ('spa', 'ADJ'): 14,\n",
       "                      ('spa', 'ADP'): 3,\n",
       "                      ('spa', 'CONJ'): 1}),\n",
       "             'crezca': Counter({('spa', 'VERB'): 1}),\n",
       "             'mucho': Counter({('spa', 'ADV'): 45,\n",
       "                      ('spa', 'ADJ'): 7,\n",
       "                      ('spa', 'DET'): 1}),\n",
       "             'campo': Counter({('spa', 'NOUN'): 1}),\n",
       "             'eh': Counter({('eng&spa', 'INTJ'): 109,\n",
       "                      ('spa', 'INTJ'): 49,\n",
       "                      ('eng', 'INTJ'): 7}),\n",
       "             'redo': Counter({('eng', 'VERB'): 6}),\n",
       "             'bathroom': Counter({('eng', 'NOUN'): 8}),\n",
       "             'kids': Counter({('eng', 'NOUN'): 50}),\n",
       "             'used': Counter({('eng', 'VERB'): 69, ('eng', 'ADJ'): 1}),\n",
       "             'Beach': Counter({('eng&spa', 'PROPN'): 14, ('eng', 'PROPN'): 1}),\n",
       "             'hang': Counter({('eng', 'VERB'): 16, ('eng', 'NOUN'): 1}),\n",
       "             'out': Counter({('eng', 'ADP'): 90,\n",
       "                      ('eng', 'ADV'): 170,\n",
       "                      ('eng', 'ADJ'): 19,\n",
       "                      ('eng', 'NOUN'): 1,\n",
       "                      ('eng', 'VERB'): 6}),\n",
       "             'tienes': Counter({('spa', 'VERB'): 52, ('spa', 'AUX'): 28}),\n",
       "             'desktop': Counter({('eng', 'NOUN'): 1}),\n",
       "             'hello': Counter({('eng', 'INTJ'): 31}),\n",
       "             'conejita': Counter({('spa', 'NOUN'): 1}),\n",
       "             'uso': Counter({('spa', 'VERB'): 1, ('spa', 'NOUN'): 1}),\n",
       "             'regular': Counter({('spa', 'ADJ'): 4,\n",
       "                      ('eng', 'ADJ'): 2,\n",
       "                      ('eng', 'NOUN'): 1}),\n",
       "             'S_T': Counter({('eng&spa', 'PROPN'): 1}),\n",
       "             'queda': Counter({('spa', 'VERB'): 24}),\n",
       "             'toda': Counter({('spa', 'PRON'): 2,\n",
       "                      ('spa', 'DET'): 40,\n",
       "                      ('spa', 'ADJ'): 1}),\n",
       "             'suelta': Counter({('spa', 'ADJ'): 1}),\n",
       "             'riega': Counter({('spa', 'VERB'): 1}),\n",
       "             'fíja+': Counter({('spa', 'VERB'): 14}),\n",
       "             'work': Counter({('eng', 'VERB'): 79, ('eng', 'NOUN'): 45}),\n",
       "             'double': Counter({('eng', 'ADJ'): 3}),\n",
       "             'tiene': Counter({('spa', 'AUX'): 49, ('spa', 'VERB'): 195}),\n",
       "             'gobierno': Counter({('spa', 'NOUN'): 1}),\n",
       "             'federal': Counter({('spa', 'ADJ'): 1}),\n",
       "             'parte': Counter({('spa', 'NOUN'): 26}),\n",
       "             'post': Counter({('eng', 'NOUN'): 3}),\n",
       "             'office': Counter({('eng', 'NOUN'): 30}),\n",
       "             'correo': Counter({('spa', 'NOUN'): 2}),\n",
       "             'estaban': Counter({('spa', 'VERB'): 15, ('spa', 'AUX'): 10}),\n",
       "             'las': Counter({('spa', 'DET'): 253, ('spa', 'PRON'): 24}),\n",
       "             'tablitas': Counter({('spa', 'NOUN'): 1}),\n",
       "             'esas': Counter({('spa', 'PRON'): 9, ('spa', 'DET'): 21}),\n",
       "             'brought': Counter({('eng', 'VERB'): 25}),\n",
       "             'some': Counter({('eng', 'DET'): 118, ('eng', 'ADV'): 1}),\n",
       "             'ribs': Counter({('eng', 'NOUN'): 5}),\n",
       "             'llegué': Counter({('spa', 'VERB'): 6, ('spa', 'AUX'): 4}),\n",
       "             'tenían': Counter({('spa', 'VERB'): 19}),\n",
       "             'muestra': Counter({('spa', 'NOUN'): 1}),\n",
       "             'jump': Counter({('eng', 'VERB'): 10, ('eng', 'NOUN'): 2}),\n",
       "             'nombre': Counter({('spa', 'NOUN'): 17}),\n",
       "             'olvidó': Counter({('spa', 'VERB'): 9}),\n",
       "             'poner+': Counter({('spa', 'VERB'): 20}),\n",
       "             '+le': Counter({('spa', 'PRON'): 106}),\n",
       "             'arriba': Counter({('spa', 'ADV'): 32}),\n",
       "             'si': Counter({('spa', 'SCONJ'): 350}),\n",
       "             'who': Counter({('eng', 'PRON'): 141}),\n",
       "             'should': Counter({('eng', 'AUX'): 101}),\n",
       "             'hurting': Counter({('eng', 'VERB'): 1}),\n",
       "             'kid': Counter({('eng', 'NOUN'): 22}),\n",
       "             'nineteen': Counter({('eng', 'NUM'): 8}),\n",
       "             'ninety': Counter({('eng', 'NUM'): 22, ('eng', 'PROPN'): 3}),\n",
       "             'Toyotas': Counter({('eng&spa', 'PROPN'): 2}),\n",
       "             'agosto': Counter({('spa', 'NOUN'): 14}),\n",
       "             'nosotros': Counter({('spa', 'PRON'): 62}),\n",
       "             'encontramos': Counter({('spa', 'VERB'): 1}),\n",
       "             'casa': Counter({('spa', 'NOUN'): 90, ('spa', 'VERB'): 1}),\n",
       "             'habían': Counter({('spa', 'AUX'): 18, ('spa', 'VERB'): 6}),\n",
       "             'vuelto': Counter({('spa', 'VERB'): 2, ('spa', 'NOUN'): 2}),\n",
       "             'bajar': Counter({('spa', 'VERB'): 3}),\n",
       "             'precio': Counter({('spa', 'NOUN'): 5}),\n",
       "             'pig': Counter({('eng', 'NOUN'): 5}),\n",
       "             'fijado': Counter({('spa', 'VERB'): 5}),\n",
       "             'esquina': Counter({('spa', 'NOUN'): 3}),\n",
       "             'aeropuerto': Counter({('spa', 'NOUN'): 7}),\n",
       "             'espera': Counter({('spa', 'VERB'): 5}),\n",
       "             'buscar': Counter({('spa', 'VERB'): 14}),\n",
       "             'retirado': Counter({('spa', 'ADJ'): 1}),\n",
       "             'o': Counter({('spa', 'CONJ'): 388, ('eng', 'NUM'): 2}),\n",
       "             'algo': Counter({('spa', 'PRON'): 90, ('spa', 'ADV'): 5}),\n",
       "             'mete': Counter({('spa', 'VERB'): 7}),\n",
       "             'basura': Counter({('spa', 'NOUN'): 6}),\n",
       "             'había': Counter({('spa', 'VERB'): 28, ('spa', 'AUX'): 42}),\n",
       "             'otro': Counter({('spa', 'DET'): 43, ('spa', 'PRON'): 30}),\n",
       "             'lugar': Counter({('spa', 'NOUN'): 23}),\n",
       "             'habido': Counter({('spa', 'VERB'): 4}),\n",
       "             'robo': Counter({('spa', 'NOUN'): 1, ('spa', 'VERB'): 1}),\n",
       "             'parado': Counter({('spa', 'VERB'): 1, ('spa', 'ADJ'): 2}),\n",
       "             'Lucía': Counter({('eng&spa', 'PROPN'): 5,\n",
       "                      ('spa', 'PROPN'): 1,\n",
       "                      ('eng', 'PROPN'): 1}),\n",
       "             'malo': Counter({('spa', 'ADJ'): 12}),\n",
       "             'veo': Counter({('spa', 'VERB'): 25}),\n",
       "             'difícil': Counter({('spa', 'ADJ'): 5}),\n",
       "             'estrechito': Counter({('spa', 'ADJ'): 1}),\n",
       "             'estos': Counter({('spa', 'DET'): 14, ('spa', 'PRON'): 13}),\n",
       "             'últimos': Counter({('spa', 'ADJ'): 2}),\n",
       "             'cuatro': Counter({('spa', 'NUM'): 42}),\n",
       "             'minutos': Counter({('spa', 'NOUN'): 18}),\n",
       "             'son': Counter({('spa', 'VERB'): 143, ('eng', 'NOUN'): 11}),\n",
       "             'misspent': Counter({('eng', 'VERB'): 1}),\n",
       "             'press': Counter({('eng', 'VERB'): 4}),\n",
       "             'car': Counter({('eng', 'NOUN'): 63}),\n",
       "             'ay': Counter({('spa', 'INTJ'): 179,\n",
       "                      ('eng&spa', 'INTJ'): 12,\n",
       "                      ('eng', 'INTJ'): 2}),\n",
       "             'at': Counter({('eng', 'ADP'): 405}),\n",
       "             'least': Counter({('eng', 'ADJ'): 10, ('eng', 'ADV'): 11}),\n",
       "             'hard': Counter({('eng', 'ADJ'): 37, ('eng', 'ADV'): 1}),\n",
       "             'finding': Counter({('eng', 'VERB'): 4}),\n",
       "             'house': Counter({('eng', 'NOUN'): 113}),\n",
       "             'esta': Counter({('spa', 'PRON'): 15, ('spa', 'DET'): 41}),\n",
       "             'call': Counter({('eng', 'VERB'): 70, ('eng', 'NOUN'): 4}),\n",
       "             'area': Counter({('eng', 'NOUN'): 16}),\n",
       "             'certain': Counter({('eng', 'ADJ'): 16}),\n",
       "             'name': Counter({('eng', 'NOUN'): 43}),\n",
       "             'everybody': Counter({('eng', 'PRON'): 71}),\n",
       "             'looking': Counter({('eng', 'VERB'): 44}),\n",
       "             'buck': Counter({('eng', 'NOUN'): 1}),\n",
       "             'tienen': Counter({('spa', 'AUX'): 10, ('spa', 'VERB'): 58}),\n",
       "             'esos': Counter({('spa', 'DET'): 19, ('spa', 'PRON'): 26}),\n",
       "             'cambios': Counter({('spa', 'NOUN'): 1}),\n",
       "             'usado': Counter({('spa', 'VERB'): 2}),\n",
       "             'yah': Counter({('eng', 'INTJ'): 1}),\n",
       "             'Keys': Counter({('eng&spa', 'PROPN'): 9, ('eng', 'PROPN'): 1}),\n",
       "             'getting': Counter({('eng', 'VERB'): 44}),\n",
       "             'very': Counter({('eng', 'ADV'): 174}),\n",
       "             'likes': Counter({('eng', 'VERB'): 19}),\n",
       "             'lot': Counter({('eng', 'NOUN'): 143}),\n",
       "             'bought': Counter({('eng', 'VERB'): 30}),\n",
       "             'himself': Counter({('eng', 'PRON'): 4}),\n",
       "             'motorcycle': Counter({('eng', 'NOUN'): 5}),\n",
       "             'llevamos': Counter({('spa', 'VERB'): 1}),\n",
       "             'hablando': Counter({('spa', 'VERB'): 36}),\n",
       "             'llaman': Counter({('spa', 'VERB'): 9}),\n",
       "             'Palms': Counter({('eng&spa', 'PROPN'): 4}),\n",
       "             'Springs': Counter({('eng&spa', 'PROPN'): 3,\n",
       "                      ('eng', 'PROPN'): 1}),\n",
       "             'North': Counter({('eng&spa', 'PROPN'): 4, ('eng', 'PROPN'): 1}),\n",
       "             'setenta': Counter({('spa', 'NUM'): 11}),\n",
       "             'nueve': Counter({('spa', 'NUM'): 20}),\n",
       "             'parece': Counter({('spa', 'VERB'): 31}),\n",
       "             'padre': Counter({('spa', 'NOUN'): 18}),\n",
       "             'bravo': Counter({('spa', 'ADJ'): 1}),\n",
       "             'arregló': Counter({('spa', 'VERB'): 2}),\n",
       "             'metimos': Counter({('spa', 'VERB'): 1}),\n",
       "             'barbecue': Counter({('eng', 'NOUN'): 11}),\n",
       "             'place': Counter({('eng', 'NOUN'): 48}),\n",
       "             'university': Counter({('eng', 'NOUN'): 6}),\n",
       "             'Pince': Counter({('eng&spa', 'PROPN'): 1}),\n",
       "             'boulevard': Counter({('eng', 'NOUN'): 1}),\n",
       "             'otros': Counter({('spa', 'DET'): 16, ('spa', 'PRON'): 6}),\n",
       "             'días': Counter({('spa', 'NOUN'): 30}),\n",
       "             'pegaditos': Counter({('spa', 'ADJ'): 2}),\n",
       "             'sure': Counter({('eng', 'ADJ'): 61,\n",
       "                      ('eng', 'ADV'): 4,\n",
       "                      ('eng', 'INTJ'): 2}),\n",
       "             'zip': Counter({('eng', 'NOUN'): 4}),\n",
       "             'code': Counter({('eng', 'NOUN'): 8}),\n",
       "             'salimos': Counter({('spa', 'VERB'): 9}),\n",
       "             'íbamos': Counter({('spa', 'VERB'): 9}),\n",
       "             'bicycle': Counter({('eng', 'NOUN'): 2}),\n",
       "             'shop': Counter({('eng', 'NOUN'): 7, ('eng', 'VERB'): 1}),\n",
       "             'dicen': Counter({('spa', 'VERB'): 31}),\n",
       "             'Lakes': Counter({('spa', 'PROPN'): 18,\n",
       "                      ('eng', 'PROPN'): 1,\n",
       "                      ('eng&spa', 'PROPN'): 5}),\n",
       "             'pueblo': Counter({('spa', 'NOUN'): 4}),\n",
       "             'ciudad': Counter({('spa', 'NOUN'): 9}),\n",
       "             'cerca': Counter({('spa', 'ADV'): 9, ('spa', 'NOUN'): 1}),\n",
       "             'van': Counter({('spa', 'AUX'): 44,\n",
       "                      ('spa', 'VERB'): 19,\n",
       "                      ('eng', 'NOUN'): 4}),\n",
       "             'puesto': Counter({('spa', 'VERB'): 12,\n",
       "                      ('spa', 'ADJ'): 1,\n",
       "                      ('spa', 'NOUN'): 2}),\n",
       "             'cómo': Counter({('spa', 'ADV'): 145, ('spa', 'INTJ'): 7}),\n",
       "             'llama': Counter({('spa', 'VERB'): 51}),\n",
       "             'esto': Counter({('spa', 'PRON'): 117}),\n",
       "             'hammock': Counter({('eng', 'NOUN'): 2}),\n",
       "             'brother': Counter({('eng', 'NOUN'): 21}),\n",
       "             'telling': Counter({('eng', 'VERB'): 54}),\n",
       "             'law': Counter({('eng', 'NOUN'): 6}),\n",
       "             'came': Counter({('eng', 'VERB'): 48}),\n",
       "             'about': Counter({('eng', 'ADP'): 304, ('eng', 'ADV'): 27}),\n",
       "             'homestead': Counter({('eng', 'NOUN'): 2}),\n",
       "             'exemption': Counter({('eng', 'NOUN'): 2}),\n",
       "             'comisionados': Counter({('spa', 'NOUN'): 1}),\n",
       "             'corrió': Counter({('spa', 'VERB'): 1}),\n",
       "             'finished': Counter({('eng', 'VERB'): 12}),\n",
       "             'playing': Counter({('eng', 'VERB'): 15}),\n",
       "             'golf': Counter({('eng', 'NOUN'): 2}),\n",
       "             'from': Counter({('eng', 'ADP'): 229}),\n",
       "             'vez': Counter({('spa', 'NOUN'): 90}),\n",
       "             'condado': Counter({('spa', 'NOUN'): 4}),\n",
       "             'um': Counter({('eng', 'INTJ'): 376}),\n",
       "             'physician': Counter({('eng', 'NOUN'): 1}),\n",
       "             'Cuba': Counter({('eng', 'PROPN'): 10, ('eng&spa', 'PROPN'): 10}),\n",
       "             'pedacito': Counter({('spa', 'NOUN'): 5}),\n",
       "             'cortico': Counter({('spa', 'ADJ'): 3}),\n",
       "             'another': Counter({('eng', 'DET'): 46}),\n",
       "             'doctor': Counter({('eng', 'NOUN'): 19,\n",
       "                      ('eng&spa', 'NOUN'): 2,\n",
       "                      ('spa', 'NOUN'): 9}),\n",
       "             'over': Counter({('eng', 'ADV'): 67, ('eng', 'ADP'): 59}),\n",
       "             'compran': Counter({('spa', 'VERB'): 3}),\n",
       "             'robado': Counter({('spa', 'VERB'): 1}),\n",
       "             'tiroteado': Counter({('spa', 'VERB'): 1}),\n",
       "             'alguien': Counter({('spa', 'PRON'): 26}),\n",
       "             'hace': Counter({('spa', 'VERB'): 56, ('spa', 'AUX'): 2}),\n",
       "             'unos': Counter({('spa', 'DET'): 20, ('spa', 'PRON'): 2}),\n",
       "             \"'m\": Counter({('eng', 'AUX'): 314, ('eng', 'VERB'): 394}),\n",
       "             'carry': Counter({('eng', 'VERB'): 7}),\n",
       "             'anymore': Counter({('eng', 'ADV'): 22}),\n",
       "             'hey': Counter({('eng', 'INTJ'): 27, ('eng&spa', 'INTJ'): 2}),\n",
       "             'baby': Counter({('eng', 'NOUN'): 35}),\n",
       "             'bastante': Counter({('spa', 'ADJ'): 6, ('spa', 'ADV'): 12}),\n",
       "             'espacio': Counter({('spa', 'NOUN'): 10}),\n",
       "             'traen': Counter({('spa', 'VERB'): 2}),\n",
       "             'cosita': Counter({('spa', 'NOUN'): 5}),\n",
       "             'chiquitica': Counter({('spa', 'ADJ'): 4}),\n",
       "             'bloquecitos': Counter({('spa', 'NOUN'): 3}),\n",
       "             '+los': Counter({('spa', 'PRON'): 14}),\n",
       "             'medio': Counter({('spa', 'NOUN'): 4, ('spa', 'ADV'): 5}),\n",
       "             'caminan': Counter({('spa', 'VERB'): 2}),\n",
       "             'tres': Counter({('spa', 'NUM'): 83}),\n",
       "             'millas': Counter({('spa', 'NOUN'): 1}),\n",
       "             'palas': Counter({('spa', 'NOUN'): 2}),\n",
       "             'abajo': Counter({('spa', 'ADV'): 18}),\n",
       "             'rompiendo': Counter({('spa', 'VERB'): 3}),\n",
       "             'después': Counter({('spa', 'ADV'): 122}),\n",
       "             'expensive': Counter({('eng', 'ADJ'): 19}),\n",
       "             'King': Counter({('eng&spa', 'PROPN'): 4}),\n",
       "             'too': Counter({('eng', 'ADV'): 135}),\n",
       "             'often': Counter({('eng', 'ADV'): 7}),\n",
       "             'their': Counter({('eng', 'DET'): 57}),\n",
       "             'pet': Counter({('eng', 'NOUN'): 4}),\n",
       "             'schools': Counter({('eng', 'NOUN'): 6}),\n",
       "             'easter': Counter({('eng', 'NOUN'): 9}),\n",
       "             'dentro': Counter({('spa', 'ADV'): 8}),\n",
       "             'let': Counter({('eng', 'VERB'): 154}),\n",
       "             'bring': Counter({('eng', 'VERB'): 42}),\n",
       "             'estamos': Counter({('spa', 'VERB'): 24, ('spa', 'AUX'): 15}),\n",
       "             'change': Counter({('eng', 'NOUN'): 10, ('eng', 'VERB'): 20}),\n",
       "             'muchachitos': Counter({('spa', 'NOUN'): 2}),\n",
       "             'jóvenes': Counter({('spa', 'ADJ'): 1}),\n",
       "             'vino': Counter({('spa', 'VERB'): 17,\n",
       "                      ('spa', 'NOUN'): 3,\n",
       "                      ('spa', 'AUX'): 1}),\n",
       "             'teaching': Counter({('eng', 'VERB'): 5, ('eng', 'NOUN'): 1}),\n",
       "             'properly': Counter({('eng', 'ADV'): 4}),\n",
       "             'afraid': Counter({('eng', 'ADJ'): 5}),\n",
       "             'might': Counter({('eng', 'AUX'): 41}),\n",
       "             'recorded': Counter({('eng', 'VERB'): 3}),\n",
       "             'or': Counter({('eng', 'CONJ'): 381}),\n",
       "             'say': Counter({('eng', 'VERB'): 153}),\n",
       "             'crees': Counter({('spa', 'VERB'): 18, ('spa', 'AUX'): 3}),\n",
       "             'recoger': Counter({('spa', 'VERB'): 6}),\n",
       "             'poquito': Counter({('spa', 'ADJ'): 22, ('spa', 'ADV'): 12}),\n",
       "             '+lo': Counter({('spa', 'PRON'): 83}),\n",
       "             'botar+': Counter({('spa', 'VERB'): 2}),\n",
       "             'regresar+': Counter({('spa', 'VERB'): 1}),\n",
       "             'illegal': Counter({('eng', 'ADJ'): 3}),\n",
       "             'campgrounds': Counter({('eng', 'NOUN'): 1}),\n",
       "             'beautiful': Counter({('eng', 'ADJ'): 36}),\n",
       "             'places': Counter({('eng', 'NOUN'): 13}),\n",
       "             'build': Counter({('eng', 'VERB'): 6}),\n",
       "             'antes': Counter({('spa', 'ADV'): 30, ('spa', 'ADJ'): 1}),\n",
       "             'half': Counter({('eng', 'ADJ'): 3, ('eng', 'NOUN'): 18}),\n",
       "             'way': Counter({('eng', 'NOUN'): 112, ('eng', 'ADV'): 1}),\n",
       "             'así': Counter({('spa', 'ADV'): 197}),\n",
       "             'hablas': Counter({('spa', 'VERB'): 6}),\n",
       "             'poco': Counter({('spa', 'NOUN'): 3,\n",
       "                      ('spa', 'ADV'): 22,\n",
       "                      ('spa', 'ADJ'): 7}),\n",
       "             'mean': Counter({('eng', 'VERB'): 243, ('eng', 'ADJ'): 3}),\n",
       "             'nice': Counter({('eng', 'ADJ'): 110, ('eng', 'INTJ'): 1}),\n",
       "             'takes': Counter({('eng', 'VERB'): 21}),\n",
       "             'him': Counter({('eng', 'PRON'): 249}),\n",
       "             'then': Counter({('eng', 'ADV'): 460, ('eng', 'ADJ'): 1}),\n",
       "             'when': Counter({('eng', 'SCONJ'): 376, ('eng', 'ADV'): 44}),\n",
       "             'into': Counter({('eng', 'ADP'): 73}),\n",
       "             'lake': Counter({('eng', 'NOUN'): 12}),\n",
       "             'everything': Counter({('eng', 'PRON'): 144}),\n",
       "             'else': Counter({('eng', 'ADJ'): 58, ('eng', 'ADV'): 7}),\n",
       "             'normalmente': Counter({('spa', 'ADV'): 1}),\n",
       "             'hacen': Counter({('spa', 'VERB'): 27}),\n",
       "             'income': Counter({('eng', 'NOUN'): 6}),\n",
       "             'taxes': Counter({('eng', 'NOUN'): 9}),\n",
       "             'están': Counter({('spa', 'VERB'): 49, ('spa', 'AUX'): 46}),\n",
       "             'retirados': Counter({('spa', 'VERB'): 2}),\n",
       "             'inglés': Counter({('spa', 'NOUN'): 19, ('spa', 'ADJ'): 5}),\n",
       "             'español': Counter({('spa', 'NOUN'): 24, ('spa', 'ADJ'): 3}),\n",
       "             'contésta+': Counter({('spa', 'VERB'): 2}),\n",
       "             'quieres': Counter({('spa', 'VERB'): 35}),\n",
       "             'lawsuit': Counter({('eng', 'NOUN'): 5}),\n",
       "             'kitchen': Counter({('eng', 'NOUN'): 9}),\n",
       "             'put': Counter({('eng', 'VERB'): 187}),\n",
       "             'special': Counter({('eng', 'ADJ'): 16}),\n",
       "             'sticker': Counter({('eng', 'NOUN'): 3}),\n",
       "             'open': Counter({('eng', 'VERB'): 30,\n",
       "                      ('eng', 'ADV'): 1,\n",
       "                      ('eng', 'ADJ'): 10,\n",
       "                      ('eng', 'NOUN'): 1}),\n",
       "             'door': Counter({('eng', 'NOUN'): 25}),\n",
       "             'side': Counter({('eng', 'NOUN'): 26, ('eng', 'ADJ'): 5}),\n",
       "             'asfalto': Counter({('spa', 'NOUN'): 3}),\n",
       "             'era': Counter({('spa', 'VERB'): 139, ('spa', 'AUX'): 2}),\n",
       "             'hubieran': Counter({('spa', 'AUX'): 6}),\n",
       "             'hecho': Counter({('spa', 'VERB'): 26, ('spa', 'NOUN'): 3}),\n",
       "             'primero': Counter({('spa', 'ADV'): 14, ('spa', 'ADJ'): 8}),\n",
       "             'studying': Counter({('eng', 'VERB'): 4}),\n",
       "             'his': Counter({('eng', 'DET'): 166, ('eng', 'PRON'): 3}),\n",
       "             'R_N': Counter({('eng', 'PROPN'): 1}),\n",
       "             'if': Counter({('eng', 'SCONJ'): 427}),\n",
       "             'can': Counter({('eng', 'AUX'): 475}),\n",
       "             'ahorita': Counter({('spa', 'ADV'): 22}),\n",
       "             'almost': Counter({('eng', 'ADV'): 27}),\n",
       "             'many': Counter({('eng', 'ADJ'): 38}),\n",
       "             'people': Counter({('eng', 'NOUN'): 227}),\n",
       "             'county': Counter({('eng', 'NOUN'): 11}),\n",
       "             'lose': Counter({('eng', 'VERB'): 12}),\n",
       "             'jobs': Counter({('eng', 'NOUN'): 4}),\n",
       "             'tuvo': Counter({('spa', 'AUX'): 7, ('spa', 'VERB'): 7}),\n",
       "             'tapado': Counter({('spa', 'VERB'): 1}),\n",
       "             'cositas': Counter({('spa', 'NOUN'): 4}),\n",
       "             'compraron': Counter({('spa', 'VERB'): 1}),\n",
       "             'speed': Counter({('eng', 'NOUN'): 4}),\n",
       "             'bumps': Counter({('eng', 'NOUN'): 1}),\n",
       "             'echan': Counter({('spa', 'VERB'): 2}),\n",
       "             'palazo': Counter({('spa', 'NOUN'): 1}),\n",
       "             'Grifeny': Counter({('eng&spa', 'PROPN'): 1}),\n",
       "             'thank': Counter({('eng', 'VERB'): 47,\n",
       "                      ('eng', 'INTJ'): 5,\n",
       "                      ('eng', 'NOUN'): 1}),\n",
       "             'God': Counter({('eng', 'PROPN'): 21}),\n",
       "             'pool': Counter({('eng', 'NOUN'): 12}),\n",
       "             'actually': Counter({('eng', 'ADV'): 89}),\n",
       "             'mira': Counter({('spa', 'VERB'): 123}),\n",
       "             'mataron': Counter({('spa', 'VERB'): 3}),\n",
       "             'gente': Counter({('spa', 'NOUN'): 125}),\n",
       "             'estás': Counter({('spa', 'VERB'): 68}),\n",
       "             'viendo': Counter({('spa', 'VERB'): 21}),\n",
       "             'vamos': Counter({('spa', 'AUX'): 46, ('spa', 'VERB'): 28}),\n",
       "             'hacer+': Counter({('spa', 'VERB'): 21}),\n",
       "             'baño': Counter({('spa', 'NOUN'): 14}),\n",
       "             'whole': Counter({('eng', 'ADJ'): 83}),\n",
       "             'thing': Counter({('eng', 'NOUN'): 241}),\n",
       "             'accountant': Counter({('eng', 'NOUN'): 1}),\n",
       "             'bien': Counter({('spa', 'ADV'): 136}),\n",
       "             'creo': Counter({('spa', 'VERB'): 125}),\n",
       "             'va': Counter({('spa', 'AUX'): 130, ('spa', 'VERB'): 47}),\n",
       "             'adorno': Counter({('spa', 'NOUN'): 1}),\n",
       "             'universities': Counter({('eng', 'NOUN'): 2}),\n",
       "             'pones': Counter({('spa', 'VERB'): 14}),\n",
       "             'palabra': Counter({('spa', 'NOUN'): 7}),\n",
       "             'formó': Counter({('spa', 'VERB'): 3}),\n",
       "             'nuevo': Counter({('spa', 'ADJ'): 18}),\n",
       "             'cars': Counter({('eng', 'NOUN'): 5}),\n",
       "             'bajado': Counter({('spa', 'VERB'): 2}),\n",
       "             'viaje': Counter({('spa', 'NOUN'): 17}),\n",
       "             'ten': Counter({('eng', 'NUM'): 70, ('spa', 'VERB'): 7}),\n",
       "             'forty': Counter({('eng', 'NUM'): 40}),\n",
       "             'other': Counter({('eng', 'DET'): 73,\n",
       "                      ('eng', 'PRON'): 33,\n",
       "                      ('eng', 'ADV'): 4,\n",
       "                      ('eng', 'ADJ'): 37}),\n",
       "             'beach': Counter({('eng', 'NOUN'): 11}),\n",
       "             'huge': Counter({('eng', 'ADJ'): 21}),\n",
       "             'pieces': Counter({('eng', 'NOUN'): 3}),\n",
       "             'property': Counter({('eng', 'NOUN'): 8}),\n",
       "             'ocean': Counter({('eng', 'NOUN'): 6}),\n",
       "             'water': Counter({('eng', 'NOUN'): 60}),\n",
       "             'coneja': Counter({('spa', 'NOUN'): 1}),\n",
       "             'look': Counter({('eng', 'VERB'): 188,\n",
       "                      ('eng', 'INTJ'): 3,\n",
       "                      ('eng', 'NOUN'): 1}),\n",
       "             'little': Counter({('eng', 'ADJ'): 166, ('eng', 'ADV'): 11}),\n",
       "             'management': Counter({('eng', 'NOUN'): 8}),\n",
       "             'same': Counter({('eng', 'ADJ'): 100}),\n",
       "             'would': Counter({('eng', 'AUX'): 265}),\n",
       "             'atrocious': Counter({('eng', 'ADJ'): 1}),\n",
       "             'think': Counter({('eng', 'VERB'): 416}),\n",
       "             'forgot': Counter({('eng', 'VERB'): 14}),\n",
       "             'tiré': Counter({('spa', 'VERB'): 1}),\n",
       "             'fuimos': Counter({('spa', 'VERB'): 36}),\n",
       "             'space': Counter({('eng', 'NOUN'): 12}),\n",
       "             'moved': Counter({('eng', 'VERB'): 8}),\n",
       "             'here': Counter({('eng', 'ADV'): 288, ('eng', 'INTJ'): 4}),\n",
       "             'sixteen': Counter({('eng', 'NUM'): 8}),\n",
       "             'fifteen': Counter({('eng', 'NUM'): 32}),\n",
       "             'years': Counter({('eng', 'NOUN'): 72}),\n",
       "             'done': Counter({('eng', 'VERB'): 55, ('eng', 'ADJ'): 2}),\n",
       "             'anything': Counter({('eng', 'PRON'): 90, ('eng', 'ADV'): 4}),\n",
       "             'hijo': Counter({('spa', 'NOUN'): 27}),\n",
       "             'papá': Counter({('spa', 'NOUN'): 35}),\n",
       "             'vive': Counter({('spa', 'VERB'): 15}),\n",
       "             'Core': Counter({('eng&spa', 'PROPN'): 2, ('eng', 'PROPN'): 1}),\n",
       "             'Gables': Counter({('eng&spa', 'PROPN'): 3, ('eng', 'PROPN'): 1}),\n",
       "             'part': Counter({('eng', 'NOUN'): 50, ('eng', 'VERB'): 2}),\n",
       "             'district': Counter({('eng', 'NOUN'): 3}),\n",
       "             'basically': Counter({('eng', 'ADV'): 17}),\n",
       "             'year': Counter({('eng', 'NOUN'): 57}),\n",
       "             'insurances': Counter({('eng', 'NOUN'): 1}),\n",
       "             'high': Counter({('eng', 'ADJ'): 38}),\n",
       "             'conseguir': Counter({('spa', 'VERB'): 10}),\n",
       "             'computadora': Counter({('spa', 'NOUN'): 16}),\n",
       "             'algunos': Counter({('spa', 'PRON'): 3}),\n",
       "             'restaurancitos': Counter({('spa', 'NOUN'): 1}),\n",
       "             'mundo': Counter({('spa', 'NOUN'): 43}),\n",
       "             'cobran': Counter({('spa', 'VERB'): 5}),\n",
       "             'MacDonalds': Counter({('eng&spa', 'PROPN'): 2}),\n",
       "             'práctico': Counter({('spa', 'ADJ'): 1}),\n",
       "             'nine': Counter({('eng', 'NUM'): 65}),\n",
       "             'pudiera': Counter({('spa', 'VERB'): 2, ('spa', 'AUX'): 1}),\n",
       "             'poner': Counter({('spa', 'VERB'): 28}),\n",
       "             'empezó': Counter({('spa', 'VERB'): 7, ('spa', 'AUX'): 14}),\n",
       "             'Jennie': Counter({('eng&spa', 'PROPN'): 5}),\n",
       "             'residence': Counter({('eng', 'NOUN'): 1}),\n",
       "             'since': Counter({('eng', 'SCONJ'): 21,\n",
       "                      ('eng', 'ADV'): 1,\n",
       "                      ('eng', 'ADP'): 3}),\n",
       "             'such': Counter({('eng', 'DET'): 22}),\n",
       "             'mix': Counter({('eng', 'NOUN'): 5}),\n",
       "             'pays': Counter({('eng', 'VERB'): 6}),\n",
       "             'husband': Counter({('eng', 'NOUN'): 10}),\n",
       "             'mine': Counter({('eng', 'PRON'): 35}),\n",
       "             'less': Counter({('eng', 'ADJ'): 14, ('eng', 'ADV'): 9}),\n",
       "             'money': Counter({('eng', 'NOUN'): 51}),\n",
       "             'acostumbrado': Counter({('spa', 'VERB'): 4}),\n",
       "             'leer': Counter({('spa', 'VERB'): 7}),\n",
       "             'escribir': Counter({('spa', 'VERB'): 9}),\n",
       "             'dijo': Counter({('spa', 'VERB'): 141}),\n",
       "             'dos': Counter({('spa', 'NUM'): 123, ('eng', 'NOUN'): 1}),\n",
       "             'veces': Counter({('spa', 'NOUN'): 37}),\n",
       "             'año': Counter({('spa', 'NOUN'): 21}),\n",
       "             'vienen': Counter({('spa', 'VERB'): 10}),\n",
       "             'entrar': Counter({('spa', 'VERB'): 9}),\n",
       "             'salir': Counter({('spa', 'VERB'): 13}),\n",
       "             'cuarenta': Counter({('spa', 'NUM'): 20}),\n",
       "             'pico': Counter({('spa', 'NOUN'): 9,\n",
       "                      ('spa', 'NUM'): 1,\n",
       "                      ('spa', 'ADJ'): 1}),\n",
       "             'edad': Counter({('spa', 'NOUN'): 11}),\n",
       "             'mala': Counter({('spa', 'ADJ'): 8}),\n",
       "             'cocinar': Counter({('spa', 'VERB'): 4}),\n",
       "             'cámara': Counter({('spa', 'NOUN'): 12}),\n",
       "             'usa': Counter({('spa', 'VERB'): 5}),\n",
       "             'dualpro': Counter({('eng&spa', 'PROPN'): 1}),\n",
       "             'college': Counter({('eng', 'NOUN'): 18}),\n",
       "             'imposible': Counter({('spa', 'ADJ'): 1}),\n",
       "             'dije': Counter({('spa', 'VERB'): 90}),\n",
       "             'prima': Counter({('spa', 'NOUN'): 2}),\n",
       "             'Manuel': Counter({('eng&spa', 'PROPN'): 1}),\n",
       "             'trabaja': Counter({('spa', 'VERB'): 12}),\n",
       "             'estas': Counter({('spa', 'PRON'): 5, ('spa', 'DET'): 7}),\n",
       "             'venta': Counter({('spa', 'NOUN'): 6}),\n",
       "             'también': Counter({('spa', 'ADV'): 104, ('eng', 'ADV'): 1}),\n",
       "             'good': Counter({('eng', 'ADJ'): 237,\n",
       "                      ('eng', 'ADV'): 1,\n",
       "                      ('eng', 'INTJ'): 4}),\n",
       "             'down': Counter({('eng', 'ADV'): 48,\n",
       "                      ('eng', 'ADP'): 36,\n",
       "                      ('eng', 'ADJ'): 15}),\n",
       "             'limpian': Counter({('spa', 'VERB'): 1}),\n",
       "             'bajan': Counter({('spa', 'VERB'): 1}),\n",
       "             'pala': Counter({('spa', 'NOUN'): 3}),\n",
       "             'caminando': Counter({('spa', 'VERB'): 8}),\n",
       "             'aprietas': Counter({('spa', 'VERB'): 1}),\n",
       "             'able': Counter({('eng', 'ADJ'): 28}),\n",
       "             'record': Counter({('eng', 'VERB'): 3, ('eng', 'NOUN'): 3}),\n",
       "             'classes': Counter({('eng', 'NOUN'): 19}),\n",
       "             'uhhuh': Counter({('eng', 'INTJ'): 51}),\n",
       "             'estado': Counter({('spa', 'VERB'): 13, ('spa', 'NOUN'): 3}),\n",
       "             'together': Counter({('eng', 'ADV'): 24, ('eng', 'ADJ'): 6}),\n",
       "             'thirty': Counter({('eng', 'NUM'): 77}),\n",
       "             \"o'clock\": Counter({('eng', 'ADV'): 16, ('eng', 'NOUN'): 1}),\n",
       "             'fine': Counter({('eng', 'ADJ'): 47,\n",
       "                      ('eng', 'NOUN'): 4,\n",
       "                      ('eng', 'INTJ'): 5,\n",
       "                      ('eng', 'ADV'): 2}),\n",
       "             'diciendo': Counter({('spa', 'VERB'): 36}),\n",
       "             'carrito': Counter({('spa', 'NOUN'): 9}),\n",
       "             'ser': Counter({('spa', 'VERB'): 58,\n",
       "                      ('spa', 'NOUN'): 4,\n",
       "                      ('spa', 'AUX'): 1}),\n",
       "             'tile': Counter({('eng', 'NOUN'): 15}),\n",
       "             'Bass': Counter({('eng', 'PROPN'): 2}),\n",
       "             'Pro': Counter({('eng', 'PROPN'): 2}),\n",
       "             'entras': Counter({('spa', 'VERB'): 1}),\n",
       "             'without': Counter({('eng', 'ADP'): 9,\n",
       "                      ('eng', 'SCONJ'): 2,\n",
       "                      ('eng', 'ADV'): 1}),\n",
       "             'crazy': Counter({('eng', 'ADJ'): 49}),\n",
       "             'tan': Counter({('spa', 'ADV'): 66}),\n",
       "             'lindo': Counter({('spa', 'ADJ'): 13}),\n",
       "             'subdivision': Counter({('eng', 'NOUN'): 2}),\n",
       "             'smoked': Counter({('eng', 'VERB'): 2}),\n",
       "             'said': Counter({('eng', 'VERB'): 208}),\n",
       "             'thought': Counter({('eng', 'VERB'): 67}),\n",
       "             'wait': Counter({('eng', 'VERB'): 60}),\n",
       "             'dinner': Counter({('eng', 'NOUN'): 4}),\n",
       "             'entiendo': Counter({('spa', 'VERB'): 12}),\n",
       "             'querían': Counter({('spa', 'VERB'): 8}),\n",
       "             'ponen': Counter({('spa', 'VERB'): 22}),\n",
       "             'mismo': Counter({('spa', 'ADJ'): 59}),\n",
       "             'dejado': Counter({('spa', 'VERB'): 5}),\n",
       "             'aire': Counter({('spa', 'NOUN'): 12}),\n",
       "             'sopla': Counter({('spa', 'VERB'): 1}),\n",
       "             'make': Counter({('eng', 'VERB'): 108}),\n",
       "             'as': Counter({('eng', 'ADV'): 49,\n",
       "                      ('eng', 'SCONJ'): 76,\n",
       "                      ('eng', 'ADP'): 33}),\n",
       "             'renting': Counter({('eng', 'VERB'): 2}),\n",
       "             'selling': Counter({('eng', 'VERB'): 4, ('eng', 'NOUN'): 1}),\n",
       "             'cogiendo': Counter({('spa', 'VERB'): 2}),\n",
       "             'necesitamos': Counter({('spa', 'VERB'): 1}),\n",
       "             'became': Counter({('eng', 'VERB'): 6}),\n",
       "             'town': Counter({('eng', 'NOUN'): 12}),\n",
       "             'close': Counter({('eng', 'VERB'): 14,\n",
       "                      ('eng', 'ADJ'): 11,\n",
       "                      ('eng', 'ADV'): 7,\n",
       "                      ('eng', 'NOUN'): 1}),\n",
       "             'American': Counter({('eng', 'PROPN'): 7,\n",
       "                      ('eng', 'ADJ'): 2,\n",
       "                      ('eng&spa', 'PROPN'): 3,\n",
       "                      ('eng&spa', 'NOUN'): 1}),\n",
       "             'Outdoors': Counter({('eng', 'PROPN'): 2}),\n",
       "             'bunch': Counter({('eng', 'NOUN'): 9}),\n",
       "             'heard': Counter({('eng', 'VERB'): 35}),\n",
       "             'sepa': Counter({('spa', 'VERB'): 3}),\n",
       "             'fui': Counter({('spa', 'VERB'): 47}),\n",
       "             'compré': Counter({('spa', 'VERB'): 8}),\n",
       "             'take': Counter({('eng', 'VERB'): 160}),\n",
       "             'cut': Counter({('eng', 'VERB'): 7, ('eng', 'NOUN'): 1}),\n",
       "             'drastic': Counter({('eng', 'ADJ'): 1}),\n",
       "             'dieron': Counter({('spa', 'VERB'): 11}),\n",
       "             'ventana': Counter({('spa', 'NOUN'): 3}),\n",
       "             'desbarató': Counter({('spa', 'VERB'): 1}),\n",
       "             'cayendo': Counter({('spa', 'VERB'): 3}),\n",
       "             'acá': Counter({('spa', 'ADV'): 36}),\n",
       "             'posible': Counter({('spa', 'ADJ'): 4, ('spa', 'ADV'): 1}),\n",
       "             'acuerdas': Counter({('spa', 'VERB'): 18, ('spa', 'AUX'): 1}),\n",
       "             'años': Counter({('spa', 'NOUN'): 59}),\n",
       "             'mudó': Counter({('spa', 'VERB'): 1}),\n",
       "             'month': Counter({('eng', 'NOUN'): 32}),\n",
       "             'pretty': Counter({('eng', 'ADV'): 20, ('eng', 'ADJ'): 30}),\n",
       "             'cool': Counter({('eng', 'ADJ'): 38,\n",
       "                      ('eng', 'INTJ'): 4,\n",
       "                      ('eng', 'NOUN'): 2,\n",
       "                      ('spa', 'ADJ'): 1}),\n",
       "             'starts': Counter({('eng', 'VERB'): 14}),\n",
       "             'cooling': Counter({('eng', 'VERB'): 1}),\n",
       "             'bit': Counter({('eng', 'NOUN'): 47}),\n",
       "             'after': Counter({('eng', 'ADP'): 47,\n",
       "                      ('eng', 'SCONJ'): 15,\n",
       "                      ('eng', 'ADV'): 7}),\n",
       "             'palmero': Counter({('spa', 'NOUN'): 1}),\n",
       "             'saying': Counter({('eng', 'VERB'): 73}),\n",
       "             'poniendo': Counter({('spa', 'VERB'): 7}),\n",
       "             'di+': Counter({('spa', 'VERB'): 18}),\n",
       "             'cero': Counter({('spa', 'NUM'): 9}),\n",
       "             'cinco': Counter({('spa', 'NUM'): 50}),\n",
       "             'quince': Counter({('spa', 'NUM'): 16}),\n",
       "             'llegaron': Counter({('spa', 'VERB'): 6}),\n",
       "             'planillas': Counter({('spa', 'NOUN'): 2}),\n",
       "             'W': Counter({('eng&spa', 'PROPN'): 2, ('eng', 'PROPN'): 3}),\n",
       "             'vaya': Counter({('spa', 'VERB'): 15,\n",
       "                      ('spa', 'INTJ'): 2,\n",
       "                      ('spa', 'AUX'): 4}),\n",
       "             'B_M_W': Counter({('eng', 'PROPN'): 2}),\n",
       "             'man': Counter({('eng', 'NOUN'): 79,\n",
       "                      ('eng&spa', 'NOUN'): 1,\n",
       "                      ('spa', 'NOUN'): 1}),\n",
       "             'razón': Counter({('spa', 'NOUN'): 11}),\n",
       "             'refiere': Counter({('spa', 'VERB'): 1}),\n",
       "             'zona': Counter({('spa', 'NOUN'): 3}),\n",
       "             'visto': Counter({('spa', 'VERB'): 8}),\n",
       "             'planilla': Counter({('spa', 'NOUN'): 2}),\n",
       "             'han': Counter({('spa', 'AUX'): 30, ('spa', 'VERB'): 2}),\n",
       "             'pasado': Counter({('spa', 'VERB'): 6,\n",
       "                      ('spa', 'ADJ'): 5,\n",
       "                      ('spa', 'NOUN'): 1}),\n",
       "             'pescando': Counter({('spa', 'VERB'): 1}),\n",
       "             'cambiar': Counter({('spa', 'VERB'): 9}),\n",
       "             'sea': Counter({('spa', 'VERB'): 214,\n",
       "                      ('eng', 'NOUN'): 3,\n",
       "                      ('spa', 'ADV'): 4,\n",
       "                      ('spa', 'INTJ'): 1}),\n",
       "             'pudieran': Counter({('spa', 'AUX'): 1}),\n",
       "             'par': Counter({('spa', 'NOUN'): 2}),\n",
       "             'tubos': Counter({('spa', 'NOUN'): 1}),\n",
       "             'uh': Counter({('eng&spa', 'INTJ'): 65, ('eng', 'INTJ'): 85}),\n",
       "             'install': Counter({('eng', 'VERB'): 1}),\n",
       "             'try': Counter({('eng', 'VERB'): 28, ('eng', 'NOUN'): 3}),\n",
       "             'sell': Counter({('eng', 'VERB'): 12}),\n",
       "             'best': Counter({('eng', 'ADJ'): 30, ('eng', 'ADV'): 1}),\n",
       "             'strip': Counter({('eng', 'NOUN'): 3}),\n",
       "             'canal': Counter({('spa', 'NOUN'): 4}),\n",
       "             'pay': Counter({('eng', 'VERB'): 52, ('eng', 'NOUN'): 2}),\n",
       "             'dollars': Counter({('eng', 'NOUN'): 82}),\n",
       "             'ver': Counter({('spa', 'VERB'): 132, ('spa', 'AUX'): 1}),\n",
       "             'camper': Counter({('eng', 'NOUN'): 2}),\n",
       "             'increíble': Counter({('spa', 'ADJ'): 12}),\n",
       "             'número': Counter({('spa', 'NOUN'): 17}),\n",
       "             'social': Counter({('eng', 'ADJ'): 9}),\n",
       "             'security': Counter({('eng', 'NOUN'): 4}),\n",
       "             'went': Counter({('eng', 'VERB'): 197}),\n",
       "             'morning': Counter({('eng', 'NOUN'): 39}),\n",
       "             'breakfast': Counter({('eng', 'NOUN'): 7}),\n",
       "             'eaten': Counter({('eng', 'VERB'): 2}),\n",
       "             'camping': Counter({('eng', 'VERB'): 7,\n",
       "                      ('eng', 'NOUN'): 2,\n",
       "                      ('spa', 'NOUN'): 1}),\n",
       "             'spot': Counter({('eng', 'NOUN'): 6}),\n",
       "             'techo': Counter({('spa', 'NOUN'): 4}),\n",
       "             'case': Counter({('eng', 'NOUN'): 22, ('spa', 'VERB'): 1}),\n",
       "             'manager': Counter({('eng', 'NOUN'): 17,\n",
       "                      ('spa', 'NOUN'): 1,\n",
       "                      ('eng&spa', 'NOUN'): 1}),\n",
       "             'under': Counter({('eng', 'ADP'): 32, ('eng', 'ADV'): 2}),\n",
       "             'why': Counter({('eng', 'ADV'): 239, ('spa', 'INTJ'): 1}),\n",
       "             'mirando': Counter({('spa', 'VERB'): 3}),\n",
       "             'reloj': Counter({('spa', 'NOUN'): 3}),\n",
       "             'set': Counter({('eng', 'VERB'): 11, ('eng', 'NOUN'): 2}),\n",
       "             'campground': Counter({('eng', 'NOUN'): 1}),\n",
       "             'coge': Counter({('spa', 'VERB'): 9}),\n",
       "             'mitad': Counter({('spa', 'NOUN'): 5}),\n",
       "             'cocinan': Counter({('spa', 'VERB'): 1}),\n",
       "             'rico': Counter({('spa', 'ADJ'): 11}),\n",
       "             'most': Counter({('eng', 'ADJ'): 31,\n",
       "                      ('eng', 'ADV'): 6,\n",
       "                      ('eng', 'NOUN'): 1}),\n",
       "             'houses': Counter({('eng', 'NOUN'): 8}),\n",
       "             'busy': Counter({('eng', 'ADJ'): 6}),\n",
       "             'adonde': Counter({('spa', 'ADV'): 1}),\n",
       "             'acreditar+': Counter({('spa', 'VERB'): 1}),\n",
       "             'deja': Counter({('spa', 'VERB'): 17, ('spa', 'AUX'): 4}),\n",
       "             'asome': Counter({('spa', 'VERB'): 1}),\n",
       "             'humedad': Counter({('spa', 'NOUN'): 1}),\n",
       "             'venga': Counter({('spa', 'VERB'): 6}),\n",
       "             'spring': Counter({('eng', 'NOUN'): 14}),\n",
       "             'break': Counter({('eng', 'NOUN'): 16, ('eng', 'VERB'): 3}),\n",
       "             'casi': Counter({('spa', 'ADV'): 26}),\n",
       "             'media': Counter({('spa', 'ADJ'): 5, ('spa', 'NOUN'): 8}),\n",
       "             'hora': Counter({('spa', 'NOUN'): 37}),\n",
       "             'arrancan': Counter({('spa', 'VERB'): 1}),\n",
       "             'señora': Counter({('spa', 'NOUN'): 22}),\n",
       "             'lado': Counter({('spa', 'NOUN'): 30}),\n",
       "             'new': Counter({('eng', 'ADJ'): 62}),\n",
       "             'idea': Counter({('eng', 'NOUN'): 23, ('spa', 'NOUN'): 9}),\n",
       "             'replace': Counter({('eng', 'VERB'): 4}),\n",
       "             'entre': Counter({('spa', 'ADP'): 11, ('spa', 'VERB'): 1}),\n",
       "             'palmas': Counter({('spa', 'NOUN'): 1}),\n",
       "             'puede': Counter({('spa', 'AUX'): 50, ('spa', 'VERB'): 13}),\n",
       "             'andamos': Counter({('spa', 'VERB'): 1}),\n",
       "             'futuro': Counter({('spa', 'NOUN'): 4}),\n",
       "             'buscando': Counter({('spa', 'VERB'): 6}),\n",
       "             'grande': Counter({('spa', 'ADJ'): 22}),\n",
       "             'P_T': Counter({('eng&spa', 'PROPN'): 4}),\n",
       "             'Cruisers': Counter({('eng&spa', 'PROPN'): 1}),\n",
       "             'airbag': Counter({('eng&spa', 'NOUN'): 1}),\n",
       "             'button': Counter({('eng', 'NOUN'): 3}),\n",
       "             'sixty-seventh': Counter({('eng', 'NOUN'): 1}),\n",
       "             'thirteen': Counter({('eng', 'NUM'): 6}),\n",
       "             'feet': Counter({('eng', 'NOUN'): 16}),\n",
       "             'first': Counter({('eng', 'ADV'): 7,\n",
       "                      ('eng', 'ADJ'): 94,\n",
       "                      ('eng', 'NOUN'): 1}),\n",
       "             'wild': Counter({('eng', 'ADJ'): 5}),\n",
       "             'guys': Counter({('eng', 'NOUN'): 43}),\n",
       "             'gastando': Counter({('spa', 'VERB'): 3}),\n",
       "             'doble': Counter({('spa', 'ADJ'): 2, ('spa', 'NOUN'): 2}),\n",
       "             'dinero': Counter({('spa', 'NOUN'): 25}),\n",
       "             'muerta': Counter({('spa', 'ADJ'): 3}),\n",
       "             'pets': Counter({('eng', 'NOUN'): 1}),\n",
       "             'ones': Counter({('eng', 'PRON'): 38}),\n",
       "             'olvída+': Counter({('spa', 'VERB'): 12}),\n",
       "             'impossible': Counter({('eng', 'ADJ'): 4}),\n",
       "             'rotondita': Counter({('spa', 'NOUN'): 2}),\n",
       "             'paredes': Counter({('spa', 'NOUN'): 3}),\n",
       "             'quitar': Counter({('spa', 'VERB'): 5}),\n",
       "             'dry': Counter({('eng', 'ADJ'): 7, ('eng', 'VERB'): 1}),\n",
       "             'walls': Counter({('eng', 'NOUN'): 3}),\n",
       "             'nuevos': Counter({('spa', 'ADJ'): 5}),\n",
       "             'cociné': Counter({('spa', 'VERB'): 1}),\n",
       "             'imagine': Counter({('eng', 'VERB'): 14}),\n",
       "             'Cruiser': Counter({('eng&spa', 'PROPN'): 3}),\n",
       "             'vendiendo': Counter({('spa', 'VERB'): 2}),\n",
       "             'desde': Counter({('spa', 'ADP'): 22}),\n",
       "             'abril': Counter({('spa', 'NOUN'): 5}),\n",
       "             'ate': Counter({('eng', 'VERB'): 10}),\n",
       "             'Tampa': Counter({('eng&spa', 'PROPN'): 5}),\n",
       "             'acquired': Counter({('eng', 'VERB'): 1}),\n",
       "             'rabbit': Counter({('eng', 'NOUN'): 1}),\n",
       "             'things': Counter({('eng', 'NOUN'): 106}),\n",
       "             'did': Counter({('eng', 'AUX'): 330, ('eng', 'VERB'): 149}),\n",
       "             'need': Counter({('eng', 'VERB'): 144, ('eng', 'NOUN'): 1}),\n",
       "             'buy': Counter({('eng', 'VERB'): 35}),\n",
       "             'agree': Counter({('eng', 'VERB'): 5}),\n",
       "             'chicken': Counter({('eng', 'NOUN'): 8}),\n",
       "             'trade': Counter({('eng', 'VERB'): 1, ('eng', 'NOUN'): 1}),\n",
       "             'Honda': Counter({('eng&spa', 'PROPN'): 1, ('eng', 'PROPN'): 2}),\n",
       "             'guy': Counter({('eng', 'NOUN'): 105}),\n",
       "             'told': Counter({('eng', 'VERB'): 162}),\n",
       "             'two': Counter({('eng', 'NUM'): 205}),\n",
       "             'rabbits': Counter({('eng', 'NOUN'): 1}),\n",
       "             'debe': Counter({('spa', 'AUX'): 13, ('spa', 'VERB'): 1}),\n",
       "             'estar': Counter({('spa', 'VERB'): 50, ('spa', 'AUX'): 11}),\n",
       "             'grados': Counter({('spa', 'NOUN'): 1}),\n",
       "             'rotonda': Counter({('spa', 'NOUN'): 1}),\n",
       "             'sembrado': Counter({('spa', 'VERB'): 1}),\n",
       "             'trabajos': Counter({('spa', 'NOUN'): 1}),\n",
       "             'examen': Counter({('spa', 'NOUN'): 5}),\n",
       "             'Carol': Counter({('eng&spa', 'PROPN'): 4}),\n",
       "             'City': Counter({('eng&spa', 'PROPN'): 7}),\n",
       "             'master': Counter({('eng', 'NOUN'): 4, ('eng&spa', 'NOUN'): 1}),\n",
       "             'bedroom': Counter({('eng', 'NOUN'): 6}),\n",
       "             'acabado': Counter({('spa', 'VERB'): 2}),\n",
       "             'diccionario': Counter({('spa', 'NOUN'): 2}),\n",
       "             'cincuenta': Counter({('spa', 'NUM'): 27}),\n",
       "             'siete': Counter({('spa', 'NUM'): 22}),\n",
       "             'entienden': Counter({('spa', 'VERB'): 4}),\n",
       "             'tipo': Counter({('spa', 'NOUN'): 33}),\n",
       "             'S_U_V': Counter({('eng', 'PROPN'): 1}),\n",
       "             'hermano': Counter({('spa', 'NOUN'): 20}),\n",
       "             'hizo': Counter({('spa', 'VERB'): 38}),\n",
       "             'guess': Counter({('eng', 'VERB'): 67}),\n",
       "             'presses': Counter({('eng', 'VERB'): 1}),\n",
       "             'played': Counter({('eng', 'VERB'): 7}),\n",
       "             'eighteen': Counter({('eng', 'NUM'): 17}),\n",
       "             'probably': Counter({('eng', 'ADV'): 47}),\n",
       "             'uhoh': Counter({('eng&spa', 'INTJ'): 2}),\n",
       "             'síntomas': Counter({('spa', 'NOUN'): 1}),\n",
       "             'street': Counter({('eng', 'NOUN'): 20}),\n",
       "             'tanto': Counter({('spa', 'ADV'): 13,\n",
       "                      ('spa', 'DET'): 5,\n",
       "                      ('spa', 'NOUN'): 2,\n",
       "                      ('spa', 'ADJ'): 2}),\n",
       "             'este': Counter({('spa', 'DET'): 74,\n",
       "                      ('spa', 'PRON'): 48,\n",
       "                      ('spa', 'INTJ'): 1}),\n",
       "             'sino': Counter({('spa', 'CONJ'): 10}),\n",
       "             'izquierdo': Counter({('spa', 'ADJ'): 1}),\n",
       "             'entra': Counter({('spa', 'VERB'): 5}),\n",
       "             'algún': Counter({('spa', 'DET'): 10}),\n",
       "             'ejemplo': Counter({('spa', 'NOUN'): 21}),\n",
       "             'dejar': Counter({('spa', 'VERB'): 12}),\n",
       "             'muebles': Counter({('spa', 'NOUN'): 4}),\n",
       "             'gig': Counter({('eng', 'NOUN'): 1}),\n",
       "             'gigs': Counter({('eng', 'NOUN'): 2}),\n",
       "             'libros': Counter({('spa', 'NOUN'): 3}),\n",
       "             'family': Counter({('eng', 'NOUN'): 29}),\n",
       "             'plan': Counter({('eng', 'NOUN'): 5,\n",
       "                      ('eng', 'VERB'): 2,\n",
       "                      ('spa', 'NOUN'): 5}),\n",
       "             'god': Counter({('eng', 'NOUN'): 179}),\n",
       "             'match': Counter({('eng', 'VERB'): 5}),\n",
       "             'old': Counter({('eng', 'ADJ'): 49}),\n",
       "             'tub': Counter({('eng', 'NOUN'): 6}),\n",
       "             ...})"
      ]
     },
     "execution_count": 30,
     "metadata": {},
     "output_type": "execute_result"
    }
   ],
   "source": [
    "d"
   ]
  },
  {
   "cell_type": "markdown",
   "metadata": {},
   "source": [
    "How many tokens are there with k (language, role) pairs?"
   ]
  },
  {
   "cell_type": "code",
   "execution_count": 31,
   "metadata": {
    "ExecuteTime": {
     "end_time": "2021-02-06T15:29:39.510750Z",
     "start_time": "2021-02-06T15:29:39.469812Z"
    }
   },
   "outputs": [
    {
     "name": "stdout",
     "output_type": "stream",
     "text": [
      "k num_distinct_tokens_for_k\n",
      "1 10199\n",
      "2 1047\n",
      "3 130\n",
      "4 34\n",
      "5 7\n",
      "6 2\n",
      "7 1\n",
      "8 0\n",
      "9 1\n",
      "10 0\n",
      "11 0\n",
      "12 0\n",
      "13 0\n",
      "14 0\n"
     ]
    }
   ],
   "source": [
    "print('k', 'num_distinct_tokens_for_k')\n",
    "for k in range(1, 15):\n",
    "    print(k, len([t for t in d if len(d[t]) == k]))"
   ]
  },
  {
   "cell_type": "code",
   "execution_count": 32,
   "metadata": {
    "ExecuteTime": {
     "end_time": "2021-02-06T15:29:39.520467Z",
     "start_time": "2021-02-06T15:29:39.513241Z"
    }
   },
   "outputs": [],
   "source": [
    "two_role_words = [(t, sum(d[t].values())) for t in d if len(d[t]) == 2]"
   ]
  },
  {
   "cell_type": "code",
   "execution_count": 33,
   "metadata": {
    "ExecuteTime": {
     "end_time": "2021-02-06T15:29:39.524637Z",
     "start_time": "2021-02-06T15:29:39.522195Z"
    }
   },
   "outputs": [],
   "source": [
    "two_role_words.sort(key=lambda x: x[1], reverse=True)"
   ]
  },
  {
   "cell_type": "code",
   "execution_count": 34,
   "metadata": {
    "ExecuteTime": {
     "end_time": "2021-02-06T15:29:39.529197Z",
     "start_time": "2021-02-06T15:29:39.526696Z"
    }
   },
   "outputs": [
    {
     "name": "stdout",
     "output_type": "stream",
     "text": [
      "[('I', 5282), ('me', 1591), ('de', 1456), ('el', 1331), ('is', 1317), ('yo', 1130), ('es', 1127), ('was', 1120), ('have', 995), ('we', 969), ('lo', 917), ('not', 825), ('going', 734), (\"'m\", 708), ('there', 686), (\"'re\", 593), ('be', 500), ('para', 499), ('did', 479), ('her', 462), ('los', 462), ('then', 461), ('when', 420), ('mmhm', 419), ('entonces', 409), ('o', 390), ('él', 332), ('about', 331), ('get', 328), ('here', 292), ('bueno', 290), ('had', 279), ('las', 277), ('pues', 252), ('mean', 246), ('tiene', 244), ('something', 243), ('got', 242), ('why', 240), ('does', 238), ('were', 237), ('mi', 229), ('estaba', 194), ('va', 177), ('little', 177), (\"'ve\", 173), ('voy', 173), ('hay', 172), ('yes', 169), ('his', 169), ('tengo', 168), ('been', 165), ('de+', 163), ('an', 158), ('son', 154), ('cómo', 152), ('more', 151), ('five', 150), ('uh', 150), ('need', 145), ('even', 143), ('esa', 142), ('ese', 141), ('era', 141), ('only', 139), ('ver', 133), ('over', 126), ('er', 124), ('fue', 124), ('work', 124), ('dos', 124), ('come', 123), ('some', 119), ('still', 116), ('uno', 114), ('way', 113), ('nice', 111), ('those', 107), ('también', 105), ('which', 105), ('ni', 104), ('talking', 102), ('estoy', 96), ('algo', 95), ('están', 95), ('wow', 94), ('anything', 94), ('than', 92), ('casa', 91), ('bro', 89), ('verdad', 85), ('talk', 85), ('otra', 84), ('bad', 82), ('tienes', 80), ('todos', 80), ('vas', 79), ('these', 78), ('ten', 77), ('tenía', 75)]\n"
     ]
    }
   ],
   "source": [
    "print(two_role_words[:100])"
   ]
  },
  {
   "cell_type": "markdown",
   "metadata": {},
   "source": [
    "Let's define a heterogeneity score. A simple one can be the product of the proportions. The higher the score, the greater the mixedness."
   ]
  },
  {
   "cell_type": "code",
   "execution_count": 35,
   "metadata": {
    "ExecuteTime": {
     "end_time": "2021-02-06T15:29:39.539114Z",
     "start_time": "2021-02-06T15:29:39.530780Z"
    }
   },
   "outputs": [],
   "source": [
    "from math import prod\n",
    "\n",
    "# heterogeneity scores\n",
    "het_scores = dict()\n",
    "\n",
    "for t in d:\n",
    "    # for an apples-to-apples comparison let's look at cases with two distinct roles\n",
    "    if len(d[t]) != 2:\n",
    "        continue\n",
    "    dtv = d[t].values()\n",
    "    het_scores[t] = round(prod([v / sum(dtv) for v in dtv]), 2)"
   ]
  },
  {
   "cell_type": "code",
   "execution_count": 36,
   "metadata": {
    "ExecuteTime": {
     "end_time": "2021-02-06T15:29:39.543614Z",
     "start_time": "2021-02-06T15:29:39.540977Z"
    }
   },
   "outputs": [],
   "source": [
    "# Let's sort the tokens in descending order of heterogeneity\n",
    "het_sorted = sorted(het_scores.items(), key=lambda a: a[1], reverse=True)"
   ]
  },
  {
   "cell_type": "code",
   "execution_count": 37,
   "metadata": {
    "ExecuteTime": {
     "end_time": "2021-02-06T15:29:39.548080Z",
     "start_time": "2021-02-06T15:29:39.545347Z"
    },
    "scrolled": true
   },
   "outputs": [
    {
     "name": "stdout",
     "output_type": "stream",
     "text": [
      "[('R_V', 0.25), ('have', 0.25), ('ese', 0.25), ('estoy', 0.25), ('esa', 0.25), ('Dutch', 0.25), ('deal', 0.25), ('mejor', 0.25), ('uso', 0.25), ('vuelto', 0.25), ('robo', 0.25), ('estos', 0.25), ('least', 0.25), ('Cuba', 0.25), ('over', 0.25), (\"'m\", 0.25), ('medio', 0.25), ('están', 0.25), ('tuvo', 0.25), ('record', 0.25), ('uh', 0.25), ('doble', 0.25), ('trade', 0.25), ('until', 0.25), ('iban', 0.25), ('desesperada', 0.25), ('early', 0.25), ('Royal', 0.25), ('raise', 0.25), ('closed', 0.25), ('hiring', 0.25), ('clean', 0.25), ('locked', 0.25), ('sigue', 0.25), (\"'re\", 0.25), ('fetch', 0.25), ('shock', 0.25), ('America', 0.25), ('plastic', 0.25), ('West', 0.25), ('respect', 0.25), ('horrible', 0.25), ('rewind', 0.25), ('notice', 0.25), ('shit', 0.25), ('owned', 0.25), ('settle', 0.25), ('records', 0.25), ('indio', 0.25), ('grave', 0.25), ('judge', 0.25), ('laid', 0.25), ('demócratas', 0.25), ('covers', 0.25), ('twenty-seventh', 0.25), ('mientras', 0.25), ('venían', 0.25), ('laptop', 0.25), ('estabas', 0.25), ('search', 0.25), ('painting', 0.25), ('hidden', 0.25), ('tire', 0.25), ('Canada', 0.25), ('escondido', 0.25), ('vuelvo', 0.25), ('organized', 0.25), ('slam', 0.25), ('ocupado', 0.25), ('mata', 0.25), ('clip', 0.25), ('enlightened', 0.25), ('healing', 0.25), ('awake', 0.25), ('pissed', 0.25), ('tuvieron', 0.25), ('lower', 0.25), ('sneezing', 0.25), ('surprised', 0.25), ('along', 0.25), ('tickets', 0.25), ('drag', 0.25), ('prepared', 0.25), ('limpio', 0.25), ('mango', 0.25), ('pendejo', 0.25), ('pink', 0.25), ('cuanto', 0.25), ('matas', 0.25), ('Tito', 0.25), ('cojones', 0.25), ('measure', 0.25), ('filling', 0.25), ('Patrick', 0.25), ('humano', 0.25), ('cortado', 0.25), ('figures', 0.25), ('confundida', 0.25), ('Tina', 0.25), ('opening', 0.25), ('Puerto', 0.25), ('waste', 0.25), ('Sim', 0.25), ('Fridays', 0.25), ('female', 0.25), ('soda', 0.25), ('guardado', 0.25), ('tempranito', 0.25), ('caer', 0.25), ('hacia', 0.25), ('na', 0.25), ('scare', 0.25), ('Latin', 0.25), ('Good', 0.25), ('New', 0.25), ('empezaron', 0.25), ('poca', 0.25), ('pounding', 0.25), ('vibrating', 0.25), ('silver', 0.25), ('buff', 0.25), ('frío', 0.25), ('buses', 0.25), ('monster', 0.25), ('polo', 0.25), ('Eva', 0.25), ('plástico', 0.25), ('banking', 0.25), ('molestas', 0.25), ('retired', 0.25), ('conocido', 0.25), ('respeto', 0.25), ('solas', 0.25), ('clear', 0.25), ('shot', 0.25), ('Argentina', 0.25), ('yellow', 0.25), ('pooping', 0.25), ('Bruce', 0.25), ('wrap', 0.25), ('Queens', 0.25), ('juntas', 0.25), ('visa', 0.25), ('última', 0.25), ('París', 0.25), ('hip-hop', 0.25), ('Republic', 0.25), ('closing', 0.25), ('S_V_U', 0.25), ('Oscars', 0.25), ('cooked', 0.25), ('located', 0.25), ('weighs', 0.25), ('Magda', 0.25), ('Mayra', 0.25), ('equivalente', 0.25), ('fighting', 0.25), ('mosquitos', 0.25), ('A_C', 0.25), ('complicated', 0.25), ('handled', 0.25), ('Emilio', 0.25), ('trasnochó', 0.25), ('cardio', 0.25), ('P_T_A', 0.25), ('narigón', 0.25), ('haya', 0.25), ('processing', 0.25), ('morenita', 0.25), ('slash', 0.25), ('nineteenth', 0.25), ('naranja', 0.25), ('sixth', 0.25), ('chips', 0.25), ('result', 0.25), ('recycling', 0.25), ('fifteenth', 0.25), ('Oreos', 0.25), ('congratulations', 0.25), ('empiezas', 0.25), ('A_One', 0.25), ('thirty-seventh', 0.25), ('breastfeed', 0.25), ('burnt', 0.25), ('Dora', 0.25), ('venture', 0.25), ('public', 0.25), ('Mercedes', 0.25), ('interesado', 0.25), ('habías', 0.25), ('Joan', 0.25), ('serving', 0.25), ('Queensborough', 0.25), ('slide', 0.25), ('reveal', 0.25), ('following', 0.25), ('drawn', 0.25), ('Michel', 0.25), ('exhibits', 0.25), ('gold', 0.25), ('Brandon', 0.25), ('settled', 0.25), ('R', 0.25), ('rompope', 0.25), ('Pepsi', 0.25), ('estaría', 0.25), ('bang', 0.25), ('Taiwan', 0.25), ('Nicaragua', 0.25), ('Rafi', 0.25), ('causa', 0.25), ('Egipto', 0.25), ('muchísimo', 0.25), ('extras', 0.25), ('saco', 0.25), ('pudo', 0.25), ('dejás', 0.25), ('preferred', 0.25), ('Citizens', 0.25), ('voting', 0.25), ('Seven', 0.25), ('Jean', 0.25), ('Cousteau', 0.25), ('Thousand', 0.25), ('flushes', 0.25), ('meditar', 0.25), ('terminaría', 0.25), ('ala', 0.25), ('desturque', 0.25), ('guevón', 0.25), ('exprés', 0.25), ('Edith', 0.25), ('Jessica', 0.25), ('mentoring', 0.25), ('Little', 0.25), ('installer', 0.25), ('her', 0.24), ('Hialeah', 0.24), ('sales', 0.24), ('estaba', 0.24), ('more', 0.24), ('were', 0.24), ('there', 0.24), ('unincorporated', 0.24), ('me', 0.24), ('while', 0.24), ('estaban', 0.24), ('llegué', 0.24), ('había', 0.24), ('otro', 0.24)]\n"
     ]
    }
   ],
   "source": [
    "print(het_sorted[:250])"
   ]
  },
  {
   "cell_type": "code",
   "execution_count": 38,
   "metadata": {
    "ExecuteTime": {
     "end_time": "2021-02-06T15:29:39.553473Z",
     "start_time": "2021-02-06T15:29:39.549839Z"
    }
   },
   "outputs": [
    {
     "data": {
      "text/plain": [
       "(Counter({('eng', 'VERB'): 4, ('eng', 'NOUN'): 4}),\n",
       " Counter({('spa', 'ADJ'): 1, ('spa', 'ADV'): 1}),\n",
       " Counter({('eng', 'NOUN'): 2, ('eng', 'VERB'): 2}))"
      ]
     },
     "execution_count": 38,
     "metadata": {},
     "output_type": "execute_result"
    }
   ],
   "source": [
    "d['respect'], d['juntas'], d['judge']"
   ]
  },
  {
   "cell_type": "markdown",
   "metadata": {},
   "source": [
    "No real surprises here, but the most impure tokens correspond to very infrequent ones. The high score of 0.25 corresponds to perfect heterogeneity but a lot of these tokens occur extremely infrequently. If we multiply each score by the frequency of the token, perhaps we can get a fairer assessment.\n",
    "\n",
    "So let's compute a weighted heterogeneity score for every token."
   ]
  },
  {
   "cell_type": "code",
   "execution_count": 39,
   "metadata": {
    "ExecuteTime": {
     "end_time": "2021-02-06T15:29:39.563139Z",
     "start_time": "2021-02-06T15:29:39.554917Z"
    }
   },
   "outputs": [],
   "source": [
    "from math import prod\n",
    "\n",
    "# heterogeneity scores\n",
    "het_scores = dict()\n",
    "\n",
    "for t in d:\n",
    "    # for an apples-to-apples comparison let's look at cases with two distinct roles\n",
    "    if len(d[t]) != 2:\n",
    "        continue\n",
    "    dtv = d[t].values()\n",
    "    s = sum(dtv)\n",
    "    # note the additional s factor.\n",
    "    het_scores[t] = round(prod([v / s for v in dtv]) * s, 2)"
   ]
  },
  {
   "cell_type": "code",
   "execution_count": 40,
   "metadata": {
    "ExecuteTime": {
     "end_time": "2021-02-06T15:29:39.567370Z",
     "start_time": "2021-02-06T15:29:39.564940Z"
    }
   },
   "outputs": [],
   "source": [
    "het_sorted = sorted(het_scores.items(), key=lambda a: a[1], reverse=True)"
   ]
  },
  {
   "cell_type": "code",
   "execution_count": 41,
   "metadata": {
    "ExecuteTime": {
     "end_time": "2021-02-06T15:29:39.571674Z",
     "start_time": "2021-02-06T15:29:39.568858Z"
    },
    "scrolled": true
   },
   "outputs": [
    {
     "name": "stdout",
     "output_type": "stream",
     "text": [
      "[('me', 373.97), ('have', 244.57), ('was', 193.09), ('lo', 189.68), (\"'m\", 174.74), ('there', 165.71), (\"'re\", 147.15), ('is', 111.51), ('her', 110.51), ('did', 102.65), ('not', 98.97), ('entonces', 74.52), ('had', 62.65), ('were', 57.81), ('got', 49.75), ('estaba', 46.44), ('los', 44.59), ('does', 43.35), ('when', 39.39), ('tiene', 39.16), ('uh', 36.83), ('more', 36.54), ('esa', 35.47), ('ese', 35.04), ('va', 34.52), ('voy', 32.81), ('over', 31.37), ('be', 30.82), ('tengo', 30.48), ('only', 28.91), ('work', 28.67), ('bueno', 28.47), ('hay', 26.67), ('er', 25.12), ('about', 24.8), ('those', 24.79), ('están', 23.73), ('estoy', 23.62), ('ni', 23.54), ('las', 21.92), ('uno', 21.62), ('wow', 20.05), ('todos', 19.2), ('vas', 19.04), ('which', 18.51), (\"'ve\", 18.45), ('than', 18.21), ('tienes', 18.2), ('these', 17.95), ('otro', 17.67), ('something', 17.51), ('vamos', 17.41), ('había', 16.8), ('been', 16.04), ('otra', 15.24), ('quiere', 14.92), ('pretty', 12.0), ('next', 11.88), ('get', 11.56), ('am', 11.48), ('home', 11.35), ('esta', 10.98), ('esos', 10.98), ('es', 10.89), ('around', 10.79), ('iba', 10.75), ('puedo', 10.59), ('little', 10.32), ('puede', 10.32), ('son', 10.21), ('even', 10.15), ('tenía', 10.08), ('fun', 9.64), ('mañana', 9.44), ('New', 9.39), ('estamos', 9.23), ('mejor', 9.08), ('estar', 9.02), ('aha', 8.98), ('care', 8.73), ('until', 8.69), ('puedes', 8.67), ('tienen', 8.53), ('tener', 8.43), ('shit', 8.38), ('though', 8.31), ('para', 7.87), ('poquito', 7.76), ('estos', 6.74), ('cómo', 6.68), ('donde', 6.67), ('change', 6.67), ('still', 6.58), ('idea', 6.47), ('tenemos', 6.47), ('hmm', 6.43), ('building', 6.4), ('ten', 6.36), ('igual', 6.3), ('esas', 6.3), ('else', 6.25), ('any', 6.18), ('estaban', 6.0), ('matter', 6.0), ('mind', 6.0), ('married', 5.83), ('an', 5.77), ('color', 5.62), ('love', 5.52), ('less', 5.48), ('long', 5.44), ('A', 5.32), ('deal', 5.24), ('least', 5.24), ('primero', 5.09), ('gets', 5.03), ('Cuba', 5.0), ('second', 5.0), ('we', 4.97), ('while', 4.95), ('together', 4.8), ('please', 4.8), ('algo', 4.74), ('empezó', 4.67), ('acuerdo', 4.67), ('yet', 4.56), ('viene', 4.51), ('habían', 4.5), ('horrible', 4.44), ('frío', 4.44), ('copy', 4.42), ('otros', 4.36), ('mío', 4.36), ('end', 4.24), ('early', 4.24), ('estabas', 4.24), ('side', 4.19), ('alone', 4.11), ('bastante', 4.0), ('solo', 4.0), ('de', 3.99), ('yo', 3.99), ('inglés', 3.96), ('help', 3.96), ('demasiado', 3.96), ('here', 3.95), ('club', 3.91), ('de+', 3.9), ('five', 3.89), ('anything', 3.83), ('call', 3.78), ('falta', 3.75), ('through', 3.7), ('sign', 3.68), ('answer', 3.68), ('run', 3.68), ('natural', 3.68), ('better', 3.67), ('aw', 3.61), ('nah', 3.53), ('trabajo', 3.52), ('tuvo', 3.5), ('times', 3.5), ('drive', 3.43), ('peor', 3.43), ('anyway', 3.33), ('cuenta', 3.33), ('messed', 3.33), ('U', 3.33), ('deja', 3.24), ('blue', 3.21), ('pueden', 3.16), ('Mary', 3.11), ('media', 3.08), ('feeling', 3.08), ('hunting', 3.08), ('cocina', 3.0), ('mean', 2.96), ('his', 2.95), ('come', 2.93), ('estas', 2.92), ('ride', 2.92), ('lost', 2.92), ('hoy', 2.86), ('podemos', 2.77), ('middle', 2.77), ('puta', 2.76), ('clean', 2.73), ('mata', 2.73), ('tickets', 2.73), ('pink', 2.73), ('try', 2.71), ('turn', 2.71), ('hecho', 2.69), ('español', 2.67), ('tarde', 2.67), ('reading', 2.67), ('ninety', 2.64), ('crees', 2.57), ('half', 2.57), ('calls', 2.57), ('Juan', 2.57), ('F_I_U', 2.55), ('Bird', 2.55), ('type', 2.55), ('muchos', 2.55), ('Virginia', 2.55), ('break', 2.53), ('mm', 2.53), ('cuál', 2.53), ('chévere', 2.53), ('closed', 2.5), ('Nicaragua', 2.5), ('estado', 2.44), ('empieza', 2.4), ('llegué', 2.4), ('tired', 2.4), ('cable', 2.4), ('Florida', 2.4), ('cost', 2.4), ('cancer', 2.4), ('podía', 2.4), ('tuve', 2.4), ('rápido', 2.4), ('pass', 2.36), ('lives', 2.36), ('piano', 2.36), ('haber', 2.31), ('blah', 2.31), ('Gardens', 2.25), ('drop', 2.25), ('hope', 2.25), ('estábamos', 2.25), ('medio', 2.22), ('plastic', 2.22), ('mango', 2.22), ('cuanto', 2.22), ('shot', 2.22), ('haya', 2.22), ('planning', 2.18), ('boom', 2.18), ('except', 2.18), ('study', 2.18), ('fat', 2.1), ('behind', 2.1), ('handle', 2.1), ('fall', 2.1), ('till', 2.1), ('Jane', 2.1), ('I', 2.0)]\n"
     ]
    }
   ],
   "source": [
    "print(het_sorted[:250])"
   ]
  },
  {
   "cell_type": "code",
   "execution_count": 42,
   "metadata": {
    "ExecuteTime": {
     "end_time": "2021-02-06T15:29:39.576983Z",
     "start_time": "2021-02-06T15:29:39.573200Z"
    }
   },
   "outputs": [
    {
     "data": {
      "text/plain": [
       "(Counter({('spa', 'ADV'): 311, ('spa', 'SCONJ'): 98}),\n",
       " Counter({('eng', 'VERB'): 562, ('eng', 'AUX'): 433}),\n",
       " Counter({('spa', 'ADJ'): 21, ('spa', 'ADV'): 16}),\n",
       " Counter({('eng', 'AUX'): 314, ('eng', 'VERB'): 394}))"
      ]
     },
     "execution_count": 42,
     "metadata": {},
     "output_type": "execute_result"
    }
   ],
   "source": [
    "# Here are some examples, in no particular order\n",
    "d['entonces'], d['have'], d['mejor'], d[\"'m\"]"
   ]
  },
  {
   "cell_type": "markdown",
   "metadata": {},
   "source": [
    "'Entonces' means 'then', so it is usually an adverb, but it can also be a subordinating conjunction like \"hence\". But when I look through the examples, there is little consistency. In a tweet \"entonces no puedo...\" (Hence I cannot), it is tagged as an SCONJ whereas in \"entonces yo estaba pensando en [...]\" (So I've been thinking of [...]) it is tagged as an ADV.\n",
    "\n",
    "The word 'have' sometimes means to have, and other times as a model verb as in \"Have you seen the new movie?\"\n",
    "\n",
    "The word 'mejor', which means better, is sometimes an adjective and sometimes an adverb.\n",
    "\n",
    "The token \"'m\" seems a bit mysterious, I think it should be a verb, but it has been tagged as an auxiliary almost as many times. Looking at the corpus, I see that in cases like \"I'm going to eat\" or \"I'm doing that\" it is a legitimate auxiliary. Mystery solved."
   ]
  },
  {
   "cell_type": "code",
   "execution_count": 43,
   "metadata": {
    "ExecuteTime": {
     "end_time": "2021-02-06T15:29:39.583445Z",
     "start_time": "2021-02-06T15:29:39.579274Z"
    }
   },
   "outputs": [
    {
     "data": {
      "text/plain": [
       "Counter({('spa', 'PRON'): 990, ('eng', 'PRON'): 601})"
      ]
     },
     "execution_count": 43,
     "metadata": {},
     "output_type": "execute_result"
    }
   ],
   "source": [
    "d['me']"
   ]
  },
  {
   "cell_type": "markdown",
   "metadata": {},
   "source": [
    "It is interesting to note that 'me' which occurs above as having the highest weighted heterogeneity is sometimes Spanish and at other times English but is always a pronoun."
   ]
  },
  {
   "cell_type": "markdown",
   "metadata": {
    "ExecuteTime": {
     "end_time": "2021-02-02T12:35:40.077114Z",
     "start_time": "2021-02-02T12:35:40.074860Z"
    }
   },
   "source": [
    "## 3. Sentiment Analyzer"
   ]
  },
  {
   "cell_type": "code",
   "execution_count": 44,
   "metadata": {
    "ExecuteTime": {
     "end_time": "2021-02-06T15:29:39.586828Z",
     "start_time": "2021-02-06T15:29:39.584914Z"
    }
   },
   "outputs": [],
   "source": [
    "sa_train_file = \"~/Documents/Springboard-notes-data/lince/sa_spaeng/train.conll\""
   ]
  },
  {
   "cell_type": "markdown",
   "metadata": {},
   "source": [
    "In this \"train\" file, there are 12194 tweets and one sentiment label (negative, neutral, or positive) per tweet. I will build out the Sentiment Analyzer using the \"train\" set, tune it on the \"dev\" set (1859 tweets), and measure the final performance on the \"test\" set (4736 tweets)."
   ]
  },
  {
   "cell_type": "code",
   "execution_count": 45,
   "metadata": {
    "ExecuteTime": {
     "end_time": "2021-02-06T15:29:40.116569Z",
     "start_time": "2021-02-06T15:29:39.588419Z"
    }
   },
   "outputs": [],
   "source": [
    "df = pd.read_csv(sa_train_file, engine='python', sep='\\t+', header=None, names=['token_or_tweetid', 'sentiment_or_language'], encoding='utf-8')"
   ]
  },
  {
   "cell_type": "code",
   "execution_count": 46,
   "metadata": {
    "ExecuteTime": {
     "end_time": "2021-02-06T15:29:40.139007Z",
     "start_time": "2021-02-06T15:29:40.118309Z"
    }
   },
   "outputs": [
    {
     "name": "stdout",
     "output_type": "stream",
     "text": [
      "<class 'pandas.core.frame.DataFrame'>\n",
      "RangeIndex: 198796 entries, 0 to 198795\n",
      "Data columns (total 2 columns):\n",
      " #   Column                 Non-Null Count   Dtype \n",
      "---  ------                 --------------   ----- \n",
      " 0   token_or_tweetid       198796 non-null  object\n",
      " 1   sentiment_or_language  198796 non-null  object\n",
      "dtypes: object(2)\n",
      "memory usage: 3.0+ MB\n"
     ]
    }
   ],
   "source": [
    "df.info()"
   ]
  },
  {
   "cell_type": "code",
   "execution_count": 47,
   "metadata": {
    "ExecuteTime": {
     "end_time": "2021-02-06T15:29:40.158689Z",
     "start_time": "2021-02-06T15:29:40.140809Z"
    }
   },
   "outputs": [
    {
     "data": {
      "text/plain": [
       "lang2        92961\n",
       "other        44306\n",
       "lang1        44013\n",
       "positive      6848\n",
       "ne            4892\n",
       "neutral       3363\n",
       "negative      1983\n",
       "unk            171\n",
       "ambiguous      170\n",
       "mixed           72\n",
       "fw              17\n",
       "Name: sentiment_or_language, dtype: int64"
      ]
     },
     "execution_count": 47,
     "metadata": {},
     "output_type": "execute_result"
    }
   ],
   "source": [
    "df.sentiment_or_language.value_counts()"
   ]
  },
  {
   "cell_type": "code",
   "execution_count": 48,
   "metadata": {
    "ExecuteTime": {
     "end_time": "2021-02-06T15:29:40.252308Z",
     "start_time": "2021-02-06T15:29:40.161038Z"
    }
   },
   "outputs": [],
   "source": [
    "is_sentiment = df.token_or_tweetid.str.startswith('# sent_enum = ')"
   ]
  },
  {
   "cell_type": "code",
   "execution_count": 49,
   "metadata": {
    "ExecuteTime": {
     "end_time": "2021-02-06T15:29:40.261281Z",
     "start_time": "2021-02-06T15:29:40.254722Z"
    }
   },
   "outputs": [
    {
     "data": {
      "text/plain": [
       "False    186602\n",
       "True      12194\n",
       "Name: token_or_tweetid, dtype: int64"
      ]
     },
     "execution_count": 49,
     "metadata": {},
     "output_type": "execute_result"
    }
   ],
   "source": [
    "is_sentiment.value_counts()"
   ]
  },
  {
   "cell_type": "code",
   "execution_count": 50,
   "metadata": {
    "ExecuteTime": {
     "end_time": "2021-02-06T15:29:40.267422Z",
     "start_time": "2021-02-06T15:29:40.263212Z"
    }
   },
   "outputs": [],
   "source": [
    "df_sentiments = df[is_sentiment]"
   ]
  },
  {
   "cell_type": "code",
   "execution_count": 51,
   "metadata": {
    "ExecuteTime": {
     "end_time": "2021-02-06T15:29:40.271624Z",
     "start_time": "2021-02-06T15:29:40.268930Z"
    }
   },
   "outputs": [],
   "source": [
    "df_sentiments.columns = ['tweetid', 'sentiment']"
   ]
  },
  {
   "cell_type": "code",
   "execution_count": 52,
   "metadata": {
    "ExecuteTime": {
     "end_time": "2021-02-06T15:29:40.277962Z",
     "start_time": "2021-02-06T15:29:40.273165Z"
    }
   },
   "outputs": [
    {
     "data": {
      "text/plain": [
       "0             # sent_enum = 1\n",
       "17            # sent_enum = 2\n",
       "24            # sent_enum = 3\n",
       "32            # sent_enum = 4\n",
       "50            # sent_enum = 5\n",
       "                 ...         \n",
       "198732    # sent_enum = 12190\n",
       "198738    # sent_enum = 12191\n",
       "198751    # sent_enum = 12192\n",
       "198764    # sent_enum = 12193\n",
       "198774    # sent_enum = 12194\n",
       "Name: tweetid, Length: 12194, dtype: object"
      ]
     },
     "execution_count": 52,
     "metadata": {},
     "output_type": "execute_result"
    }
   ],
   "source": [
    "df_sentiments.tweetid"
   ]
  },
  {
   "cell_type": "code",
   "execution_count": 53,
   "metadata": {
    "ExecuteTime": {
     "end_time": "2021-02-06T15:29:40.284307Z",
     "start_time": "2021-02-06T15:29:40.279672Z"
    }
   },
   "outputs": [
    {
     "data": {
      "text/plain": [
       "positive    6848\n",
       "neutral     3363\n",
       "negative    1983\n",
       "Name: sentiment, dtype: int64"
      ]
     },
     "execution_count": 53,
     "metadata": {},
     "output_type": "execute_result"
    }
   ],
   "source": [
    "df_sentiments.sentiment.value_counts()"
   ]
  },
  {
   "cell_type": "code",
   "execution_count": 54,
   "metadata": {
    "ExecuteTime": {
     "end_time": "2021-02-06T15:29:40.293693Z",
     "start_time": "2021-02-06T15:29:40.285797Z"
    }
   },
   "outputs": [],
   "source": [
    "df_tokens = df[~is_sentiment]"
   ]
  },
  {
   "cell_type": "code",
   "execution_count": 55,
   "metadata": {
    "ExecuteTime": {
     "end_time": "2021-02-06T15:29:40.304752Z",
     "start_time": "2021-02-06T15:29:40.302551Z"
    }
   },
   "outputs": [],
   "source": [
    "df_tokens.columns = ['token', 'language']"
   ]
  },
  {
   "cell_type": "code",
   "execution_count": 56,
   "metadata": {
    "ExecuteTime": {
     "end_time": "2021-02-06T15:29:40.395892Z",
     "start_time": "2021-02-06T15:29:40.306749Z"
    }
   },
   "outputs": [
    {
     "data": {
      "text/plain": [
       "token   language\n",
       ".       other       4550\n",
       "de      lang2       3815\n",
       ":       other       3120\n",
       ",       other       3060\n",
       "!       other       2900\n",
       "                    ... \n",
       "mhm     unk            1\n",
       "box     lang1          1\n",
       "boxers  lang1          1\n",
       "mf      lang1          1\n",
       "🦄☁️     other          1\n",
       "Length: 34765, dtype: int64"
      ]
     },
     "execution_count": 56,
     "metadata": {},
     "output_type": "execute_result"
    }
   ],
   "source": [
    "df_tokens.value_counts()"
   ]
  },
  {
   "cell_type": "code",
   "execution_count": 57,
   "metadata": {
    "ExecuteTime": {
     "end_time": "2021-02-06T15:29:40.414306Z",
     "start_time": "2021-02-06T15:29:40.397687Z"
    }
   },
   "outputs": [
    {
     "data": {
      "text/plain": [
       "lang2        92961\n",
       "other        44306\n",
       "lang1        44013\n",
       "ne            4892\n",
       "unk            171\n",
       "ambiguous      170\n",
       "mixed           72\n",
       "fw              17\n",
       "Name: language, dtype: int64"
      ]
     },
     "execution_count": 57,
     "metadata": {},
     "output_type": "execute_result"
    }
   ],
   "source": [
    "df_tokens.language.value_counts()"
   ]
  },
  {
   "cell_type": "markdown",
   "metadata": {
    "ExecuteTime": {
     "end_time": "2021-02-02T14:01:04.110815Z",
     "start_time": "2021-02-02T14:01:04.107754Z"
    }
   },
   "source": [
    "Note that this corpus skews more Spanish than English, as compared to the other two."
   ]
  },
  {
   "cell_type": "markdown",
   "metadata": {
    "ExecuteTime": {
     "end_time": "2021-02-02T14:08:13.049070Z",
     "start_time": "2021-02-02T14:08:13.046981Z"
    }
   },
   "source": [
    "## General Code for converting each tweet to a sentence"
   ]
  },
  {
   "cell_type": "code",
   "execution_count": 58,
   "metadata": {
    "ExecuteTime": {
     "end_time": "2021-02-06T15:29:40.419574Z",
     "start_time": "2021-02-06T15:29:40.415955Z"
    }
   },
   "outputs": [],
   "source": [
    "def convert_file(filename):\n",
    "    output = ''\n",
    "    tweet = ''\n",
    "    f = open(filename, 'r')\n",
    "    is_first_line = True\n",
    "    is_first_token = True\n",
    "    for line in f:\n",
    "        line = line.strip()\n",
    "        if len(line) <= 1:\n",
    "            continue\n",
    "        if line.startswith('# sent_enum = '):\n",
    "            if is_first_line:\n",
    "                is_first_line = False\n",
    "                continue\n",
    "            output += tweet + \"\\n\"\n",
    "            tweet = ''\n",
    "            is_first_token = True\n",
    "            continue\n",
    "        token = line.split('\\t')[0]\n",
    "        # if we wanted to parse out fields other than token, we would do so here\n",
    "        tweet += (token if is_first_token else ' ' + token)\n",
    "        # alternatively, we might have tweet be a list and just append the token to it\n",
    "        is_first_token = False\n",
    "    output += tweet + '\\n'\n",
    "    return output"
   ]
  },
  {
   "cell_type": "code",
   "execution_count": 59,
   "metadata": {
    "ExecuteTime": {
     "end_time": "2021-02-06T15:29:40.640501Z",
     "start_time": "2021-02-06T15:29:40.421270Z"
    }
   },
   "outputs": [],
   "source": [
    "output = convert_file(filename='/Users/d/Documents/Springboard-notes-data/lince/lid_spaeng/train.conll')"
   ]
  },
  {
   "cell_type": "code",
   "execution_count": 60,
   "metadata": {
    "ExecuteTime": {
     "end_time": "2021-02-06T15:29:40.745526Z",
     "start_time": "2021-02-06T15:29:40.642280Z"
    }
   },
   "outputs": [],
   "source": [
    "out_f = open(\"lid_train_lines.txt\", \"w\")\n",
    "out_f.writelines(output)\n",
    "out_f.close()\n",
    "\n",
    "# The output looks great, has 21030 lines."
   ]
  },
  {
   "cell_type": "code",
   "execution_count": 61,
   "metadata": {
    "ExecuteTime": {
     "end_time": "2021-02-06T15:29:40.941601Z",
     "start_time": "2021-02-06T15:29:40.747391Z"
    }
   },
   "outputs": [],
   "source": [
    "output = convert_file(filename='/Users/d/Documents/Springboard-notes-data/lince/pos_spaeng/train.conll')"
   ]
  },
  {
   "cell_type": "code",
   "execution_count": 62,
   "metadata": {
    "ExecuteTime": {
     "end_time": "2021-02-06T15:29:41.011417Z",
     "start_time": "2021-02-06T15:29:40.943734Z"
    }
   },
   "outputs": [],
   "source": [
    "out_f = open(\"pos_train_lines.txt\", \"w\")\n",
    "out_f.writelines(output)\n",
    "out_f.close()\n",
    "\n",
    "# The output looks great, has 27893 lines."
   ]
  },
  {
   "cell_type": "code",
   "execution_count": 63,
   "metadata": {
    "ExecuteTime": {
     "end_time": "2021-02-06T15:29:41.166760Z",
     "start_time": "2021-02-06T15:29:41.013405Z"
    }
   },
   "outputs": [],
   "source": [
    "output = convert_file(filename='/Users/d/Documents/Springboard-notes-data/lince/sa_spaeng/train.conll')"
   ]
  },
  {
   "cell_type": "code",
   "execution_count": 64,
   "metadata": {
    "ExecuteTime": {
     "end_time": "2021-02-06T15:29:41.241297Z",
     "start_time": "2021-02-06T15:29:41.168592Z"
    }
   },
   "outputs": [],
   "source": [
    "out_f = open(\"sentiment_train_lines.txt\", \"w\")\n",
    "out_f.writelines(output)\n",
    "out_f.close()\n",
    "\n",
    "# The output looks terrific, has 12194 lines."
   ]
  },
  {
   "cell_type": "markdown",
   "metadata": {},
   "source": [
    "## Conclusions"
   ]
  },
  {
   "cell_type": "markdown",
   "metadata": {},
   "source": [
    "During this exploration, I noticed that when using pd.read_csv, the separator needs to be '\\t+' as opposed to just '\\t', though I cannot find these occurrences when I less through a file."
   ]
  },
  {
   "cell_type": "markdown",
   "metadata": {
    "ExecuteTime": {
     "end_time": "2021-02-02T13:34:37.588978Z",
     "start_time": "2021-02-02T13:34:37.586864Z"
    }
   },
   "source": [
    "## References"
   ]
  },
  {
   "cell_type": "markdown",
   "metadata": {},
   "source": [
    "G. Aguilar, S. Kar, and T. Solorio, \"LinCE: A Centralized Benchmark for Linguistic Code-switching Evaluation\", in Proc. LREC 2020, pp. 1803-1813."
   ]
  },
  {
   "cell_type": "code",
   "execution_count": null,
   "metadata": {},
   "outputs": [],
   "source": []
  }
 ],
 "metadata": {
  "kernelspec": {
   "display_name": "Python 3",
   "language": "python",
   "name": "python3"
  },
  "language_info": {
   "codemirror_mode": {
    "name": "ipython",
    "version": 3
   },
   "file_extension": ".py",
   "mimetype": "text/x-python",
   "name": "python",
   "nbconvert_exporter": "python",
   "pygments_lexer": "ipython3",
   "version": "3.8.6"
  }
 },
 "nbformat": 4,
 "nbformat_minor": 4
}
