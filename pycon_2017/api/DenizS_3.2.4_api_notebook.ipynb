{
 "cells": [
  {
   "cell_type": "markdown",
   "metadata": {
    "collapsed": true
   },
   "source": [
    "## APIs"
   ]
  },
  {
   "cell_type": "markdown",
   "metadata": {
    "collapsed": true
   },
   "source": [
    "Let's start by looking at [OMDb API](https://www.omdbapi.com/).\n",
    "\n",
    "The OMDb API is a free web service to obtain movie information, all content and images on the site are contributed and maintained by users.\n",
    "\n",
    "The Python package [urllib](https://docs.python.org/3/howto/urllib2.html) can be used to fetch resources from the internet.\n",
    "\n",
    "OMDb tells us what kinds of requests we can make. We are going to do a title search. As you can see below, we have an additional parameter \"&Season=1\" which does not appear in the parameter tables. If you read through the change log, you will see it documented there. \n",
    "\n",
    "Using the urllib and json packages allow us to call an API and store the results locally."
   ]
  },
  {
   "cell_type": "code",
   "execution_count": null,
   "metadata": {
    "ExecuteTime": {
     "end_time": "2020-12-07T15:10:03.650724Z",
     "start_time": "2020-12-07T15:10:03.648447Z"
    }
   },
   "outputs": [],
   "source": [
    "import json\n",
    "import urllib.request"
   ]
  },
  {
   "cell_type": "markdown",
   "metadata": {},
   "source": [
    "API key [redacted] associated with dzsari@gmail.com, free tier allows 1k queries/day"
   ]
  },
  {
   "cell_type": "code",
   "execution_count": null,
   "metadata": {
    "ExecuteTime": {
     "end_time": "2020-12-07T14:20:04.694332Z",
     "start_time": "2020-12-07T14:20:04.239972Z"
    }
   },
   "outputs": [],
   "source": [
    "data = json.loads(urllib.request.urlopen('http://www.omdbapi.com/?t=Game%20of%20Thrones&Season=1').read().\\\n",
    "                  decode('utf8'))"
   ]
  },
  {
   "cell_type": "markdown",
   "metadata": {},
   "source": [
    "What should we expect the type to be for the variable data?"
   ]
  },
  {
   "cell_type": "code",
   "execution_count": null,
   "metadata": {
    "ExecuteTime": {
     "end_time": "2020-12-07T14:21:25.861033Z",
     "start_time": "2020-12-07T14:21:25.858431Z"
    }
   },
   "outputs": [],
   "source": [
    "print(type(data))"
   ]
  },
  {
   "cell_type": "markdown",
   "metadata": {},
   "source": [
    "What do you think the data will look like?"
   ]
  },
  {
   "cell_type": "code",
   "execution_count": null,
   "metadata": {
    "ExecuteTime": {
     "end_time": "2020-12-07T14:22:08.457887Z",
     "start_time": "2020-12-07T14:22:08.449800Z"
    }
   },
   "outputs": [],
   "source": [
    "data.keys()"
   ]
  },
  {
   "cell_type": "code",
   "execution_count": null,
   "metadata": {
    "ExecuteTime": {
     "end_time": "2020-12-07T14:22:17.575430Z",
     "start_time": "2020-12-07T14:22:17.570595Z"
    }
   },
   "outputs": [],
   "source": [
    "data"
   ]
  },
  {
   "cell_type": "markdown",
   "metadata": {},
   "source": [
    "We now have a dictionary object of our data. We can use python to manipulate it in a variety of ways. For example, we can print all the titles of the episodes."
   ]
  },
  {
   "cell_type": "code",
   "execution_count": null,
   "metadata": {
    "ExecuteTime": {
     "end_time": "2020-12-07T14:22:37.861204Z",
     "start_time": "2020-12-07T14:22:37.857608Z"
    }
   },
   "outputs": [],
   "source": [
    "for episode in data['Episodes']:\n",
    "  print(episode['Title'], episode['imdbRating'])"
   ]
  },
  {
   "cell_type": "markdown",
   "metadata": {},
   "source": [
    "We can use pandas to convert the episode information to a dataframe."
   ]
  },
  {
   "cell_type": "code",
   "execution_count": null,
   "metadata": {
    "ExecuteTime": {
     "end_time": "2020-12-07T14:23:12.522113Z",
     "start_time": "2020-12-07T14:23:02.681813Z"
    }
   },
   "outputs": [],
   "source": [
    "import pandas as pd\n",
    "\n",
    "df = pd.DataFrame.from_dict(data['Episodes'])"
   ]
  },
  {
   "cell_type": "code",
   "execution_count": null,
   "metadata": {
    "ExecuteTime": {
     "end_time": "2020-12-07T14:23:19.082477Z",
     "start_time": "2020-12-07T14:23:19.070290Z"
    }
   },
   "outputs": [],
   "source": [
    "df"
   ]
  },
  {
   "cell_type": "markdown",
   "metadata": {},
   "source": [
    "And, we can save our data locally to use later."
   ]
  },
  {
   "cell_type": "code",
   "execution_count": null,
   "metadata": {},
   "outputs": [],
   "source": [
    "with open('tutorial_output/omdb_api_data.json', 'w') as f:\n",
    "    json.dump(data, f)"
   ]
  },
  {
   "cell_type": "markdown",
   "metadata": {},
   "source": [
    "Let's try an API that requires an API key!\n",
    "\n",
    "\"The [Digital Public Library of America](https://dp.la/) brings together the riches of America’s libraries, archives, and museums, and makes them freely available to the world. It strives to contain the full breadth of human expression, from the written word, to works of art and culture, to records of America’s heritage, to the efforts and data of science.\"\n",
    "\n",
    "And, they have an [API](https://dp.la/info/developers/codex/api-basics/).\n",
    "\n",
    "In order to use the API, you need to [request a key](https://dp.la/info/developers/codex/policies/#get-a-key). You can do this with an HTTP POST request.\n"
   ]
  },
  {
   "cell_type": "markdown",
   "metadata": {},
   "source": [
    "If you are using **OS X or Linux**, replace \"YOUR_EMAIL@example.com\" in the cell below with your email address and execute the cell. This will send the rquest to DPLA and they will email your API key to the email address you provided. To successfully query the API, you must include the ?api_key= parameter with the 32-character hash following."
   ]
  },
  {
   "cell_type": "code",
   "execution_count": null,
   "metadata": {
    "ExecuteTime": {
     "end_time": "2020-12-07T15:00:23.930143Z",
     "start_time": "2020-12-07T15:00:20.938671Z"
    }
   },
   "outputs": [],
   "source": [
    "# execute this on OS X or Linux by removing '#' on the next line and excuting the cell\n",
    "# ! curl -v -XPOST http://api.dp.la/v2/api_key/dzsari@gmail.com"
   ]
  },
  {
   "cell_type": "markdown",
   "metadata": {},
   "source": [
    "If you are on **Windows 7 or 10**, [open PowerShell](http://www.tenforums.com/tutorials/25581-windows-powershell-open-windows-10-a.html). Replace \"YOUR_EMAIL@example.com\" in the cell below with your email address. Copy the code and paste it at the command prompt in PowerShell. This will send the rquest to DPLA and they will email your API key to the email address you provided. To successfully query the API, you must include the ?api_key= parameter with the 32-character hash following."
   ]
  },
  {
   "cell_type": "code",
   "execution_count": null,
   "metadata": {},
   "outputs": [],
   "source": [
    "#execute this on Windows by running the line below, without the leading '#', in PowerShell\n",
    "#Invoke-WebRequest -Uri (\"http://api.dp.la/v2/api_key/YOUR_EMAIL@example.com\") -Method POST -Verbose -usebasicparsing"
   ]
  },
  {
   "cell_type": "markdown",
   "metadata": {},
   "source": [
    "You will get a response similar to what is shown below and will receive an email fairly quickly from DPLA with your key."
   ]
  },
  {
   "cell_type": "markdown",
   "metadata": {},
   "source": [
    "    shell-init: error retrieving current directory: getcwd: cannot access parent directories: No such file or directory\n",
    "    *   Trying 52.2.169.251...\n",
    "    * Connected to api.dp.la (52.2.169.251) port 80 (#0)\n",
    "    > POST /v2/api_key/YOUR_EMAIL@example.com HTTP/1.1\n",
    "    > Host: api.dp.la\n",
    "    > User-Agent: curl/7.43.0\n",
    "    > Accept: */*\n",
    "    > \n",
    "    < HTTP/1.1 201 Created\n",
    "    < Access-Control-Allow-Origin: *\n",
    "    < Cache-Control: max-age=0, private, must-revalidate\n",
    "    < Content-Type: application/json; charset=utf-8\n",
    "    < Date: Thu, 20 Oct 2016 20:53:24 GMT\n",
    "    < ETag: \"8b66d9fe7ded79e3151d5a22f0580d99\"\n",
    "    < Server: nginx/1.1.19\n",
    "    < Status: 201 Created\n",
    "    < X-Request-Id: d61618751a376452ac3540b3157dcf48\n",
    "    < X-Runtime: 0.179920\n",
    "    < X-UA-Compatible: IE=Edge,chrome=1\n",
    "    < Content-Length: 89\n",
    "    < Connection: keep-alive\n",
    "    < \n",
    "    * Connection #0 to host api.dp.la left intact\n",
    "    {\"message\":\"API key created and sent via email. Be sure to check your Spam folder, too.\"}"
   ]
  },
  {
   "cell_type": "markdown",
   "metadata": {},
   "source": [
    "It is good practice not to put your keys in your code. You can store them in a file and read them in from there. If you are pushing your code to GitHub, make sure you put your key files in .gitignore.\n",
    "\n",
    "I created a file on my drive called \"config_secret.json\". The contents of the file look like this:\n",
    "\n",
    "{\n",
    "\t\"api_key\" : \"my api key here\"\n",
    "}\n",
    "\n",
    "I can then write code to read the information in.\n",
    "\n",
    "A template called config_secret_template.json has been provided for you to add your keys to."
   ]
  },
  {
   "cell_type": "code",
   "execution_count": null,
   "metadata": {
    "ExecuteTime": {
     "end_time": "2020-12-07T15:13:19.345291Z",
     "start_time": "2020-12-07T15:13:19.342378Z"
    }
   },
   "outputs": [],
   "source": [
    "with open(\"./config_secret.json\") as key_file:\n",
    "    key = json.load(key_file)"
   ]
  },
  {
   "cell_type": "code",
   "execution_count": null,
   "metadata": {
    "ExecuteTime": {
     "end_time": "2020-12-07T15:13:20.559672Z",
     "start_time": "2020-12-07T15:13:20.556324Z"
    }
   },
   "outputs": [],
   "source": [
    "key"
   ]
  },
  {
   "cell_type": "markdown",
   "metadata": {
    "collapsed": true
   },
   "source": [
    "Then, when I create my API query, I can use a variable in place of my actual key.\n",
    "\n",
    "The Requests library allows us to build urls with different parameters. You build the parameters as a dictionary that contains key/value pairs for everything after the '?' in your url."
   ]
  },
  {
   "cell_type": "code",
   "execution_count": null,
   "metadata": {
    "ExecuteTime": {
     "end_time": "2020-12-07T15:14:09.329116Z",
     "start_time": "2020-12-07T15:14:09.269369Z"
    }
   },
   "outputs": [],
   "source": [
    "import requests"
   ]
  },
  {
   "cell_type": "code",
   "execution_count": null,
   "metadata": {
    "ExecuteTime": {
     "end_time": "2020-12-07T15:24:53.864298Z",
     "start_time": "2020-12-07T15:24:53.861935Z"
    }
   },
   "outputs": [],
   "source": [
    "# we are specifying our url and parameters here as variables\n",
    "url = 'http://api.dp.la/v2/items'  # got rid of troublesome trailing slash\n",
    "params = {'api_key' : key['api_key'], 'q' : 'goats+AND+cats'}"
   ]
  },
  {
   "cell_type": "code",
   "execution_count": null,
   "metadata": {
    "ExecuteTime": {
     "end_time": "2020-12-07T15:24:55.379859Z",
     "start_time": "2020-12-07T15:24:54.824276Z"
    }
   },
   "outputs": [],
   "source": [
    "# we are creating a response object, r\n",
    "r = requests.get(url, params=params)"
   ]
  },
  {
   "cell_type": "code",
   "execution_count": null,
   "metadata": {
    "ExecuteTime": {
     "end_time": "2020-12-07T15:24:56.299836Z",
     "start_time": "2020-12-07T15:24:56.296637Z"
    }
   },
   "outputs": [],
   "source": [
    "type(r)"
   ]
  },
  {
   "cell_type": "code",
   "execution_count": null,
   "metadata": {
    "ExecuteTime": {
     "end_time": "2020-12-07T15:24:57.419509Z",
     "start_time": "2020-12-07T15:24:57.416343Z"
    }
   },
   "outputs": [],
   "source": [
    "# we can look at the url that was created by requests with our specified variables\n",
    "r.url"
   ]
  },
  {
   "cell_type": "code",
   "execution_count": null,
   "metadata": {
    "ExecuteTime": {
     "end_time": "2020-12-07T15:25:03.667516Z",
     "start_time": "2020-12-07T15:25:03.664415Z"
    }
   },
   "outputs": [],
   "source": [
    "# we can check the status code of our request\n",
    "r.status_code"
   ]
  },
  {
   "cell_type": "markdown",
   "metadata": {},
   "source": [
    "[HTTP Status Codes](http://www.restapitutorial.com/httpstatuscodes.html)"
   ]
  },
  {
   "cell_type": "code",
   "execution_count": null,
   "metadata": {
    "ExecuteTime": {
     "end_time": "2020-12-07T15:25:12.835738Z",
     "start_time": "2020-12-07T15:25:12.832408Z"
    },
    "scrolled": true
   },
   "outputs": [],
   "source": [
    "# we can look at the content of our request\n",
    "print(r.content)"
   ]
  },
  {
   "cell_type": "markdown",
   "metadata": {},
   "source": [
    "By default, DPLA returns 10 items at a time. We can see from the count value, our query has 29 results. DPLA does give us a paramter we can set to change this to get up to 500 items at a time.\n",
    "\n"
   ]
  },
  {
   "cell_type": "code",
   "execution_count": null,
   "metadata": {
    "ExecuteTime": {
     "end_time": "2020-12-07T15:29:21.218131Z",
     "start_time": "2020-12-07T15:29:20.535631Z"
    }
   },
   "outputs": [],
   "source": [
    "params = {'api_key' : key['api_key'], 'q' : 'goats+AND+cats', 'page_size': 500}\n",
    "r = requests.get(url, params=params)\n",
    "print(r.content)"
   ]
  },
  {
   "cell_type": "markdown",
   "metadata": {},
   "source": [
    "If we were working with an API that limited us to only 10 items at a time, we could write a loop to pull our data.\n",
    "\n",
    "The file [seeclickfix_api.py](./seeclickfix_api.py) in the api folder of this repo is an example of how you can pull multiple pages of data from an API. It uses the [SeeClickFix API](http://dev.seeclickfix.com/). \"[SeeClickFix](https://seeclickfix.com/) allows you to play an integral role in public services — routing neighborhood concerns like potholes and light outages to the right official with the right information.\""
   ]
  }
 ],
 "metadata": {
  "anaconda-cloud": {},
  "kernelspec": {
   "display_name": "Python 3",
   "language": "python",
   "name": "python3"
  },
  "language_info": {
   "codemirror_mode": {
    "name": "ipython",
    "version": 3
   },
   "file_extension": ".py",
   "mimetype": "text/x-python",
   "name": "python",
   "nbconvert_exporter": "python",
   "pygments_lexer": "ipython3",
   "version": "3.8.3"
  }
 },
 "nbformat": 4,
 "nbformat_minor": 1
}
